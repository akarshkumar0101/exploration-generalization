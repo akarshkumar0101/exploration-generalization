{
 "cells": [
  {
   "cell_type": "code",
   "execution_count": 1,
   "metadata": {},
   "outputs": [],
   "source": [
    "%load_ext autoreload\n",
    "%autoreload 2"
   ]
  },
  {
   "cell_type": "code",
   "execution_count": 335,
   "metadata": {},
   "outputs": [],
   "source": [
    "import numpy as np\n",
    "import gym\n",
    "import matplotlib.pyplot as plt\n",
    "import torch\n",
    "from torch import nn\n",
    "import torchvision\n",
    "import cv2\n",
    "\n",
    "from tqdm.auto import tqdm\n",
    "\n",
    "\n",
    "from einops import rearrange, repeat\n",
    "\n",
    "from functools import partial"
   ]
  },
  {
   "cell_type": "code",
   "execution_count": 3,
   "metadata": {},
   "outputs": [],
   "source": [
    "from mzr import *"
   ]
  },
  {
   "cell_type": "code",
   "execution_count": null,
   "metadata": {},
   "outputs": [],
   "source": []
  },
  {
   "cell_type": "code",
   "execution_count": 449,
   "metadata": {},
   "outputs": [],
   "source": [
    "class MazeEnv(gym.Env):\n",
    "    def __init__(self, X=15, Y=15):\n",
    "        self.X, self.Y = X, Y\n",
    "        self.action_space = gym.spaces.Discrete(5)\n",
    "        self.observation_space = gym.spaces.Box(low=0, high=1, shape=(self.Y, self.X))\n",
    "\n",
    "    def set_xy(self, x, y):\n",
    "        self.x, self.y = x, y\n",
    "\n",
    "    def reset(self):\n",
    "        self.x, self.y = self.X//2, self.Y//2\n",
    "        obs = np.zeros((self.Y, self.X), dtype=np.float32)\n",
    "        obs[self.y, self.x] = 1.\n",
    "        info = {'y': self.y, 'x': self.x}\n",
    "        return obs, info\n",
    "\n",
    "    def step(self, action):\n",
    "        if action==0:\n",
    "            pass\n",
    "        elif action==1:\n",
    "            self.y -= 1\n",
    "        elif action==2:\n",
    "            self.y += 1\n",
    "        elif action==3:\n",
    "            self.x -= 1\n",
    "        elif action==4:\n",
    "            self.x += 1\n",
    "        \n",
    "        self.y = np.clip(self.y, 0, self.Y-1)\n",
    "        self.x = np.clip(self.x, 0, self.X-1)\n",
    "\n",
    "        obs = np.zeros((self.Y, self.X), dtype=np.float32)\n",
    "        obs[self.y, self.x] = 1.\n",
    "        info = {'y': self.y, 'x': self.x}\n",
    "        reward = 0\n",
    "        terminated = False\n",
    "        truncated = False\n",
    "        return obs, reward, terminated, truncated, info"
   ]
  },
  {
   "cell_type": "code",
   "execution_count": 450,
   "metadata": {},
   "outputs": [],
   "source": [
    "class ToTensorWrapper(gym.Wrapper):\n",
    "    def __init__(self, env, device=None, dtype=None):\n",
    "        super().__init__(env)\n",
    "        self.device = device\n",
    "        self.dtype = dtype\n",
    "\n",
    "    def reset(self):\n",
    "        obs, info = self.env.reset()\n",
    "        obs = torch.as_tensor(obs, device=self.device, dtype=self.dtype)\n",
    "        return obs, info\n",
    "    \n",
    "    def step(self, action):\n",
    "        obs, reward, terminated, truncated, info = self.env.step(action)\n",
    "        obs = torch.as_tensor(obs, device=self.device, dtype=self.dtype)\n",
    "        reward = torch.as_tensor(reward, device=self.device, dtype=self.dtype)\n",
    "        terminated = torch.as_tensor(terminated, device=self.device, dtype=self.dtype)\n",
    "        truncated = torch.as_tensor(truncated, device=self.device, dtype=self.dtype)\n",
    "        return obs, reward, terminated, truncated, info\n",
    "\n",
    "class MyRewardWrapper(gym.Wrapper):\n",
    "    def __init__(self, env, rnet, loss_fn):\n",
    "        super().__init__(env)\n",
    "        self.goal = None\n",
    "        self.loss_fn = loss_fn\n",
    "        self.rnet = rnet\n",
    "    \n",
    "    def set_goal(self, goal):\n",
    "        self.goal = goal\n",
    "\n",
    "    def step(self, action):\n",
    "        obs, _, terminated, truncated, info = self.env.step(action)\n",
    "        latent = self.rnet(obs)\n",
    "        loss = self.loss_fn(self.goal, latent)\n",
    "        reward = -loss.detach()\n",
    "        info['loss'] = loss\n",
    "        return obs, reward, terminated, truncated, info\n"
   ]
  },
  {
   "cell_type": "code",
   "execution_count": 451,
   "metadata": {},
   "outputs": [],
   "source": [
    "def loss_fn(goal, state_latent, strategy='euclidean'):\n",
    "    if strategy=='euclidean':\n",
    "        return (goal-state_latent).pow(2).mean(dim=-1)\n",
    "    elif strategy=='dot':\n",
    "        return -torch.cosine_similarity(goal, state_latent, dim=-1)"
   ]
  },
  {
   "cell_type": "code",
   "execution_count": 452,
   "metadata": {},
   "outputs": [],
   "source": [
    "# class RepresentationNet(nn.Module):\n",
    "#     def __init__(self, env, latent_size=20):\n",
    "#         super().__init__()\n",
    "#         self.encoder = nn.Sequential(\n",
    "#             layer_init(nn.Conv2d(1, 10, 8, stride=4)),\n",
    "#             nn.ReLU(),\n",
    "#             layer_init(nn.Conv2d(10, 10, 4, stride=2)),\n",
    "#             nn.ReLU(),\n",
    "#             layer_init(nn.Conv2d(10, 10, 3, stride=2)),\n",
    "#             nn.ReLU(),\n",
    "#             layer_init(nn.Conv2d(10, 10, 3, stride=2)),\n",
    "#             nn.ReLU(),\n",
    "#             nn.Flatten(),\n",
    "#             layer_init(nn.Linear(20, latent_size)),\n",
    "#             nn.ReLU(),\n",
    "#         )\n",
    "#         self.latent_size = latent_size\n",
    "\n",
    "#     def forward(self, obs):\n",
    "#         return self.encoder(obs)\n",
    "\n",
    "class RepresentationNet(nn.Module):\n",
    "    def __init__(self, env, latent_size=20):\n",
    "        super().__init__()\n",
    "        self.encoder = nn.Sequential(\n",
    "            layer_init(nn.Conv2d(1, 10, 3, padding=1)),\n",
    "            nn.ReLU(),\n",
    "            layer_init(nn.Conv2d(10, 10, 3, padding=1)),\n",
    "            nn.ReLU(),\n",
    "            nn.AvgPool2d(2),\n",
    "            layer_init(nn.Conv2d(10, 10, 3, padding=1)),\n",
    "            nn.ReLU(),\n",
    "            layer_init(nn.Conv2d(10, 10, 3, padding=1)),\n",
    "            nn.ReLU(),\n",
    "            nn.AvgPool2d(2),\n",
    "            layer_init(nn.Conv2d(10, 10, 3, padding=1)),\n",
    "            nn.ReLU(),\n",
    "            layer_init(nn.Conv2d(10, 10, 3, padding=1)),\n",
    "            nn.ReLU(),\n",
    "            nn.AvgPool2d(2),\n",
    "            nn.Flatten(),\n",
    "        )\n",
    "        obs = env.single_observation_space.sample()\n",
    "        x = torch.from_numpy(obs)[None, None]\n",
    "        y = self.encoder(x)\n",
    "        self.encoder.append(layer_init(nn.Linear(y.shape[-1], latent_size)))\n",
    "        self.encoder.append(nn.Tanh())\n",
    "        self.encoder.append(layer_init(nn.Linear(latent_size, latent_size)))\n",
    "        self.encoder.append(nn.Tanh())\n",
    "        self.latent_size = latent_size\n",
    "\n",
    "    def forward(self, obs):\n",
    "        return self.encoder(obs[..., None, :, :])\n",
    "\n",
    "class GCPolicy(nn.Module):\n",
    "    def __init__(self, env, latent_size=20, rnet=None, goal_size=2):\n",
    "        super().__init__()\n",
    "        if rnet is None:\n",
    "            rnet = RepresentationNet(env, latent_size)\n",
    "        self.rnet = rnet\n",
    "\n",
    "        self.n_outputs = env.single_action_space.n\n",
    "        self.critic = nn.Sequential(\n",
    "            layer_init(nn.Linear(latent_size+goal_size, int(1.5*latent_size))),\n",
    "            nn.ReLU(),\n",
    "            layer_init(nn.Linear(int(1.5*latent_size), latent_size)),\n",
    "            nn.ReLU(),\n",
    "            layer_init(nn.Linear(latent_size, 1)),\n",
    "        )\n",
    "        self.actor = nn.Sequential(\n",
    "            layer_init(nn.Linear(latent_size+goal_size, int(1.5*latent_size))),\n",
    "            nn.ReLU(),\n",
    "            layer_init(nn.Linear(int(1.5*latent_size), latent_size)),\n",
    "            nn.ReLU(),\n",
    "            layer_init(nn.Linear(latent_size, self.n_outputs), std=1e-5),\n",
    "        )\n",
    "        self.goal = None\n",
    "\n",
    "    def set_goal(self, goal):\n",
    "        self.goal = goal\n",
    "\n",
    "    def get_logits_values(self, obs, goal=None):\n",
    "        if goal is None:\n",
    "            goal = self.goal\n",
    "        latent = self.rnet(obs)\n",
    "        # print(obs.shape, latent.shape, goal.shape)\n",
    "        goal = goal.repeat(len(obs)//len(goal), 1)\n",
    "        # print(obs.shape, latent.shape, goal.shape)\n",
    "        latent_goal = torch.cat([latent, goal], dim=-1)\n",
    "        logits, values = self.actor(latent_goal), self.critic(latent_goal)\n",
    "        # if self.force_random:\n",
    "        #     logits, values = torch.zeros_like(logits), torch.zeros_like(values)\n",
    "        values = rearrange(values, '... 1 -> ...')\n",
    "        return logits, values\n",
    "\n",
    "    def get_value(self, obs, goal=None):\n",
    "        return self.get_logits_values(obs, goal)[1]\n",
    "\n",
    "    def get_action_and_value(self, obs, action=None, goal=None):\n",
    "        if goal is None:\n",
    "            goal = self.goal\n",
    "        logits, values = self.get_logits_values(obs, goal)\n",
    "        dist = torch.distributions.Categorical(logits=logits)\n",
    "        if action is None:\n",
    "            action = dist.sample()\n",
    "        return action, dist.log_prob(action), dist.entropy(), values"
   ]
  },
  {
   "cell_type": "code",
   "execution_count": 471,
   "metadata": {},
   "outputs": [],
   "source": [
    "a = gym.spaces.Box(low=0, high=255, shape=(84, 84), dtype=np.uint8)\n",
    "b = gym.spaces.Box(low=-np.inf, high=np.inf, shape=(3,), dtype=np.float32)\n",
    "a = gym.spaces.Dict({'image': a, 'goal': b})"
   ]
  },
  {
   "cell_type": "code",
   "execution_count": 472,
   "metadata": {},
   "outputs": [
    {
     "data": {
      "text/plain": [
       "OrderedDict([('goal',\n",
       "              array([-1.2256246 ,  1.1214067 ,  0.25447658], dtype=float32)),\n",
       "             ('image',\n",
       "              array([[ 14,  51,  99, ..., 184, 228, 135],\n",
       "                     [139, 217, 144, ..., 138,  80, 125],\n",
       "                     [ 78, 101,  68, ..., 175, 233,  12],\n",
       "                     ...,\n",
       "                     [174, 191, 218, ...,   8, 198, 251],\n",
       "                     [120, 242,  50, ...,  13, 149,  50],\n",
       "                     [  6, 117,  66, ..., 178, 166, 199]], dtype=uint8))])"
      ]
     },
     "execution_count": 472,
     "metadata": {},
     "output_type": "execute_result"
    }
   ],
   "source": [
    "a.sample()"
   ]
  },
  {
   "cell_type": "code",
   "execution_count": null,
   "metadata": {},
   "outputs": [],
   "source": []
  },
  {
   "cell_type": "code",
   "execution_count": 453,
   "metadata": {},
   "outputs": [],
   "source": [
    "def show_behavior(policy, rnet, goal, n_steps=20, n_envs=1000):\n",
    "    env = gym.vector.SyncVectorEnv([MazeEnv for i in range(n_envs)])\n",
    "    # env = gym.wrappers.TimeLimit(env, max_episode_steps=20)\n",
    "    env = ToTensorWrapper(env, device=None, dtype=torch.float32)\n",
    "    env = MyRewardWrapper(env, rnet, loss_fn=partial(loss_fn, strategy='dot'))\n",
    "    env.set_goal(goal)\n",
    "    env0 = env.envs[0]\n",
    "\n",
    "    rewards = []\n",
    "    pos = []\n",
    "    obs, info = env.reset()\n",
    "    for i in tqdm(range(n_steps)):\n",
    "        with torch.no_grad():\n",
    "            action, log_prob, entropy, values = policy.get_action_and_value(obs)\n",
    "        obs, reward, terminated, truncated, info = env.step(action)\n",
    "        rewards.append(reward)\n",
    "        x, y = info['x'], info['y']\n",
    "        pos.append([x, y])\n",
    "    pos = np.array(pos)\n",
    "    pos = np.moveaxis(pos, 0, 1)\n",
    "\n",
    "    print(f'Cumulative Reward: {torch.stack(rewards).mean(dim=-1).sum().item():.4f}')\n",
    "    print(f' Mean Mean Reward: {torch.stack(rewards).mean(dim=-1).mean().item():.4f}')\n",
    "    print(f'      Mean Reward: {torch.stack(rewards).mean().item():.4f}')\n",
    "    print(f'       End Reward: {reward.mean(dim=-1).item():.4f}')\n",
    "\n",
    "\n",
    "    r = np.random.randn(*pos.shape)\n",
    "    a = pos + 3e-1*r\n",
    "    c = np.arange(pos.shape[1])\n",
    "    c = np.tile(c[:, None], (1, pos.shape[2]))\n",
    "    a = a.reshape(2, -1)\n",
    "    c = c.reshape(-1)\n",
    "\n",
    "    plt.figure(figsize=(12, 4))\n",
    "    plt.subplot(122)\n",
    "    plt.scatter(*a, c=c)\n",
    "    plt.colorbar()\n",
    "    plt.title('Location vs Trajectory Time')\n",
    "    plt.xlim(0, env0.X)\n",
    "    plt.ylim(env0.Y, 0)\n",
    "\n",
    "    env.reset()\n",
    "    A = np.zeros((env0.X, env0.Y, n_envs))\n",
    "    _, reward, _, _, _ = env0.step(0)\n",
    "    for x in tqdm(range(env0.X)):\n",
    "        for y in range(env0.Y):\n",
    "            for envi in env.envs:\n",
    "                envi.set_xy(x, y)\n",
    "            _, reward, _, _, _ = env.step(np.zeros(n_envs))\n",
    "            A[y, x, :] = reward.tolist()\n",
    "\n",
    "    plt.subplot(121)\n",
    "    plt.imshow(A.mean(axis=-1))\n",
    "    plt.title('Reward Function')\n",
    "    plt.colorbar()\n",
    "    plt.show()"
   ]
  },
  {
   "cell_type": "code",
   "execution_count": 454,
   "metadata": {},
   "outputs": [
    {
     "data": {
      "text/plain": [
       "<matplotlib.colorbar.Colorbar at 0x7fd03a0a1d90>"
      ]
     },
     "execution_count": 454,
     "metadata": {},
     "output_type": "execute_result"
    },
    {
     "data": {
      "image/png": "[encoded data removed]",
      "text/plain": [
       "<Figure size 432x288 with 2 Axes>"
      ]
     },
     "metadata": {
      "needs_background": "light"
     },
     "output_type": "display_data"
    }
   ],
   "source": [
    "torch.manual_seed(9)\n",
    "latent_size = 2\n",
    "\n",
    "env = gym.vector.SyncVectorEnv([MazeEnv for i in range(1)])\n",
    "# env = gym.wrappers.TimeLimit(env, max_episode_steps=20)\n",
    "env = ToTensorWrapper(env, device=None, dtype=torch.float32)\n",
    "\n",
    "rnet = RepresentationNet(env, latent_size=latent_size)\n",
    "goal = torch.randn(1, latent_size)\n",
    "\n",
    "env = MyRewardWrapper(env, rnet, loss_fn=partial(loss_fn, strategy='dot'))\n",
    "env.set_goal(goal)\n",
    "\n",
    "env0 = env.envs[0]\n",
    "\n",
    "A = np.zeros((env0.Y, env0.X))\n",
    "for x in range(env0.X):\n",
    "    for y in range(env0.Y):\n",
    "        env.reset()\n",
    "        for envi in env.envs:\n",
    "            envi.set_xy(x, y)\n",
    "        obs, reward, _, _, _ = env.step(np.zeros(1))\n",
    "        latent = rnet(obs)\n",
    "        loss = loss_fn(goal, latent, strategy='dot')\n",
    "        assert torch.allclose(reward, -loss) # sanity check\n",
    "        A[y, x] = reward.mean().item()\n",
    "\n",
    "plt.title('Reward')\n",
    "plt.imshow(A)\n",
    "plt.colorbar()"
   ]
  },
  {
   "cell_type": "code",
   "execution_count": 455,
   "metadata": {},
   "outputs": [
    {
     "name": "stdout",
     "output_type": "stream",
     "text": [
      "torch.Size([100, 15, 15]) torch.Size([100]) torch.Size([100]) torch.Size([100]) dict_keys(['y', '_y', 'x', '_x', 'loss'])\n",
      "Center reward: 0.030511975288391113\n",
      "  Mean reward: 0.0355209928088718\n",
      "   Min reward: -0.32744014263153076\n",
      "   Max reward: 0.8359813094139099\n"
     ]
    }
   ],
   "source": [
    "env = gym.vector.SyncVectorEnv([MazeEnv for i in range(100)])\n",
    "# env = gym.wrappers.TimeLimit(env, max_episode_steps=20)\n",
    "env = ToTensorWrapper(env, device=None, dtype=torch.float32)\n",
    "env = MyRewardWrapper(env, rnet, loss_fn=partial(loss_fn, strategy='dot'))\n",
    "env.set_goal(goal)\n",
    "\n",
    "obs, info = env.reset()\n",
    "obs, reward, terminated, truncated, info = env.step(np.zeros(100))\n",
    "print(obs.shape, reward.shape, terminated.shape, truncated.shape, info.keys())\n",
    "\n",
    "print(f'Center reward: {A[7, 7]}')\n",
    "print(f'  Mean reward: {A.mean()}')\n",
    "print(f'   Min reward: {A.min()}')\n",
    "print(f'   Max reward: {A.max()}')\n",
    "\n",
    "# rnet\n",
    "policy = GCPolicy(env, latent_size=10, rnet=None)\n",
    "policy.set_goal(repeat(goal, '1 n -> e n', e=100))\n",
    "action, log_prob, entropy, values = policy.get_action_and_value(torch.from_numpy(env.observation_space.sample()))"
   ]
  },
  {
   "cell_type": "code",
   "execution_count": 456,
   "metadata": {},
   "outputs": [
    {
     "name": "stderr",
     "output_type": "stream",
     "text": [
      "100%|██████████| 20/20 [00:00<00:00, 69.59it/s]\n"
     ]
    },
    {
     "name": "stdout",
     "output_type": "stream",
     "text": [
      "Cumulative Reward: -1.0521\n",
      " Mean Mean Reward: -0.0526\n",
      "      Mean Reward: -0.0526\n",
      "       End Reward: -0.0502\n"
     ]
    },
    {
     "name": "stderr",
     "output_type": "stream",
     "text": [
      "100%|██████████| 15/15 [00:01<00:00,  9.93it/s]\n"
     ]
    },
    {
     "data": {
      "image/png": "[encoded data removed]",
      "text/plain": [
       "<Figure size 864x288 with 4 Axes>"
      ]
     },
     "metadata": {
      "needs_background": "light"
     },
     "output_type": "display_data"
    }
   ],
   "source": [
    "show_behavior(policy, rnet, goal, n_envs=100)"
   ]
  },
  {
   "cell_type": "code",
   "execution_count": 457,
   "metadata": {},
   "outputs": [
    {
     "name": "stdout",
     "output_type": "stream",
     "text": [
      "tensor(-0.0284)\n"
     ]
    }
   ],
   "source": [
    "r = []\n",
    "obs, info = env.reset()\n",
    "for i_step in range(20):\n",
    "    with torch.no_grad():\n",
    "        action, logprob, entropy, value = policy.get_action_and_value(obs)\n",
    "    obs, reward, terminated, truncated, info = env.step(action)\n",
    "    r.append(reward)\n",
    "r = torch.stack(r)\n",
    "print(r.mean())"
   ]
  },
  {
   "cell_type": "code",
   "execution_count": 458,
   "metadata": {},
   "outputs": [
    {
     "name": "stdout",
     "output_type": "stream",
     "text": [
      "Namespace(exp_name='ppo_simple', seed=1, torch_deterministic=True, cuda=True, track=False, wandb_project_name='cleanRL', wandb_entity=None, capture_video=False, total_timesteps=10000000, learning_rate=0.0003, num_steps=20, anneal_lr=True, gamma=0.99, gae_lambda=0.95, num_minibatches=4, update_epochs=4, norm_adv=True, clip_coef=0.1, clip_vloss=True, ent_coef=0.01, vf_coef=0.5, max_grad_norm=0.5, target_kl=None, num_envs=100, batch_size=2000, minibatch_size=500)\n",
      "00001: -0.0462\n",
      "00002: -0.0302\n",
      "00003: -0.0428\n",
      "00004: -0.0256\n",
      "00005: -0.0339\n",
      "00006: 0.0079\n",
      "00007: 0.0411\n",
      "00008: 0.0891\n",
      "00009: 0.1588\n",
      "00030: 0.5464\n",
      "00060: 0.5915\n",
      "00090: 0.5862\n"
     ]
    },
    {
     "name": "stderr",
     "output_type": "stream",
     "text": [
      "100%|██████████| 20/20 [00:00<00:00, 86.80it/s]\n"
     ]
    },
    {
     "name": "stdout",
     "output_type": "stream",
     "text": [
      "Cumulative Reward: 11.8024\n",
      " Mean Mean Reward: 0.5901\n",
      "      Mean Reward: 0.5901\n",
      "       End Reward: 0.7617\n"
     ]
    },
    {
     "name": "stderr",
     "output_type": "stream",
     "text": [
      "100%|██████████| 15/15 [00:01<00:00,  9.17it/s]\n"
     ]
    },
    {
     "data": {
      "image/png": "[encoded data removed]",
      "text/plain": [
       "<Figure size 864x288 with 4 Axes>"
      ]
     },
     "metadata": {
      "needs_background": "light"
     },
     "output_type": "display_data"
    },
    {
     "data": {
      "image/png": "[encoded data removed]",
      "text/plain": [
       "<Figure size 432x288 with 1 Axes>"
      ]
     },
     "metadata": {
      "needs_background": "light"
     },
     "output_type": "display_data"
    },
    {
     "ename": "KeyboardInterrupt",
     "evalue": "",
     "output_type": "error",
     "traceback": [
      "\u001b[0;31m---------------------------------------------------------------------------\u001b[0m",
      "\u001b[0;31mKeyboardInterrupt\u001b[0m                         Traceback (most recent call last)",
      "\u001b[0;32m/var/folders/pw/m6gcpl8j3nn4yk4y5wt7_9rh0000gn/T/ipykernel_17402/706836684.py\u001b[0m in \u001b[0;36m<module>\u001b[0;34m\u001b[0m\n\u001b[1;32m     15\u001b[0m \u001b[0margs\u001b[0m \u001b[0;34m=\u001b[0m \u001b[0mppo_simple\u001b[0m\u001b[0;34m.\u001b[0m\u001b[0mparse_args\u001b[0m\u001b[0;34m(\u001b[0m\u001b[0menv\u001b[0m\u001b[0;34m,\u001b[0m \u001b[0ms\u001b[0m\u001b[0;34m=\u001b[0m\u001b[0;34m'--learning-rate 3e-4 --num-steps 20'\u001b[0m\u001b[0;34m.\u001b[0m\u001b[0msplit\u001b[0m\u001b[0;34m(\u001b[0m\u001b[0;34m)\u001b[0m\u001b[0;34m)\u001b[0m\u001b[0;34m\u001b[0m\u001b[0;34m\u001b[0m\u001b[0m\n\u001b[1;32m     16\u001b[0m \u001b[0mprint\u001b[0m\u001b[0;34m(\u001b[0m\u001b[0margs\u001b[0m\u001b[0;34m)\u001b[0m\u001b[0;34m\u001b[0m\u001b[0;34m\u001b[0m\u001b[0m\n\u001b[0;32m---> 17\u001b[0;31m \u001b[0mppo_simple\u001b[0m\u001b[0;34m.\u001b[0m\u001b[0mrun_ppo_simple\u001b[0m\u001b[0;34m(\u001b[0m\u001b[0mpolicy\u001b[0m\u001b[0;34m,\u001b[0m \u001b[0menv\u001b[0m\u001b[0;34m,\u001b[0m \u001b[0margs\u001b[0m\u001b[0;34m,\u001b[0m \u001b[0mcallback_fn\u001b[0m\u001b[0;34m=\u001b[0m\u001b[0mcallback_fn\u001b[0m\u001b[0;34m)\u001b[0m\u001b[0;34m\u001b[0m\u001b[0;34m\u001b[0m\u001b[0m\n\u001b[0m",
      "\u001b[0;32m~/unipolicy/ppo_simple.py\u001b[0m in \u001b[0;36mrun_ppo_simple\u001b[0;34m(agent, envs, args, callback_fn)\u001b[0m\n\u001b[1;32m    251\u001b[0m \u001b[0;34m\u001b[0m\u001b[0m\n\u001b[1;32m    252\u001b[0m                 \u001b[0moptimizer\u001b[0m\u001b[0;34m.\u001b[0m\u001b[0mzero_grad\u001b[0m\u001b[0;34m(\u001b[0m\u001b[0;34m)\u001b[0m\u001b[0;34m\u001b[0m\u001b[0;34m\u001b[0m\u001b[0m\n\u001b[0;32m--> 253\u001b[0;31m                 \u001b[0mloss\u001b[0m\u001b[0;34m.\u001b[0m\u001b[0mbackward\u001b[0m\u001b[0;34m(\u001b[0m\u001b[0;34m)\u001b[0m\u001b[0;34m\u001b[0m\u001b[0;34m\u001b[0m\u001b[0m\n\u001b[0m\u001b[1;32m    254\u001b[0m                 \u001b[0mnn\u001b[0m\u001b[0;34m.\u001b[0m\u001b[0mutils\u001b[0m\u001b[0;34m.\u001b[0m\u001b[0mclip_grad_norm_\u001b[0m\u001b[0;34m(\u001b[0m\u001b[0magent\u001b[0m\u001b[0;34m.\u001b[0m\u001b[0mparameters\u001b[0m\u001b[0;34m(\u001b[0m\u001b[0;34m)\u001b[0m\u001b[0;34m,\u001b[0m \u001b[0margs\u001b[0m\u001b[0;34m.\u001b[0m\u001b[0mmax_grad_norm\u001b[0m\u001b[0;34m)\u001b[0m\u001b[0;34m\u001b[0m\u001b[0;34m\u001b[0m\u001b[0m\n\u001b[1;32m    255\u001b[0m                 \u001b[0moptimizer\u001b[0m\u001b[0;34m.\u001b[0m\u001b[0mstep\u001b[0m\u001b[0;34m(\u001b[0m\u001b[0;34m)\u001b[0m\u001b[0;34m\u001b[0m\u001b[0;34m\u001b[0m\u001b[0m\n",
      "\u001b[0;32m~/miniconda3/lib/python3.9/site-packages/torch/_tensor.py\u001b[0m in \u001b[0;36mbackward\u001b[0;34m(self, gradient, retain_graph, create_graph, inputs)\u001b[0m\n\u001b[1;32m    486\u001b[0m                 \u001b[0minputs\u001b[0m\u001b[0;34m=\u001b[0m\u001b[0minputs\u001b[0m\u001b[0;34m,\u001b[0m\u001b[0;34m\u001b[0m\u001b[0;34m\u001b[0m\u001b[0m\n\u001b[1;32m    487\u001b[0m             )\n\u001b[0;32m--> 488\u001b[0;31m         torch.autograd.backward(\n\u001b[0m\u001b[1;32m    489\u001b[0m             \u001b[0mself\u001b[0m\u001b[0;34m,\u001b[0m \u001b[0mgradient\u001b[0m\u001b[0;34m,\u001b[0m \u001b[0mretain_graph\u001b[0m\u001b[0;34m,\u001b[0m \u001b[0mcreate_graph\u001b[0m\u001b[0;34m,\u001b[0m \u001b[0minputs\u001b[0m\u001b[0;34m=\u001b[0m\u001b[0minputs\u001b[0m\u001b[0;34m\u001b[0m\u001b[0;34m\u001b[0m\u001b[0m\n\u001b[1;32m    490\u001b[0m         )\n",
      "\u001b[0;32m~/miniconda3/lib/python3.9/site-packages/torch/autograd/__init__.py\u001b[0m in \u001b[0;36mbackward\u001b[0;34m(tensors, grad_tensors, retain_graph, create_graph, grad_variables, inputs)\u001b[0m\n\u001b[1;32m    195\u001b[0m     \u001b[0;31m# some Python versions print out the first line of a multi-line function\u001b[0m\u001b[0;34m\u001b[0m\u001b[0;34m\u001b[0m\u001b[0;34m\u001b[0m\u001b[0m\n\u001b[1;32m    196\u001b[0m     \u001b[0;31m# calls in the traceback and some print out the last line\u001b[0m\u001b[0;34m\u001b[0m\u001b[0;34m\u001b[0m\u001b[0;34m\u001b[0m\u001b[0m\n\u001b[0;32m--> 197\u001b[0;31m     Variable._execution_engine.run_backward(  # Calls into the C++ engine to run the backward pass\n\u001b[0m\u001b[1;32m    198\u001b[0m         \u001b[0mtensors\u001b[0m\u001b[0;34m,\u001b[0m \u001b[0mgrad_tensors_\u001b[0m\u001b[0;34m,\u001b[0m \u001b[0mretain_graph\u001b[0m\u001b[0;34m,\u001b[0m \u001b[0mcreate_graph\u001b[0m\u001b[0;34m,\u001b[0m \u001b[0minputs\u001b[0m\u001b[0;34m,\u001b[0m\u001b[0;34m\u001b[0m\u001b[0;34m\u001b[0m\u001b[0m\n\u001b[1;32m    199\u001b[0m         allow_unreachable=True, accumulate_grad=True)  # Calls into the C++ engine to run the backward pass\n",
      "\u001b[0;31mKeyboardInterrupt\u001b[0m: "
     ]
    }
   ],
   "source": [
    "import ppo\n",
    "import ppo_simple\n",
    "\n",
    "rewards = []\n",
    "def callback_fn(update, **kwargs):\n",
    "    if update<10 or update%30==0:\n",
    "        print(f'{update:05d}: {kwargs[\"rewards\"].mean().item():.4f}')\n",
    "    rewards.append(kwargs['rewards'].mean().item())\n",
    "\n",
    "    if update%100==0:\n",
    "        show_behavior(policy, rnet, goal, n_envs=100)\n",
    "        plt.plot(rewards)\n",
    "        plt.show()\n",
    "\n",
    "args = ppo_simple.parse_args(env, s='--learning-rate 3e-4 --num-steps 20'.split())\n",
    "print(args)\n",
    "ppo_simple.run_ppo_simple(policy, env, args, callback_fn=callback_fn)"
   ]
  },
  {
   "cell_type": "code",
   "execution_count": 460,
   "metadata": {},
   "outputs": [
    {
     "name": "stderr",
     "output_type": "stream",
     "text": [
      "100%|██████████| 20/20 [00:00<00:00, 48.98it/s]\n"
     ]
    },
    {
     "name": "stdout",
     "output_type": "stream",
     "text": [
      "Cumulative Reward: 11.8022\n",
      " Mean Mean Reward: 0.5901\n",
      "      Mean Reward: 0.5901\n",
      "       End Reward: 0.7831\n"
     ]
    },
    {
     "name": "stderr",
     "output_type": "stream",
     "text": [
      "100%|██████████| 15/15 [00:01<00:00,  9.03it/s]\n"
     ]
    },
    {
     "data": {
      "image/png": "[encoded data removed]",
      "text/plain": [
       "<Figure size 864x288 with 4 Axes>"
      ]
     },
     "metadata": {
      "needs_background": "light"
     },
     "output_type": "display_data"
    }
   ],
   "source": [
    "show_behavior(policy, rnet, goal, n_envs=100)"
   ]
  },
  {
   "cell_type": "code",
   "execution_count": 461,
   "metadata": {},
   "outputs": [
    {
     "name": "stdout",
     "output_type": "stream",
     "text": [
      "tensor(0.5928)\n"
     ]
    }
   ],
   "source": [
    "r = []\n",
    "obs, info = env.reset()\n",
    "for i_step in range(20):\n",
    "    with torch.no_grad():\n",
    "        action, logprob, entropy, value = policy.get_action_and_value(obs)\n",
    "    obs, reward, terminated, truncated, info = env.step(action)\n",
    "    r.append(reward)\n",
    "r = torch.stack(r)\n",
    "print(r.mean())"
   ]
  },
  {
   "cell_type": "code",
   "execution_count": 464,
   "metadata": {},
   "outputs": [
    {
     "name": "stdout",
     "output_type": "stream",
     "text": [
      "-0.002695894567295909\n",
      "0.05746328458189964\n",
      "0.12801428139209747\n",
      "0.22419586777687073\n",
      "0.39986366033554077\n",
      "0.48949000239372253\n",
      "0.6331911087036133\n",
      "0.7138310074806213\n",
      "0.7553466558456421\n",
      "0.7615125775337219\n",
      "0.7695532441139221\n",
      "0.7707704901695251\n",
      "0.7733189463615417\n",
      "0.7753860950469971\n",
      "0.7781303524971008\n",
      "0.7800938487052917\n",
      "0.7819210290908813\n",
      "0.7826184034347534\n",
      "0.786719560623169\n",
      "0.7859001755714417\n",
      "0.5972312688827515\n"
     ]
    }
   ],
   "source": [
    "enva = gym.vector.SyncVectorEnv([MazeEnv for i in range(100)])\n",
    "# env = gym.wrappers.TimeLimit(env, max_episode_steps=20)\n",
    "enva = ToTensorWrapper(enva, device=None, dtype=torch.float32)\n",
    "enva = MyRewardWrapper(enva, rnet, loss_fn=partial(loss_fn, strategy='dot'))\n",
    "enva.set_goal(goal)\n",
    "\n",
    "# enva = env\n",
    "\n",
    "torch.manual_seed(0)\n",
    "np.random.seed(0)\n",
    "r = []\n",
    "obs, info = enva.reset()\n",
    "for i_step in range(20):\n",
    "    with torch.no_grad():\n",
    "        action, logprob, entropy, value = policy.get_action_and_value(obs)\n",
    "    obs, reward, terminated, truncated, info = enva.step(action)\n",
    "    print(reward.mean().item())\n",
    "\n",
    "    r.append(reward)\n",
    "r = torch.stack(r)\n",
    "print(r.mean().item())"
   ]
  },
  {
   "cell_type": "code",
   "execution_count": null,
   "metadata": {},
   "outputs": [],
   "source": []
  },
  {
   "cell_type": "code",
   "execution_count": null,
   "metadata": {},
   "outputs": [],
   "source": []
  },
  {
   "cell_type": "code",
   "execution_count": null,
   "metadata": {},
   "outputs": [],
   "source": []
  },
  {
   "cell_type": "code",
   "execution_count": 462,
   "metadata": {},
   "outputs": [
    {
     "name": "stdout",
     "output_type": "stream",
     "text": [
      "00001: 0.0210\n",
      "00002: 0.0448\n",
      "00003: 0.0564\n",
      "00004: 0.0516\n",
      "00005: 0.0566\n",
      "00006: 0.0644\n",
      "00007: 0.0728\n",
      "00008: 0.0681\n",
      "00009: 0.0663\n",
      "00010: 0.0674\n",
      "00011: 0.0639\n",
      "00012: 0.0674\n",
      "00013: 0.0623\n",
      "00014: 0.0682\n",
      "00015: 0.0671\n",
      "00016: 0.0706\n",
      "00017: 0.0665\n",
      "00018: 0.0669\n",
      "00019: 0.0701\n",
      "00020: 0.0678\n",
      "00021: 0.0656\n",
      "00022: 0.0686\n",
      "00023: 0.0674\n",
      "00024: 0.0674\n",
      "00025: 0.0667\n",
      "00026: 0.0714\n",
      "00027: 0.0815\n",
      "00028: 0.0713\n",
      "00029: 0.0766\n",
      "00030: 0.0808\n",
      "00031: 0.0733\n",
      "00032: 0.0745\n",
      "00033: 0.0699\n",
      "00034: 0.0683\n"
     ]
    },
    {
     "ename": "KeyboardInterrupt",
     "evalue": "",
     "output_type": "error",
     "traceback": [
      "\u001b[0;31m---------------------------------------------------------------------------\u001b[0m",
      "\u001b[0;31mKeyboardInterrupt\u001b[0m                         Traceback (most recent call last)",
      "\u001b[0;32m/var/folders/pw/m6gcpl8j3nn4yk4y5wt7_9rh0000gn/T/ipykernel_10657/129907343.py\u001b[0m in \u001b[0;36m<module>\u001b[0;34m\u001b[0m\n\u001b[1;32m     26\u001b[0m \u001b[0;34m\u001b[0m\u001b[0m\n\u001b[1;32m     27\u001b[0m \u001b[0margs\u001b[0m \u001b[0;34m=\u001b[0m \u001b[0mppo\u001b[0m\u001b[0;34m.\u001b[0m\u001b[0mparse_args\u001b[0m\u001b[0;34m(\u001b[0m\u001b[0menv\u001b[0m\u001b[0;34m,\u001b[0m \u001b[0ms\u001b[0m\u001b[0;34m=\u001b[0m\u001b[0;32mNone\u001b[0m\u001b[0;34m)\u001b[0m\u001b[0;34m\u001b[0m\u001b[0;34m\u001b[0m\u001b[0m\n\u001b[0;32m---> 28\u001b[0;31m \u001b[0mppo\u001b[0m\u001b[0;34m.\u001b[0m\u001b[0mrun_ppo\u001b[0m\u001b[0;34m(\u001b[0m\u001b[0mpolicy\u001b[0m\u001b[0;34m,\u001b[0m \u001b[0menv\u001b[0m\u001b[0;34m,\u001b[0m \u001b[0margs\u001b[0m\u001b[0;34m,\u001b[0m \u001b[0mcallback_fn\u001b[0m\u001b[0;34m=\u001b[0m\u001b[0mcallback_fn\u001b[0m\u001b[0;34m)\u001b[0m\u001b[0;34m\u001b[0m\u001b[0;34m\u001b[0m\u001b[0m\n\u001b[0m",
      "\u001b[0;32m~/unipolicy/ppo.py\u001b[0m in \u001b[0;36mrun_ppo\u001b[0;34m(agent, envs, args, callback_fn)\u001b[0m\n\u001b[1;32m    207\u001b[0m \u001b[0;34m\u001b[0m\u001b[0m\n\u001b[1;32m    208\u001b[0m                 \u001b[0moptimizer\u001b[0m\u001b[0;34m.\u001b[0m\u001b[0mzero_grad\u001b[0m\u001b[0;34m(\u001b[0m\u001b[0;34m)\u001b[0m\u001b[0;34m\u001b[0m\u001b[0;34m\u001b[0m\u001b[0m\n\u001b[0;32m--> 209\u001b[0;31m                 \u001b[0mloss\u001b[0m\u001b[0;34m.\u001b[0m\u001b[0mbackward\u001b[0m\u001b[0;34m(\u001b[0m\u001b[0;34m)\u001b[0m\u001b[0;34m\u001b[0m\u001b[0;34m\u001b[0m\u001b[0m\n\u001b[0m\u001b[1;32m    210\u001b[0m                 \u001b[0mnn\u001b[0m\u001b[0;34m.\u001b[0m\u001b[0mutils\u001b[0m\u001b[0;34m.\u001b[0m\u001b[0mclip_grad_norm_\u001b[0m\u001b[0;34m(\u001b[0m\u001b[0magent\u001b[0m\u001b[0;34m.\u001b[0m\u001b[0mparameters\u001b[0m\u001b[0;34m(\u001b[0m\u001b[0;34m)\u001b[0m\u001b[0;34m,\u001b[0m \u001b[0margs\u001b[0m\u001b[0;34m.\u001b[0m\u001b[0mmax_grad_norm\u001b[0m\u001b[0;34m)\u001b[0m\u001b[0;34m\u001b[0m\u001b[0;34m\u001b[0m\u001b[0m\n\u001b[1;32m    211\u001b[0m                 \u001b[0moptimizer\u001b[0m\u001b[0;34m.\u001b[0m\u001b[0mstep\u001b[0m\u001b[0;34m(\u001b[0m\u001b[0;34m)\u001b[0m\u001b[0;34m\u001b[0m\u001b[0;34m\u001b[0m\u001b[0m\n",
      "\u001b[0;32m~/miniconda3/lib/python3.9/site-packages/torch/_tensor.py\u001b[0m in \u001b[0;36mbackward\u001b[0;34m(self, gradient, retain_graph, create_graph, inputs)\u001b[0m\n\u001b[1;32m    486\u001b[0m                 \u001b[0minputs\u001b[0m\u001b[0;34m=\u001b[0m\u001b[0minputs\u001b[0m\u001b[0;34m,\u001b[0m\u001b[0;34m\u001b[0m\u001b[0;34m\u001b[0m\u001b[0m\n\u001b[1;32m    487\u001b[0m             )\n\u001b[0;32m--> 488\u001b[0;31m         torch.autograd.backward(\n\u001b[0m\u001b[1;32m    489\u001b[0m             \u001b[0mself\u001b[0m\u001b[0;34m,\u001b[0m \u001b[0mgradient\u001b[0m\u001b[0;34m,\u001b[0m \u001b[0mretain_graph\u001b[0m\u001b[0;34m,\u001b[0m \u001b[0mcreate_graph\u001b[0m\u001b[0;34m,\u001b[0m \u001b[0minputs\u001b[0m\u001b[0;34m=\u001b[0m\u001b[0minputs\u001b[0m\u001b[0;34m\u001b[0m\u001b[0;34m\u001b[0m\u001b[0m\n\u001b[1;32m    490\u001b[0m         )\n",
      "\u001b[0;32m~/miniconda3/lib/python3.9/site-packages/torch/autograd/__init__.py\u001b[0m in \u001b[0;36mbackward\u001b[0;34m(tensors, grad_tensors, retain_graph, create_graph, grad_variables, inputs)\u001b[0m\n\u001b[1;32m    195\u001b[0m     \u001b[0;31m# some Python versions print out the first line of a multi-line function\u001b[0m\u001b[0;34m\u001b[0m\u001b[0;34m\u001b[0m\u001b[0;34m\u001b[0m\u001b[0m\n\u001b[1;32m    196\u001b[0m     \u001b[0;31m# calls in the traceback and some print out the last line\u001b[0m\u001b[0;34m\u001b[0m\u001b[0;34m\u001b[0m\u001b[0;34m\u001b[0m\u001b[0m\n\u001b[0;32m--> 197\u001b[0;31m     Variable._execution_engine.run_backward(  # Calls into the C++ engine to run the backward pass\n\u001b[0m\u001b[1;32m    198\u001b[0m         \u001b[0mtensors\u001b[0m\u001b[0;34m,\u001b[0m \u001b[0mgrad_tensors_\u001b[0m\u001b[0;34m,\u001b[0m \u001b[0mretain_graph\u001b[0m\u001b[0;34m,\u001b[0m \u001b[0mcreate_graph\u001b[0m\u001b[0;34m,\u001b[0m \u001b[0minputs\u001b[0m\u001b[0;34m,\u001b[0m\u001b[0;34m\u001b[0m\u001b[0;34m\u001b[0m\u001b[0m\n\u001b[1;32m    199\u001b[0m         allow_unreachable=True, accumulate_grad=True)  # Calls into the C++ engine to run the backward pass\n",
      "\u001b[0;31mKeyboardInterrupt\u001b[0m: "
     ]
    }
   ],
   "source": [
    "import ppo\n",
    "\n",
    "torch.manual_seed(0)\n",
    "goal = torch.randn(100, 10)\n",
    "\n",
    "env = gym.vector.SyncVectorEnv([MazeEnv for i in range(100)])\n",
    "env = ToTensorWrapper(env, device=None, dtype=torch.float32)\n",
    "env = MyRewardWrapper(env, rnet, loss_fn=partial(loss_fn, strategy='dot'))\n",
    "env.set_goal(goal)\n",
    "\n",
    "rnet = RepresentationNet(env, latent_size=10)\n",
    "policy = GCPolicy(env, latent_size=10, rnet=None)\n",
    "policy.set_goal(goal)\n",
    "\n",
    "opt = torch.optim.Adam(rnet.parameters(), lr=1e-3)\n",
    "\n",
    "def update_rnet():\n",
    "    pass\n",
    "\n",
    "def callback_fn(i_step, **kwargs):\n",
    "    # goal = torch.randn(100, 10)\n",
    "    # env.set_goal(goal)\n",
    "    # policy.set_goal(goal)\n",
    "    # print(kwargs['obs'].shape)\n",
    "    print(f'{i_step:05d}: {kwargs[\"rewards\"].mean().item():.4f}')\n",
    "\n",
    "args = ppo.parse_args(env, s=None)\n",
    "ppo.run_ppo(policy, env, args, callback_fn=callback_fn)"
   ]
  },
  {
   "cell_type": "code",
   "execution_count": 446,
   "metadata": {},
   "outputs": [
    {
     "data": {
      "text/plain": [
       "torch.Size([100, 10])"
      ]
     },
     "execution_count": 446,
     "metadata": {},
     "output_type": "execute_result"
    }
   ],
   "source": [
    "policy.goal.shape"
   ]
  },
  {
   "cell_type": "code",
   "execution_count": null,
   "metadata": {},
   "outputs": [],
   "source": []
  },
  {
   "cell_type": "code",
   "execution_count": null,
   "metadata": {},
   "outputs": [],
   "source": []
  },
  {
   "cell_type": "code",
   "execution_count": null,
   "metadata": {},
   "outputs": [],
   "source": []
  },
  {
   "cell_type": "code",
   "execution_count": null,
   "metadata": {},
   "outputs": [],
   "source": []
  },
  {
   "cell_type": "code",
   "execution_count": 601,
   "metadata": {},
   "outputs": [
    {
     "name": "stderr",
     "output_type": "stream",
     "text": [
      "A.L.E: Arcade Learning Environment (version 0.8.0+919230b)\n",
      "[Powered by Stella]\n"
     ]
    },
    {
     "name": "stdout",
     "output_type": "stream",
     "text": [
      "(84, 84) {'lives': 6, 'episode_frame_number': 8, 'frame_number': 8}\n",
      "(84, 84) 0.0 False False {'lives': 6, 'episode_frame_number': 12, 'frame_number': 12}\n",
      "(84, 84) 0.0 False False {'lives': 6, 'episode_frame_number': 16, 'frame_number': 16}\n",
      "(84, 84) 0.0 False False {'lives': 6, 'episode_frame_number': 20, 'frame_number': 20}\n",
      "(84, 84) 0.0 False False {'lives': 6, 'episode_frame_number': 24, 'frame_number': 24}\n",
      "(84, 84) 0.0 False False {'lives': 6, 'episode_frame_number': 28, 'frame_number': 28}\n",
      "(84, 84) 0.0 False False {'lives': 6, 'episode_frame_number': 32, 'frame_number': 32}\n",
      "(84, 84) 0.0 False False {'lives': 6, 'episode_frame_number': 36, 'frame_number': 36}\n",
      "(84, 84) 0.0 False False {'lives': 6, 'episode_frame_number': 40, 'frame_number': 40}\n",
      "(84, 84) 0.0 False False {'lives': 6, 'episode_frame_number': 44, 'frame_number': 44}\n",
      "(84, 84) 0.0 False False {'lives': 6, 'episode_frame_number': 48, 'frame_number': 48}\n"
     ]
    }
   ],
   "source": [
    "env = gym.make('MontezumaRevenge-v4', frameskip=1)\n",
    "env = gym.wrappers.AtariPreprocessing(env)\n",
    "\n",
    "obs, info = env.reset()\n",
    "print(obs.shape, info)\n",
    "for i in range(10):\n",
    "    obs, reward, terminated, truncated, info = env.step(env.action_space.sample())\n",
    "    print(obs.shape, reward, terminated, truncated, info)"
   ]
  },
  {
   "cell_type": "code",
   "execution_count": 127,
   "metadata": {},
   "outputs": [
    {
     "data": {
      "text/plain": [
       "<matplotlib.image.AxesImage at 0x7fe8d4dd8730>"
      ]
     },
     "execution_count": 127,
     "metadata": {},
     "output_type": "execute_result"
    },
    {
     "data": {
      "image/png": "[encoded data removed]",
      "text/plain": [
       "<Figure size 432x288 with 1 Axes>"
      ]
     },
     "metadata": {
      "needs_background": "light"
     },
     "output_type": "display_data"
    }
   ],
   "source": [
    "plt.imshow(obs)"
   ]
  },
  {
   "cell_type": "code",
   "execution_count": 125,
   "metadata": {},
   "outputs": [
    {
     "data": {
      "text/plain": [
       "<matplotlib.image.AxesImage at 0x7fe8d4d514c0>"
      ]
     },
     "execution_count": 125,
     "metadata": {},
     "output_type": "execute_result"
    },
    {
     "data": {
      "image/png": "[encoded data removed]",
      "text/plain": [
       "<Figure size 432x288 with 1 Axes>"
      ]
     },
     "metadata": {
      "needs_background": "light"
     },
     "output_type": "display_data"
    }
   ],
   "source": [
    "plt.imshow(obs)"
   ]
  },
  {
   "cell_type": "code",
   "execution_count": 148,
   "metadata": {},
   "outputs": [],
   "source": []
  },
  {
   "cell_type": "code",
   "execution_count": null,
   "metadata": {},
   "outputs": [],
   "source": []
  },
  {
   "cell_type": "code",
   "execution_count": 131,
   "metadata": {},
   "outputs": [],
   "source": [
    "from functools import partial\n",
    "\n",
    "def make_env(env_id, seed, idx, capture_video, run_name):\n",
    "    env = gym.make(env_id, frameskip=1)\n",
    "    env = gym.wrappers.AtariPreprocessing(env)\n",
    "    if capture_video:\n",
    "        if idx == 0:\n",
    "            env = gym.wrappers.RecordVideo(env, f\"videos/{run_name}\")\n",
    "    env = gym.wrappers.RecordEpisodeStatistics(env)\n",
    "    env.seed(seed)\n",
    "    env.action_space.seed(seed)\n",
    "    env.observation_space.seed(seed)\n",
    "    return env\n",
    "\n",
    "env_id = 'MontezumaRevenge-v4'\n",
    "n_envs = 10\n",
    "\n",
    "envs = gym.vector.SyncVectorEnv(\n",
    "    [partial(make_env, env_id=env_id, seed=i, idx=i, capture_video=False, run_name='run_name') for i in range(n_envs)]\n",
    ")\n"
   ]
  },
  {
   "cell_type": "code",
   "execution_count": 147,
   "metadata": {},
   "outputs": [
    {
     "data": {
      "text/plain": [
       "((10, 84, 84),\n",
       " (10,),\n",
       " (10,),\n",
       " (10,),\n",
       " dict_keys(['lives', '_lives', 'episode_frame_number', '_episode_frame_number', 'frame_number', '_frame_number']))"
      ]
     },
     "execution_count": 147,
     "metadata": {},
     "output_type": "execute_result"
    }
   ],
   "source": [
    "obs, info = envs.reset()\n",
    "\n",
    "obs, reward, terminated, truncated, info = envs.step(envs.action_space.sample())\n",
    "obs.shape, reward.shape, terminated.shape, truncated.shape, info.keys()"
   ]
  },
  {
   "cell_type": "code",
   "execution_count": 142,
   "metadata": {},
   "outputs": [
    {
     "data": {
      "text/plain": [
       "{'lives': array([6, 6, 6, 6, 6, 6, 6, 6, 6, 6]),\n",
       " '_lives': array([ True,  True,  True,  True,  True,  True,  True,  True,  True,\n",
       "         True]),\n",
       " 'episode_frame_number': array([ 7, 17, 30, 34, 11, 19, 19, 13, 12, 31]),\n",
       " '_episode_frame_number': array([ True,  True,  True,  True,  True,  True,  True,  True,  True,\n",
       "         True]),\n",
       " 'frame_number': array([113, 111, 145, 139,  94, 141, 138, 107,  93, 153]),\n",
       " '_frame_number': array([ True,  True,  True,  True,  True,  True,  True,  True,  True,\n",
       "         True])}"
      ]
     },
     "execution_count": 142,
     "metadata": {},
     "output_type": "execute_result"
    }
   ],
   "source": [
    "info"
   ]
  },
  {
   "cell_type": "code",
   "execution_count": null,
   "metadata": {},
   "outputs": [],
   "source": []
  },
  {
   "cell_type": "code",
   "execution_count": null,
   "metadata": {},
   "outputs": [],
   "source": []
  },
  {
   "cell_type": "code",
   "execution_count": null,
   "metadata": {},
   "outputs": [],
   "source": []
  },
  {
   "cell_type": "code",
   "execution_count": null,
   "metadata": {},
   "outputs": [],
   "source": []
  },
  {
   "cell_type": "code",
   "execution_count": null,
   "metadata": {},
   "outputs": [],
   "source": [
    "batch_size = 32\n",
    "latent_size = 2\n",
    "env = MZRevenge(n_envs=batch_size)\n",
    "\n",
    "rnet = RepresentationNet(env, latent_size)\n",
    "policy = GCPolicy(env, latent_size, rnet=None) # keep separate rnet\n",
    "\n",
    "opt = torch.optim.Adam(rnet.parameters(), lr=5e-4)\n",
    "\n",
    "\n",
    "losses = []\n",
    "pbar = tqdm(range(100))\n",
    "for i in pbar:\n",
    "    goal = torch.randn(batch_size, latent_size)\n",
    "\n",
    "    _, obs, reward, done, info = env.reset()\n",
    "    o = []\n",
    "    for i in range(50):\n",
    "        action, log_prob, entropy, values = policy.get_action_and_value(obs, goal)\n",
    "        _, obs, reward, done, info = env.step(action.tolist())\n",
    "        o.append(obs)\n",
    "    o = torch.stack(o, dim=1)\n",
    "    # o = o[:, -1]\n",
    "    # print(o.shape)\n",
    "\n",
    "    o_flat = rearrange(o, 'g t c h w -> (g t) c h w')\n",
    "    latent = rnet(o_flat)\n",
    "    latent = rearrange(latent, '(g t) l -> g t l', g=len(goal))\n",
    "    # print(goal.shape, latent.shape)\n",
    "    loss = loss_fn(goal[:, None, :], latent).mean()\n",
    "    loss.backward()\n",
    "\n",
    "    if i%10==0:\n",
    "        opt.step()\n",
    "        opt.zero_grad()\n",
    "\n",
    "    losses.append(loss.item())\n",
    "    pbar.set_postfix(loss=loss.item())"
   ]
  },
  {
   "cell_type": "code",
   "execution_count": null,
   "metadata": {},
   "outputs": [],
   "source": [
    "\n",
    "batch_size = 32\n",
    "latent_size = 2\n",
    "env = MZRevenge(n_envs=batch_size)\n",
    "\n",
    "rnet = RepresentationNet(env, latent_size)\n",
    "policy1 = GCPolicy(env, latent_size, rnet=None) # keep separate rnet\n",
    "policy2 = GCPolicy(env, latent_size, rnet=None) # keep separate rnet\n",
    "\n",
    "_, obs, reward, done, info = env.reset()\n",
    "o = []\n",
    "for i in tqdm(range(50)):\n",
    "    action, log_prob, entropy, values = policy1.get_action_and_value(obs, goal)\n",
    "    _, obs, reward, done, info = env.step(action.tolist())\n",
    "    o.append(obs)\n",
    "o = torch.stack(o, dim=1)\n",
    "\n"
   ]
  },
  {
   "cell_type": "code",
   "execution_count": null,
   "metadata": {},
   "outputs": [],
   "source": []
  },
  {
   "cell_type": "code",
   "execution_count": 307,
   "metadata": {},
   "outputs": [
    {
     "name": "stdout",
     "output_type": "stream",
     "text": [
      "False\n"
     ]
    }
   ],
   "source": [
    "def calc_gae(rewards, values, gamma=0.99, gae_lambda=0.95):\n",
    "    \"\"\"\n",
    "    Generalized Advantage Estimation\n",
    "    rewards, values should have shape (n_trajs, len_traj)\n",
    "    Return value:\n",
    "     - advantages, returns of shape (n_trajs, len_traj-1)\n",
    "    \"\"\"\n",
    "    n_trajs, len_traj = rewards.shape\n",
    "    t = torch.arange(len_traj).expand(n_trajs, -1)\n",
    "\n",
    "    values_now, values_next = values[..., :-1], values[..., 1:]\n",
    "    rewards_now, rewards_next = rewards[..., :-1], rewards[..., 1:]\n",
    "    t_now, t_next = t[..., :-1], t[..., 1:]\n",
    "\n",
    "    # Compute temporal difference residual (TDR)\n",
    "    # shape: (n_trajs, len_traj-1)\n",
    "    tdr_now = (rewards_now + gamma*values_next) - values_now\n",
    "    def reverse_cumsum(x, dim=0): # cumsum from the end\n",
    "        return x + x.sum(dim=dim, keepdims=True) - torch.cumsum(x, dim=dim)\n",
    "\n",
    "    # advantages = ((gamma*gae_lambda)**t_now) * tdr_now\n",
    "    # advantages = reverse_cumsum(advantages, dim=-1)\n",
    "\n",
    "    advantages = torch.zeros_like(tdr_now)\n",
    "    for i in range(0, len_traj-1):\n",
    "        l = torch.arange(0, len_traj-1-i)\n",
    "        advantages[:, i] = (((gamma*gae_lambda)**l) * tdr_now[:, i:]).sum(dim=-1)\n",
    "\n",
    "    # adv = torch.zeros_like(tdr_now)\n",
    "    # for i in range(0, len_traj-1):\n",
    "    #     for l in range(0, len_traj-1):\n",
    "    #         if i+l>=len_traj-1:\n",
    "    #             break\n",
    "    #         adv[:, i] += (gamma*gae_lambda)**(l) * tdr_now[:, i+l]\n",
    "        \n",
    "    returns = advantages + values_now\n",
    "    return advantages, returns\n",
    "\n",
    "def calc_manual_gae(rewards, values, gamma=0.99, gae_lambda=0.95):\n",
    "    \"\"\"\n",
    "    Generalized Advantage Estimation\n",
    "    rewards, values should have shape (n_trajs, len_traj)\n",
    "    Return value:\n",
    "     - advantages, returns of shape (n_trajs, len_traj-1)\n",
    "    \"\"\"\n",
    "    n_trajs, len_traj = rewards.shape\n",
    "    t = torch.arange(len_traj).expand(n_trajs, -1)\n",
    "\n",
    "    values_now, values_next = values[..., :-1], values[..., 1:]\n",
    "    rewards_now, rewards_next = rewards[..., :-1], rewards[..., 1:]\n",
    "    t_now, t_next = t[..., :-1], t[..., 1:]\n",
    "\n",
    "    # Compute temporal difference residual (TDR)\n",
    "    # shape: (n_trajs, len_traj-1)\n",
    "    tdr_now = (rewards_now + gamma*values_next) - values_now\n",
    "\n",
    "    adv = torch.zeros_like(tdr_now)\n",
    "    for i in range(0, len_traj-1):\n",
    "        for l in range(0, len_traj-1):\n",
    "            if i+l>=len_traj-1:\n",
    "                break\n",
    "            adv[:, i] += (gamma*gae_lambda)**(l) * tdr_now[:, i+l]\n",
    "    # return tdr_now, _\n",
    "    return adv, None\n",
    "\n",
    "torch.manual_seed(0)\n",
    "rewards = torch.randn(100, 21)\n",
    "values = torch.randn(100, 21)\n",
    "\n",
    "a, _ = calc_gae(rewards, values)\n",
    "b, _ = calc_manual_gae(rewards, values)\n",
    "\n",
    "print(torch.allclose(a, b))"
   ]
  },
  {
   "cell_type": "code",
   "execution_count": null,
   "metadata": {},
   "outputs": [],
   "source": []
  },
  {
   "cell_type": "code",
   "execution_count": null,
   "metadata": {},
   "outputs": [],
   "source": []
  },
  {
   "cell_type": "code",
   "execution_count": null,
   "metadata": {},
   "outputs": [],
   "source": []
  },
  {
   "cell_type": "code",
   "execution_count": null,
   "metadata": {},
   "outputs": [],
   "source": []
  },
  {
   "cell_type": "code",
   "execution_count": null,
   "metadata": {},
   "outputs": [],
   "source": []
  }
 ],
 "metadata": {
  "kernelspec": {
   "display_name": "base",
   "language": "python",
   "name": "python3"
  },
  "language_info": {
   "codemirror_mode": {
    "name": "ipython",
    "version": 3
   },
   "file_extension": ".py",
   "mimetype": "text/x-python",
   "name": "python",
   "nbconvert_exporter": "python",
   "pygments_lexer": "ipython3",
   "version": "3.9.5"
  },
  "orig_nbformat": 4,
  "vscode": {
   "interpreter": {
    "hash": "5c0f82f405bdadcaaf9b012da8df3d37d37bedbc208e00b69ff4fe0290862ad1"
   }
  }
 },
 "nbformat": 4,
 "nbformat_minor": 2
}
