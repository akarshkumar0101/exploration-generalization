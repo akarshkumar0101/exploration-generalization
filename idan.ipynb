{
 "cells": [
  {
   "cell_type": "code",
   "execution_count": 32,
   "id": "athletic-montgomery",
   "metadata": {
    "tags": []
   },
   "outputs": [],
   "source": [
    "import numpy as np\n",
    "import torch\n",
    "from torch import nn\n",
    "import torch.nn.functional as F\n",
    "import torch.optim as optim\n",
    "from torchvision import datasets, transforms\n",
    "from torch.utils.data import TensorDataset, DataLoader\n",
    "import gym\n",
    "from procgen import ProcgenEnv\n",
    "import matplotlib.pyplot as plt\n",
    "from itertools import chain\n",
    "from tqdm.auto import tqdm\n",
    "device = 'mps'"
   ]
  },
  {
   "cell_type": "code",
   "execution_count": 33,
   "id": "generous-yorkshire",
   "metadata": {
    "tags": []
   },
   "outputs": [],
   "source": [
    "# Converts vanilla procgen env into something much better\n",
    "\n",
    "class ProcgenWrapper(gym.Wrapper):\n",
    "    def __init__(self, env):\n",
    "        # env = gym.wrappers.TransformObservation(env, lambda obs: obs[\"rgb\"])\n",
    "        super().__init__(env)\n",
    "\n",
    "        self.single_action_space = env.action_space\n",
    "        self.action_space = gym.spaces.MultiDiscrete([self.single_action_space.n] * self.num_envs)\n",
    "        self.single_observation_space = env.observation_space[\"rgb\"]\n",
    "        self.observation_space = None  # TODO implement this\n",
    "        self.is_vector_env = True\n",
    "        self.action_meanings = [\"leftdown\", \"left\", \"leftup\", \"down\", \"noop\", \"up\", \"rightdown\", \"right\", \"rightup\", \"d\", \"a\", \"w\", \"s\", \"q\", \"e\"]\n",
    "\n",
    "    def reset(self):\n",
    "        obs = self.env.reset()\n",
    "        obs = obs[\"rgb\"]\n",
    "        return obs, {}\n",
    "\n",
    "    def step(self, action):\n",
    "        obs, rew, done, infos = self.env.step(action)\n",
    "        obs = obs[\"rgb\"]\n",
    "        return obs, rew, done, {}\n",
    "\n",
    "# Only actions that are up, down, left, right, noop\n",
    "\n",
    "class OrdinalActions(gym.Wrapper):\n",
    "    def __init__(self, env):\n",
    "        super().__init__(env)\n",
    "\n",
    "        am_udlr = [\"noop\", \"up\", \"down\", \"left\", \"right\"]\n",
    "        \n",
    "        self.i_actions = np.array([i for i, am in enumerate(self.action_meanings) if am in am_udlr])\n",
    "        self.action_meanings = [self.action_meanings[i] for i in self.i_actions]\n",
    "        self.single_action_space = gym.spaces.Discrete(len(self.action_meanings))\n",
    "        self.action_space = gym.spaces.MultiDiscrete([self.single_action_space.n] * self.num_envs)\n",
    "\n",
    "    def step(self, action):\n",
    "        action = self.i_actions[action]\n",
    "        obs, rew, done, info = self.env.step(action)\n",
    "        return obs, rew, done, info\n",
    "\n",
    "def collect_rollouts(n_envs=64, n_steps=128, ordinal_actions=True):\n",
    "    env = ProcgenEnv(n_envs, \"miner\", distribution_mode=\"hard\", num_levels=0, start_level=0)\n",
    "    env = ProcgenWrapper(env)\n",
    "    if ordinal_actions:\n",
    "        env = OrdinalActions(env)\n",
    "    obs, info = env.reset()\n",
    "    obss, actions = [obs], []\n",
    "\n",
    "    for i in range(n_steps):\n",
    "        action = env.action_space.sample()\n",
    "        obs, rew, done, info = env.step(action)\n",
    "        obss.append(obs)\n",
    "        actions.append(action)\n",
    "    obss = np.stack(obss)\n",
    "\n",
    "    actions = np.stack(actions)\n",
    "    obs_now, obs_nxt, action_now = obss[:-1], obss[1:], actions\n",
    "\n",
    "    # obs_now    is the observation at current timestep. shape: (n_steps, n_envs, 64, 64, 3), dtype: uint8, range: [0, 255]\n",
    "    # obs_nxt    is the observation at    next timestep. shape: (n_steps, n_envs, 64, 64, 3), dtype: uint8, range: [0, 255]\n",
    "    # action_now is the      action at current timestep. shape: (n_steps, n_envs,          ), dtype: uint8, range: [0,  15]\n",
    "\n",
    "    return env, obs_now, obs_nxt, action_now"
   ]
  },
  {
   "cell_type": "code",
   "execution_count": 35,
   "id": "solved-database",
   "metadata": {
    "tags": []
   },
   "outputs": [
    {
     "data": {
      "application/vnd.jupyter.widget-view+json": {
       "model_id": "1f786c822cff41049cdb99e6a0249ad7",
       "version_major": 2,
       "version_minor": 0
      },
      "text/plain": [
       "  0%|          | 0/200 [00:00<?, ?it/s]"
      ]
     },
     "metadata": {},
     "output_type": "display_data"
    }
   ],
   "source": [
    "n_envs, n_steps = 256, 128\n",
    "\n",
    "curr_obs = []\n",
    "next_obs = []\n",
    "action = []\n",
    "for _ in tqdm(range(200)):\n",
    "    env, obs_now, obs_nxt, action_now = collect_rollouts(n_envs, n_steps, ordinal_actions=True)\n",
    "    indices = np.random.choice(128,20)\n",
    "    curr_obs.append(obs_now[indices, :, :, :, :])\n",
    "    next_obs.append(obs_nxt[indices, :, :, :, :])\n",
    "    action.append(action_now[indices,:])\n",
    "\n",
    "curr_obs = np.stack(curr_obs).reshape(-1, 64, 64, 3)\n",
    "next_obs = np.stack(next_obs).reshape(-1, 64, 64, 3)\n",
    "action = np.stack(action).reshape(-1, 1)\n"
   ]
  },
  {
   "cell_type": "code",
   "execution_count": null,
   "id": "9a08386d-1cf2-4560-ac32-def62b1b95be",
   "metadata": {},
   "outputs": [],
   "source": []
  },
  {
   "cell_type": "code",
   "execution_count": 36,
   "id": "82acbe46-4e21-437f-81e2-9cc23d6e6740",
   "metadata": {
    "tags": []
   },
   "outputs": [
    {
     "data": {
      "text/plain": [
       "'left'"
      ]
     },
     "execution_count": 36,
     "metadata": {},
     "output_type": "execute_result"
    },
    {
     "data": {
      "image/png": "[encoded data removed]",
      "text/plain": [
       "<Figure size 640x480 with 2 Axes>"
      ]
     },
     "metadata": {},
     "output_type": "display_data"
    }
   ],
   "source": [
    "plt.subplot(121)\n",
    "plt.imshow(curr_obs[-1009])\n",
    "plt.subplot(122)\n",
    "plt.imshow(next_obs[-1009])\n",
    "env.action_meanings[action[-1009].item()]"
   ]
  },
  {
   "cell_type": "code",
   "execution_count": null,
   "id": "a7931b93-ba94-4547-b9c8-33b0df172960",
   "metadata": {},
   "outputs": [],
   "source": []
  },
  {
   "cell_type": "code",
   "execution_count": null,
   "id": "b139f937-1bed-4f4e-aa85-8784f4b1e211",
   "metadata": {},
   "outputs": [],
   "source": []
  },
  {
   "cell_type": "code",
   "execution_count": 37,
   "id": "pregnant-playback",
   "metadata": {
    "tags": []
   },
   "outputs": [],
   "source": [
    "class Encoder(nn.Module):\n",
    "    def __init__(self):\n",
    "        super(Encoder, self).__init__()\n",
    "        self.conv1 = nn.Conv2d(3, 32, 3, 1)\n",
    "        self.conv2 = nn.Conv2d(32, 64, 3, 1)\n",
    "        self.conv3 = nn.Conv2d(64, 64, 3, 1)\n",
    "        self.fc1 = nn.Linear(12544, 128)\n",
    "\n",
    "    def forward(self, x):\n",
    "        x = self.conv1(x)\n",
    "        x = F.relu(x)\n",
    "        x = self.conv2(x)\n",
    "        x = F.relu(x)\n",
    "        x = F.max_pool2d(x, 2)\n",
    "        x = self.conv3(x)\n",
    "        x = F.relu(x)\n",
    "        x = F.max_pool2d(x, 2)\n",
    "        x = torch.flatten(x, 1)\n",
    "        output = self.fc1(x)\n",
    "        return output\n",
    "\n",
    "class Net(nn.Module):\n",
    "    def __init__(self):\n",
    "        super(Net, self).__init__()\n",
    "        self.fc1 = nn.Linear(128+128, 128)\n",
    "        self.fc2 = nn.Linear(128, 5)\n",
    "        \n",
    "\n",
    "    def forward(self, enc1 ,enc2):\n",
    "        x = torch.concat([enc1, enc2], dim=-1)\n",
    "        x = self.fc1(x)\n",
    "        x = F.relu(x)\n",
    "        x = self.fc2(x)\n",
    "        output = F.log_softmax(x, dim=-1)\n",
    "        return output"
   ]
  },
  {
   "cell_type": "code",
   "execution_count": null,
   "id": "billion-coral",
   "metadata": {
    "tags": []
   },
   "outputs": [],
   "source": [
    "phi = Encoder().to(device)\n",
    "head = Net().to(device)\n",
    "data = np.stack([curr_obs, next_obs], axis=-1)\n",
    "\n",
    "dataset = TensorDataset(torch.tensor(data, dtype=torch.float32),torch.tensor(action, dtype=torch.int64))\n",
    "dataloader = DataLoader(dataset, batch_size=256, shuffle=True)\n",
    "# data = torch.tensor(curr_obs[0,:,:,:], dtype=torch.float32).unsqueeze(dim=0)\n",
    "# data = data.permute(0, 3, 1, 2).to(device)\n",
    "\n",
    "optimizer = optim.Adam(chain(phi.parameters(), head.parameters()), lr=3e-4)"
   ]
  },
  {
   "cell_type": "code",
   "execution_count": null,
   "id": "d921f0e3-878b-476e-9628-1c4becc0914b",
   "metadata": {
    "tags": []
   },
   "outputs": [],
   "source": [
    "device"
   ]
  },
  {
   "cell_type": "code",
   "execution_count": 29,
   "id": "incorporated-crown",
   "metadata": {
    "tags": []
   },
   "outputs": [
    {
     "name": "stdout",
     "output_type": "stream",
     "text": [
      "Train Epoch: 0 [0/64000 (0%)]\tLoss: 2.004038\n",
      "Train Epoch: 0 [6400/64000 (10%)]\tLoss: 1.612178\n",
      "Train Epoch: 0 [12800/64000 (20%)]\tLoss: 1.609458\n",
      "Train Epoch: 0 [19200/64000 (30%)]\tLoss: 1.607605\n",
      "Train Epoch: 0 [25600/64000 (40%)]\tLoss: 1.609080\n",
      "Train Epoch: 0 [32000/64000 (50%)]\tLoss: 1.608267\n",
      "Train Epoch: 0 [38400/64000 (60%)]\tLoss: 1.612462\n",
      "Train Epoch: 0 [44800/64000 (70%)]\tLoss: 1.608238\n",
      "Train Epoch: 0 [51200/64000 (80%)]\tLoss: 1.611270\n",
      "Train Epoch: 0 [57600/64000 (90%)]\tLoss: 1.609072\n",
      "Train Epoch: 1 [0/64000 (0%)]\tLoss: 1.611293\n",
      "Train Epoch: 1 [6400/64000 (10%)]\tLoss: 1.612332\n",
      "Train Epoch: 1 [12800/64000 (20%)]\tLoss: 1.607539\n",
      "Train Epoch: 1 [19200/64000 (30%)]\tLoss: 1.606678\n",
      "Train Epoch: 1 [25600/64000 (40%)]\tLoss: 1.610599\n",
      "Train Epoch: 1 [32000/64000 (50%)]\tLoss: 1.608783\n",
      "Train Epoch: 1 [38400/64000 (60%)]\tLoss: 1.597616\n",
      "Train Epoch: 1 [44800/64000 (70%)]\tLoss: 1.612602\n",
      "Train Epoch: 1 [51200/64000 (80%)]\tLoss: 1.608505\n",
      "Train Epoch: 1 [57600/64000 (90%)]\tLoss: 1.604308\n",
      "Train Epoch: 2 [0/64000 (0%)]\tLoss: 1.590430\n",
      "Train Epoch: 2 [6400/64000 (10%)]\tLoss: 1.600085\n",
      "Train Epoch: 2 [12800/64000 (20%)]\tLoss: 1.609979\n",
      "Train Epoch: 2 [19200/64000 (30%)]\tLoss: 1.598304\n",
      "Train Epoch: 2 [25600/64000 (40%)]\tLoss: 1.598971\n",
      "Train Epoch: 2 [32000/64000 (50%)]\tLoss: 1.606580\n",
      "Train Epoch: 2 [38400/64000 (60%)]\tLoss: 1.561273\n",
      "Train Epoch: 2 [44800/64000 (70%)]\tLoss: 1.609914\n",
      "Train Epoch: 2 [51200/64000 (80%)]\tLoss: 1.574927\n",
      "Train Epoch: 2 [57600/64000 (90%)]\tLoss: 1.607824\n",
      "Train Epoch: 3 [0/64000 (0%)]\tLoss: 1.601822\n",
      "Train Epoch: 3 [6400/64000 (10%)]\tLoss: 1.583196\n",
      "Train Epoch: 3 [12800/64000 (20%)]\tLoss: 1.621120\n",
      "Train Epoch: 3 [19200/64000 (30%)]\tLoss: 1.563349\n",
      "Train Epoch: 3 [25600/64000 (40%)]\tLoss: 1.612714\n",
      "Train Epoch: 3 [32000/64000 (50%)]\tLoss: 1.603579\n",
      "Train Epoch: 3 [38400/64000 (60%)]\tLoss: 1.602802\n",
      "Train Epoch: 3 [44800/64000 (70%)]\tLoss: 1.615741\n",
      "Train Epoch: 3 [51200/64000 (80%)]\tLoss: 1.518276\n",
      "Train Epoch: 3 [57600/64000 (90%)]\tLoss: 1.372102\n",
      "Train Epoch: 4 [0/64000 (0%)]\tLoss: 1.126287\n",
      "Train Epoch: 4 [6400/64000 (10%)]\tLoss: 1.249924\n",
      "Train Epoch: 4 [12800/64000 (20%)]\tLoss: 0.919620\n",
      "Train Epoch: 4 [19200/64000 (30%)]\tLoss: 0.829999\n",
      "Train Epoch: 4 [25600/64000 (40%)]\tLoss: 1.120696\n",
      "Train Epoch: 4 [32000/64000 (50%)]\tLoss: 0.749938\n",
      "Train Epoch: 4 [38400/64000 (60%)]\tLoss: 0.454030\n",
      "Train Epoch: 4 [44800/64000 (70%)]\tLoss: 0.791578\n",
      "Train Epoch: 4 [51200/64000 (80%)]\tLoss: 0.518768\n",
      "Train Epoch: 4 [57600/64000 (90%)]\tLoss: 0.354965\n",
      "Train Epoch: 5 [0/64000 (0%)]\tLoss: 0.431194\n",
      "Train Epoch: 5 [6400/64000 (10%)]\tLoss: 0.616996\n",
      "Train Epoch: 5 [12800/64000 (20%)]\tLoss: 0.551381\n",
      "Train Epoch: 5 [19200/64000 (30%)]\tLoss: 0.388869\n",
      "Train Epoch: 5 [25600/64000 (40%)]\tLoss: 0.196226\n",
      "Train Epoch: 5 [32000/64000 (50%)]\tLoss: 0.252150\n",
      "Train Epoch: 5 [38400/64000 (60%)]\tLoss: 0.421076\n",
      "Train Epoch: 5 [44800/64000 (70%)]\tLoss: 0.302827\n",
      "Train Epoch: 5 [51200/64000 (80%)]\tLoss: 0.284698\n",
      "Train Epoch: 5 [57600/64000 (90%)]\tLoss: 0.652009\n",
      "Train Epoch: 6 [0/64000 (0%)]\tLoss: 0.464700\n",
      "Train Epoch: 6 [6400/64000 (10%)]\tLoss: 0.276257\n",
      "Train Epoch: 6 [12800/64000 (20%)]\tLoss: 0.165687\n",
      "Train Epoch: 6 [19200/64000 (30%)]\tLoss: 0.371488\n"
     ]
    },
    {
     "ename": "KeyboardInterrupt",
     "evalue": "",
     "output_type": "error",
     "traceback": [
      "\u001b[0;31m---------------------------------------------------------------------------\u001b[0m",
      "\u001b[0;31mKeyboardInterrupt\u001b[0m                         Traceback (most recent call last)",
      "Cell \u001b[0;32mIn[29], line 18\u001b[0m\n\u001b[1;32m     16\u001b[0m loss \u001b[38;5;241m=\u001b[39m F\u001b[38;5;241m.\u001b[39mnll_loss(output, target)\n\u001b[1;32m     17\u001b[0m loss\u001b[38;5;241m.\u001b[39mbackward()\n\u001b[0;32m---> 18\u001b[0m losses\u001b[38;5;241m.\u001b[39mappend(\u001b[43mloss\u001b[49m\u001b[38;5;241;43m.\u001b[39;49m\u001b[43mitem\u001b[49m\u001b[43m(\u001b[49m\u001b[43m)\u001b[49m)\n\u001b[1;32m     19\u001b[0m accuracies\u001b[38;5;241m.\u001b[39mappend(acc)\n\u001b[1;32m     20\u001b[0m optimizer\u001b[38;5;241m.\u001b[39mstep()\n",
      "\u001b[0;31mKeyboardInterrupt\u001b[0m: "
     ]
    }
   ],
   "source": [
    "losses = []\n",
    "accuracies = []\n",
    "for epoch in range(20):\n",
    "    for batch_idx, (data, target) in enumerate(dataloader):\n",
    "        data, target = data.to(device), target.to(device)\n",
    "        current_obs_data =  data[:,:,:,:,0]\n",
    "        next_obs_data =  data[:,:,:,:,1]\n",
    "        optimizer.zero_grad()\n",
    "        latent1 = phi(current_obs_data.permute(0, 3, 1, 2))\n",
    "        latent2 = phi(next_obs_data.permute(0, 3, 1, 2))\n",
    "        output = head(latent1, latent2)\n",
    "        target = target.squeeze()\n",
    "        with torch.no_grad():\n",
    "            _, indices = torch.max(torch.exp(output), dim=-1)\n",
    "            acc = np.mean((indices == target).cpu().numpy())\n",
    "        loss = F.nll_loss(output, target)\n",
    "        loss.backward()\n",
    "        losses.append(loss.item())\n",
    "        accuracies.append(acc)\n",
    "        optimizer.step()\n",
    "        if batch_idx % 200 == 0:\n",
    "            print('Train Epoch: {} [{}/{} ({:.0f}%)]\\tLoss: {:.6f}'.format(\n",
    "                epoch, batch_idx * len(data), len(dataloader.dataset),\n",
    "                100. * batch_idx / len(dataloader), loss.item()))"
   ]
  },
  {
   "cell_type": "code",
   "execution_count": 31,
   "id": "87f97628-b508-473f-bd90-6ddd5c554db8",
   "metadata": {
    "tags": []
   },
   "outputs": [
    {
     "data": {
      "text/plain": [
       "(0.0, 1.63)"
      ]
     },
     "execution_count": 31,
     "metadata": {},
     "output_type": "execute_result"
    },
    {
     "data": {
      "image/png": "[encoded data removed]",
      "text/plain": [
       "<Figure size 640x480 with 1 Axes>"
      ]
     },
     "metadata": {},
     "output_type": "display_data"
    }
   ],
   "source": [
    "plt.plot(losses)\n",
    "plt.ylim(0, 1.63)"
   ]
  },
  {
   "cell_type": "code",
   "execution_count": null,
   "id": "82c0e6e3-1f31-475c-b205-1edfc42520e6",
   "metadata": {},
   "outputs": [],
   "source": []
  },
  {
   "cell_type": "code",
   "execution_count": 47,
   "id": "american-reservation",
   "metadata": {},
   "outputs": [],
   "source": [
    "def running_mean(x, N):\n",
    "    cumsum = np.cumsum(np.insert(x, 0, 0)) \n",
    "    return (cumsum[N:] - cumsum[:-N]) / float(N)"
   ]
  },
  {
   "cell_type": "code",
   "execution_count": 55,
   "id": "norwegian-routine",
   "metadata": {},
   "outputs": [
    {
     "data": {
      "text/plain": [
       "[<matplotlib.lines.Line2D at 0x7fe535c69b50>]"
      ]
     },
     "execution_count": 55,
     "metadata": {},
     "output_type": "execute_result"
    },
    {
     "data": {
      "image/png": "[encoded data removed]",
      "text/plain": [
       "<Figure size 432x288 with 1 Axes>"
      ]
     },
     "metadata": {
      "needs_background": "light"
     },
     "output_type": "display_data"
    }
   ],
   "source": [
    "plt.plot(running_mean(accuracies, 1000))"
   ]
  },
  {
   "cell_type": "code",
   "execution_count": 57,
   "id": "limiting-disability",
   "metadata": {},
   "outputs": [
    {
     "data": {
      "text/plain": [
       "[<matplotlib.lines.Line2D at 0x7fe5584886a0>]"
      ]
     },
     "execution_count": 57,
     "metadata": {},
     "output_type": "execute_result"
    },
    {
     "data": {
      "image/png": "[encoded data removed]",
      "text/plain": [
       "<Figure size 432x288 with 1 Axes>"
      ]
     },
     "metadata": {
      "needs_background": "light"
     },
     "output_type": "display_data"
    }
   ],
   "source": [
    "plt.plot(running_mean(losses, 1000))"
   ]
  }
 ],
 "metadata": {
  "kernelspec": {
   "display_name": "Python 3 (ipykernel)",
   "language": "python",
   "name": "python3"
  },
  "language_info": {
   "codemirror_mode": {
    "name": "ipython",
    "version": 3
   },
   "file_extension": ".py",
   "mimetype": "text/x-python",
   "name": "python",
   "nbconvert_exporter": "python",
   "pygments_lexer": "ipython3",
   "version": "3.10.9"
  }
 },
 "nbformat": 4,
 "nbformat_minor": 5
}
