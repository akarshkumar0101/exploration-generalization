{
 "cells": [
  {
   "cell_type": "code",
   "execution_count": 47,
   "id": "e1ab841e-7649-41c5-8003-eaefea53ca15",
   "metadata": {
    "tags": []
   },
   "outputs": [
    {
     "name": "stdout",
     "output_type": "stream",
     "text": [
      "visiongpu21.csail.mit.edu\n",
      "akumar01\n",
      "/data/vision/phillipi/akumar01/exploration-generalization\n"
     ]
    }
   ],
   "source": [
    "! hostname\n",
    "! whoami\n",
    "! pwd\n",
    "# ! nvidia-smi"
   ]
  },
  {
   "cell_type": "code",
   "execution_count": 48,
   "id": "68180022-b2cf-44c4-ae55-decfd991eacf",
   "metadata": {
    "tags": []
   },
   "outputs": [
    {
     "name": "stdout",
     "output_type": "stream",
     "text": [
      "The autoreload extension is already loaded. To reload it, use:\n",
      "  %reload_ext autoreload\n"
     ]
    }
   ],
   "source": [
    "%load_ext autoreload\n",
    "%autoreload 2"
   ]
  },
  {
   "cell_type": "code",
   "execution_count": 49,
   "id": "0bcd0d05-c2fd-449b-bf5b-4ced6b88e899",
   "metadata": {
    "tags": []
   },
   "outputs": [],
   "source": [
    "import matplotlib.pyplot as plt\n",
    "import numpy as np\n",
    "import torch\n",
    "from torch import nn\n",
    "from functools import partial\n",
    "from einops import rearrange, repeat\n",
    "import gymnasium as gym\n",
    "# import gym as gym_old\n",
    "import gym\n",
    "from tqdm.auto import tqdm\n",
    "import cv2\n",
    "import os\n",
    "import re\n",
    "# from ppo import *\n",
    "\n",
    "import procgen\n",
    "from procgen import ProcgenEnv\n",
    "\n",
    "from IPython.display import clear_output\n",
    "\n",
    "import env_utils\n",
    "import models\n",
    "import ppo_rnd\n",
    "import train\n",
    "import pretrain\n",
    "import bc\n",
    "from pretrain import get_level2files"
   ]
  },
  {
   "cell_type": "code",
   "execution_count": 50,
   "id": "6b45b829-bcb6-40f8-b72e-013b6b809425",
   "metadata": {
    "tags": []
   },
   "outputs": [],
   "source": [
    "from procgen import ProcgenEnv\n",
    "import envpool"
   ]
  },
  {
   "cell_type": "code",
   "execution_count": 53,
   "id": "e1b21caf-e544-43ff-90f2-4a83eb05a869",
   "metadata": {
    "tags": []
   },
   "outputs": [],
   "source": [
    "env = ProcgenEnv(64, 'coinrun', distribution_mode='hard')\n",
    "env.reset();"
   ]
  },
  {
   "cell_type": "code",
   "execution_count": 54,
   "id": "dcdabea7-ce35-47e3-b207-5cee7e38776f",
   "metadata": {
    "tags": []
   },
   "outputs": [],
   "source": [
    "obs, rew, done, info = env.step(np.random.randint(0, 15, size=(64,)))"
   ]
  },
  {
   "cell_type": "code",
   "execution_count": null,
   "id": "31f47c4a-4377-4e15-a02b-7ba0dbae3e75",
   "metadata": {},
   "outputs": [],
   "source": []
  },
  {
   "cell_type": "code",
   "execution_count": null,
   "id": "db96b079-26b8-43d7-93e7-46c65d8bd87e",
   "metadata": {},
   "outputs": [],
   "source": []
  },
  {
   "cell_type": "code",
   "execution_count": null,
   "id": "ead73a86-2d25-4042-b734-c745456e2e52",
   "metadata": {},
   "outputs": [],
   "source": []
  },
  {
   "cell_type": "code",
   "execution_count": null,
   "id": "45366410-31d2-46b7-9d3e-e746a9ea67ad",
   "metadata": {
    "tags": []
   },
   "outputs": [],
   "source": []
  },
  {
   "cell_type": "code",
   "execution_count": 36,
   "id": "8b285411-84d8-4cff-9244-4699367da7d9",
   "metadata": {
    "tags": []
   },
   "outputs": [],
   "source": [
    "env = ProcgenEnv(64, 'coinrun', distribution_mode='hard')\n",
    "env.reset();"
   ]
  },
  {
   "cell_type": "code",
   "execution_count": 41,
   "id": "5ad0efe7-ead4-4a6a-b81a-fdb3e9185b7f",
   "metadata": {
    "tags": []
   },
   "outputs": [
    {
     "name": "stderr",
     "output_type": "stream",
     "text": [
      "100%|█████████████████████████████████████████████████████████████████████████████████████████████████████████████████████████████████████████████████████████████████████████████████████████████████████████| 10000/10000 [00:13<00:00, 747.86it/s]"
     ]
    },
    {
     "name": "stdout",
     "output_type": "stream",
     "text": [
      "CPU times: user 3min 27s, sys: 1.97 s, total: 3min 29s\n",
      "Wall time: 13.4 s\n"
     ]
    },
    {
     "name": "stderr",
     "output_type": "stream",
     "text": [
      "\n"
     ]
    }
   ],
   "source": [
    "%%time\n",
    "for i in tqdm(range(10000)):\n",
    "    action = np.array([env.action_space.sample() for _ in range(64)])\n",
    "    env.step(action)"
   ]
  },
  {
   "cell_type": "code",
   "execution_count": null,
   "id": "dcc222c2-afb9-4625-bfc0-cda9bd1effc7",
   "metadata": {},
   "outputs": [],
   "source": []
  },
  {
   "cell_type": "code",
   "execution_count": 45,
   "id": "fcbf1c72-15a5-45dc-9f23-30d86ca49b37",
   "metadata": {
    "tags": []
   },
   "outputs": [],
   "source": [
    "env = envpool.make('CoinrunHard-v0', env_type='gym', num_envs=64)#, num_threads=)\n",
    "env.reset();"
   ]
  },
  {
   "cell_type": "code",
   "execution_count": 46,
   "id": "f2ce339c-101d-4e39-b0e2-fa3f05d7e1b0",
   "metadata": {
    "tags": []
   },
   "outputs": [
    {
     "name": "stderr",
     "output_type": "stream",
     "text": [
      "100%|█████████████████████████████████████████████████████████████████████████████████████████████████████████████████████████████████████████████████████████████████████████████████████████████████████████| 10000/10000 [00:14<00:00, 712.31it/s]"
     ]
    },
    {
     "name": "stdout",
     "output_type": "stream",
     "text": [
      "CPU times: user 3min 28s, sys: 2.24 s, total: 3min 30s\n",
      "Wall time: 14 s\n"
     ]
    },
    {
     "name": "stderr",
     "output_type": "stream",
     "text": [
      "\n"
     ]
    }
   ],
   "source": [
    "%%time\n",
    "for i in tqdm(range(10000)):\n",
    "    action = np.array([env.action_space.sample() for _ in range(64)])\n",
    "    env.step(action)"
   ]
  },
  {
   "cell_type": "code",
   "execution_count": null,
   "id": "a1c86316-f7d5-4d4c-88f7-d406f10f800c",
   "metadata": {},
   "outputs": [],
   "source": []
  },
  {
   "cell_type": "code",
   "execution_count": 44,
   "id": "92c6efb8-bc3d-4127-a432-763eb49d4c88",
   "metadata": {
    "tags": []
   },
   "outputs": [
    {
     "data": {
      "text/plain": [
       "1.3725490196078434"
      ]
     },
     "execution_count": 44,
     "metadata": {},
     "output_type": "execute_result"
    }
   ],
   "source": [
    "(1/15.3)/(1/21)"
   ]
  },
  {
   "cell_type": "code",
   "execution_count": null,
   "id": "255a3bcd-a302-4066-807a-67221b9fbf4f",
   "metadata": {},
   "outputs": [],
   "source": []
  },
  {
   "cell_type": "code",
   "execution_count": null,
   "id": "c9bcecb5-ca35-4c5a-b5ce-1dc059927d05",
   "metadata": {},
   "outputs": [],
   "source": []
  },
  {
   "cell_type": "code",
   "execution_count": null,
   "id": "31736440-8154-42d1-a315-71b59194315f",
   "metadata": {},
   "outputs": [],
   "source": []
  },
  {
   "cell_type": "code",
   "execution_count": null,
   "id": "d204f768-74a4-4bd2-8a33-1d0bda6b1f68",
   "metadata": {},
   "outputs": [],
   "source": []
  },
  {
   "cell_type": "code",
   "execution_count": null,
   "id": "4ab50026-7a0f-4587-8a4e-5c3d21817d2c",
   "metadata": {},
   "outputs": [],
   "source": []
  }
 ],
 "metadata": {
  "kernelspec": {
   "display_name": "Python 3 (ipykernel)",
   "language": "python",
   "name": "python3"
  },
  "language_info": {
   "codemirror_mode": {
    "name": "ipython",
    "version": 3
   },
   "file_extension": ".py",
   "mimetype": "text/x-python",
   "name": "python",
   "nbconvert_exporter": "python",
   "pygments_lexer": "ipython3",
   "version": "3.10.8"
  }
 },
 "nbformat": 4,
 "nbformat_minor": 5
}
