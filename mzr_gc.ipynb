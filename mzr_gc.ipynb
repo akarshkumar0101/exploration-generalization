{
 "cells": [
  {
   "cell_type": "code",
   "execution_count": 1,
   "metadata": {},
   "outputs": [],
   "source": [
    "%load_ext autoreload\n",
    "%autoreload 2"
   ]
  },
  {
   "cell_type": "code",
   "execution_count": 64,
   "metadata": {},
   "outputs": [],
   "source": [
    "import numpy as np\n",
    "import gym\n",
    "import matplotlib.pyplot as plt\n",
    "import torch\n",
    "from torch import nn\n",
    "import torchvision\n",
    "import cv2\n",
    "\n",
    "from tqdm.auto import tqdm\n",
    "\n",
    "\n",
    "from einops import rearrange"
   ]
  },
  {
   "cell_type": "code",
   "execution_count": 5,
   "metadata": {},
   "outputs": [],
   "source": [
    "from mzr import *"
   ]
  },
  {
   "cell_type": "code",
   "execution_count": 47,
   "metadata": {},
   "outputs": [],
   "source": [
    "class RepresentationNet(nn.Module):\n",
    "    def __init__(self, env, latent_size=20):\n",
    "        super().__init__()\n",
    "        self.encoder = nn.Sequential(\n",
    "            layer_init(nn.Conv2d(1, 10, 8, stride=4)),\n",
    "            nn.ReLU(),\n",
    "            layer_init(nn.Conv2d(10, 10, 4, stride=2)),\n",
    "            nn.ReLU(),\n",
    "            layer_init(nn.Conv2d(10, 10, 3, stride=2)),\n",
    "            nn.ReLU(),\n",
    "            layer_init(nn.Conv2d(10, 10, 3, stride=2)),\n",
    "            nn.ReLU(),\n",
    "            nn.Flatten(),\n",
    "            layer_init(nn.Linear(20, latent_size)),\n",
    "            nn.ReLU(),\n",
    "        )\n",
    "        self.latent_size = latent_size\n",
    "\n",
    "    def forward(self, obs):\n",
    "        return self.encoder(obs)\n",
    "\n",
    "class GCPolicy(nn.Module):\n",
    "    def __init__(self, env, latent_size=20, rnet=None):\n",
    "        super().__init__()\n",
    "        if rnet is None:\n",
    "            rnet = RepresentationNet(env, latent_size)\n",
    "        self.rnet = rnet\n",
    "\n",
    "        self.n_outputs = env.action_space[0].n\n",
    "        self.critic = nn.Sequential(\n",
    "            layer_init(nn.Linear(2*latent_size, int(1.5*latent_size))),\n",
    "            nn.ReLU(),\n",
    "            layer_init(nn.Linear(int(1.5*latent_size), latent_size)),\n",
    "            nn.ReLU(),\n",
    "            layer_init(nn.Linear(latent_size, 1)),\n",
    "        )\n",
    "        self.actor = nn.Sequential(\n",
    "            layer_init(nn.Linear(2*latent_size, int(1.5*latent_size))),\n",
    "            nn.ReLU(),\n",
    "            layer_init(nn.Linear(int(1.5*latent_size), latent_size)),\n",
    "            nn.ReLU(),\n",
    "            layer_init(nn.Linear(latent_size, self.n_outputs)),\n",
    "        )\n",
    "        \n",
    "    def get_logits_values(self, obs, goal):\n",
    "        latent = self.rnet(obs)\n",
    "        latent_goal = torch.cat([latent, goal], dim=-1)\n",
    "        logits, values = self.actor(latent_goal), self.critic(latent_goal)\n",
    "        # if self.force_random:\n",
    "        #     logits, values = torch.zeros_like(logits), torch.zeros_like(values)\n",
    "        return logits, values\n",
    "\n",
    "    def get_action_and_value(self, obs, goal, action=None):\n",
    "        logits, values = self.get_logits_values(obs, goal)\n",
    "        dist = torch.distributions.Categorical(logits=logits)\n",
    "        if action is None:\n",
    "            action = dist.sample()\n",
    "        return action, dist.log_prob(action), dist.entropy(), values"
   ]
  },
  {
   "cell_type": "code",
   "execution_count": 82,
   "metadata": {},
   "outputs": [],
   "source": [
    "def loss_fn(goal, state_latent, strategy='euclidean'):\n",
    "    if strategy=='euclidean':\n",
    "        return (goal-state_latent).pow(2).mean(dim=-1)\n",
    "    elif strategy=='dot':\n",
    "        return torch.cosine_similarity(goal, state_latent, dim=-1)"
   ]
  },
  {
   "cell_type": "code",
   "execution_count": 98,
   "metadata": {},
   "outputs": [
    {
     "name": "stderr",
     "output_type": "stream",
     "text": [
      "100%|██████████| 100/100 [03:29<00:00,  2.09s/it, loss=1.04]\n"
     ]
    }
   ],
   "source": [
    "batch_size = 32\n",
    "latent_size = 2\n",
    "env = MZRevenge(n_envs=batch_size)\n",
    "\n",
    "rnet = RepresentationNet(env, latent_size)\n",
    "policy = GCPolicy(env, latent_size, rnet=None) # keep separate rnet\n",
    "\n",
    "opt = torch.optim.Adam(rnet.parameters(), lr=1e-3)\n",
    "\n",
    "\n",
    "losses = []\n",
    "pbar = tqdm(range(100))\n",
    "for i in pbar:\n",
    "    goal = torch.randn(batch_size, latent_size)\n",
    "\n",
    "    _, obs, reward, done, info = env.reset()\n",
    "    o = []\n",
    "    for i in range(50):\n",
    "        action, log_prob, entropy, values = policy.get_action_and_value(obs, goal)\n",
    "        _, obs, reward, done, info = env.step(action.tolist())\n",
    "        o.append(obs)\n",
    "    o = torch.stack(o, dim=1)\n",
    "    # o = o[:, -1]\n",
    "    # print(o.shape)\n",
    "\n",
    "    o_flat = rearrange(o, 'g t c h w -> (g t) c h w')\n",
    "    latent = rnet(o_flat)\n",
    "    latent = rearrange(latent, '(g t) l -> g t l', g=len(goal))\n",
    "    # print(goal.shape, latent.shape)\n",
    "    loss = loss_fn(goal[:, None, :], latent).mean()\n",
    "\n",
    "    opt.zero_grad()\n",
    "    loss.backward()\n",
    "    opt.step()\n",
    "\n",
    "    losses.append(loss.item())\n",
    "    pbar.set_postfix(loss=loss.item())\n"
   ]
  },
  {
   "cell_type": "code",
   "execution_count": 101,
   "metadata": {},
   "outputs": [
    {
     "data": {
      "text/plain": [
       "[<matplotlib.lines.Line2D at 0x7fe935336790>]"
      ]
     },
     "execution_count": 101,
     "metadata": {},
     "output_type": "execute_result"
    },
    {
     "data": {
      "image/png": "[encoded data removed]",
      "text/plain": [
       "<Figure size 432x288 with 1 Axes>"
      ]
     },
     "metadata": {
      "needs_background": "light"
     },
     "output_type": "display_data"
    }
   ],
   "source": [
    "plt.plot(losses)"
   ]
  },
  {
   "cell_type": "code",
   "execution_count": null,
   "metadata": {},
   "outputs": [],
   "source": []
  },
  {
   "cell_type": "code",
   "execution_count": null,
   "metadata": {},
   "outputs": [],
   "source": []
  }
 ],
 "metadata": {
  "kernelspec": {
   "display_name": "base",
   "language": "python",
   "name": "python3"
  },
  "language_info": {
   "codemirror_mode": {
    "name": "ipython",
    "version": 3
   },
   "file_extension": ".py",
   "mimetype": "text/x-python",
   "name": "python",
   "nbconvert_exporter": "python",
   "pygments_lexer": "ipython3",
   "version": "3.9.5"
  },
  "orig_nbformat": 4,
  "vscode": {
   "interpreter": {
    "hash": "5c0f82f405bdadcaaf9b012da8df3d37d37bedbc208e00b69ff4fe0290862ad1"
   }
  }
 },
 "nbformat": 4,
 "nbformat_minor": 2
}
