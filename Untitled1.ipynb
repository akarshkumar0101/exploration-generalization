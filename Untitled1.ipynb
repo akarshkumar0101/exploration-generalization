{
 "cells": [
  {
   "cell_type": "code",
   "execution_count": 17,
   "id": "edfed1de-f633-4138-9f46-626d1fbe3aa9",
   "metadata": {},
   "outputs": [
    {
     "data": {
      "application/vnd.jupyter.widget-view+json": {
       "model_id": "f6d09a707b4a464c874201265e41dd3b",
       "version_major": 2,
       "version_minor": 0
      },
      "text/plain": [
       "  0%|          | 0/10000 [00:00<?, ?it/s]"
      ]
     },
     "metadata": {},
     "output_type": "display_data"
    },
    {
     "name": "stdout",
     "output_type": "stream",
     "text": [
      "manual resetting\n",
      "manual resetting\n"
     ]
    },
    {
     "ename": "AssertionError",
     "evalue": "",
     "output_type": "error",
     "traceback": [
      "\u001b[0;31m---------------------------------------------------------------------------\u001b[0m",
      "\u001b[0;31mAssertionError\u001b[0m                            Traceback (most recent call last)",
      "Cell \u001b[0;32mIn[17], line 32\u001b[0m\n\u001b[1;32m     30\u001b[0m o1 \u001b[38;5;241m=\u001b[39m o1[\u001b[38;5;241m0\u001b[39m]\n\u001b[1;32m     31\u001b[0m o2 \u001b[38;5;241m=\u001b[39m np\u001b[38;5;241m.\u001b[39mmoveaxis(o2[\u001b[38;5;241m0\u001b[39m], \u001b[38;5;241m0\u001b[39m, \u001b[38;5;241m-\u001b[39m\u001b[38;5;241m1\u001b[39m)\n\u001b[0;32m---> 32\u001b[0m \u001b[38;5;28;01massert\u001b[39;00m (o1\u001b[38;5;241m==\u001b[39mo2)\u001b[38;5;241m.\u001b[39mall()\n",
      "\u001b[0;31mAssertionError\u001b[0m: "
     ]
    }
   ],
   "source": [
    "import gymnasium as gym\n",
    "import envpool\n",
    "\n",
    "import numpy as np\n",
    "from tqdm.auto import tqdm\n",
    "import random\n",
    "random.seed(0)\n",
    "np.random.seed(0)\n",
    "\n",
    "env_id = 'DemonAttack'\n",
    "\n",
    "env1 = gym.make(f\"ALE/{env_id}-v5\", frameskip=1, repeat_action_probability=0.0, full_action_space=True)\n",
    "env1 = gym.wrappers.AtariPreprocessing(env1, noop_max=1, frame_skip=4, screen_size=210, grayscale_obs=False)\n",
    "env1 = gym.vector.SyncVectorEnv([lambda : env1])\n",
    "\n",
    "env2 = envpool.make_gymnasium(f'{env_id}-v5', img_height=210, img_width=210, gray_scale=False, stack_num=1, frame_skip=4, repeat_action_probability=0.0, noop_max=1, use_fire_reset=False, full_action_space=True, seed=0)\n",
    "\n",
    "\n",
    "a = np.random.randint(0, 18, (10000, 1))\n",
    "\n",
    "env1.reset(seed=0)\n",
    "env2.reset()\n",
    "for at in tqdm(a):\n",
    "    o1, _, term, trunc, _ = env1.step(at)\n",
    "    o2, _, term, trunc, _ = env2.step(at)\n",
    "    if term.item() or trunc.item():\n",
    "        o1, _ = env1.reset(seed=0)\n",
    "        o2, _ = env2.reset()\n",
    "        print('manual resetting')\n",
    "    o1 = o1[0]\n",
    "    o2 = np.moveaxis(o2[0], 0, -1)\n",
    "    assert (o1==o2).all()"
   ]
  },
  {
   "cell_type": "code",
   "execution_count": null,
   "id": "4b01e3af-f2bb-4c57-ace6-31c0d764f4dd",
   "metadata": {},
   "outputs": [],
   "source": []
  },
  {
   "cell_type": "code",
   "execution_count": null,
   "id": "0fc9b505-4dcb-4c86-8234-68701c376884",
   "metadata": {},
   "outputs": [],
   "source": [
    "2338"
   ]
  },
  {
   "cell_type": "code",
   "execution_count": null,
   "id": "cbc25594-4f7f-4b0e-94c4-01b46ccb0663",
   "metadata": {},
   "outputs": [],
   "source": []
  }
 ],
 "metadata": {
  "kernelspec": {
   "display_name": "Python 3 (ipykernel)",
   "language": "python",
   "name": "python3"
  },
  "language_info": {
   "codemirror_mode": {
    "name": "ipython",
    "version": 3
   },
   "file_extension": ".py",
   "mimetype": "text/x-python",
   "name": "python",
   "nbconvert_exporter": "python",
   "pygments_lexer": "ipython3",
   "version": "3.10.12"
  }
 },
 "nbformat": 4,
 "nbformat_minor": 5
}
