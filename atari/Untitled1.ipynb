{
 "cells": [
  {
   "cell_type": "code",
   "execution_count": 1,
   "id": "962fa7e9-7fe5-45b1-a6b2-180d8341cc81",
   "metadata": {},
   "outputs": [],
   "source": [
    "%load_ext autoreload\n",
    "%autoreload 2"
   ]
  },
  {
   "cell_type": "code",
   "execution_count": 2,
   "id": "034208ab-c4ac-4644-9998-92c8c790c165",
   "metadata": {},
   "outputs": [
    {
     "name": "stderr",
     "output_type": "stream",
     "text": [
      "/usr/local/lib/python3.10/site-packages/tqdm/auto.py:21: TqdmWarning: IProgress not found. Please update jupyter and ipywidgets. See https://ipywidgets.readthedocs.io/en/stable/user_install.html\n",
      "  from .autonotebook import tqdm as notebook_tqdm\n"
     ]
    },
    {
     "name": "stdout",
     "output_type": "stream",
     "text": [
      "envpool found!\n"
     ]
    }
   ],
   "source": [
    "%run imports.py"
   ]
  },
  {
   "cell_type": "code",
   "execution_count": 12,
   "id": "ad52b759-c402-4cb1-8fb2-145ab4e1d6c1",
   "metadata": {},
   "outputs": [],
   "source": [
    "def create_smooth_net():\n",
    "    net = nn.Sequential(\n",
    "        nn.Linear(1, 20),\n",
    "        nn.Tanh(),\n",
    "        nn.Linear(20, 20),\n",
    "        nn.Tanh(),\n",
    "        nn.Linear(20, 1),\n",
    "    )\n",
    "    return net\n",
    "x = torch.linspace(-10, 10, 100)"
   ]
  },
  {
   "cell_type": "code",
   "execution_count": 26,
   "id": "752c2286-ba4d-4d90-bb9f-6f3fba46da43",
   "metadata": {},
   "outputs": [
    {
     "name": "stderr",
     "output_type": "stream",
     "text": [
      "100%|████████████████████████████████████████████████████████████████████████████████████████████████████████████████████████████████████████████████████████████████████████████████████████████████████████| 10000/10000 [00:02<00:00, 3944.01it/s]\n"
     ]
    }
   ],
   "source": [
    "y0s = []\n",
    "yas = []\n",
    "for i in tqdm(range(10000)):\n",
    "    net = create_smooth_net()\n",
    "    y = net(x[:, None])[:, 0].detach()\n",
    "\n",
    "    y0s.append(y[len(x)//2].item())\n",
    "    yas.append(y.mean().item())"
   ]
  },
  {
   "cell_type": "code",
   "execution_count": null,
   "id": "c92942d9-10a4-4073-948d-809b2f826751",
   "metadata": {},
   "outputs": [],
   "source": []
  },
  {
   "cell_type": "code",
   "execution_count": null,
   "id": "eec3fca2-9c92-4067-8e77-ea22308aaed3",
   "metadata": {},
   "outputs": [],
   "source": []
  },
  {
   "cell_type": "code",
   "execution_count": 16,
   "id": "d699c0a1-1323-4db6-9d27-23cfa281a752",
   "metadata": {},
   "outputs": [
    {
     "data": {
      "text/plain": [
       "[<matplotlib.lines.Line2D at 0x7fff27ee1de0>]"
      ]
     },
     "execution_count": 16,
     "metadata": {},
     "output_type": "execute_result"
    },
    {
     "data": {
      "image/png": "[encoded data removed]",
      "text/plain": [
       "<Figure size 640x480 with 1 Axes>"
      ]
     },
     "metadata": {},
     "output_type": "display_data"
    }
   ],
   "source": [
    "plt.plot(x.numpy(), y.numpy())"
   ]
  },
  {
   "cell_type": "code",
   "execution_count": 18,
   "id": "f9a5e90f-a139-4212-813d-d1524b4ddc58",
   "metadata": {},
   "outputs": [
    {
     "data": {
      "text/plain": [
       "tensor(-0.2605)"
      ]
     },
     "execution_count": 18,
     "metadata": {},
     "output_type": "execute_result"
    }
   ],
   "source": []
  },
  {
   "cell_type": "code",
   "execution_count": null,
   "id": "5a048d9d-e0b2-4e5e-885e-5a16e7e87e39",
   "metadata": {},
   "outputs": [],
   "source": []
  },
  {
   "cell_type": "code",
   "execution_count": null,
   "id": "3fe333a7-3075-46d1-adad-578b4e09d154",
   "metadata": {},
   "outputs": [],
   "source": []
  },
  {
   "cell_type": "code",
   "execution_count": null,
   "id": "3dacb6a9-fdbd-4fd2-b53e-b28bb2c786c7",
   "metadata": {},
   "outputs": [],
   "source": []
  },
  {
   "cell_type": "code",
   "execution_count": null,
   "id": "22377bc7-d40f-4949-b277-af93ac61adc3",
   "metadata": {},
   "outputs": [],
   "source": []
  }
 ],
 "metadata": {
  "kernelspec": {
   "display_name": "Python 3 (ipykernel)",
   "language": "python",
   "name": "python3"
  },
  "language_info": {
   "codemirror_mode": {
    "name": "ipython",
    "version": 3
   },
   "file_extension": ".py",
   "mimetype": "text/x-python",
   "name": "python",
   "nbconvert_exporter": "python",
   "pygments_lexer": "ipython3",
   "version": "3.10.12"
  }
 },
 "nbformat": 4,
 "nbformat_minor": 5
}
