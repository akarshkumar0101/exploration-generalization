{
 "cells": [
  {
   "cell_type": "code",
   "execution_count": 1,
   "metadata": {},
   "outputs": [],
   "source": [
    "%load_ext autoreload\n",
    "%autoreload 2"
   ]
  },
  {
   "cell_type": "code",
   "execution_count": 2,
   "metadata": {},
   "outputs": [],
   "source": [
    "%run imports.py"
   ]
  },
  {
   "cell_type": "code",
   "execution_count": 3,
   "metadata": {},
   "outputs": [],
   "source": [
    "from goexplore import *"
   ]
  },
  {
   "cell_type": "code",
   "execution_count": 4,
   "metadata": {},
   "outputs": [],
   "source": [
    "archive = np.load('data/ge/archive_MontezumaRevenge_0.npy', allow_pickle=True).item()"
   ]
  },
  {
   "cell_type": "code",
   "execution_count": 5,
   "metadata": {},
   "outputs": [
    {
     "name": "stdout",
     "output_type": "stream",
     "text": [
      "Max running return found: 500.0\n",
      "Total cells: 2024\n",
      "Total cells: 35\n"
     ]
    }
   ],
   "source": [
    "cells = list(archive.values())\n",
    "rets = [cell.running_ret for cell in cells]\n",
    "cells_best = [cell for cell in cells if cell.running_ret==np.max(rets)]\n",
    "print(f'Max running return found: {np.max(rets)}')\n",
    "print(f'Total cells: {len(cells)}')\n",
    "print(f'Total cells: {len(cells_best)}')"
   ]
  },
  {
   "cell_type": "code",
   "execution_count": 6,
   "metadata": {},
   "outputs": [],
   "source": [
    "cell = cells_best[0]"
   ]
  },
  {
   "cell_type": "code",
   "execution_count": 7,
   "metadata": {},
   "outputs": [
    {
     "data": {
      "text/plain": [
       "<matplotlib.image.AxesImage at 0x7fff1b465d20>"
      ]
     },
     "execution_count": 7,
     "metadata": {},
     "output_type": "execute_result"
    },
    {
     "data": {
      "image/png": "[encoded data removed]",
      "text/plain": [
       "<Figure size 640x480 with 1 Axes>"
      ]
     },
     "metadata": {},
     "output_type": "display_data"
    }
   ],
   "source": [
    "plt.imshow(np.array(cell.cell_raw).reshape(8, 11))"
   ]
  },
  {
   "cell_type": "code",
   "execution_count": 8,
   "metadata": {},
   "outputs": [],
   "source": [
    "class GEBuffer(Buffer):\n",
    "    def __init__(self, env, n_steps, device=None):\n",
    "        super().__init__(env, n_steps, device=device)\n",
    "        self.trajs = [None for _ in range(self.env.n_envs)]\n",
    "        self.traj_lens = np.zeros(self.env.n_envs, dtype=int)\n",
    "        self.i_locs = np.zeros(self.env.n_envs, dtype=int)\n",
    "        \n",
    "    def sample_new_traj(self, ids, sample_traj_fn):\n",
    "        for id in ids:\n",
    "            self.trajs[id] = sample_traj_fn()\n",
    "            self.traj_lens[id] = len(self.trajs[id])\n",
    "            self.i_locs[id] = 0\n",
    "        obs, _ = self.env.reset_subenvs(ids)\n",
    "        self.next_obs[ids] = torch.from_numpy(obs).to(self.device)\n",
    "    \n",
    "    def gecollect(self, sample_traj_fn, pbar=None):\n",
    "        if self.first_collect:\n",
    "            self.first_collect = False\n",
    "            _, info = env.reset()\n",
    "            self.next_obs = info['obs']\n",
    "            self.sample_new_traj(np.arange(self.env.num_envs), sample_traj_fn)\n",
    "        for t in range(self.n_steps):\n",
    "            self.obss[:, t] = self.next_obs\n",
    "            action = np.array([traj[i_loc] for traj, i_loc in zip(self.trajs, self.i_locs)])\n",
    "            self.i_locs += 1\n",
    "            self.acts[:, t] = torch.from_numpy(action)\n",
    "            _, _, _, _, info = env.step(action)\n",
    "            self.next_obs = info['obs']\n",
    "            self.sample_new_traj(np.where(self.i_locs>=self.traj_lens)[0], sample_traj_fn)\n"
   ]
  },
  {
   "cell_type": "code",
   "execution_count": 9,
   "metadata": {},
   "outputs": [
    {
     "data": {
      "text/plain": [
       "662"
      ]
     },
     "execution_count": 9,
     "metadata": {},
     "output_type": "execute_result"
    }
   ],
   "source": [
    "len(cell.trajectory)"
   ]
  },
  {
   "cell_type": "code",
   "execution_count": 13,
   "metadata": {},
   "outputs": [],
   "source": [
    "np.random.seed(0)\n",
    "torch.manual_seed(0)\n",
    "env = MyEnvpool('MontezumaRevenge-v5', num_envs=4, img_height=84, img_width=84, gray_scale=True, stack_num=1, frame_skip=4, repeat_action_probability=0.0, noop_max=1, use_fire_reset=False)\n",
    "env = ToTensor(env)\n",
    "gebuff = GEBuffer(env, 662, None)\n",
    "gebuff.gecollect(sample_traj_fn=lambda : cell.trajectory)"
   ]
  },
  {
   "cell_type": "code",
   "execution_count": 14,
   "metadata": {},
   "outputs": [
    {
     "data": {
      "text/plain": [
       "torch.Size([4, 662, 1, 84, 84])"
      ]
     },
     "execution_count": 14,
     "metadata": {},
     "output_type": "execute_result"
    }
   ],
   "source": [
    "gebuff.obss.shape"
   ]
  },
  {
   "cell_type": "code",
   "execution_count": 15,
   "metadata": {},
   "outputs": [
    {
     "data": {
      "text/plain": [
       "<matplotlib.image.AxesImage at 0x7fff193c5b70>"
      ]
     },
     "execution_count": 15,
     "metadata": {},
     "output_type": "execute_result"
    },
    {
     "data": {
      "image/png": "[encoded data removed]",
      "text/plain": [
       "<Figure size 640x480 with 1 Axes>"
      ]
     },
     "metadata": {},
     "output_type": "display_data"
    }
   ],
   "source": [
    "plt.imshow(gebuff.obss[0, -1, 0])"
   ]
  },
  {
   "cell_type": "code",
   "execution_count": null,
   "metadata": {},
   "outputs": [],
   "source": []
  },
  {
   "cell_type": "code",
   "execution_count": null,
   "metadata": {},
   "outputs": [],
   "source": []
  },
  {
   "cell_type": "code",
   "execution_count": null,
   "metadata": {},
   "outputs": [],
   "source": []
  },
  {
   "cell_type": "code",
   "execution_count": null,
   "metadata": {},
   "outputs": [],
   "source": []
  },
  {
   "cell_type": "code",
   "execution_count": 7,
   "metadata": {},
   "outputs": [
    {
     "name": "stdout",
     "output_type": "stream",
     "text": [
      "Adventure\n",
      "AirRaid\n",
      "Alien\n",
      "Amidar\n",
      "Assault\n",
      "Asterix\n",
      "Asteroids\n",
      "Atlantis\n",
      "Atlantis2\n",
      "Backgammon\n",
      "BankHeist\n",
      "BasicMath\n",
      "BattleZone\n",
      "BeamRider\n",
      "Berzerk\n",
      "Blackjack\n",
      "Bowling\n",
      "Boxing\n",
      "Breakout\n",
      "Carnival\n",
      "Casino\n",
      "Centipede\n",
      "ChopperCommand\n",
      "CrazyClimber\n",
      "Crossbow\n",
      "Darkchambers\n",
      "Defender\n",
      "DemonAttack\n",
      "DonkeyKong\n",
      "DoubleDunk\n",
      "Earthworld\n",
      "ElevatorAction\n",
      "Enduro\n",
      "Entombed\n",
      "Et\n",
      "FishingDerby\n",
      "FlagCapture\n",
      "Freeway\n",
      "Frostbite\n",
      "Galaxian\n",
      "Gopher\n",
      "Gravitar\n",
      "Hangman\n",
      "HauntedHouse\n",
      "Hero\n",
      "HumanCannonball\n",
      "IceHockey\n",
      "Jamesbond\n",
      "JourneyEscape\n",
      "Kaboom\n",
      "Kangaroo\n",
      "KeystoneKapers\n",
      "Klax\n",
      "Koolaid\n",
      "Krull\n",
      "KungFuMaster\n",
      "LaserGates\n",
      "MarioBros\n",
      "MiniatureGolf\n",
      "MontezumaRevenge\n",
      "MrDo\n",
      "MsPacman\n",
      "NameThisGame\n",
      "Othello\n",
      "Pacman\n",
      "Phoenix\n",
      "Pitfall\n",
      "Pitfall2\n",
      "Pong\n",
      "Pooyan\n",
      "PrivateEye\n",
      "Qbert\n",
      "Riverraid\n",
      "RoadRunner\n",
      "Robotank\n",
      "Seaquest\n",
      "SirLancelot\n",
      "Solaris\n",
      "SpaceInvaders\n",
      "SpaceWar\n",
      "StarGunner\n",
      "Superman\n",
      "Surround\n",
      "Tennis\n",
      "Tetris\n",
      "TicTacToe3d\n",
      "TimePilot\n",
      "Trondead\n",
      "Turmoil\n",
      "Tutankham\n",
      "UpNDown\n",
      "Venture\n",
      "VideoCheckers\n",
      "VideoChess\n",
      "VideoCube\n",
      "VideoPinball\n",
      "WizardOfWor\n",
      "WordZapper\n",
      "YarsRevenge\n",
      "Zaxxon\n"
     ]
    }
   ],
   "source": [
    "with open('atari_games_104.txt') as f:\n",
    "    env_ids = [a.strip() for a in f.readlines()]\n",
    "with open('atari_games_ignore.txt') as f:\n",
    "    env_ids_ignore = [a.strip() for a in f.readlines()]\n",
    "env_ids = [a for a in env_ids if a not in env_ids_ignore]\n",
    "for env_id in env_ids:\n",
    "    print(env_id)\n",
    "    env = MyEnvpool(f'{env_id}-v5', full_action_space=True, use_fire_reset=False, num_envs=8, img_height=84, img_width=84, gray_scale=True, stack_num=1, frame_skip=4, repeat_action_probability=0.0, noop_max=1)\n",
    "    obs, _ = env.reset()\n",
    "    for i in range(100):\n",
    "        action = np.random.randint(0, 18, env.num_envs)\n",
    "        action[action==1] = 0\n",
    "        obs, _, _, _, _ = env.step(action)\n",
    "    \n",
    "    if not obs.var(axis=0).max()>0.:\n",
    "        print(f'--------{env_id} NEEDS FIRE RESET -------------------')"
   ]
  },
  {
   "cell_type": "code",
   "execution_count": null,
   "metadata": {},
   "outputs": [],
   "source": []
  },
  {
   "cell_type": "code",
   "execution_count": null,
   "metadata": {},
   "outputs": [],
   "source": []
  },
  {
   "cell_type": "code",
   "execution_count": null,
   "metadata": {},
   "outputs": [],
   "source": []
  },
  {
   "cell_type": "code",
   "execution_count": null,
   "metadata": {},
   "outputs": [],
   "source": []
  }
 ],
 "metadata": {
  "kernelspec": {
   "display_name": "Python 3 (ipykernel)",
   "language": "python",
   "name": "python3"
  },
  "language_info": {
   "codemirror_mode": {
    "name": "ipython",
    "version": 3
   },
   "file_extension": ".py",
   "mimetype": "text/x-python",
   "name": "python",
   "nbconvert_exporter": "python",
   "pygments_lexer": "ipython3",
   "version": "3.10.12"
  }
 },
 "nbformat": 4,
 "nbformat_minor": 4
}
