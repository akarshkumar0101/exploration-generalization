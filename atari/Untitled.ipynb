{
 "cells": [
  {
   "cell_type": "code",
   "execution_count": 1,
   "id": "7bcb65d8-eb46-42ef-a88c-ca6505aac633",
   "metadata": {},
   "outputs": [],
   "source": [
    "%load_ext autoreload\n",
    "%autoreload 2"
   ]
  },
  {
   "cell_type": "code",
   "execution_count": 40,
   "id": "d30f943e-7a52-44c6-80de-11787b3915e8",
   "metadata": {
    "tags": []
   },
   "outputs": [],
   "source": [
    "%run imports.py"
   ]
  },
  {
   "cell_type": "code",
   "execution_count": 18,
   "id": "0905165b-9f4b-4a43-9761-34f1c5787543",
   "metadata": {
    "tags": []
   },
   "outputs": [],
   "source": [
    "import envpool"
   ]
  },
  {
   "cell_type": "code",
   "execution_count": 46,
   "id": "07ddd3bd-614c-4aa0-8b0d-7f7b0f4b7475",
   "metadata": {
    "tags": []
   },
   "outputs": [
    {
     "name": "stderr",
     "output_type": "stream",
     "text": [
      "100%|███████████████████████████████████████████████████████████████████████████████████████████████████████████████████████████████████████████████████████████████████████████████████████████████████████████| 1000/1000 [00:09<00:00, 109.71it/s]"
     ]
    },
    {
     "name": "stdout",
     "output_type": "stream",
     "text": [
      "7018.495659709626 SPS\n"
     ]
    },
    {
     "name": "stderr",
     "output_type": "stream",
     "text": [
      "\n"
     ]
    }
   ],
   "source": [
    "env1 = envpool.make_gymnasium('Breakout-v5', num_envs=64, stack_num=1)\n",
    "env1.reset();\n",
    "\n",
    "t0 = time.time()\n",
    "for i in tqdm(range(1000)):\n",
    "    env1.step(np.random.randint(0, 18, size=64))\n",
    "t1 = time.time()\n",
    "print((1000*64)/(t1-t0), 'SPS')"
   ]
  },
  {
   "cell_type": "code",
   "execution_count": 73,
   "id": "97794ba8-7dc9-40b4-b370-4c544bf73476",
   "metadata": {},
   "outputs": [
    {
     "name": "stdout",
     "output_type": "stream",
     "text": [
      "envpool found!\n"
     ]
    }
   ],
   "source": [
    "env = make_env(n_envs=64)\n",
    "env.reset();"
   ]
  },
  {
   "cell_type": "code",
   "execution_count": 74,
   "id": "a5c5967c-d3c9-41c4-9f2f-609007ba79ad",
   "metadata": {},
   "outputs": [
    {
     "ename": "KeyError",
     "evalue": "'obs'",
     "output_type": "error",
     "traceback": [
      "\u001b[0;31m---------------------------------------------------------------------------\u001b[0m",
      "\u001b[0;31mKeyError\u001b[0m                                  Traceback (most recent call last)",
      "Cell \u001b[0;32mIn[74], line 1\u001b[0m\n\u001b[0;32m----> 1\u001b[0m buffer \u001b[38;5;241m=\u001b[39m \u001b[43mBuffer\u001b[49m\u001b[43m(\u001b[49m\u001b[38;5;241;43m256\u001b[39;49m\u001b[43m,\u001b[49m\u001b[43m \u001b[49m\u001b[38;5;241;43m64\u001b[39;49m\u001b[43m,\u001b[49m\u001b[43m \u001b[49m\u001b[43menv\u001b[49m\u001b[43m,\u001b[49m\u001b[43m \u001b[49m\u001b[43mdevice\u001b[49m\u001b[38;5;241;43m=\u001b[39;49m\u001b[38;5;124;43m'\u001b[39;49m\u001b[38;5;124;43mcpu\u001b[39;49m\u001b[38;5;124;43m'\u001b[39;49m\u001b[43m)\u001b[49m\n\u001b[1;32m      2\u001b[0m agent \u001b[38;5;241m=\u001b[39m RandomAgent(\u001b[38;5;241m18\u001b[39m)\n",
      "File \u001b[0;32m~/exploration-generalization/atari/buffers.py:26\u001b[0m, in \u001b[0;36mBuffer.__init__\u001b[0;34m(self, n_steps, n_envs, env, device)\u001b[0m\n\u001b[1;32m     23\u001b[0m \u001b[38;5;28mself\u001b[39m\u001b[38;5;241m.\u001b[39mrets \u001b[38;5;241m=\u001b[39m torch\u001b[38;5;241m.\u001b[39mzeros((n_steps, n_envs), device\u001b[38;5;241m=\u001b[39mdevice)\n\u001b[1;32m     25\u001b[0m _, info \u001b[38;5;241m=\u001b[39m \u001b[38;5;28mself\u001b[39m\u001b[38;5;241m.\u001b[39menv\u001b[38;5;241m.\u001b[39mreset()\n\u001b[0;32m---> 26\u001b[0m \u001b[38;5;28mself\u001b[39m\u001b[38;5;241m.\u001b[39mobs \u001b[38;5;241m=\u001b[39m \u001b[43minfo\u001b[49m\u001b[43m[\u001b[49m\u001b[38;5;124;43m\"\u001b[39;49m\u001b[38;5;124;43mobs\u001b[39;49m\u001b[38;5;124;43m\"\u001b[39;49m\u001b[43m]\u001b[49m\n\u001b[1;32m     27\u001b[0m \u001b[38;5;28mself\u001b[39m\u001b[38;5;241m.\u001b[39mdone \u001b[38;5;241m=\u001b[39m torch\u001b[38;5;241m.\u001b[39mones(n_envs, dtype\u001b[38;5;241m=\u001b[39mtorch\u001b[38;5;241m.\u001b[39mbool, device\u001b[38;5;241m=\u001b[39mdevice)\n",
      "\u001b[0;31mKeyError\u001b[0m: 'obs'"
     ]
    }
   ],
   "source": [
    "buffer = Buffer(256, 64, env, device='cpu')\n",
    "agent = RandomAgent(18)"
   ]
  },
  {
   "cell_type": "code",
   "execution_count": null,
   "id": "ccf517eb-ffff-4cc0-85ac-545fdfcab042",
   "metadata": {},
   "outputs": [],
   "source": [
    "%%time\n",
    "buffer.collect(agent, 4)"
   ]
  },
  {
   "cell_type": "code",
   "execution_count": 69,
   "id": "0355fc59-96fc-456d-964b-08816a60ae44",
   "metadata": {},
   "outputs": [
    {
     "name": "stdout",
     "output_type": "stream",
     "text": [
      "CPU times: user 44.3 s, sys: 210 ms, total: 44.5 s\n",
      "Wall time: 3.4 s\n"
     ]
    }
   ],
   "source": [
    "%%time\n",
    "for i in range(256):\n",
    "    env.step(np.random.randint(0, 18, size=64))"
   ]
  },
  {
   "cell_type": "code",
   "execution_count": 72,
   "id": "d501332c-22bf-4df9-92e5-c18809e0391d",
   "metadata": {},
   "outputs": [
    {
     "name": "stdout",
     "output_type": "stream",
     "text": [
      "CPU times: user 32.2 s, sys: 81.1 ms, total: 32.3 s\n",
      "Wall time: 2.25 s\n"
     ]
    }
   ],
   "source": [
    "%%time\n",
    "for i in range(256):\n",
    "    env1.step(np.random.randint(0, 18, size=64))"
   ]
  },
  {
   "cell_type": "code",
   "execution_count": 77,
   "id": "c82ce089-0510-4ef0-aa13-c3f8851106c3",
   "metadata": {},
   "outputs": [
    {
     "ename": "AttributeError",
     "evalue": "property 'observation_space' of 'AtariGymnasiumEnvPool' object has no setter",
     "output_type": "error",
     "traceback": [
      "\u001b[0;31m---------------------------------------------------------------------------\u001b[0m",
      "\u001b[0;31mAttributeError\u001b[0m                            Traceback (most recent call last)",
      "Cell \u001b[0;32mIn[77], line 2\u001b[0m\n\u001b[1;32m      1\u001b[0m env \u001b[38;5;241m=\u001b[39m envpool\u001b[38;5;241m.\u001b[39mmake_gymnasium(\u001b[38;5;124m'\u001b[39m\u001b[38;5;124mBreakout-v5\u001b[39m\u001b[38;5;124m'\u001b[39m, num_envs\u001b[38;5;241m=\u001b[39m\u001b[38;5;241m64\u001b[39m, stack_num\u001b[38;5;241m=\u001b[39m\u001b[38;5;241m1\u001b[39m)\n\u001b[0;32m----> 2\u001b[0m \u001b[43menv\u001b[49m\u001b[38;5;241;43m.\u001b[39;49m\u001b[43mobservation_space\u001b[49m \u001b[38;5;241m=\u001b[39m \u001b[38;5;28;01mNone\u001b[39;00m\n",
      "\u001b[0;31mAttributeError\u001b[0m: property 'observation_space' of 'AtariGymnasiumEnvPool' object has no setter"
     ]
    }
   ],
   "source": [
    "env = envpool.make_gymnasium('Breakout-v5', num_envs=64, stack_num=1)\n",
    "env.observation_space = None"
   ]
  },
  {
   "cell_type": "code",
   "execution_count": null,
   "id": "fa34d3b9-8505-4c4d-9ce9-8f22cb045e6b",
   "metadata": {},
   "outputs": [],
   "source": []
  },
  {
   "cell_type": "code",
   "execution_count": null,
   "id": "79253b06-2af4-46b2-bf6e-67f80267253b",
   "metadata": {},
   "outputs": [],
   "source": []
  },
  {
   "cell_type": "code",
   "execution_count": null,
   "id": "1b48fc18-fce3-49e9-bfc9-5c0f5b8d1d65",
   "metadata": {},
   "outputs": [],
   "source": []
  },
  {
   "cell_type": "code",
   "execution_count": null,
   "id": "780219b4-a496-402f-89dd-6c2f30464f4f",
   "metadata": {},
   "outputs": [],
   "source": []
  },
  {
   "cell_type": "code",
   "execution_count": null,
   "id": "e831d013-cbb1-40d9-8740-3f8b6c89abf7",
   "metadata": {},
   "outputs": [],
   "source": []
  },
  {
   "cell_type": "code",
   "execution_count": null,
   "id": "1594b29b-e0c1-4a75-8118-a910601822f6",
   "metadata": {},
   "outputs": [],
   "source": []
  },
  {
   "cell_type": "code",
   "execution_count": 23,
   "id": "19d5549b-f3ab-46db-ba27-1525364b079b",
   "metadata": {
    "tags": []
   },
   "outputs": [
    {
     "name": "stdout",
     "output_type": "stream",
     "text": [
      "CPU times: user 12.5 s, sys: 88.1 ms, total: 12.6 s\n",
      "Wall time: 12.6 s\n"
     ]
    }
   ],
   "source": [
    "%%time\n",
    "def make_env_single(env_id=\"Breakout\", frame_stack=4):\n",
    "    env = gym.make(f\"ALE/{env_id}-v5\", frameskip=1, full_action_space=True)\n",
    "    # TODO: reduce space of actions\n",
    "    env = gym.wrappers.AtariPreprocessing(env, terminal_on_life_loss=True)\n",
    "    env = gym.wrappers.FrameStack(env, num_stack=frame_stack)\n",
    "    return env\n",
    "make_fn = partial(make_env_single, env_id='Breakout', frame_stack=4)\n",
    "make_fns = [make_fn for _ in range(64)]\n",
    "env2 = gym.vector.SyncVectorEnv(make_fns)"
   ]
  },
  {
   "cell_type": "code",
   "execution_count": 24,
   "id": "0c7b2a45-77a5-488b-b4b1-36e5ac3bbe78",
   "metadata": {
    "tags": []
   },
   "outputs": [
    {
     "name": "stderr",
     "output_type": "stream",
     "text": [
      "100%|████████████████████████████████████████████████████████████████████████████████████████████████████████████████████████████████████████████████████████████████████████████████████████████████████████████| 1000/1000 [01:43<00:00,  9.66it/s]"
     ]
    },
    {
     "name": "stdout",
     "output_type": "stream",
     "text": [
      "CPU times: user 1min 44s, sys: 171 ms, total: 1min 44s\n",
      "Wall time: 1min 44s\n"
     ]
    },
    {
     "name": "stderr",
     "output_type": "stream",
     "text": [
      "\n"
     ]
    }
   ],
   "source": [
    "%%time\n",
    "env2.reset()\n",
    "for i in tqdm(range(1000)):\n",
    "    env2.step(np.random.randint(0, 15, size=64))"
   ]
  },
  {
   "cell_type": "code",
   "execution_count": null,
   "id": "3612364c-1543-4875-b042-a09ee0291dbd",
   "metadata": {},
   "outputs": [],
   "source": []
  },
  {
   "cell_type": "code",
   "execution_count": null,
   "id": "a34d87f5-d2e4-42a4-a4e9-cd802bfb0c8d",
   "metadata": {},
   "outputs": [],
   "source": []
  },
  {
   "cell_type": "code",
   "execution_count": 6,
   "id": "a3a2f92d-2639-43da-89d3-0634a6bf2cd8",
   "metadata": {
    "tags": []
   },
   "outputs": [
    {
     "name": "stdout",
     "output_type": "stream",
     "text": [
      "CPU times: user 1min 33s, sys: 211 ms, total: 1min 33s\n",
      "Wall time: 2.76 s\n"
     ]
    }
   ],
   "source": [
    "%%time\n",
    "env1 = envpool.make('Breakout-v5', env_type='gym', num_envs=256, stack_num=4, batch_size=64, num_threads=64)"
   ]
  },
  {
   "cell_type": "code",
   "execution_count": null,
   "id": "ddefd777-10c6-47d4-b2d5-6ddf4aebcf34",
   "metadata": {
    "tags": []
   },
   "outputs": [
    {
     "name": "stderr",
     "output_type": "stream",
     "text": [
      "  0%|                                                                                                                                                                                                                       | 0/1000 [00:00<?, ?it/s]"
     ]
    }
   ],
   "source": [
    "%%time\n",
    "env1.reset()\n",
    "for i in tqdm(range(1000)):\n",
    "    env1.step(np.random.randint(0, 15, size=64))\n",
    "    "
   ]
  },
  {
   "cell_type": "code",
   "execution_count": 31,
   "id": "b71c184d-7fc6-443b-ad4a-f80258ef4d0c",
   "metadata": {
    "tags": []
   },
   "outputs": [
    {
     "data": {
      "text/plain": [
       "7.398752256"
      ]
     },
     "execution_count": 31,
     "metadata": {},
     "output_type": "execute_result"
    }
   ],
   "source": [
    "2048*512*84*84/1e9"
   ]
  },
  {
   "cell_type": "code",
   "execution_count": 47,
   "id": "348b4541-e682-46f1-ace0-b93c187b9ccd",
   "metadata": {
    "tags": []
   },
   "outputs": [
    {
     "data": {
      "text/plain": [
       "tensor([ 0,  1,  2,  3,  4,  5,  6,  7,  8,  9, 10, 11, 12, 13, 14, 15, 16, 17,\n",
       "        18, 19, 20, 21, 22, 23, 24, 25, 26, 27, 28, 29, 30, 31,  0,  1,  2,  3,\n",
       "         4,  5,  6,  7,  8,  9, 10, 11, 12, 13, 14, 15, 16, 17, 18, 19, 20, 21,\n",
       "        22, 23, 24, 25, 26, 27, 28, 29, 30, 31])"
      ]
     },
     "execution_count": 47,
     "metadata": {},
     "output_type": "execute_result"
    }
   ],
   "source": [
    "torch.arange(64)%32"
   ]
  },
  {
   "cell_type": "code",
   "execution_count": null,
   "id": "4d15797f-e4eb-4f27-903e-741f7b456acf",
   "metadata": {},
   "outputs": [],
   "source": []
  },
  {
   "cell_type": "code",
   "execution_count": null,
   "id": "cf9f1b7c-33ce-4d8d-8b7d-a9f43c9ddb80",
   "metadata": {},
   "outputs": [],
   "source": []
  },
  {
   "cell_type": "code",
   "execution_count": null,
   "id": "6f3f9157-339f-4e67-b320-9f72a45afa69",
   "metadata": {
    "tags": []
   },
   "outputs": [],
   "source": []
  },
  {
   "cell_type": "code",
   "execution_count": null,
   "id": "769173f5-2c53-476a-8f24-1ed38d82148e",
   "metadata": {},
   "outputs": [],
   "source": []
  },
  {
   "cell_type": "code",
   "execution_count": null,
   "id": "a8ed1d06-364b-4af9-a962-5449b9f92c19",
   "metadata": {},
   "outputs": [],
   "source": []
  },
  {
   "cell_type": "code",
   "execution_count": 17,
   "id": "65b3f744-c6e7-42ae-b7bd-4f0a0335abe0",
   "metadata": {
    "tags": []
   },
   "outputs": [],
   "source": [
    "env1 = envpool.make('Breakout-v5', env_type='gym', num_envs=8, stack_num=4, seed=0,\n",
    "                    noop_max=30, episodic_life=False, full_action_space=True, use_fire_reset=False, )\n",
    "obs = env1.reset()\n",
    "\n"
   ]
  },
  {
   "cell_type": "code",
   "execution_count": 23,
   "id": "10822b78-a6f0-4123-af8b-1cb63544d9a0",
   "metadata": {
    "tags": []
   },
   "outputs": [
    {
     "data": {
      "text/plain": [
       "<matplotlib.image.AxesImage at 0x7f39a4e208e0>"
      ]
     },
     "execution_count": 23,
     "metadata": {},
     "output_type": "execute_result"
    },
    {
     "data": {
      "image/png": "[encoded data removed]",
      "text/plain": [
       "<Figure size 640x480 with 1 Axes>"
      ]
     },
     "metadata": {},
     "output_type": "display_data"
    }
   ],
   "source": [
    "plt.imshow(obs[0, -1])"
   ]
  },
  {
   "cell_type": "code",
   "execution_count": null,
   "id": "d1828138-e135-44df-9c1c-40269cb36f87",
   "metadata": {},
   "outputs": [],
   "source": [
    "episodic_life (bool): make end-of-life == end-of-episode, but only reset on true game over. It helps the value estimation. Default to False;\n",
    "zero_discount_on_life_loss (bool): when the agent losses a life, the discount in dm_env.TimeStep is set to 0. This option doesn’t affect gym’s behavior (since there is no discount field in gym’s API). Default to False;\n",
    "reward_clip (bool): whether to change the reward to sign(reward), default to False;\n",
    "repeat_action_probability (float): the action repeat probability in ALE configuration, default to 0 (no action repeat to perform deterministic result);\n",
    "use_inter_area_resize (bool): whether to use cv::INTER_AREA for image resize, default to True."
   ]
  },
  {
   "cell_type": "code",
   "execution_count": null,
   "id": "60e5c81d-84c8-4fa1-ac2c-f9df54519b1b",
   "metadata": {},
   "outputs": [],
   "source": []
  },
  {
   "cell_type": "code",
   "execution_count": null,
   "id": "c55811d5-f19f-4a1a-95b4-08797a835399",
   "metadata": {},
   "outputs": [],
   "source": []
  },
  {
   "cell_type": "code",
   "execution_count": null,
   "id": "b434b1b6-31fc-4a85-a06e-23f1d591c9da",
   "metadata": {},
   "outputs": [],
   "source": []
  },
  {
   "cell_type": "code",
   "execution_count": 50,
   "id": "1aec01c3-22bf-4ecc-875e-f086e57d33b0",
   "metadata": {
    "tags": []
   },
   "outputs": [
    {
     "name": "stderr",
     "output_type": "stream",
     "text": [
      "100%|████████████████████████████████████████████████████████████████████████████████████████████████████████████████████████████████████████████████████████████████████████████████████████████████████████████████| 10/10 [00:04<00:00,  2.34it/s]\n"
     ]
    }
   ],
   "source": [
    "envs = []\n",
    "for i in tqdm(range(10)):\n",
    "    env = envpool.make('Breakout-v5', env_type='gym', num_envs=8, stack_num=4)\n",
    "    envs.append(env)"
   ]
  },
  {
   "cell_type": "code",
   "execution_count": null,
   "id": "50eb7f3d-d90f-4719-a367-1182ad7d05af",
   "metadata": {},
   "outputs": [],
   "source": []
  },
  {
   "cell_type": "code",
   "execution_count": null,
   "id": "c95b1579-b4c1-499d-848e-f97519779336",
   "metadata": {},
   "outputs": [],
   "source": []
  },
  {
   "cell_type": "code",
   "execution_count": null,
   "id": "848724fd-ad16-4342-85b3-70affa1a42ba",
   "metadata": {},
   "outputs": [],
   "source": []
  },
  {
   "cell_type": "code",
   "execution_count": 1,
   "id": "da159bce-9a54-46ae-ab36-2bcd98a7aef1",
   "metadata": {},
   "outputs": [
    {
     "name": "stderr",
     "output_type": "stream",
     "text": [
      "/data/vision/phillipi/akumar01/miniconda3/envs/egb/lib/python3.7/site-packages/tqdm/auto.py:21: TqdmWarning: IProgress not found. Please update jupyter and ipywidgets. See https://ipywidgets.readthedocs.io/en/stable/user_install.html\n",
      "  from .autonotebook import tqdm as notebook_tqdm\n"
     ]
    }
   ],
   "source": [
    "import train_dt2"
   ]
  },
  {
   "cell_type": "code",
   "execution_count": 3,
   "id": "f1310da0-3ed0-4055-8fc5-6064c0b599c9",
   "metadata": {},
   "outputs": [
    {
     "name": "stdout",
     "output_type": "stream",
     "text": [
      "Namespace(batch_size=1024, collect_size=8192, ctx_len=4, device='cpu', ent_coef=0.01, entity=None, env_id='Pong', frame_stack=4, freq_collect=10, gamma=0.99, load_agent=None, log_video=False, lr=0.0006, lr_min=6e-05, lr_schedule=True, max_grad_norm=0.5, n_envs=64, n_iters=1000, n_steps=128, name=None, obj='ext', project=None, save_agent=None, seed=0, torch_deterministic=True, track=False)\n"
     ]
    }
   ],
   "source": [
    "args = train_dt2.parse_args('--device cuda'.split())\n",
    "print(args)"
   ]
  },
  {
   "cell_type": "code",
   "execution_count": null,
   "id": "de777cc6-7f1d-4cb0-b8c8-676196fa4444",
   "metadata": {},
   "outputs": [
    {
     "name": "stdout",
     "output_type": "stream",
     "text": [
      "WARNING: using slow attention. Flash Attention requires PyTorch >= 2.0\n",
      "Printing DTGPT Summary...\n",
      "125571\n",
      "num decayed parameter tensors: 12, with 125,312 parameters\n",
      "num non-decayed parameter tensors: 10, with 259 parameters\n",
      "using fused AdamW: False\n"
     ]
    },
    {
     "name": "stderr",
     "output_type": "stream",
     "text": [
      "A.L.E: Arcade Learning Environment (version 0.8.1+53f58b7)\n",
      "[Powered by Stella]\n",
      "  0%|                                                                                                                                                                                                                       | 0/1000 [00:00<?, ?it/s]"
     ]
    },
    {
     "name": "stdout",
     "output_type": "stream",
     "text": [
      "Collecting data...\n",
      "collect: dt_const=0.083, dt_inf=0.317, dt_env=0.989\n",
      "collect: dt_const=0.037, dt_inf=0.247, dt_env=0.952\n",
      "collect: dt_const=0.031, dt_inf=0.238, dt_env=0.760\n",
      "collect: dt_const=0.031, dt_inf=0.238, dt_env=0.818\n"
     ]
    }
   ],
   "source": [
    "train_dt2.main(args)"
   ]
  },
  {
   "cell_type": "code",
   "execution_count": null,
   "id": "0307afbe-13b5-4b26-a064-68047ee9fe78",
   "metadata": {},
   "outputs": [],
   "source": []
  },
  {
   "cell_type": "code",
   "execution_count": null,
   "id": "13770855-c674-4213-85ac-ee405d6b6383",
   "metadata": {},
   "outputs": [],
   "source": []
  },
  {
   "cell_type": "code",
   "execution_count": 1,
   "id": "da55b1aa-ac17-4cef-9573-c193bd9ec52e",
   "metadata": {
    "tags": []
   },
   "outputs": [],
   "source": [
    "from collections import deque"
   ]
  },
  {
   "cell_type": "code",
   "execution_count": 3,
   "id": "bf6160c7-69cd-474b-a828-6d21e340c218",
   "metadata": {
    "tags": []
   },
   "outputs": [],
   "source": [
    "d = deque(maxlen=10)"
   ]
  },
  {
   "cell_type": "code",
   "execution_count": 4,
   "id": "dd13b4d4-3db3-4595-9f5d-8c464757efd6",
   "metadata": {
    "tags": []
   },
   "outputs": [
    {
     "name": "stdout",
     "output_type": "stream",
     "text": [
      "deque([0], maxlen=10)\n",
      "deque([0, 1], maxlen=10)\n",
      "deque([0, 1, 2], maxlen=10)\n",
      "deque([0, 1, 2, 3], maxlen=10)\n",
      "deque([0, 1, 2, 3, 4], maxlen=10)\n",
      "deque([0, 1, 2, 3, 4, 5], maxlen=10)\n",
      "deque([0, 1, 2, 3, 4, 5, 6], maxlen=10)\n",
      "deque([0, 1, 2, 3, 4, 5, 6, 7], maxlen=10)\n",
      "deque([0, 1, 2, 3, 4, 5, 6, 7, 8], maxlen=10)\n",
      "deque([0, 1, 2, 3, 4, 5, 6, 7, 8, 9], maxlen=10)\n",
      "deque([1, 2, 3, 4, 5, 6, 7, 8, 9, 10], maxlen=10)\n",
      "deque([2, 3, 4, 5, 6, 7, 8, 9, 10, 11], maxlen=10)\n",
      "deque([3, 4, 5, 6, 7, 8, 9, 10, 11, 12], maxlen=10)\n",
      "deque([4, 5, 6, 7, 8, 9, 10, 11, 12, 13], maxlen=10)\n",
      "deque([5, 6, 7, 8, 9, 10, 11, 12, 13, 14], maxlen=10)\n",
      "deque([6, 7, 8, 9, 10, 11, 12, 13, 14, 15], maxlen=10)\n",
      "deque([7, 8, 9, 10, 11, 12, 13, 14, 15, 16], maxlen=10)\n",
      "deque([8, 9, 10, 11, 12, 13, 14, 15, 16, 17], maxlen=10)\n",
      "deque([9, 10, 11, 12, 13, 14, 15, 16, 17, 18], maxlen=10)\n",
      "deque([10, 11, 12, 13, 14, 15, 16, 17, 18, 19], maxlen=10)\n"
     ]
    }
   ],
   "source": [
    "for i in range(20):\n",
    "    d.append(i)\n",
    "    print(d)"
   ]
  },
  {
   "cell_type": "code",
   "execution_count": 48,
   "id": "a9eff149-d24e-4500-9d6c-86d885897a90",
   "metadata": {
    "tags": []
   },
   "outputs": [
    {
     "name": "stdout",
     "output_type": "stream",
     "text": [
      "None\n",
      "lalalla\n"
     ]
    }
   ],
   "source": [
    "import time\n",
    "from contextlib import contextmanager\n",
    "from collections import defaultdict\n",
    "\n",
    "class Timer:\n",
    "    def __init__(self):\n",
    "        self.times = defaultdict(float)\n",
    "        \n",
    "    @contextmanager\n",
    "    def time(self, key):\n",
    "        before = time.time()\n",
    "        yield None\n",
    "        time.time()\n",
    "        self.times[key] += (time.time()-before)\n",
    "        \n",
    "    \n",
    "timer = Timer()\n",
    "with timer.time('env') as f:\n",
    "    print(f)\n",
    "    time.sleep(1.)\n",
    "    print('lalalla')"
   ]
  },
  {
   "cell_type": "code",
   "execution_count": 49,
   "id": "b1fde716-1786-4ea3-b8ab-e958bb36a254",
   "metadata": {
    "tags": []
   },
   "outputs": [
    {
     "data": {
      "text/plain": [
       "defaultdict(float, {'env': 1.0024609565734863})"
      ]
     },
     "execution_count": 49,
     "metadata": {},
     "output_type": "execute_result"
    }
   ],
   "source": [
    "timer.times"
   ]
  },
  {
   "cell_type": "code",
   "execution_count": null,
   "id": "21f09e4a-f482-4236-b4d3-43a16707eb0e",
   "metadata": {},
   "outputs": [],
   "source": []
  },
  {
   "cell_type": "code",
   "execution_count": 65,
   "id": "a4a64a00-020a-4aa5-b022-d971beb51d83",
   "metadata": {
    "tags": []
   },
   "outputs": [
    {
     "data": {
      "text/plain": [
       "tensor([0, 1, 2, 3, 4, 5, 6, 7, 8, 9])"
      ]
     },
     "execution_count": 65,
     "metadata": {},
     "output_type": "execute_result"
    }
   ],
   "source": [
    "deque"
   ]
  },
  {
   "cell_type": "code",
   "execution_count": null,
   "id": "1f3ddcfb-c5bf-43e0-9003-eb3ce686d365",
   "metadata": {},
   "outputs": [],
   "source": []
  }
 ],
 "metadata": {
  "kernelspec": {
   "display_name": "Python 3 (ipykernel)",
   "language": "python",
   "name": "python3"
  },
  "language_info": {
   "codemirror_mode": {
    "name": "ipython",
    "version": 3
   },
   "file_extension": ".py",
   "mimetype": "text/x-python",
   "name": "python",
   "nbconvert_exporter": "python",
   "pygments_lexer": "ipython3",
   "version": "3.10.9"
  }
 },
 "nbformat": 4,
 "nbformat_minor": 5
}
