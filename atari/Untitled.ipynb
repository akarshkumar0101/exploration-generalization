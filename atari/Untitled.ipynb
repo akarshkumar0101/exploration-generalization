{
 "cells": [
  {
   "cell_type": "code",
   "execution_count": 1,
   "id": "7bcb65d8-eb46-42ef-a88c-ca6505aac633",
   "metadata": {
    "tags": []
   },
   "outputs": [],
   "source": [
    "%load_ext autoreload\n",
    "%autoreload 2"
   ]
  },
  {
   "cell_type": "code",
   "execution_count": 2,
   "id": "d30f943e-7a52-44c6-80de-11787b3915e8",
   "metadata": {
    "tags": []
   },
   "outputs": [
    {
     "name": "stderr",
     "output_type": "stream",
     "text": [
      "/usr/local/lib/python3.10/site-packages/tqdm/auto.py:21: TqdmWarning: IProgress not found. Please update jupyter and ipywidgets. See https://ipywidgets.readthedocs.io/en/stable/user_install.html\n",
      "  from .autonotebook import tqdm as notebook_tqdm\n"
     ]
    }
   ],
   "source": [
    "%run imports.py"
   ]
  },
  {
   "cell_type": "code",
   "execution_count": 3,
   "id": "0905165b-9f4b-4a43-9761-34f1c5787543",
   "metadata": {
    "tags": []
   },
   "outputs": [],
   "source": [
    "import envpool"
   ]
  },
  {
   "cell_type": "code",
   "execution_count": 4,
   "id": "07ddd3bd-614c-4aa0-8b0d-7f7b0f4b7475",
   "metadata": {
    "tags": []
   },
   "outputs": [
    {
     "name": "stderr",
     "output_type": "stream",
     "text": [
      "100%|███████████████████████████████████████████████████████████████████████████████████████████████████████████████████████████████████████████████████████████████████████████████████████████████████████████| 1000/1000 [00:07<00:00, 128.60it/s]"
     ]
    },
    {
     "name": "stdout",
     "output_type": "stream",
     "text": [
      "8223.00087390009 SPS\n"
     ]
    },
    {
     "name": "stderr",
     "output_type": "stream",
     "text": [
      "\n"
     ]
    }
   ],
   "source": [
    "env1 = envpool.make_gymnasium('Breakout-v5', num_envs=64, stack_num=1)\n",
    "env1.reset();\n",
    "\n",
    "t0 = time.time()\n",
    "for i in tqdm(range(1000)):\n",
    "    env1.step(np.random.randint(0, 18, size=64))\n",
    "t1 = time.time()\n",
    "print((1000*64)/(t1-t0), 'SPS')"
   ]
  },
  {
   "cell_type": "code",
   "execution_count": 73,
   "id": "97794ba8-7dc9-40b4-b370-4c544bf73476",
   "metadata": {},
   "outputs": [
    {
     "name": "stdout",
     "output_type": "stream",
     "text": [
      "envpool found!\n"
     ]
    }
   ],
   "source": [
    "env = make_env(n_envs=64)\n",
    "env.reset();"
   ]
  },
  {
   "cell_type": "code",
   "execution_count": 74,
   "id": "a5c5967c-d3c9-41c4-9f2f-609007ba79ad",
   "metadata": {},
   "outputs": [
    {
     "ename": "KeyError",
     "evalue": "'obs'",
     "output_type": "error",
     "traceback": [
      "\u001b[0;31m---------------------------------------------------------------------------\u001b[0m",
      "\u001b[0;31mKeyError\u001b[0m                                  Traceback (most recent call last)",
      "Cell \u001b[0;32mIn[74], line 1\u001b[0m\n\u001b[0;32m----> 1\u001b[0m buffer \u001b[38;5;241m=\u001b[39m \u001b[43mBuffer\u001b[49m\u001b[43m(\u001b[49m\u001b[38;5;241;43m256\u001b[39;49m\u001b[43m,\u001b[49m\u001b[43m \u001b[49m\u001b[38;5;241;43m64\u001b[39;49m\u001b[43m,\u001b[49m\u001b[43m \u001b[49m\u001b[43menv\u001b[49m\u001b[43m,\u001b[49m\u001b[43m \u001b[49m\u001b[43mdevice\u001b[49m\u001b[38;5;241;43m=\u001b[39;49m\u001b[38;5;124;43m'\u001b[39;49m\u001b[38;5;124;43mcpu\u001b[39;49m\u001b[38;5;124;43m'\u001b[39;49m\u001b[43m)\u001b[49m\n\u001b[1;32m      2\u001b[0m agent \u001b[38;5;241m=\u001b[39m RandomAgent(\u001b[38;5;241m18\u001b[39m)\n",
      "File \u001b[0;32m~/exploration-generalization/atari/buffers.py:26\u001b[0m, in \u001b[0;36mBuffer.__init__\u001b[0;34m(self, n_steps, n_envs, env, device)\u001b[0m\n\u001b[1;32m     23\u001b[0m \u001b[38;5;28mself\u001b[39m\u001b[38;5;241m.\u001b[39mrets \u001b[38;5;241m=\u001b[39m torch\u001b[38;5;241m.\u001b[39mzeros((n_steps, n_envs), device\u001b[38;5;241m=\u001b[39mdevice)\n\u001b[1;32m     25\u001b[0m _, info \u001b[38;5;241m=\u001b[39m \u001b[38;5;28mself\u001b[39m\u001b[38;5;241m.\u001b[39menv\u001b[38;5;241m.\u001b[39mreset()\n\u001b[0;32m---> 26\u001b[0m \u001b[38;5;28mself\u001b[39m\u001b[38;5;241m.\u001b[39mobs \u001b[38;5;241m=\u001b[39m \u001b[43minfo\u001b[49m\u001b[43m[\u001b[49m\u001b[38;5;124;43m\"\u001b[39;49m\u001b[38;5;124;43mobs\u001b[39;49m\u001b[38;5;124;43m\"\u001b[39;49m\u001b[43m]\u001b[49m\n\u001b[1;32m     27\u001b[0m \u001b[38;5;28mself\u001b[39m\u001b[38;5;241m.\u001b[39mdone \u001b[38;5;241m=\u001b[39m torch\u001b[38;5;241m.\u001b[39mones(n_envs, dtype\u001b[38;5;241m=\u001b[39mtorch\u001b[38;5;241m.\u001b[39mbool, device\u001b[38;5;241m=\u001b[39mdevice)\n",
      "\u001b[0;31mKeyError\u001b[0m: 'obs'"
     ]
    }
   ],
   "source": [
    "buffer = Buffer(256, 64, env, device='cpu')\n",
    "agent = RandomAgent(18)"
   ]
  },
  {
   "cell_type": "code",
   "execution_count": null,
   "id": "ccf517eb-ffff-4cc0-85ac-545fdfcab042",
   "metadata": {},
   "outputs": [],
   "source": [
    "%%time\n",
    "buffer.collect(agent, 4)"
   ]
  },
  {
   "cell_type": "code",
   "execution_count": 69,
   "id": "0355fc59-96fc-456d-964b-08816a60ae44",
   "metadata": {},
   "outputs": [
    {
     "name": "stdout",
     "output_type": "stream",
     "text": [
      "CPU times: user 44.3 s, sys: 210 ms, total: 44.5 s\n",
      "Wall time: 3.4 s\n"
     ]
    }
   ],
   "source": [
    "%%time\n",
    "for i in range(256):\n",
    "    env.step(np.random.randint(0, 18, size=64))"
   ]
  },
  {
   "cell_type": "code",
   "execution_count": 72,
   "id": "d501332c-22bf-4df9-92e5-c18809e0391d",
   "metadata": {},
   "outputs": [
    {
     "name": "stdout",
     "output_type": "stream",
     "text": [
      "CPU times: user 32.2 s, sys: 81.1 ms, total: 32.3 s\n",
      "Wall time: 2.25 s\n"
     ]
    }
   ],
   "source": [
    "%%time\n",
    "for i in range(256):\n",
    "    env1.step(np.random.randint(0, 18, size=64))"
   ]
  },
  {
   "cell_type": "code",
   "execution_count": 77,
   "id": "c82ce089-0510-4ef0-aa13-c3f8851106c3",
   "metadata": {},
   "outputs": [
    {
     "ename": "AttributeError",
     "evalue": "property 'observation_space' of 'AtariGymnasiumEnvPool' object has no setter",
     "output_type": "error",
     "traceback": [
      "\u001b[0;31m---------------------------------------------------------------------------\u001b[0m",
      "\u001b[0;31mAttributeError\u001b[0m                            Traceback (most recent call last)",
      "Cell \u001b[0;32mIn[77], line 2\u001b[0m\n\u001b[1;32m      1\u001b[0m env \u001b[38;5;241m=\u001b[39m envpool\u001b[38;5;241m.\u001b[39mmake_gymnasium(\u001b[38;5;124m'\u001b[39m\u001b[38;5;124mBreakout-v5\u001b[39m\u001b[38;5;124m'\u001b[39m, num_envs\u001b[38;5;241m=\u001b[39m\u001b[38;5;241m64\u001b[39m, stack_num\u001b[38;5;241m=\u001b[39m\u001b[38;5;241m1\u001b[39m)\n\u001b[0;32m----> 2\u001b[0m \u001b[43menv\u001b[49m\u001b[38;5;241;43m.\u001b[39;49m\u001b[43mobservation_space\u001b[49m \u001b[38;5;241m=\u001b[39m \u001b[38;5;28;01mNone\u001b[39;00m\n",
      "\u001b[0;31mAttributeError\u001b[0m: property 'observation_space' of 'AtariGymnasiumEnvPool' object has no setter"
     ]
    }
   ],
   "source": [
    "env = envpool.make_gymnasium('Breakout-v5', num_envs=64, stack_num=1)\n",
    "env.observation_space = None"
   ]
  },
  {
   "cell_type": "code",
   "execution_count": null,
   "id": "fa34d3b9-8505-4c4d-9ce9-8f22cb045e6b",
   "metadata": {},
   "outputs": [],
   "source": []
  },
  {
   "cell_type": "code",
   "execution_count": null,
   "id": "79253b06-2af4-46b2-bf6e-67f80267253b",
   "metadata": {},
   "outputs": [],
   "source": []
  },
  {
   "cell_type": "code",
   "execution_count": null,
   "id": "1b48fc18-fce3-49e9-bfc9-5c0f5b8d1d65",
   "metadata": {},
   "outputs": [],
   "source": []
  },
  {
   "cell_type": "code",
   "execution_count": null,
   "id": "780219b4-a496-402f-89dd-6c2f30464f4f",
   "metadata": {},
   "outputs": [],
   "source": []
  },
  {
   "cell_type": "code",
   "execution_count": null,
   "id": "e831d013-cbb1-40d9-8740-3f8b6c89abf7",
   "metadata": {},
   "outputs": [],
   "source": []
  },
  {
   "cell_type": "code",
   "execution_count": null,
   "id": "1594b29b-e0c1-4a75-8118-a910601822f6",
   "metadata": {},
   "outputs": [],
   "source": []
  },
  {
   "cell_type": "code",
   "execution_count": 23,
   "id": "19d5549b-f3ab-46db-ba27-1525364b079b",
   "metadata": {
    "tags": []
   },
   "outputs": [
    {
     "name": "stdout",
     "output_type": "stream",
     "text": [
      "CPU times: user 12.5 s, sys: 88.1 ms, total: 12.6 s\n",
      "Wall time: 12.6 s\n"
     ]
    }
   ],
   "source": [
    "%%time\n",
    "def make_env_single(env_id=\"Breakout\", frame_stack=4):\n",
    "    env = gym.make(f\"ALE/{env_id}-v5\", frameskip=1, full_action_space=True)\n",
    "    # TODO: reduce space of actions\n",
    "    env = gym.wrappers.AtariPreprocessing(env, terminal_on_life_loss=True)\n",
    "    env = gym.wrappers.FrameStack(env, num_stack=frame_stack)\n",
    "    return env\n",
    "make_fn = partial(make_env_single, env_id='Breakout', frame_stack=4)\n",
    "make_fns = [make_fn for _ in range(64)]\n",
    "env2 = gym.vector.SyncVectorEnv(make_fns)"
   ]
  },
  {
   "cell_type": "code",
   "execution_count": 24,
   "id": "0c7b2a45-77a5-488b-b4b1-36e5ac3bbe78",
   "metadata": {
    "tags": []
   },
   "outputs": [
    {
     "name": "stderr",
     "output_type": "stream",
     "text": [
      "100%|████████████████████████████████████████████████████████████████████████████████████████████████████████████████████████████████████████████████████████████████████████████████████████████████████████████| 1000/1000 [01:43<00:00,  9.66it/s]"
     ]
    },
    {
     "name": "stdout",
     "output_type": "stream",
     "text": [
      "CPU times: user 1min 44s, sys: 171 ms, total: 1min 44s\n",
      "Wall time: 1min 44s\n"
     ]
    },
    {
     "name": "stderr",
     "output_type": "stream",
     "text": [
      "\n"
     ]
    }
   ],
   "source": [
    "%%time\n",
    "env2.reset()\n",
    "for i in tqdm(range(1000)):\n",
    "    env2.step(np.random.randint(0, 15, size=64))"
   ]
  },
  {
   "cell_type": "code",
   "execution_count": null,
   "id": "3612364c-1543-4875-b042-a09ee0291dbd",
   "metadata": {},
   "outputs": [],
   "source": []
  },
  {
   "cell_type": "code",
   "execution_count": null,
   "id": "a34d87f5-d2e4-42a4-a4e9-cd802bfb0c8d",
   "metadata": {},
   "outputs": [],
   "source": []
  },
  {
   "cell_type": "code",
   "execution_count": 6,
   "id": "a3a2f92d-2639-43da-89d3-0634a6bf2cd8",
   "metadata": {
    "tags": []
   },
   "outputs": [
    {
     "name": "stdout",
     "output_type": "stream",
     "text": [
      "CPU times: user 1min 33s, sys: 211 ms, total: 1min 33s\n",
      "Wall time: 2.76 s\n"
     ]
    }
   ],
   "source": [
    "%%time\n",
    "env1 = envpool.make('Breakout-v5', env_type='gym', num_envs=256, stack_num=4, batch_size=64, num_threads=64)"
   ]
  },
  {
   "cell_type": "code",
   "execution_count": null,
   "id": "ddefd777-10c6-47d4-b2d5-6ddf4aebcf34",
   "metadata": {
    "tags": []
   },
   "outputs": [
    {
     "name": "stderr",
     "output_type": "stream",
     "text": [
      "  0%|                                                                                                                                                                                                                       | 0/1000 [00:00<?, ?it/s]"
     ]
    }
   ],
   "source": [
    "%%time\n",
    "env1.reset()\n",
    "for i in tqdm(range(1000)):\n",
    "    env1.step(np.random.randint(0, 15, size=64))\n",
    "    "
   ]
  },
  {
   "cell_type": "code",
   "execution_count": 31,
   "id": "b71c184d-7fc6-443b-ad4a-f80258ef4d0c",
   "metadata": {
    "tags": []
   },
   "outputs": [
    {
     "data": {
      "text/plain": [
       "7.398752256"
      ]
     },
     "execution_count": 31,
     "metadata": {},
     "output_type": "execute_result"
    }
   ],
   "source": [
    "2048*512*84*84/1e9"
   ]
  },
  {
   "cell_type": "code",
   "execution_count": 47,
   "id": "348b4541-e682-46f1-ace0-b93c187b9ccd",
   "metadata": {
    "tags": []
   },
   "outputs": [
    {
     "data": {
      "text/plain": [
       "tensor([ 0,  1,  2,  3,  4,  5,  6,  7,  8,  9, 10, 11, 12, 13, 14, 15, 16, 17,\n",
       "        18, 19, 20, 21, 22, 23, 24, 25, 26, 27, 28, 29, 30, 31,  0,  1,  2,  3,\n",
       "         4,  5,  6,  7,  8,  9, 10, 11, 12, 13, 14, 15, 16, 17, 18, 19, 20, 21,\n",
       "        22, 23, 24, 25, 26, 27, 28, 29, 30, 31])"
      ]
     },
     "execution_count": 47,
     "metadata": {},
     "output_type": "execute_result"
    }
   ],
   "source": [
    "torch.arange(64)%32"
   ]
  },
  {
   "cell_type": "code",
   "execution_count": null,
   "id": "4d15797f-e4eb-4f27-903e-741f7b456acf",
   "metadata": {},
   "outputs": [],
   "source": []
  },
  {
   "cell_type": "code",
   "execution_count": null,
   "id": "cf9f1b7c-33ce-4d8d-8b7d-a9f43c9ddb80",
   "metadata": {},
   "outputs": [],
   "source": []
  },
  {
   "cell_type": "code",
   "execution_count": null,
   "id": "6f3f9157-339f-4e67-b320-9f72a45afa69",
   "metadata": {
    "tags": []
   },
   "outputs": [],
   "source": []
  },
  {
   "cell_type": "code",
   "execution_count": null,
   "id": "769173f5-2c53-476a-8f24-1ed38d82148e",
   "metadata": {},
   "outputs": [],
   "source": []
  },
  {
   "cell_type": "code",
   "execution_count": null,
   "id": "a8ed1d06-364b-4af9-a962-5449b9f92c19",
   "metadata": {},
   "outputs": [],
   "source": []
  },
  {
   "cell_type": "code",
   "execution_count": 17,
   "id": "65b3f744-c6e7-42ae-b7bd-4f0a0335abe0",
   "metadata": {
    "tags": []
   },
   "outputs": [],
   "source": [
    "env1 = envpool.make('Breakout-v5', env_type='gym', num_envs=8, stack_num=4, seed=0,\n",
    "                    noop_max=30, episodic_life=False, full_action_space=True, use_fire_reset=False, )\n",
    "obs = env1.reset()\n",
    "\n"
   ]
  },
  {
   "cell_type": "code",
   "execution_count": 23,
   "id": "10822b78-a6f0-4123-af8b-1cb63544d9a0",
   "metadata": {
    "tags": []
   },
   "outputs": [
    {
     "data": {
      "text/plain": [
       "<matplotlib.image.AxesImage at 0x7f39a4e208e0>"
      ]
     },
     "execution_count": 23,
     "metadata": {},
     "output_type": "execute_result"
    },
    {
     "data": {
      "image/png": "[encoded data removed]",
      "text/plain": [
       "<Figure size 640x480 with 1 Axes>"
      ]
     },
     "metadata": {},
     "output_type": "display_data"
    }
   ],
   "source": [
    "plt.imshow(obs[0, -1])"
   ]
  },
  {
   "cell_type": "code",
   "execution_count": null,
   "id": "d1828138-e135-44df-9c1c-40269cb36f87",
   "metadata": {},
   "outputs": [],
   "source": [
    "episodic_life (bool): make end-of-life == end-of-episode, but only reset on true game over. It helps the value estimation. Default to False;\n",
    "zero_discount_on_life_loss (bool): when the agent losses a life, the discount in dm_env.TimeStep is set to 0. This option doesn’t affect gym’s behavior (since there is no discount field in gym’s API). Default to False;\n",
    "reward_clip (bool): whether to change the reward to sign(reward), default to False;\n",
    "repeat_action_probability (float): the action repeat probability in ALE configuration, default to 0 (no action repeat to perform deterministic result);\n",
    "use_inter_area_resize (bool): whether to use cv::INTER_AREA for image resize, default to True."
   ]
  },
  {
   "cell_type": "code",
   "execution_count": null,
   "id": "60e5c81d-84c8-4fa1-ac2c-f9df54519b1b",
   "metadata": {},
   "outputs": [],
   "source": []
  },
  {
   "cell_type": "code",
   "execution_count": null,
   "id": "c55811d5-f19f-4a1a-95b4-08797a835399",
   "metadata": {},
   "outputs": [],
   "source": []
  },
  {
   "cell_type": "code",
   "execution_count": null,
   "id": "b434b1b6-31fc-4a85-a06e-23f1d591c9da",
   "metadata": {},
   "outputs": [],
   "source": []
  },
  {
   "cell_type": "code",
   "execution_count": 50,
   "id": "1aec01c3-22bf-4ecc-875e-f086e57d33b0",
   "metadata": {
    "tags": []
   },
   "outputs": [
    {
     "name": "stderr",
     "output_type": "stream",
     "text": [
      "100%|████████████████████████████████████████████████████████████████████████████████████████████████████████████████████████████████████████████████████████████████████████████████████████████████████████████████| 10/10 [00:04<00:00,  2.34it/s]\n"
     ]
    }
   ],
   "source": [
    "envs = []\n",
    "for i in tqdm(range(10)):\n",
    "    env = envpool.make('Breakout-v5', env_type='gym', num_envs=8, stack_num=4)\n",
    "    envs.append(env)"
   ]
  },
  {
   "cell_type": "code",
   "execution_count": null,
   "id": "50eb7f3d-d90f-4719-a367-1182ad7d05af",
   "metadata": {},
   "outputs": [],
   "source": []
  },
  {
   "cell_type": "code",
   "execution_count": null,
   "id": "c95b1579-b4c1-499d-848e-f97519779336",
   "metadata": {},
   "outputs": [],
   "source": []
  },
  {
   "cell_type": "code",
   "execution_count": null,
   "id": "848724fd-ad16-4342-85b3-70affa1a42ba",
   "metadata": {},
   "outputs": [],
   "source": []
  },
  {
   "cell_type": "code",
   "execution_count": 1,
   "id": "da159bce-9a54-46ae-ab36-2bcd98a7aef1",
   "metadata": {},
   "outputs": [
    {
     "name": "stderr",
     "output_type": "stream",
     "text": [
      "/data/vision/phillipi/akumar01/miniconda3/envs/egb/lib/python3.7/site-packages/tqdm/auto.py:21: TqdmWarning: IProgress not found. Please update jupyter and ipywidgets. See https://ipywidgets.readthedocs.io/en/stable/user_install.html\n",
      "  from .autonotebook import tqdm as notebook_tqdm\n"
     ]
    }
   ],
   "source": [
    "import train_dt2"
   ]
  },
  {
   "cell_type": "code",
   "execution_count": 3,
   "id": "f1310da0-3ed0-4055-8fc5-6064c0b599c9",
   "metadata": {},
   "outputs": [
    {
     "name": "stdout",
     "output_type": "stream",
     "text": [
      "Namespace(batch_size=1024, collect_size=8192, ctx_len=4, device='cpu', ent_coef=0.01, entity=None, env_id='Pong', frame_stack=4, freq_collect=10, gamma=0.99, load_agent=None, log_video=False, lr=0.0006, lr_min=6e-05, lr_schedule=True, max_grad_norm=0.5, n_envs=64, n_iters=1000, n_steps=128, name=None, obj='ext', project=None, save_agent=None, seed=0, torch_deterministic=True, track=False)\n"
     ]
    }
   ],
   "source": [
    "args = train_dt2.parse_args('--device cuda'.split())\n",
    "print(args)"
   ]
  },
  {
   "cell_type": "code",
   "execution_count": null,
   "id": "de777cc6-7f1d-4cb0-b8c8-676196fa4444",
   "metadata": {},
   "outputs": [
    {
     "name": "stdout",
     "output_type": "stream",
     "text": [
      "WARNING: using slow attention. Flash Attention requires PyTorch >= 2.0\n",
      "Printing DTGPT Summary...\n",
      "125571\n",
      "num decayed parameter tensors: 12, with 125,312 parameters\n",
      "num non-decayed parameter tensors: 10, with 259 parameters\n",
      "using fused AdamW: False\n"
     ]
    },
    {
     "name": "stderr",
     "output_type": "stream",
     "text": [
      "A.L.E: Arcade Learning Environment (version 0.8.1+53f58b7)\n",
      "[Powered by Stella]\n",
      "  0%|                                                                                                                                                                                                                       | 0/1000 [00:00<?, ?it/s]"
     ]
    },
    {
     "name": "stdout",
     "output_type": "stream",
     "text": [
      "Collecting data...\n",
      "collect: dt_const=0.083, dt_inf=0.317, dt_env=0.989\n",
      "collect: dt_const=0.037, dt_inf=0.247, dt_env=0.952\n",
      "collect: dt_const=0.031, dt_inf=0.238, dt_env=0.760\n",
      "collect: dt_const=0.031, dt_inf=0.238, dt_env=0.818\n"
     ]
    }
   ],
   "source": [
    "train_dt2.main(args)"
   ]
  },
  {
   "cell_type": "code",
   "execution_count": null,
   "id": "0307afbe-13b5-4b26-a064-68047ee9fe78",
   "metadata": {},
   "outputs": [],
   "source": []
  },
  {
   "cell_type": "code",
   "execution_count": null,
   "id": "13770855-c674-4213-85ac-ee405d6b6383",
   "metadata": {},
   "outputs": [],
   "source": []
  },
  {
   "cell_type": "code",
   "execution_count": 1,
   "id": "da55b1aa-ac17-4cef-9573-c193bd9ec52e",
   "metadata": {
    "tags": []
   },
   "outputs": [],
   "source": [
    "from collections import deque"
   ]
  },
  {
   "cell_type": "code",
   "execution_count": 3,
   "id": "bf6160c7-69cd-474b-a828-6d21e340c218",
   "metadata": {
    "tags": []
   },
   "outputs": [],
   "source": [
    "d = deque(maxlen=10)"
   ]
  },
  {
   "cell_type": "code",
   "execution_count": 4,
   "id": "dd13b4d4-3db3-4595-9f5d-8c464757efd6",
   "metadata": {
    "tags": []
   },
   "outputs": [
    {
     "name": "stdout",
     "output_type": "stream",
     "text": [
      "deque([0], maxlen=10)\n",
      "deque([0, 1], maxlen=10)\n",
      "deque([0, 1, 2], maxlen=10)\n",
      "deque([0, 1, 2, 3], maxlen=10)\n",
      "deque([0, 1, 2, 3, 4], maxlen=10)\n",
      "deque([0, 1, 2, 3, 4, 5], maxlen=10)\n",
      "deque([0, 1, 2, 3, 4, 5, 6], maxlen=10)\n",
      "deque([0, 1, 2, 3, 4, 5, 6, 7], maxlen=10)\n",
      "deque([0, 1, 2, 3, 4, 5, 6, 7, 8], maxlen=10)\n",
      "deque([0, 1, 2, 3, 4, 5, 6, 7, 8, 9], maxlen=10)\n",
      "deque([1, 2, 3, 4, 5, 6, 7, 8, 9, 10], maxlen=10)\n",
      "deque([2, 3, 4, 5, 6, 7, 8, 9, 10, 11], maxlen=10)\n",
      "deque([3, 4, 5, 6, 7, 8, 9, 10, 11, 12], maxlen=10)\n",
      "deque([4, 5, 6, 7, 8, 9, 10, 11, 12, 13], maxlen=10)\n",
      "deque([5, 6, 7, 8, 9, 10, 11, 12, 13, 14], maxlen=10)\n",
      "deque([6, 7, 8, 9, 10, 11, 12, 13, 14, 15], maxlen=10)\n",
      "deque([7, 8, 9, 10, 11, 12, 13, 14, 15, 16], maxlen=10)\n",
      "deque([8, 9, 10, 11, 12, 13, 14, 15, 16, 17], maxlen=10)\n",
      "deque([9, 10, 11, 12, 13, 14, 15, 16, 17, 18], maxlen=10)\n",
      "deque([10, 11, 12, 13, 14, 15, 16, 17, 18, 19], maxlen=10)\n"
     ]
    }
   ],
   "source": [
    "for i in range(20):\n",
    "    d.append(i)\n",
    "    print(d)"
   ]
  },
  {
   "cell_type": "code",
   "execution_count": 48,
   "id": "a9eff149-d24e-4500-9d6c-86d885897a90",
   "metadata": {
    "tags": []
   },
   "outputs": [
    {
     "name": "stdout",
     "output_type": "stream",
     "text": [
      "None\n",
      "lalalla\n"
     ]
    }
   ],
   "source": [
    "import time\n",
    "from contextlib import contextmanager\n",
    "from collections import defaultdict\n",
    "\n",
    "class Timer:\n",
    "    def __init__(self):\n",
    "        self.times = defaultdict(float)\n",
    "        \n",
    "    @contextmanager\n",
    "    def time(self, key):\n",
    "        before = time.time()\n",
    "        yield None\n",
    "        time.time()\n",
    "        self.times[key] += (time.time()-before)\n",
    "        \n",
    "    \n",
    "timer = Timer()\n",
    "with timer.time('env') as f:\n",
    "    print(f)\n",
    "    time.sleep(1.)\n",
    "    print('lalalla')"
   ]
  },
  {
   "cell_type": "code",
   "execution_count": 49,
   "id": "b1fde716-1786-4ea3-b8ab-e958bb36a254",
   "metadata": {
    "tags": []
   },
   "outputs": [
    {
     "data": {
      "text/plain": [
       "defaultdict(float, {'env': 1.0024609565734863})"
      ]
     },
     "execution_count": 49,
     "metadata": {},
     "output_type": "execute_result"
    }
   ],
   "source": [
    "timer.times"
   ]
  },
  {
   "cell_type": "code",
   "execution_count": null,
   "id": "21f09e4a-f482-4236-b4d3-43a16707eb0e",
   "metadata": {},
   "outputs": [],
   "source": []
  },
  {
   "cell_type": "code",
   "execution_count": 68,
   "id": "a4a64a00-020a-4aa5-b022-d971beb51d83",
   "metadata": {
    "tags": []
   },
   "outputs": [],
   "source": []
  },
  {
   "cell_type": "code",
   "execution_count": 144,
   "id": "b97d0c20-8b90-4e37-b851-b1f2a21d669b",
   "metadata": {
    "tags": []
   },
   "outputs": [],
   "source": [
    "a = deque(maxlen=5)\n",
    "a.append(np.zeros(3))\n",
    "a.append(np.zeros(3))"
   ]
  },
  {
   "cell_type": "code",
   "execution_count": 146,
   "id": "e72bad03-d9fc-41f9-a784-c14d30098af4",
   "metadata": {
    "tags": []
   },
   "outputs": [
    {
     "data": {
      "text/plain": [
       "(2, 3)"
      ]
     },
     "execution_count": 146,
     "metadata": {},
     "output_type": "execute_result"
    }
   ],
   "source": [
    "np.stack(a).shape"
   ]
  },
  {
   "cell_type": "code",
   "execution_count": 92,
   "id": "5c722f03-827b-448b-aa1b-b5c61ad8af27",
   "metadata": {
    "tags": []
   },
   "outputs": [],
   "source": []
  },
  {
   "cell_type": "code",
   "execution_count": 72,
   "id": "cc9b58bd-dd6f-41b9-8408-56b984244f42",
   "metadata": {
    "tags": []
   },
   "outputs": [
    {
     "data": {
      "text/plain": [
       "([1, 2, 3, 4], deque([1, 2, 3, 4, 5], maxlen=5))"
      ]
     },
     "execution_count": 72,
     "metadata": {},
     "output_type": "execute_result"
    }
   ],
   "source": []
  },
  {
   "cell_type": "code",
   "execution_count": 96,
   "id": "12a8638c-32ad-40ad-9f1c-15a761c11098",
   "metadata": {
    "tags": []
   },
   "outputs": [],
   "source": [
    "import gymnasium as gym\n",
    "import gymnasium.wrappers.normalize as normalize\n",
    "\n"
   ]
  },
  {
   "cell_type": "code",
   "execution_count": 132,
   "id": "bbb54c2e-06fb-45ed-81e9-b47585d4f95f",
   "metadata": {
    "tags": []
   },
   "outputs": [],
   "source": [
    "norm = normalize.RunningMeanStd(shape=10)"
   ]
  },
  {
   "cell_type": "code",
   "execution_count": 133,
   "id": "4c897b02-e200-4cb0-a0a3-810bdc4aacff",
   "metadata": {
    "tags": []
   },
   "outputs": [],
   "source": [
    "norm.update(np.ones((10)))"
   ]
  },
  {
   "cell_type": "code",
   "execution_count": 134,
   "id": "7c99449e-8630-4acf-a464-78accc5e615a",
   "metadata": {
    "tags": []
   },
   "outputs": [
    {
     "data": {
      "text/plain": [
       "array([0.99999, 0.99999, 0.99999, 0.99999, 0.99999, 0.99999, 0.99999,\n",
       "       0.99999, 0.99999, 0.99999])"
      ]
     },
     "execution_count": 134,
     "metadata": {},
     "output_type": "execute_result"
    }
   ],
   "source": [
    "norm.mean"
   ]
  },
  {
   "cell_type": "code",
   "execution_count": 135,
   "id": "71bbe5f0-9b7c-40fd-99f6-30050089d7d6",
   "metadata": {
    "tags": []
   },
   "outputs": [
    {
     "data": {
      "text/plain": [
       "10.0001"
      ]
     },
     "execution_count": 135,
     "metadata": {},
     "output_type": "execute_result"
    }
   ],
   "source": [
    "norm.count"
   ]
  },
  {
   "cell_type": "code",
   "execution_count": 147,
   "id": "5a489df9-cd43-40d2-a243-778043d138c3",
   "metadata": {
    "tags": []
   },
   "outputs": [],
   "source": [
    "import wandb"
   ]
  },
  {
   "cell_type": "code",
   "execution_count": 151,
   "id": "f34a05d9-19ab-4b62-a881-2e9899faf435",
   "metadata": {
    "tags": []
   },
   "outputs": [
    {
     "ename": "ValueError",
     "evalue": "Video must be atleast 4 dimensions: time, channels, height, width",
     "output_type": "error",
     "traceback": [
      "\u001b[0;31m---------------------------------------------------------------------------\u001b[0m",
      "\u001b[0;31mValueError\u001b[0m                                Traceback (most recent call last)",
      "Cell \u001b[0;32mIn[151], line 2\u001b[0m\n\u001b[1;32m      1\u001b[0m vid \u001b[38;5;241m=\u001b[39m np\u001b[38;5;241m.\u001b[39mrandom\u001b[38;5;241m.\u001b[39mrandint(\u001b[38;5;241m0\u001b[39m, \u001b[38;5;241m255\u001b[39m, size\u001b[38;5;241m=\u001b[39m(\u001b[38;5;241m100\u001b[39m, \u001b[38;5;241m84\u001b[39m, \u001b[38;5;241m84\u001b[39m))\u001b[38;5;241m.\u001b[39mastype(np\u001b[38;5;241m.\u001b[39muint8)\n\u001b[0;32m----> 2\u001b[0m \u001b[43mwandb\u001b[49m\u001b[38;5;241;43m.\u001b[39;49m\u001b[43mVideo\u001b[49m\u001b[43m(\u001b[49m\u001b[43mvid\u001b[49m\u001b[43m)\u001b[49m\n",
      "File \u001b[0;32m~/miniconda3/lib/python3.10/site-packages/wandb/sdk/data_types/video.py:128\u001b[0m, in \u001b[0;36mVideo.__init__\u001b[0;34m(self, data_or_path, caption, fps, format)\u001b[0m\n\u001b[1;32m    124\u001b[0m \u001b[38;5;28;01melse\u001b[39;00m:\n\u001b[1;32m    125\u001b[0m     \u001b[38;5;28;01mraise\u001b[39;00m \u001b[38;5;167;01mValueError\u001b[39;00m(\n\u001b[1;32m    126\u001b[0m         \u001b[38;5;124m\"\u001b[39m\u001b[38;5;124mwandb.Video accepts a file path or numpy like data as input\u001b[39m\u001b[38;5;124m\"\u001b[39m\n\u001b[1;32m    127\u001b[0m     )\n\u001b[0;32m--> 128\u001b[0m \u001b[38;5;28;43mself\u001b[39;49m\u001b[38;5;241;43m.\u001b[39;49m\u001b[43mencode\u001b[49m\u001b[43m(\u001b[49m\u001b[43m)\u001b[49m\n",
      "File \u001b[0;32m~/miniconda3/lib/python3.10/site-packages/wandb/sdk/data_types/video.py:135\u001b[0m, in \u001b[0;36mVideo.encode\u001b[0;34m(self)\u001b[0m\n\u001b[1;32m    130\u001b[0m \u001b[38;5;28;01mdef\u001b[39;00m \u001b[38;5;21mencode\u001b[39m(\u001b[38;5;28mself\u001b[39m) \u001b[38;5;241m-\u001b[39m\u001b[38;5;241m>\u001b[39m \u001b[38;5;28;01mNone\u001b[39;00m:\n\u001b[1;32m    131\u001b[0m     mpy \u001b[38;5;241m=\u001b[39m util\u001b[38;5;241m.\u001b[39mget_module(\n\u001b[1;32m    132\u001b[0m         \u001b[38;5;124m\"\u001b[39m\u001b[38;5;124mmoviepy.editor\u001b[39m\u001b[38;5;124m\"\u001b[39m,\n\u001b[1;32m    133\u001b[0m         required\u001b[38;5;241m=\u001b[39m\u001b[38;5;124m'\u001b[39m\u001b[38;5;124mwandb.Video requires moviepy and imageio when passing raw data.  Install with \u001b[39m\u001b[38;5;124m\"\u001b[39m\u001b[38;5;124mpip install moviepy imageio\u001b[39m\u001b[38;5;124m\"\u001b[39m\u001b[38;5;124m'\u001b[39m,\n\u001b[1;32m    134\u001b[0m     )\n\u001b[0;32m--> 135\u001b[0m     tensor \u001b[38;5;241m=\u001b[39m \u001b[38;5;28;43mself\u001b[39;49m\u001b[38;5;241;43m.\u001b[39;49m\u001b[43m_prepare_video\u001b[49m\u001b[43m(\u001b[49m\u001b[38;5;28;43mself\u001b[39;49m\u001b[38;5;241;43m.\u001b[39;49m\u001b[43mdata\u001b[49m\u001b[43m)\u001b[49m\n\u001b[1;32m    136\u001b[0m     _, \u001b[38;5;28mself\u001b[39m\u001b[38;5;241m.\u001b[39m_height, \u001b[38;5;28mself\u001b[39m\u001b[38;5;241m.\u001b[39m_width, \u001b[38;5;28mself\u001b[39m\u001b[38;5;241m.\u001b[39m_channels \u001b[38;5;241m=\u001b[39m tensor\u001b[38;5;241m.\u001b[39mshape\n\u001b[1;32m    138\u001b[0m     \u001b[38;5;66;03m# encode sequence of images into gif string\u001b[39;00m\n",
      "File \u001b[0;32m~/miniconda3/lib/python3.10/site-packages/wandb/sdk/data_types/video.py:193\u001b[0m, in \u001b[0;36mVideo._prepare_video\u001b[0;34m(self, video)\u001b[0m\n\u001b[1;32m    188\u001b[0m np \u001b[38;5;241m=\u001b[39m util\u001b[38;5;241m.\u001b[39mget_module(\n\u001b[1;32m    189\u001b[0m     \u001b[38;5;124m\"\u001b[39m\u001b[38;5;124mnumpy\u001b[39m\u001b[38;5;124m\"\u001b[39m,\n\u001b[1;32m    190\u001b[0m     required\u001b[38;5;241m=\u001b[39m\u001b[38;5;124m'\u001b[39m\u001b[38;5;124mwandb.Video requires numpy when passing raw data. To get it, run \u001b[39m\u001b[38;5;124m\"\u001b[39m\u001b[38;5;124mpip install numpy\u001b[39m\u001b[38;5;124m\"\u001b[39m\u001b[38;5;124m.\u001b[39m\u001b[38;5;124m'\u001b[39m,\n\u001b[1;32m    191\u001b[0m )\n\u001b[1;32m    192\u001b[0m \u001b[38;5;28;01mif\u001b[39;00m video\u001b[38;5;241m.\u001b[39mndim \u001b[38;5;241m<\u001b[39m \u001b[38;5;241m4\u001b[39m:\n\u001b[0;32m--> 193\u001b[0m     \u001b[38;5;28;01mraise\u001b[39;00m \u001b[38;5;167;01mValueError\u001b[39;00m(\n\u001b[1;32m    194\u001b[0m         \u001b[38;5;124m\"\u001b[39m\u001b[38;5;124mVideo must be atleast 4 dimensions: time, channels, height, width\u001b[39m\u001b[38;5;124m\"\u001b[39m\n\u001b[1;32m    195\u001b[0m     )\n\u001b[1;32m    196\u001b[0m \u001b[38;5;28;01mif\u001b[39;00m video\u001b[38;5;241m.\u001b[39mndim \u001b[38;5;241m==\u001b[39m \u001b[38;5;241m4\u001b[39m:\n\u001b[1;32m    197\u001b[0m     video \u001b[38;5;241m=\u001b[39m video\u001b[38;5;241m.\u001b[39mreshape(\u001b[38;5;241m1\u001b[39m, \u001b[38;5;241m*\u001b[39mvideo\u001b[38;5;241m.\u001b[39mshape)\n",
      "\u001b[0;31mValueError\u001b[0m: Video must be atleast 4 dimensions: time, channels, height, width"
     ]
    }
   ],
   "source": [
    "vid = np.random.randint(0, 255, size=(100, 84, 84)).astype(np.uint8)\n",
    "wandb.Video(vid)"
   ]
  },
  {
   "cell_type": "code",
   "execution_count": 152,
   "id": "ffcc033b-af34-464b-84af-9c6db6d29057",
   "metadata": {
    "tags": []
   },
   "outputs": [
    {
     "data": {
      "text/plain": [
       "'0.15.4'"
      ]
     },
     "execution_count": 152,
     "metadata": {},
     "output_type": "execute_result"
    }
   ],
   "source": [
    "wandb.__version__"
   ]
  },
  {
   "cell_type": "code",
   "execution_count": null,
   "id": "1baffeb0-3a78-45d1-a4ab-09c43b462beb",
   "metadata": {},
   "outputs": [],
   "source": []
  },
  {
   "cell_type": "code",
   "execution_count": 166,
   "id": "681b59a9-cb6f-4e98-99aa-f9357af746ab",
   "metadata": {
    "tags": []
   },
   "outputs": [
    {
     "data": {
      "text/plain": [
       "array([ -1.93428278,   0.        ,   8.6830616 ,   0.        ,\n",
       "        -6.88403606,   0.        , -10.22880268,   0.        ,\n",
       "         0.03645384,   0.        ,  -0.85234404,   0.        ])"
      ]
     },
     "execution_count": 166,
     "metadata": {},
     "output_type": "execute_result"
    }
   ],
   "source": [
    "torch.manual_seed(0)\n",
    "\n",
    "def layer_init(layer, std=np.sqrt(2), bias_const=0.0):\n",
    "    torch.nn.init.orthogonal_(layer.weight, std)\n",
    "    torch.nn.init.constant_(layer.bias, bias_const)\n",
    "    return layer\n",
    "\n",
    "\n",
    "class Agent(nn.Module):\n",
    "    def __init__(self):\n",
    "        super().__init__()\n",
    "        self.network = nn.Sequential(\n",
    "            layer_init(nn.Conv2d(4, 32, 8, stride=4)),\n",
    "            nn.ReLU(),\n",
    "            layer_init(nn.Conv2d(32, 64, 4, stride=2)),\n",
    "            nn.ReLU(),\n",
    "            layer_init(nn.Conv2d(64, 64, 3, stride=1)),\n",
    "            nn.ReLU(),\n",
    "            nn.Flatten(),\n",
    "            layer_init(nn.Linear(64 * 7 * 7, 512)),\n",
    "            nn.ReLU(),\n",
    "        )\n",
    "        self.actor = layer_init(nn.Linear(512, 18), std=0.01)\n",
    "        self.critic = layer_init(nn.Linear(512, 1), std=1)\n",
    "\n",
    "    def get_value(self, x):\n",
    "        return self.critic(self.network(x / 255.0))\n",
    "\n",
    "    def get_action_and_value(self, x, action=None):\n",
    "        hidden = self.network(x / 255.0)\n",
    "        logits = self.actor(hidden)\n",
    "        probs = Categorical(logits=logits)\n",
    "        if action is None:\n",
    "            action = probs.sample()\n",
    "        return action, probs.log_prob(action), probs.entropy(), self.critic(hidden)\n",
    "    \n",
    "agent = Agent()\n",
    "np.array([p.sum().item() for p in agent.parameters()])"
   ]
  },
  {
   "cell_type": "code",
   "execution_count": 168,
   "id": "2a3a6e72-ee6b-4312-a19f-0693ae5b6824",
   "metadata": {
    "tags": []
   },
   "outputs": [
    {
     "data": {
      "text/plain": [
       "array([-1.01812518e+00, -1.39392614e-01,  6.56081009e+00,  1.15206823e-01,\n",
       "       -3.90144610e+00,  3.45844626e-01, -1.82324791e+00, -8.67850184e-02,\n",
       "        6.26007002e-03,  0.00000000e+00, -3.47416848e-01,  0.00000000e+00])"
      ]
     },
     "execution_count": 168,
     "metadata": {},
     "output_type": "execute_result"
    }
   ],
   "source": [
    "torch.manual_seed(0)\n",
    "\n",
    "def layer_init(layer, std=np.sqrt(2), bias_const=0.0):\n",
    "    torch.nn.init.orthogonal_(layer.weight, std)\n",
    "    torch.nn.init.constant_(layer.bias, bias_const)\n",
    "    return layer\n",
    "\n",
    "\n",
    "class Agent(nn.Module):\n",
    "    def __init__(self):\n",
    "        super().__init__()\n",
    "        self.network = nn.Sequential(\n",
    "            nn.Conv2d(4, 32, 8, stride=4),\n",
    "            nn.ReLU(),\n",
    "            nn.Conv2d(32, 64, 4, stride=2),\n",
    "            nn.ReLU(),\n",
    "            nn.Conv2d(64, 64, 3, stride=1),\n",
    "            nn.ReLU(),\n",
    "            nn.Flatten(),\n",
    "            nn.Linear(64 * 7 * 7, 512),\n",
    "            nn.ReLU(),\n",
    "        )\n",
    "        self.actor = nn.Linear(512, 18)\n",
    "        self.critic = nn.Linear(512, 1)\n",
    "\n",
    "    def get_value(self, x):\n",
    "        return self.critic(self.network(x / 255.0))\n",
    "\n",
    "    def get_action_and_value(self, x, action=None):\n",
    "        hidden = self.network(x / 255.0)\n",
    "        logits = self.actor(hidden)\n",
    "        probs = Categorical(logits=logits)\n",
    "        if action is None:\n",
    "            action = probs.sample()\n",
    "        return action, probs.log_prob(action), probs.entropy(), self.critic(hidden)\n",
    "    \n",
    "agent = Agent()\n",
    "np.array([p.sum().item() for p in agent.parameters()])"
   ]
  },
  {
   "cell_type": "code",
   "execution_count": null,
   "id": "35c3312d-7556-409b-a1b3-7638d4c927e0",
   "metadata": {},
   "outputs": [],
   "source": []
  },
  {
   "cell_type": "code",
   "execution_count": 217,
   "id": "4d12a720-bd9c-48a4-9578-0feef11f06f8",
   "metadata": {
    "tags": []
   },
   "outputs": [],
   "source": [
    "import gym.wrappers.normalize"
   ]
  },
  {
   "cell_type": "code",
   "execution_count": 253,
   "id": "b7d3e535-6bca-49b5-b50b-29bf915f4ab2",
   "metadata": {
    "tags": []
   },
   "outputs": [
    {
     "name": "stdout",
     "output_type": "stream",
     "text": [
      "0.0007066069574991711\n",
      "69954.15944962457\n",
      "-0.09999983674737523\n",
      "10.00000387674515\n"
     ]
    }
   ],
   "source": [
    "rms = gym.wrappers.normalize.RunningMeanStd()\n",
    "rms.update(np.full(100, fill_value=1))\n",
    "print((1-rms.mean)/(np.sqrt(rms.var)+1e-6))\n",
    "print((100-rms.mean)/(np.sqrt(rms.var)+1e-6))\n",
    "rms.update(np.full(1, fill_value=100))\n",
    "print((1-rms.mean)/(np.sqrt(rms.var)+1e-6))\n",
    "print((100-rms.mean)/(np.sqrt(rms.var)+1e-6))"
   ]
  },
  {
   "cell_type": "code",
   "execution_count": 262,
   "id": "b7f78ca0-0501-43a8-b83b-ff57fe76f43c",
   "metadata": {
    "tags": []
   },
   "outputs": [],
   "source": [
    "a = torch.randn(10)"
   ]
  },
  {
   "cell_type": "code",
   "execution_count": 7,
   "id": "2298ac1a-438f-4b77-ada2-7edd576248f1",
   "metadata": {
    "tags": []
   },
   "outputs": [],
   "source": [
    "import torch"
   ]
  },
  {
   "cell_type": "code",
   "execution_count": null,
   "id": "b34ad095-b0c7-41af-b685-480d35fd1956",
   "metadata": {},
   "outputs": [],
   "source": []
  },
  {
   "cell_type": "code",
   "execution_count": 18,
   "id": "cbdbd34b-bf33-463e-9a4a-4a27c94c2a17",
   "metadata": {
    "tags": []
   },
   "outputs": [],
   "source": [
    "from timers import Timer\n",
    "from buffers2 import Buffer\n",
    "buffer = Buffer(64, 256, None, device='mps')"
   ]
  },
  {
   "cell_type": "code",
   "execution_count": 24,
   "id": "0a6480d3-7da5-4970-a8d3-47f2830c20c2",
   "metadata": {
    "tags": []
   },
   "outputs": [
    {
     "name": "stdout",
     "output_type": "stream",
     "text": [
      "{'construct': 0.09844613075256348}\n"
     ]
    }
   ],
   "source": [
    "# %%timeit\n",
    "timer = Timer()\n",
    "\n",
    "for i in range(256):\n",
    "    with timer.add_time('construct'):\n",
    "        buffer._construct_agent_input(i, 32)\n",
    "print(dict(timer.key2time))"
   ]
  },
  {
   "cell_type": "code",
   "execution_count": 25,
   "id": "8eb44083-f613-4c6e-8dd9-b1fd2c6385f6",
   "metadata": {
    "tags": []
   },
   "outputs": [],
   "source": [
    "t = []\n",
    "for i in range(256):\n",
    "    timer = Timer()\n",
    "    with timer.add_time('construct'):\n",
    "        buffer._construct_agent_input(i, 32)\n",
    "    t.append(timer.key2time['construct'])"
   ]
  },
  {
   "cell_type": "code",
   "execution_count": 30,
   "id": "381403ce-aa3c-4489-ac46-f0cf8da07813",
   "metadata": {
    "tags": []
   },
   "outputs": [
    {
     "data": {
      "image/png": "[encoded data removed]",
      "text/plain": [
       "<Figure size 640x480 with 1 Axes>"
      ]
     },
     "metadata": {},
     "output_type": "display_data"
    }
   ],
   "source": [
    "plt.plot(t[:100])\n",
    "plt.yscale('log')"
   ]
  },
  {
   "cell_type": "code",
   "execution_count": 40,
   "id": "4007a3c8-7a95-4ebb-8a16-172007830d44",
   "metadata": {
    "tags": []
   },
   "outputs": [
    {
     "name": "stdout",
     "output_type": "stream",
     "text": [
      "61 1\n",
      "122 2\n",
      "183 3\n",
      "244 4\n",
      "305 5\n",
      "366 6\n",
      "427 7\n",
      "488 8\n",
      "549 9\n"
     ]
    }
   ],
   "source": [
    "for i in range(1, 610):\n",
    "    if i%(610//10)==0:\n",
    "        print(i, i//(610//10))"
   ]
  },
  {
   "cell_type": "code",
   "execution_count": 41,
   "id": "1c9166da-4402-4625-961f-8aa7394f5d51",
   "metadata": {
    "tags": []
   },
   "outputs": [
    {
     "name": "stderr",
     "output_type": "stream",
     "text": [
      "\u001b[34m\u001b[1mwandb\u001b[0m: Currently logged in as: \u001b[33makarshkumar0101\u001b[0m. Use \u001b[1m`wandb login --relogin`\u001b[0m to force relogin\n"
     ]
    },
    {
     "data": {
      "text/html": [
       "Tracking run with wandb version 0.15.4"
      ],
      "text/plain": [
       "<IPython.core.display.HTML object>"
      ]
     },
     "metadata": {},
     "output_type": "display_data"
    },
    {
     "data": {
      "text/html": [
       "Run data is saved locally in <code>/Users/akarshkumar0101/exploration-generalization/atari/wandb/run-20230613_015226-mecq3vnd</code>"
      ],
      "text/plain": [
       "<IPython.core.display.HTML object>"
      ]
     },
     "metadata": {},
     "output_type": "display_data"
    },
    {
     "data": {
      "text/html": [
       "Syncing run <strong><a href='https://wandb.ai/akarshkumar0101/exploration-generalization-atari/runs/mecq3vnd' target=\"_blank\">lively-paper-1</a></strong> to <a href='https://wandb.ai/akarshkumar0101/exploration-generalization-atari' target=\"_blank\">Weights & Biases</a> (<a href='https://wandb.me/run' target=\"_blank\">docs</a>)<br/>"
      ],
      "text/plain": [
       "<IPython.core.display.HTML object>"
      ]
     },
     "metadata": {},
     "output_type": "display_data"
    },
    {
     "data": {
      "text/html": [
       " View project at <a href='https://wandb.ai/akarshkumar0101/exploration-generalization-atari' target=\"_blank\">https://wandb.ai/akarshkumar0101/exploration-generalization-atari</a>"
      ],
      "text/plain": [
       "<IPython.core.display.HTML object>"
      ]
     },
     "metadata": {},
     "output_type": "display_data"
    },
    {
     "data": {
      "text/html": [
       " View run at <a href='https://wandb.ai/akarshkumar0101/exploration-generalization-atari/runs/mecq3vnd' target=\"_blank\">https://wandb.ai/akarshkumar0101/exploration-generalization-atari/runs/mecq3vnd</a>"
      ],
      "text/plain": [
       "<IPython.core.display.HTML object>"
      ]
     },
     "metadata": {},
     "output_type": "display_data"
    },
    {
     "data": {
      "text/html": [
       "<button onClick=\"this.nextSibling.style.display='block';this.style.display='none';\">Display W&B run</button><iframe src='https://wandb.ai/akarshkumar0101/exploration-generalization-atari/runs/mecq3vnd?jupyter=true' style='border:none;width:100%;height:420px;display:none;'></iframe>"
      ],
      "text/plain": [
       "<wandb.sdk.wandb_run.Run at 0x2f00376d0>"
      ]
     },
     "execution_count": 41,
     "metadata": {},
     "output_type": "execute_result"
    }
   ],
   "source": [
    "wandb.init()"
   ]
  },
  {
   "cell_type": "code",
   "execution_count": 45,
   "id": "47a3b509-6ed8-478c-a80d-0285d83e60b0",
   "metadata": {
    "tags": []
   },
   "outputs": [],
   "source": [
    "wandb.log(dict(hello=5), step=20)"
   ]
  },
  {
   "cell_type": "code",
   "execution_count": null,
   "id": "fa341ca9-4518-4aef-a700-9b3141729650",
   "metadata": {},
   "outputs": [],
   "source": []
  },
  {
   "cell_type": "code",
   "execution_count": 31,
   "id": "3426a64d-d74d-4f1b-9caa-13ac63af01be",
   "metadata": {
    "tags": []
   },
   "outputs": [],
   "source": [
    "buffer.obss = torch.arange(32).repeat(1, 1)\n",
    "buffer.acts = torch.arange(32).repeat(1, 1)"
   ]
  },
  {
   "cell_type": "code",
   "execution_count": null,
   "id": "fee01e31-670f-43f5-ba8e-93fb4eef2072",
   "metadata": {},
   "outputs": [],
   "source": []
  },
  {
   "cell_type": "code",
   "execution_count": null,
   "id": "0c8504f6-bea6-45f4-a59d-ae4232709e49",
   "metadata": {},
   "outputs": [],
   "source": []
  },
  {
   "cell_type": "code",
   "execution_count": null,
   "id": "2c1fcdf8-497d-4f2d-a406-91492ffee510",
   "metadata": {},
   "outputs": [],
   "source": []
  },
  {
   "cell_type": "code",
   "execution_count": 39,
   "id": "59fc97c3-1a13-4bff-81c7-88874b8bac93",
   "metadata": {
    "tags": []
   },
   "outputs": [
    {
     "name": "stdout",
     "output_type": "stream",
     "text": [
      "tensor([28, 29, 30, 31,  0])\n",
      "tensor([28, 29, 30, 31])\n",
      "tensor([0., 0., 0., 0.])\n",
      "\n",
      "tensor([29, 30, 31,  0,  1])\n",
      "tensor([29, 30, 31,  0])\n",
      "tensor([0., 0., 0., 0.])\n",
      "\n",
      "tensor([30, 31,  0,  1,  2])\n",
      "tensor([30, 31,  0,  1])\n",
      "tensor([0., 0., 0., 0.])\n",
      "\n",
      "tensor([31,  0,  1,  2,  3])\n",
      "tensor([31,  0,  1,  2])\n",
      "tensor([0., 0., 0., 0.])\n",
      "\n",
      "tensor([0, 1, 2, 3, 4])\n",
      "tensor([0, 1, 2, 3])\n",
      "tensor([0., 0., 0., 0.])\n",
      "\n",
      "tensor([1, 2, 3, 4, 5])\n",
      "tensor([1, 2, 3, 4])\n",
      "tensor([0., 0., 0., 0.])\n",
      "\n",
      "tensor([2, 3, 4, 5, 6])\n",
      "tensor([2, 3, 4, 5])\n",
      "tensor([0., 0., 0., 0.])\n",
      "\n",
      "tensor([3, 4, 5, 6, 7])\n",
      "tensor([3, 4, 5, 6])\n",
      "tensor([0., 0., 0., 0.])\n",
      "\n",
      "tensor([4, 5, 6, 7, 8])\n",
      "tensor([4, 5, 6, 7])\n",
      "tensor([0., 0., 0., 0.])\n",
      "\n",
      "tensor([5, 6, 7, 8, 9])\n",
      "tensor([5, 6, 7, 8])\n",
      "tensor([0., 0., 0., 0.])\n",
      "\n",
      "tensor([ 6,  7,  8,  9, 10])\n",
      "tensor([6, 7, 8, 9])\n",
      "tensor([0., 0., 0., 0.])\n",
      "\n",
      "tensor([ 7,  8,  9, 10, 11])\n",
      "tensor([ 7,  8,  9, 10])\n",
      "tensor([0., 0., 0., 0.])\n",
      "\n",
      "tensor([ 8,  9, 10, 11, 12])\n",
      "tensor([ 8,  9, 10, 11])\n",
      "tensor([0., 0., 0., 0.])\n",
      "\n",
      "tensor([ 9, 10, 11, 12, 13])\n",
      "tensor([ 9, 10, 11, 12])\n",
      "tensor([0., 0., 0., 0.])\n",
      "\n",
      "tensor([10, 11, 12, 13, 14])\n",
      "tensor([10, 11, 12, 13])\n",
      "tensor([0., 0., 0., 0.])\n",
      "\n",
      "tensor([11, 12, 13, 14, 15])\n",
      "tensor([11, 12, 13, 14])\n",
      "tensor([0., 0., 0., 0.])\n",
      "\n",
      "tensor([12, 13, 14, 15, 16])\n",
      "tensor([12, 13, 14, 15])\n",
      "tensor([0., 0., 0., 0.])\n",
      "\n",
      "tensor([13, 14, 15, 16, 17])\n",
      "tensor([13, 14, 15, 16])\n",
      "tensor([0., 0., 0., 0.])\n",
      "\n",
      "tensor([14, 15, 16, 17, 18])\n",
      "tensor([14, 15, 16, 17])\n",
      "tensor([0., 0., 0., 0.])\n",
      "\n",
      "tensor([15, 16, 17, 18, 19])\n",
      "tensor([15, 16, 17, 18])\n",
      "tensor([0., 0., 0., 0.])\n",
      "\n"
     ]
    }
   ],
   "source": [
    "for i in range(20):\n",
    "    print(buffer._construct_agent_input(i, 5)['obs'][0])\n",
    "    print(buffer._construct_agent_input(i, 5)['act'][0])\n",
    "    print(buffer._construct_agent_input(i, 5)['rew'][0])\n",
    "    print()"
   ]
  },
  {
   "cell_type": "code",
   "execution_count": null,
   "id": "154ea0ce-52be-45a9-87f6-4e318c2ed616",
   "metadata": {},
   "outputs": [],
   "source": []
  },
  {
   "cell_type": "code",
   "execution_count": 1,
   "id": "81c13098-b861-455e-bed5-b6acbe344398",
   "metadata": {
    "scrolled": true
   },
   "outputs": [],
   "source": [
    "%load_ext autoreload\n",
    "%autoreload 2"
   ]
  },
  {
   "cell_type": "code",
   "execution_count": 2,
   "id": "62f9fb1b-d66d-4a06-8e83-ab33d64dacda",
   "metadata": {},
   "outputs": [
    {
     "name": "stdout",
     "output_type": "stream",
     "text": [
      "envpool found!\n"
     ]
    },
    {
     "name": "stderr",
     "output_type": "stream",
     "text": [
      "/usr/local/lib/python3.10/site-packages/tqdm/auto.py:21: TqdmWarning: IProgress not found. Please update jupyter and ipywidgets. See https://ipywidgets.readthedocs.io/en/stable/user_install.html\n",
      "  from .autonotebook import tqdm as notebook_tqdm\n"
     ]
    }
   ],
   "source": [
    "%run imports.py"
   ]
  },
  {
   "cell_type": "code",
   "execution_count": 22,
   "id": "c3606607-9f9c-415c-9822-ba8bf6e1c4f8",
   "metadata": {},
   "outputs": [],
   "source": [
    "from buffers2 import Buffer\n",
    "from ppo_rnd_envpool import Agent"
   ]
  },
  {
   "cell_type": "code",
   "execution_count": 23,
   "id": "611402e0-bb59-4e16-a60e-efb707abf7d7",
   "metadata": {},
   "outputs": [],
   "source": [
    "env = make_env('BeamRider', n_envs=128, obj='ext', device='cpu')\n",
    "buffer = Buffer(128, 128, env, device='cpu')\n",
    "agent = Agent(env)"
   ]
  },
  {
   "cell_type": "code",
   "execution_count": 24,
   "id": "5d31108c-0990-440a-bb15-38a1d5467411",
   "metadata": {},
   "outputs": [
    {
     "name": "stdout",
     "output_type": "stream",
     "text": [
      "Collection time breakdown:\n",
      "construct_agent_input         : 0.005\n",
      "agent_inference               : 8.747\n",
      "env_step                      : 1.683\n",
      " "
     ]
    },
    {
     "data": {
      "text/plain": [
       "         45639 function calls (43016 primitive calls) in 10.515 seconds\n",
       "\n",
       "   Ordered by: internal time\n",
       "\n",
       "   ncalls  tottime  percall  cumtime  percall filename:lineno(function)\n",
       "      387    7.400    0.019    7.400    0.019 {built-in method torch.conv2d}\n",
       "      128    1.595    0.012    1.600    0.013 envpool.py:124(recv)\n",
       "      774    1.010    0.001    1.010    0.001 {built-in method torch._C._nn.linear}\n",
       "      129    0.222    0.002    8.744    0.068 ppo_rnd_envpool.py:213(forward)\n",
       "      903    0.073    0.000    0.073    0.000 {built-in method torch.relu}\n",
       "      128    0.044    0.000    0.046    0.000 envpool.py:114(send)\n",
       "        1    0.032    0.032   10.514   10.514 buffers2.py:45(collect)\n",
       "      128    0.013    0.000    0.013    0.000 {built-in method torch.multinomial}\n",
       "      128    0.013    0.000    0.013    0.000 {method 'logsumexp' of 'torch._C._TensorBase' objects}\n",
       "      128    0.011    0.000    1.679    0.013 env_atari.py:196(step)\n",
       "      128    0.008    0.000    1.665    0.013 env_atari.py:159(step)\n",
       " 2709/129    0.007    0.000    8.745    0.068 module.py:1494(_call_impl)\n",
       "      128    0.006    0.000    0.006    0.000 {method 'softmax' of 'torch._C._TensorBase' objects}\n",
       "      387    0.005    0.000    8.504    0.022 container.py:215(forward)\n",
       "     1158    0.005    0.000    0.005    0.000 {method 'reshape' of 'torch._C._TensorBase' objects}\n",
       "      128    0.003    0.000    0.006    0.000 gymnasium_envpool.py:75(_to_gymnasium)\n",
       "      128    0.003    0.000    0.025    0.000 categorical.py:51(__init__)\n",
       "      256    0.003    0.000    0.003    0.000 {method 'all' of 'torch._C._TensorBase' objects}\n",
       "      129    0.003    0.000    0.004    0.000 buffers2.py:24(_construct_agent_input)\n",
       "      128    0.002    0.000    0.003    0.000 ops.py:220(tree_unflatten)\n",
       "      384    0.002    0.000    0.002    0.000 {method 'astype' of 'numpy.ndarray' objects}\n",
       "      256    0.002    0.000    0.002    0.000 {method 'numpy' of 'torch._C._TensorBase' objects}\n",
       "     2709    0.002    0.000    0.002    0.000 {built-in method torch._C._get_tracing_state}\n",
       "     2838    0.002    0.000    0.002    0.000 module.py:1601(__getattr__)\n",
       "      387    0.002    0.000    7.404    0.019 conv.py:462(forward)\n",
       "      128    0.002    0.000    0.009    0.000 distribution.py:36(__init__)\n",
       "      640    0.002    0.000    0.002    0.000 {built-in method torch.from_numpy}\n",
       "      774    0.002    0.000    1.012    0.001 linear.py:113(forward)\n",
       "      387    0.002    0.000    0.009    0.000 einops.py:231(_apply_recipe)\n",
       "      387    0.002    0.000    0.002    0.000 {method 'permute' of 'torch._C._TensorBase' objects}\n",
       "      387    0.002    0.000    0.012    0.000 einops.py:357(reduce)\n",
       "      129    0.002    0.000    0.002    0.000 {method 'flatten' of 'torch._C._TensorBase' objects}\n",
       "      640    0.002    0.000    0.002    0.000 {method 'to' of 'torch._C._TensorBase' objects}\n",
       "       14    0.002    0.000    0.002    0.000 {built-in method torch.cat}\n",
       "      128    0.001    0.000    0.001    0.000 {built-in method torch.ones_like}\n",
       "      384    0.001    0.000    0.001    0.000 {method 'clone' of 'torch._C._TensorBase' objects}\n",
       "      128    0.001    0.000    0.002    0.000 envpool.py:55(_from)\n",
       "      128    0.001    0.000    0.023    0.000 categorical.py:114(sample)\n",
       "      128    0.001    0.000    0.001    0.000 constraints.py:307(check)\n",
       "      387    0.001    0.000    7.401    0.019 conv.py:454(_conv_forward)\n",
       "      772    0.001    0.000    0.001    0.000 timers.py:10(add_time)\n",
       "      387    0.001    0.000    0.013    0.000 einops.py:424(rearrange)\n",
       "      128    0.001    0.000    0.005    0.000 constraints.py:208(check)\n",
       "      903    0.001    0.000    0.075    0.000 activation.py:102(forward)\n",
       "      386    0.001    0.000    0.002    0.000 contextlib.py:139(__exit__)\n",
       "      903    0.001    0.000    0.074    0.000 functional.py:1446(relu)\n",
       "      128    0.001    0.000    1.648    0.013 envpool.py:137(step)\n",
       "      128    0.001    0.000    1.649    0.013 env_atari.py:133(step)\n",
       "      387    0.001    0.000    0.001    0.000 {built-in method builtins.sorted}\n",
       "      128    0.001    0.000    1.681    0.013 env_atari.py:182(step)\n",
       "      256    0.001    0.000    0.008    0.000 utils.py:108(__get__)\n",
       "      386    0.001    0.000    0.001    0.000 contextlib.py:102(__init__)\n",
       "      387    0.001    0.000    0.001    0.000 _backends.py:22(get_backend)\n",
       "      128    0.001    0.000    0.001    0.000 {method 'detach' of 'torch._C._TensorBase' objects}\n",
       "      387    0.001    0.000    0.001    0.000 container.py:207(__iter__)\n",
       "      772    0.001    0.000    0.002    0.000 {built-in method builtins.next}\n",
       "     1792    0.001    0.000    0.001    0.000 {method 'startswith' of 'str' objects}\n",
       "      386    0.000    0.000    0.001    0.000 contextlib.py:279(helper)\n",
       "      128    0.000    0.000    0.000    0.000 distribution.py:248(_extended_shape)\n",
       "      128    0.000    0.000    0.000    0.000 utils.py:123(__init__)\n",
       "      256    0.000    0.000    0.000    0.000 {method 'cpu' of 'torch._C._TensorBase' objects}\n",
       "     1664    0.000    0.000    0.000    0.000 gymnasium_envpool.py:79(<genexpr>)\n",
       "      387    0.000    0.000    0.000    0.000 _backends.py:79(shape)\n",
       "1766/1744    0.000    0.000    0.000    0.000 {built-in method builtins.isinstance}\n",
       "      642    0.000    0.000    0.001    0.000 {built-in method builtins.getattr}\n",
       "     1031    0.000    0.000    0.000    0.000 {built-in method torch._C._has_torch_function_unary}\n",
       "      640    0.000    0.000    0.000    0.000 {built-in method builtins.hasattr}\n",
       "      387    0.000    0.000    0.001    0.000 einops.py:40(_reduce_axes)\n",
       "      386    0.000    0.000    0.001    0.000 contextlib.py:130(__enter__)\n",
       "      384    0.000    0.000    0.000    0.000 {method 'replace' of 'str' objects}\n",
       "      128    0.000    0.000    1.648    0.013 core.py:404(step)\n",
       "      774    0.000    0.000    0.004    0.000 _backends.py:83(reshape)\n",
       "      384    0.000    0.000    0.000    0.000 {method 'append' of 'list' objects}\n",
       "      387    0.000    0.000    0.002    0.000 _backends.py:290(transpose)\n",
       "        1    0.000    0.000   10.515   10.515 _contextlib.py:112(decorate_context)\n",
       "      772    0.000    0.000    0.000    0.000 {built-in method time.time}\n",
       "      387    0.000    0.000    0.000    0.000 {built-in method builtins.iter}\n",
       "      387    0.000    0.000    0.000    0.000 _backends.py:258(is_appropriate_type)\n",
       "      128    0.000    0.000    0.000    0.000 grad_mode.py:100(__enter__)\n",
       "      256    0.000    0.000    0.000    0.000 {method 'size' of 'torch._C._TensorBase' objects}\n",
       "      129    0.000    0.000    0.002    0.000 flatten.py:45(forward)\n",
       "      387    0.000    0.000    0.000    0.000 {method 'values' of 'collections.OrderedDict' objects}\n",
       "      128    0.000    0.000    0.006    0.000 utils.py:67(logits_to_probs)\n",
       "      128    0.000    0.000    0.006    0.000 functional.py:1813(softmax)\n",
       "      786    0.000    0.000    0.000    0.000 {built-in method builtins.len}\n",
       "      904    0.000    0.000    0.000    0.000 {method 'items' of 'dict' objects}\n",
       "      384    0.000    0.000    0.000    0.000 {method 'dim' of 'torch._C._TensorBase' objects}\n",
       "      256    0.000    0.000    0.000    0.000 constraints.py:142(is_dependent)\n",
       "      384    0.000    0.000    0.000    0.000 envpool.py:85(<lambda>)\n",
       "      387    0.000    0.000    0.000    0.000 {built-in method builtins.callable}\n",
       "      258    0.000    0.000    0.000    0.000 {built-in method torch._C._set_grad_enabled}\n",
       "      129    0.000    0.000    0.000    0.000 {method 'append' of 'collections.deque' objects}\n",
       "      128    0.000    0.000    0.006    0.000 categorical.py:94(probs)\n",
       "      128    0.000    0.000    0.000    0.000 envpool.py:91(all_env_ids)\n",
       "      131    0.000    0.000    0.000    0.000 {built-in method torch.is_grad_enabled}\n",
       "      128    0.000    0.000    0.000    0.000 grad_mode.py:104(__exit__)\n",
       "      128    0.000    0.000    0.000    0.000 envpool.py:33(_check_action)\n",
       "      387    0.000    0.000    0.000    0.000 typing.py:1737(cast)\n",
       "      128    0.000    0.000    0.000    0.000 {built-in method builtins.setattr}\n",
       "      128    0.000    0.000    0.000    0.000 {method 'numel' of 'torch.Size' objects}\n",
       "        1    0.000    0.000    0.000    0.000 socket.py:621(send)\n",
       "        1    0.000    0.000   10.515   10.515 {built-in method builtins.exec}\n",
       "       22    0.000    0.000    0.000    0.000 module.py:1617(__setattr__)\n",
       "      128    0.000    0.000    0.000    0.000 {method 'ndimension' of 'torch._C._TensorBase' objects}\n",
       "     22/1    0.000    0.000    0.000    0.000 module.py:2269(train)\n",
       "        8    0.000    0.000    0.000    0.000 iostream.py:608(write)\n",
       "       43    0.000    0.000    0.000    0.000 module.py:2176(named_children)\n",
       "       22    0.000    0.000    0.000    0.000 parameter.py:8(__instancecheck__)\n",
       "       43    0.000    0.000    0.000    0.000 module.py:2167(children)\n",
       "        3    0.000    0.000    0.000    0.000 {built-in method torch.zeros_like}\n",
       "        1    0.000    0.000    0.000    0.000 env_spec.py:73(<listcomp>)\n",
       "        4    0.000    0.000    0.000    0.000 {built-in method builtins.print}\n",
       "        2    0.000    0.000    0.000    0.000 grad_mode.py:149(__init__)\n",
       "        8    0.000    0.000    0.000    0.000 iostream.py:503(_is_master_process)\n",
       "       66    0.000    0.000    0.000    0.000 {method 'get' of 'dict' objects}\n",
       "        1    0.000    0.000    0.000    0.000 env_spec.py:65(action_array_spec)\n",
       "        8    0.000    0.000    0.000    0.000 {built-in method posix.getpid}\n",
       "        1    0.000    0.000    0.000    0.000 grad_mode.py:48(__init__)\n",
       "        1    0.000    0.000    0.000    0.000 iostream.py:241(schedule)\n",
       "        8    0.000    0.000    0.000    0.000 iostream.py:530(_schedule_flush)\n",
       "        1    0.000    0.000    0.000    0.000 grad_mode.py:53(__enter__)\n",
       "        1    0.000    0.000    0.000    0.000 threading.py:1169(is_alive)\n",
       "        1    0.000    0.000   10.515   10.515 <string>:1(<module>)\n",
       "        1    0.000    0.000    0.000    0.000 grad_mode.py:57(__exit__)\n",
       "        8    0.000    0.000    0.000    0.000 {method 'write' of '_io.StringIO' objects}\n",
       "       21    0.000    0.000    0.000    0.000 {method 'add' of 'set' objects}\n",
       "        1    0.000    0.000    0.000    0.000 iostream.py:125(_event_pipe)\n",
       "        1    0.000    0.000    0.000    0.000 {method 'acquire' of '_thread.lock' objects}\n",
       "       22    0.000    0.000    0.000    0.000 {function _ParameterMeta.__instancecheck__ at 0x7fff2fee3d90}\n",
       "        1    0.000    0.000    0.000    0.000 timers.py:7(__init__)\n",
       "       22    0.000    0.000    0.000    0.000 {method 'items' of 'collections.OrderedDict' objects}\n",
       "        1    0.000    0.000    0.000    0.000 _contextlib.py:141(clone)\n",
       "        3    0.000    0.000    0.000    0.000 protocol.py:103(__init__)\n",
       "        1    0.000    0.000    0.000    0.000 threading.py:1102(_wait_for_tstate_lock)\n",
       "        8    0.000    0.000    0.000    0.000 {method '__exit__' of '_thread.RLock' objects}\n",
       "        1    0.000    0.000    0.000    0.000 module.py:2291(eval)\n",
       "        1    0.000    0.000    0.000    0.000 {method 'disable' of '_lsprof.Profiler' objects}\n",
       "        1    0.000    0.000    0.000    0.000 _jit_internal.py:1102(is_scripting)\n",
       "        1    0.000    0.000    0.000    0.000 threading.py:553(is_set)"
      ]
     },
     "metadata": {},
     "output_type": "display_data"
    }
   ],
   "source": [
    "%prun buffer.collect(agent, 4)"
   ]
  },
  {
   "cell_type": "code",
   "execution_count": 113,
   "id": "feef1ad3-770a-4228-b0b4-390edd016414",
   "metadata": {},
   "outputs": [
    {
     "data": {
      "text/plain": [
       "13"
      ]
     },
     "execution_count": 113,
     "metadata": {},
     "output_type": "execute_result"
    }
   ],
   "source": [
    "3+1+1+4+4"
   ]
  },
  {
   "cell_type": "code",
   "execution_count": null,
   "id": "02ae3e14-354d-427c-9b9a-377e97e7094b",
   "metadata": {},
   "outputs": [],
   "source": []
  },
  {
   "cell_type": "code",
   "execution_count": null,
   "id": "7a0def52-7b03-43a9-818e-0c4f48769c27",
   "metadata": {},
   "outputs": [],
   "source": []
  },
  {
   "cell_type": "code",
   "execution_count": 107,
   "id": "2db13d9e-8901-40dd-b152-5d1195b31037",
   "metadata": {},
   "outputs": [],
   "source": [
    "logits = torch.randn(100, 10)"
   ]
  },
  {
   "cell_type": "code",
   "execution_count": 114,
   "id": "81db05f6-2a7d-4ad2-a379-c8002fefc78e",
   "metadata": {},
   "outputs": [
    {
     "data": {
      "text/plain": [
       "tensor(0.1144)"
      ]
     },
     "execution_count": 114,
     "metadata": {},
     "output_type": "execute_result"
    }
   ],
   "source": [
    "a = torch.log_softmax(logits, dim=-1)\n",
    "b = torch.log_softmax(logits*1e6, dim=-1)\n",
    "\n",
    "torch.nn.functional.kl_div(a, b, log_target=True, reduction='none').mean()"
   ]
  },
  {
   "cell_type": "code",
   "execution_count": null,
   "id": "b6025328-b588-495b-a84c-6d57837283f9",
   "metadata": {},
   "outputs": [],
   "source": []
  },
  {
   "cell_type": "code",
   "execution_count": null,
   "id": "8cdd50fd-3dc6-4bde-872e-518fafab1ec6",
   "metadata": {},
   "outputs": [],
   "source": []
  },
  {
   "cell_type": "code",
   "execution_count": 62,
   "id": "a68b6451-5cd2-49d0-9597-44e2b71933f7",
   "metadata": {},
   "outputs": [
    {
     "name": "stderr",
     "output_type": "stream",
     "text": [
      "100%|███████████████████████████████████████████████████████████████████████████████████████████████████████████████████████████████████████████████████████████████████████████████████████████████████████████| 1000/1000 [00:04<00:00, 215.45it/s]\n"
     ]
    }
   ],
   "source": [
    "num_envs = 32\n",
    "env = envpool.make('Breakout-v5', 'gym', num_envs=num_envs, reward_clip=True, full_action_space=False)\n",
    "obs = env.reset()\n",
    "obss = []\n",
    "rews = []\n",
    "for i in tqdm(range(1000)):\n",
    "    action = np.array([env.action_space.sample() for _ in range(num_envs)])\n",
    "    obs, rew, done, info = env.step(action)\n",
    "    obss.append(obs)\n",
    "    rews.append(rew)\n",
    "    # assert (rew==info['reward']).all()\n",
    "obss = np.stack(obss)\n",
    "rews = np.stack(rews)"
   ]
  },
  {
   "cell_type": "code",
   "execution_count": 63,
   "id": "e43ffff0-2344-426d-a1d4-b99277f8a013",
   "metadata": {},
   "outputs": [
    {
     "data": {
      "text/plain": [
       "0.00709375"
      ]
     },
     "execution_count": 63,
     "metadata": {},
     "output_type": "execute_result"
    }
   ],
   "source": [
    "np.mean(rews)"
   ]
  },
  {
   "cell_type": "code",
   "execution_count": null,
   "id": "271839ad-8793-403d-9947-1a63570184f8",
   "metadata": {},
   "outputs": [],
   "source": []
  },
  {
   "cell_type": "code",
   "execution_count": null,
   "id": "4188c27d-5721-4198-80ef-7ba2fd3be261",
   "metadata": {},
   "outputs": [],
   "source": []
  },
  {
   "cell_type": "code",
   "execution_count": 45,
   "id": "00d12cb9-ff72-4cfd-8ed7-c2112274883e",
   "metadata": {},
   "outputs": [
    {
     "data": {
      "text/plain": [
       "(array([0., 0., 0., 0., 0., 0., 0., 0., 0., 0., 0., 0., 0., 0., 0., 0., 0.,\n",
       "        0., 0., 0., 0., 0., 0., 0., 1., 0., 0., 0., 0., 0., 0., 0.],\n",
       "       dtype=float32),\n",
       " array([0., 0., 0., 0., 0., 0., 0., 0., 0., 0., 0., 0., 0., 0., 0., 0., 0.,\n",
       "        0., 0., 0., 0., 0., 0., 0., 4., 0., 0., 0., 0., 0., 0., 0.],\n",
       "       dtype=float32))"
      ]
     },
     "execution_count": 45,
     "metadata": {},
     "output_type": "execute_result"
    }
   ],
   "source": [
    "rew, info['reward']"
   ]
  },
  {
   "cell_type": "code",
   "execution_count": 50,
   "id": "c10a0686-f8d2-4358-8fce-17adab02e03b",
   "metadata": {},
   "outputs": [
    {
     "data": {
      "image/png": "[encoded data removed]",
      "text/plain": [
       "<Figure size 3000x500 with 4 Axes>"
      ]
     },
     "metadata": {},
     "output_type": "display_data"
    }
   ],
   "source": [
    "plt.figure(figsize=(30, 5))\n",
    "for i in range(4):\n",
    "    plt.subplot(1, 4, i+1)\n",
    "    plt.imshow(obs[24, i])\n",
    "plt.show()"
   ]
  },
  {
   "cell_type": "code",
   "execution_count": 64,
   "id": "93105bd0-fe1a-4063-a8a4-30b0a92fa4b0",
   "metadata": {},
   "outputs": [
    {
     "data": {
      "text/plain": [
       "(1000, 32, 4, 84, 84)"
      ]
     },
     "execution_count": 64,
     "metadata": {},
     "output_type": "execute_result"
    }
   ],
   "source": [
    "obss.shape"
   ]
  },
  {
   "cell_type": "code",
   "execution_count": 71,
   "id": "e773880e-d10d-49e2-a607-995829c8e098",
   "metadata": {},
   "outputs": [
    {
     "data": {
      "text/plain": [
       "((32, 4, 84, 84), (32, 4, 84, 84))"
      ]
     },
     "execution_count": 71,
     "metadata": {},
     "output_type": "execute_result"
    }
   ],
   "source": [
    "a = obss[[497, 498, 499, 500], :, -1]\n",
    "b = obss[500, :, :]\n",
    "a = rearrange(a, 't b h w -> b t h w')\n",
    "a.shape, b.shape"
   ]
  },
  {
   "cell_type": "code",
   "execution_count": null,
   "id": "008d3b0a-319b-482f-baa5-0a1c9e38d842",
   "metadata": {},
   "outputs": [],
   "source": []
  },
  {
   "cell_type": "code",
   "execution_count": null,
   "id": "2312e18d-3bb9-4b95-b19a-d92c6a003bc0",
   "metadata": {},
   "outputs": [],
   "source": []
  },
  {
   "cell_type": "code",
   "execution_count": null,
   "id": "53364020-346b-47d6-820c-61e83b36b11e",
   "metadata": {},
   "outputs": [],
   "source": []
  },
  {
   "cell_type": "code",
   "execution_count": null,
   "id": "f52d1dc1-c464-4fa6-a76f-01a2b8b0024c",
   "metadata": {},
   "outputs": [],
   "source": []
  },
  {
   "cell_type": "code",
   "execution_count": null,
   "id": "86575911-9fc8-4382-8c31-1b7979ab83e3",
   "metadata": {},
   "outputs": [],
   "source": []
  },
  {
   "cell_type": "code",
   "execution_count": 214,
   "id": "d90e01e2-bdb1-4e2f-b4d1-628eb2ac1210",
   "metadata": {},
   "outputs": [],
   "source": [
    "torch.manual_seed(0)\n",
    "logits = torch.randn(100, 10)\n",
    "dist = torch.distributions.Categorical(logits=logits)\n",
    "logits = dist.logits"
   ]
  },
  {
   "cell_type": "code",
   "execution_count": 215,
   "id": "d5f4ad1c-d472-4033-88e5-f90b4ba1a5a8",
   "metadata": {},
   "outputs": [
    {
     "data": {
      "text/plain": [
       "0.11285175383090973"
      ]
     },
     "execution_count": 215,
     "metadata": {},
     "output_type": "execute_result"
    }
   ],
   "source": [
    "torch.nn.functional.kl_div(logits, (logits*1e6).log_softmax(dim=-1), log_target=True, reduction='none').mean().item()"
   ]
  },
  {
   "cell_type": "code",
   "execution_count": null,
   "id": "bfc7dc81-5498-4503-b9c5-de819b20c4e3",
   "metadata": {},
   "outputs": [],
   "source": []
  },
  {
   "cell_type": "code",
   "execution_count": null,
   "id": "7d006486-01d3-4f85-ac29-7b0e99dafa77",
   "metadata": {},
   "outputs": [],
   "source": []
  },
  {
   "cell_type": "code",
   "execution_count": 217,
   "id": "cc478ea3-d66b-4cbe-9f70-9ab82ef74c75",
   "metadata": {},
   "outputs": [],
   "source": [
    "import wandb"
   ]
  },
  {
   "cell_type": "code",
   "execution_count": 237,
   "id": "b9d368d1-8ca3-4ba9-af2d-c2bbc8621489",
   "metadata": {},
   "outputs": [],
   "source": [
    "api = wandb.Api()"
   ]
  },
  {
   "cell_type": "code",
   "execution_count": 273,
   "id": "8f834e69-a84a-441c-b360-d8cb444e416e",
   "metadata": {},
   "outputs": [
    {
     "data": {
      "text/plain": [
       "False"
      ]
     },
     "execution_count": 273,
     "metadata": {},
     "output_type": "execute_result"
    }
   ],
   "source": []
  },
  {
   "cell_type": "code",
   "execution_count": null,
   "id": "384737af-8970-48a5-9b6c-bf6799504973",
   "metadata": {},
   "outputs": [],
   "source": []
  },
  {
   "cell_type": "code",
   "execution_count": null,
   "id": "688afa4e-dc67-4bcd-851c-16f2d9d70fd6",
   "metadata": {},
   "outputs": [],
   "source": []
  },
  {
   "cell_type": "code",
   "execution_count": null,
   "id": "47b7dd4a-acf1-4cde-8b6b-ffae6a2e3237",
   "metadata": {},
   "outputs": [],
   "source": []
  },
  {
   "cell_type": "code",
   "execution_count": 285,
   "id": "6712d495-d18b-4229-9f02-78911f0a2a03",
   "metadata": {},
   "outputs": [
    {
     "name": "stdout",
     "output_type": "stream",
     "text": [
      "19988480\n",
      "19988480\n",
      "19988480\n",
      "19988480\n",
      "19988480\n",
      "19988480\n",
      "19988480\n",
      "19988480\n",
      "specialist_StarGunner_rnd_0\n",
      "19988480\n",
      "19988480\n",
      "19988480\n",
      "19988480\n",
      "19988480\n",
      "19988480\n",
      "19988480\n",
      "19988480\n",
      "19988480\n",
      "19988480\n",
      "19988480\n",
      "19988480\n",
      "19988480\n",
      "19988480\n",
      "19988480\n",
      "19988480\n",
      "19988480\n",
      "19988480\n",
      "19988480\n",
      "19988480\n",
      "19988480\n",
      "19988480\n",
      "19988480\n",
      "19988480\n",
      "19988480\n",
      "19988480\n",
      "19988480\n",
      "19988480\n",
      "19988480\n",
      "19988480\n",
      "19988480\n",
      "19988480\n",
      "19988480\n",
      "19988480\n",
      "19988480\n",
      "19988480\n",
      "19988480\n",
      "19988480\n",
      "19988480\n",
      "19988480\n",
      "19988480\n",
      "19988480\n",
      "19988480\n",
      "19988480\n",
      "19988480\n",
      "19988480\n",
      "19988480\n",
      "19988480\n",
      "19988480\n",
      "19988480\n",
      "19988480\n",
      "19988480\n",
      "19988480\n",
      "19988480\n",
      "19988480\n",
      "19988480\n",
      "19988480\n",
      "specialist_BankHeist_rnd_0\n",
      "19988480\n",
      "19988480\n",
      "19988480\n",
      "19988480\n",
      "19988480\n",
      "19988480\n",
      "19988480\n",
      "19988480\n",
      "19988480\n",
      "19988480\n",
      "19988480\n",
      "19988480\n",
      "19988480\n",
      "19988480\n",
      "19988480\n",
      "19988480\n",
      "19988480\n",
      "19988480\n",
      "19988480\n",
      "19988480\n",
      "19988480\n",
      "19988480\n",
      "19988480\n",
      "19988480\n",
      "19988480\n"
     ]
    }
   ],
   "source": [
    "i = 0\n",
    "for run in api.runs('akarshkumar0101/egb-atari'):\n",
    "    # print(run.created_at[:10]>'2023-06-13', run.name)\n",
    "    if run.created_at[:10]>'2023-06-13':\n",
    "        i += 1\n",
    "        # print(i, run.name)\n",
    "        try:\n",
    "            print(run.summary['_step'])\n",
    "        except Exception as e:\n",
    "            print(run.name)"
   ]
  },
  {
   "cell_type": "code",
   "execution_count": 334,
   "id": "7f8be13b-b582-45e1-a489-5012fc2f25cb",
   "metadata": {},
   "outputs": [],
   "source": [
    "from env_atari import make_env"
   ]
  },
  {
   "cell_type": "code",
   "execution_count": 375,
   "id": "e7b82415-9900-4b7c-94f6-b7ecbe1232db",
   "metadata": {},
   "outputs": [],
   "source": [
    "env = make_env('ChopperCommand', n_envs=32, obj='ext', gamma=0.99, seed=0, full_action_space=False)"
   ]
  },
  {
   "cell_type": "code",
   "execution_count": 376,
   "id": "f4640c49-4d25-4743-bf3c-2bd5a6fd80e6",
   "metadata": {},
   "outputs": [
    {
     "name": "stderr",
     "output_type": "stream",
     "text": [
      "100%|███████████████████████████████████████████████████████████████████████████████████████████████████████████████████████████████████████████████████████████████████████████████████████████████████████████| 2048/2048 [00:08<00:00, 240.60it/s]\n"
     ]
    }
   ],
   "source": [
    "obs, info = env.reset()\n",
    "for _ in tqdm(range(2048)):\n",
    "    obs, rew, term, trunc, info = env.step(env.action_space.sample())"
   ]
  },
  {
   "cell_type": "code",
   "execution_count": 377,
   "id": "0c3b329b-7261-41fd-b735-d061cba6f8b4",
   "metadata": {},
   "outputs": [
    {
     "name": "stdout",
     "output_type": "stream",
     "text": [
      "800.0\n"
     ]
    },
    {
     "data": {
      "image/png": "[encoded data removed]",
      "text/plain": [
       "<Figure size 640x480 with 1 Axes>"
      ]
     },
     "metadata": {},
     "output_type": "display_data"
    }
   ],
   "source": [
    "plt.hist(env.get_past_returns()['ret_score'].numpy())\n",
    "print(env.get_past_returns()['ret_score'].numpy().mean())"
   ]
  },
  {
   "cell_type": "code",
   "execution_count": null,
   "id": "79effece-c973-422e-be8b-4cba44fec5bd",
   "metadata": {},
   "outputs": [],
   "source": []
  },
  {
   "cell_type": "code",
   "execution_count": 385,
   "id": "5288dc9b-5cec-4fe4-960a-4f94a74ea9b0",
   "metadata": {},
   "outputs": [],
   "source": [
    "with open('atari_games_41.txt', 'r') as f:\n",
    "    lines = f.readlines()\n",
    "lines = [line.strip() for line in lines]"
   ]
  },
  {
   "cell_type": "code",
   "execution_count": 388,
   "id": "ee18cca0-8e6d-456d-8108-f69b0c242494",
   "metadata": {},
   "outputs": [],
   "source": [
    "import atari_data"
   ]
  },
  {
   "cell_type": "code",
   "execution_count": 394,
   "id": "a743a203-9395-4eec-90ed-3b087b4b2af8",
   "metadata": {},
   "outputs": [
    {
     "name": "stdout",
     "output_type": "stream",
     "text": [
      "Carnival\n",
      "Pooyan\n"
     ]
    }
   ],
   "source": [
    "for line in lines:\n",
    "    if not atari_data.process_env_id(line) in atari_data.ATARI_GAMES:\n",
    "        print(line)\n",
    "        "
   ]
  },
  {
   "cell_type": "code",
   "execution_count": null,
   "id": "51057f7e-b4e9-4ed1-afff-48cf0a4dd30d",
   "metadata": {},
   "outputs": [],
   "source": []
  },
  {
   "cell_type": "code",
   "execution_count": null,
   "id": "0d255004-a735-40ad-ae08-3642da1372ab",
   "metadata": {},
   "outputs": [],
   "source": []
  },
  {
   "cell_type": "code",
   "execution_count": 40,
   "id": "3796f34c-f247-4e89-9c53-5e8b637637c9",
   "metadata": {},
   "outputs": [],
   "source": [
    "from agent_atari import NatureCNNAgent, DecisionTransformer\n",
    "from env_atari import make_env\n",
    "from buffers import Buffer"
   ]
  },
  {
   "cell_type": "code",
   "execution_count": 41,
   "id": "d3a1a003-afd5-4354-9ed5-305c8e677df6",
   "metadata": {},
   "outputs": [
    {
     "name": "stdout",
     "output_type": "stream",
     "text": [
      "torch.Size([16, 1, 18]) torch.Size([16, 1])\n",
      "torch.Size([16, 4, 18]) torch.Size([16, 4])\n"
     ]
    }
   ],
   "source": [
    "agent1 = NatureCNNAgent(18, 4)\n",
    "agent2 = DecisionTransformer(18, 4)\n",
    "\n",
    "obs = torch.randn(16, 4, 1, 84, 84)\n",
    "act = torch.randint(0, 18, (16, 4))\n",
    "\n",
    "logits, values = agent1(done=None, obs=obs, act=act, rew=None)\n",
    "print(logits.shape, values.shape)\n",
    "logits, values = agent2(done=None, obs=obs, act=act, rew=None)\n",
    "print(logits.shape, values.shape)"
   ]
  },
  {
   "cell_type": "code",
   "execution_count": 42,
   "id": "72016b1c-ecab-4084-92d0-f7fc5b4fb8fe",
   "metadata": {},
   "outputs": [],
   "source": [
    "env = make_env('Breakout', n_envs=16, obj='ext', device=None, seed=0)\n",
    "buffer = Buffer(16, 128, env, device=None)"
   ]
  },
  {
   "cell_type": "code",
   "execution_count": 43,
   "id": "8e198588-a502-45aa-9e38-7c72ab5d92ba",
   "metadata": {},
   "outputs": [
    {
     "name": "stdout",
     "output_type": "stream",
     "text": [
      "CPU times: user 2.47 s, sys: 10.8 ms, total: 2.49 s\n",
      "Wall time: 1.47 s\n"
     ]
    }
   ],
   "source": [
    "%%time\n",
    "buffer.collect(agent1, 4)"
   ]
  },
  {
   "cell_type": "code",
   "execution_count": 44,
   "id": "d11ec7ba-f8c2-4985-aa9e-624ff161da43",
   "metadata": {},
   "outputs": [
    {
     "name": "stdout",
     "output_type": "stream",
     "text": [
      "CPU times: user 8 s, sys: 24.6 ms, total: 8.03 s\n",
      "Wall time: 7.01 s\n"
     ]
    }
   ],
   "source": [
    "%%time\n",
    "buffer.collect(agent2, 4)"
   ]
  },
  {
   "cell_type": "code",
   "execution_count": null,
   "id": "28b327cc-1d26-46d2-9042-e50575936e42",
   "metadata": {},
   "outputs": [],
   "source": []
  },
  {
   "cell_type": "code",
   "execution_count": null,
   "id": "a5e79f19-c5db-461b-94a0-7c4f921ee6ca",
   "metadata": {},
   "outputs": [],
   "source": []
  },
  {
   "cell_type": "code",
   "execution_count": null,
   "id": "fe954ea7-3393-4285-8752-d5dcd3dd2db7",
   "metadata": {},
   "outputs": [],
   "source": []
  },
  {
   "cell_type": "code",
   "execution_count": 62,
   "id": "87bf061f-a26a-4a17-87aa-2b153b77634f",
   "metadata": {},
   "outputs": [
    {
     "data": {
      "text/plain": [
       "(array([[1., 0., 0., ..., 0., 0., 0.],\n",
       "        [0., 1., 0., ..., 0., 0., 0.],\n",
       "        [0., 0., 1., ..., 0., 0., 0.],\n",
       "        ...,\n",
       "        [0., 0., 0., ..., 1., 0., 0.],\n",
       "        [0., 0., 0., ..., 0., 1., 0.],\n",
       "        [0., 0., 0., ..., 0., 0., 1.]]),\n",
       " array([[1., 0., 0., ..., 0., 0., 0.],\n",
       "        [1., 0., 0., ..., 0., 0., 0.],\n",
       "        [1., 0., 0., ..., 0., 0., 0.],\n",
       "        ...,\n",
       "        [0., 1., 0., ..., 0., 0., 0.],\n",
       "        [0., 1., 0., ..., 0., 0., 0.],\n",
       "        [0., 1., 0., ..., 0., 0., 0.]]))"
      ]
     },
     "execution_count": 62,
     "metadata": {},
     "output_type": "execute_result"
    }
   ],
   "source": [
    "a = np.eye(100)\n",
    "b = np.zeros((100, 100))\n",
    "b[np.arange(0, 50), 0] = 1.\n",
    "b[np.arange(50, 100), 1] = 1.\n",
    "a, b"
   ]
  },
  {
   "cell_type": "code",
   "execution_count": 63,
   "id": "655f56f1-124d-4d7b-b85b-62626cea62b4",
   "metadata": {},
   "outputs": [
    {
     "data": {
      "text/plain": [
       "(0.0099, 0.0099)"
      ]
     },
     "execution_count": 63,
     "metadata": {},
     "output_type": "execute_result"
    }
   ],
   "source": [
    "np.var(a), np.var(b)"
   ]
  },
  {
   "cell_type": "code",
   "execution_count": 65,
   "id": "01a0e550-8f85-4414-963d-1245ed89e6a0",
   "metadata": {},
   "outputs": [
    {
     "name": "stdout",
     "output_type": "stream",
     "text": [
      "0.009899999999999994 0.005\n"
     ]
    }
   ],
   "source": [
    "# print(np.var(a, axis=0), np.var(b, axis=0))\n",
    "print(np.var(a, axis=0).mean(), np.var(b, axis=0).mean())"
   ]
  },
  {
   "cell_type": "code",
   "execution_count": 66,
   "id": "04218d8f-6f0b-4e97-ab6e-3bbb9932f18d",
   "metadata": {},
   "outputs": [
    {
     "name": "stdout",
     "output_type": "stream",
     "text": [
      "1.9799999999999986\n"
     ]
    }
   ],
   "source": [
    "print(np.var(a, axis=0).mean()/np.var(b, axis=0).mean())"
   ]
  },
  {
   "cell_type": "code",
   "execution_count": 77,
   "id": "0af22113-cdee-4aad-afc6-6d439ec04547",
   "metadata": {},
   "outputs": [],
   "source": [
    "a = np.zeros((100, 100, 100))\n",
    "\n",
    "for i in range(0, 100):\n",
    "    idx = np.random.randint(0, i+1, 100)\n",
    "    a[i, np.arange(100), idx] = 1."
   ]
  },
  {
   "cell_type": "code",
   "execution_count": 92,
   "id": "8dd57e13-34d2-4015-aa68-141a63fe5f29",
   "metadata": {},
   "outputs": [
    {
     "data": {
      "text/plain": [
       "[<matplotlib.lines.Line2D at 0x7fff229f9150>]"
      ]
     },
     "execution_count": 92,
     "metadata": {},
     "output_type": "execute_result"
    },
    {
     "data": {
      "image/png": "[encoded data removed]",
      "text/plain": [
       "<Figure size 640x480 with 1 Axes>"
      ]
     },
     "metadata": {},
     "output_type": "display_data"
    }
   ],
   "source": [
    "plt.plot(np.var(a, axis=1).mean(axis=-1))\n",
    "plt.plot(np.var(a, axis=2).mean(axis=-1))"
   ]
  },
  {
   "cell_type": "code",
   "execution_count": null,
   "id": "8724e83f-ad09-43a0-83d2-63fcf3b513e8",
   "metadata": {},
   "outputs": [],
   "source": []
  },
  {
   "cell_type": "code",
   "execution_count": null,
   "id": "8e3dac62-06a9-4d14-89d0-f93efc9cbac8",
   "metadata": {},
   "outputs": [],
   "source": []
  },
  {
   "cell_type": "code",
   "execution_count": null,
   "id": "53a40ca7-e4f3-47ae-a790-233c1edce912",
   "metadata": {},
   "outputs": [],
   "source": []
  },
  {
   "cell_type": "code",
   "execution_count": 117,
   "id": "a514ca59-eaef-4f4b-a639-d74c5bb531e5",
   "metadata": {},
   "outputs": [],
   "source": [
    "env = envpool.make_gymnasium(\n",
    "    task_id=f\"{'MontezumaRevenge'}-v5\",\n",
    "    num_envs=32,\n",
    "    seed=0,  # default: 42\n",
    "    noop_max=500,  # default: 30\n",
    "    episodic_life=True,  # default: False\n",
    "    reward_clip=True,  # default: False\n",
    "    full_action_space=True,  # default: False\n",
    ")"
   ]
  },
  {
   "cell_type": "code",
   "execution_count": 118,
   "id": "9a3407e4-230e-41ff-af90-3ccb1040b826",
   "metadata": {},
   "outputs": [],
   "source": [
    "obs, info = env.reset()"
   ]
  },
  {
   "cell_type": "code",
   "execution_count": 119,
   "id": "077024e5-8185-4d88-80a3-3b0ea6e23dbd",
   "metadata": {},
   "outputs": [
    {
     "data": {
      "image/png": "[encoded data removed]",
      "text/plain": [
       "<Figure size 2000x500 with 8 Axes>"
      ]
     },
     "metadata": {},
     "output_type": "display_data"
    }
   ],
   "source": [
    "plt.figure(figsize=(20, 5))\n",
    "for i in range(8):\n",
    "    plt.subplot(1, 8, i+1)\n",
    "    plt.imshow(obs[i, 0])\n",
    "plt.show()"
   ]
  },
  {
   "cell_type": "code",
   "execution_count": null,
   "id": "026cbd7f-3cd3-4358-876a-e4d549bd646d",
   "metadata": {},
   "outputs": [],
   "source": []
  },
  {
   "cell_type": "code",
   "execution_count": null,
   "id": "d7e3aef4-8b7e-4759-8ee3-ab98061b364c",
   "metadata": {},
   "outputs": [],
   "source": []
  },
  {
   "cell_type": "code",
   "execution_count": null,
   "id": "2061ad90-4c5d-4094-a38e-0904429e0bf3",
   "metadata": {},
   "outputs": [],
   "source": []
  },
  {
   "cell_type": "code",
   "execution_count": null,
   "id": "660c965a-8295-4646-a6b5-71e844abe1fb",
   "metadata": {},
   "outputs": [],
   "source": []
  },
  {
   "cell_type": "code",
   "execution_count": null,
   "id": "3ac74a29-a540-4ca0-a7be-e277bf3b7489",
   "metadata": {},
   "outputs": [],
   "source": []
  }
 ],
 "metadata": {
  "kernelspec": {
   "display_name": "Python 3 (ipykernel)",
   "language": "python",
   "name": "python3"
  },
  "language_info": {
   "codemirror_mode": {
    "name": "ipython",
    "version": 3
   },
   "file_extension": ".py",
   "mimetype": "text/x-python",
   "name": "python",
   "nbconvert_exporter": "python",
   "pygments_lexer": "ipython3",
   "version": "3.10.12"
  }
 },
 "nbformat": 4,
 "nbformat_minor": 5
}
