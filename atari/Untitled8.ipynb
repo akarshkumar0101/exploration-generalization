{
 "cells": [
  {
   "cell_type": "code",
   "execution_count": 1,
   "id": "3e843525-d368-4357-957c-217c06b59dd1",
   "metadata": {},
   "outputs": [],
   "source": [
    "%load_ext autoreload\n",
    "%autoreload 2"
   ]
  },
  {
   "cell_type": "code",
   "execution_count": 2,
   "id": "2bc1955a-4534-4912-806a-34a440005210",
   "metadata": {},
   "outputs": [],
   "source": [
    "%run imports.py"
   ]
  },
  {
   "cell_type": "code",
   "execution_count": 3,
   "id": "c10d37bc-eb04-41a7-afd7-f6db7e760de9",
   "metadata": {},
   "outputs": [],
   "source": [
    "import utils"
   ]
  },
  {
   "cell_type": "code",
   "execution_count": 4,
   "id": "8beb285e-8562-4af7-abbc-3d1de03178ba",
   "metadata": {},
   "outputs": [],
   "source": [
    "import goexplore_train\n",
    "from goexplore_train import *"
   ]
  },
  {
   "cell_type": "code",
   "execution_count": null,
   "id": "dbca88ac-38b0-4c09-b383-47f1810f7047",
   "metadata": {},
   "outputs": [],
   "source": []
  },
  {
   "cell_type": "code",
   "execution_count": 5,
   "id": "ff59acf9-911f-44b5-a917-61bb6cca631a",
   "metadata": {},
   "outputs": [],
   "source": [
    "args = goexplore_train.parser.parse_args(\"--track=True --project=ge_train --name=ge_train_best_0000   --device=cuda --env_ids Amidar Assault Asterix Asteroids Atlantis BankHeist BattleZone BeamRider Berzerk Bowling Breakout Centipede ChopperCommand CrazyClimber Defender DemonAttack DoubleDunk Enduro FishingDerby Freeway Frostbite Gopher Gravitar Hero IceHockey Jamesbond Kangaroo Krull KungFuMaster MontezumaRevenge NameThisGame Phoenix Pitfall PrivateEye Qbert Riverraid RoadRunner Robotank Seaquest Solaris Surround Tennis TimePilot Tutankham UpNDown WizardOfWor YarsRevenge Zaxxon --strategy=best   --save_agent=./data/ge_train/ge_train_best_0000   --n_archives=40\".split())\n",
    "\n",
    "\n"
   ]
  },
  {
   "cell_type": "code",
   "execution_count": 6,
   "id": "429542e0-2982-459e-86ec-f49104e35b31",
   "metadata": {},
   "outputs": [],
   "source": [
    "args.device = 'cuda:0'"
   ]
  },
  {
   "cell_type": "code",
   "execution_count": 7,
   "id": "f44b4542-3dc2-4be5-8cfc-6c7164f680fe",
   "metadata": {},
   "outputs": [
    {
     "name": "stdout",
     "output_type": "stream",
     "text": [
      "Loading archives\n"
     ]
    },
    {
     "data": {
      "application/vnd.jupyter.widget-view+json": {
       "model_id": "a2bb82420c1c44d1b05c8a2f37fda1d9",
       "version_major": 2,
       "version_minor": 0
      },
      "text/plain": [
       "  0%|          | 0/48 [00:00<?, ?it/s]"
      ]
     },
     "metadata": {},
     "output_type": "display_data"
    },
    {
     "name": "stdout",
     "output_type": "stream",
     "text": [
      "Creating trajs\n"
     ]
    },
    {
     "data": {
      "application/vnd.jupyter.widget-view+json": {
       "model_id": "dc9e072f2b374944885b60b3fb0125a5",
       "version_major": 2,
       "version_minor": 0
      },
      "text/plain": [
       "  0%|          | 0/48 [00:00<?, ?it/s]"
      ]
     },
     "metadata": {},
     "output_type": "display_data"
    },
    {
     "name": "stdout",
     "output_type": "stream",
     "text": [
      "env_id: Amidar, #trajs: 40\n",
      "env_id: Assault, #trajs: 40\n",
      "env_id: Asterix, #trajs: 40\n",
      "env_id: Asteroids, #trajs: 40\n",
      "env_id: Atlantis, #trajs: 40\n",
      "env_id: BankHeist, #trajs: 40\n",
      "env_id: BattleZone, #trajs: 40\n",
      "env_id: BeamRider, #trajs: 40\n",
      "env_id: Berzerk, #trajs: 40\n",
      "env_id: Bowling, #trajs: 40\n",
      "env_id: Breakout, #trajs: 40\n",
      "env_id: Centipede, #trajs: 40\n",
      "env_id: ChopperCommand, #trajs: 40\n",
      "env_id: CrazyClimber, #trajs: 40\n",
      "env_id: Defender, #trajs: 40\n",
      "env_id: DemonAttack, #trajs: 40\n",
      "env_id: DoubleDunk, #trajs: 40\n",
      "env_id: Enduro, #trajs: 40\n",
      "env_id: FishingDerby, #trajs: 40\n",
      "env_id: Freeway, #trajs: 40\n",
      "env_id: Frostbite, #trajs: 40\n",
      "env_id: Gopher, #trajs: 40\n",
      "env_id: Gravitar, #trajs: 40\n",
      "env_id: Hero, #trajs: 40\n",
      "env_id: IceHockey, #trajs: 40\n",
      "env_id: Jamesbond, #trajs: 40\n",
      "env_id: Kangaroo, #trajs: 40\n",
      "env_id: Krull, #trajs: 40\n",
      "env_id: KungFuMaster, #trajs: 40\n",
      "env_id: MontezumaRevenge, #trajs: 40\n",
      "env_id: NameThisGame, #trajs: 40\n",
      "env_id: Phoenix, #trajs: 40\n",
      "env_id: Pitfall, #trajs: 40\n",
      "env_id: PrivateEye, #trajs: 40\n",
      "env_id: Qbert, #trajs: 40\n",
      "env_id: Riverraid, #trajs: 40\n",
      "env_id: RoadRunner, #trajs: 40\n",
      "env_id: Robotank, #trajs: 40\n",
      "env_id: Seaquest, #trajs: 40\n",
      "env_id: Solaris, #trajs: 40\n",
      "env_id: Surround, #trajs: 40\n",
      "env_id: Tennis, #trajs: 40\n",
      "env_id: TimePilot, #trajs: 40\n",
      "env_id: Tutankham, #trajs: 40\n",
      "env_id: UpNDown, #trajs: 40\n",
      "env_id: WizardOfWor, #trajs: 40\n",
      "env_id: YarsRevenge, #trajs: 40\n",
      "env_id: Zaxxon, #trajs: 40\n",
      "Creating envs\n"
     ]
    },
    {
     "name": "stderr",
     "output_type": "stream",
     "text": [
      "A.L.E: Arcade Learning Environment (version 0.8.1+53f58b7)\n",
      "[Powered by Stella]\n"
     ]
    },
    {
     "name": "stdout",
     "output_type": "stream",
     "text": [
      "Creating buffer\n"
     ]
    }
   ],
   "source": [
    "print(\"Loading archives\")\n",
    "env_id2archives = load_env_id2archives(args.env_ids, args.n_archives)\n",
    "print(\"Creating trajs\")\n",
    "env_id2trajs = get_env_id2trajs(env_id2archives, strategy=args.strategy)\n",
    "for env_id, trajs in env_id2trajs.items():\n",
    "    print(f\"env_id: {env_id}, #trajs: {len(trajs)}\")\n",
    "\n",
    "print(\"Creating envs\")\n",
    "make_env_fns = []\n",
    "for env_id in args.env_ids:\n",
    "    make_env_fns.extend([partial(make_ge_env_single, env_id=env_id) for _ in range(args.n_envs)])\n",
    "env = MyAsyncVectorEnv(make_env_fns)\n",
    "\n",
    "def sample_traj_fn(id):\n",
    "    env_id = args.env_ids[id // args.n_envs]\n",
    "    trajs = env_id2trajs[env_id]\n",
    "    return trajs[np.random.choice(len(trajs))]\n",
    "\n",
    "print(\"Creating buffer\")\n",
    "buf = GEBuffer(env, args.n_steps, sample_traj_fn=sample_traj_fn, device=args.device)"
   ]
  },
  {
   "cell_type": "code",
   "execution_count": 9,
   "id": "5afc6f88-f970-4903-8549-99e047417115",
   "metadata": {},
   "outputs": [
    {
     "name": "stdout",
     "output_type": "stream",
     "text": [
      "Creating agent\n"
     ]
    }
   ],
   "source": [
    "print(\"Creating agent\")\n",
    "agent = utils.create_agent('gpt', 18, args.ctx_len, load_agent='./data/ge_train/ge_train_best_0000.pt', device=args.device)\n",
    "# agent_rand = utils.create_agent('gpt', 18, 64, load_agent='./data/ge_train/ge_train_random_0000.pt', device=device)"
   ]
  },
  {
   "cell_type": "code",
   "execution_count": 10,
   "id": "6bfde29d-fa22-4971-897c-626fffa3d556",
   "metadata": {},
   "outputs": [],
   "source": [
    "args.n_iters = 10"
   ]
  },
  {
   "cell_type": "code",
   "execution_count": 11,
   "id": "25766aaa-9ddd-454f-8c8b-dcda38eb7fe3",
   "metadata": {},
   "outputs": [],
   "source": [
    "losses = []"
   ]
  },
  {
   "cell_type": "code",
   "execution_count": 12,
   "id": "a59121ae-0bd8-4e0b-87e7-7ffebd53da66",
   "metadata": {},
   "outputs": [
    {
     "name": "stdout",
     "output_type": "stream",
     "text": [
      "Starting learning\n"
     ]
    },
    {
     "data": {
      "application/vnd.jupyter.widget-view+json": {
       "model_id": "634a75c45ea44f8999da8d1df7744128",
       "version_major": 2,
       "version_minor": 0
      },
      "text/plain": [
       "  0%|          | 0/10 [00:00<?, ?it/s]"
      ]
     },
     "metadata": {},
     "output_type": "display_data"
    },
    {
     "data": {
      "application/vnd.jupyter.widget-view+json": {
       "model_id": "5d55b34af1f7489daad33e99a2494f1f",
       "version_major": 2,
       "version_minor": 0
      },
      "text/plain": [
       "  0%|          | 0/512 [00:00<?, ?it/s]"
      ]
     },
     "metadata": {},
     "output_type": "display_data"
    },
    {
     "data": {
      "application/vnd.jupyter.widget-view+json": {
       "model_id": "a3844fbf142843788efeb150440bda31",
       "version_major": 2,
       "version_minor": 0
      },
      "text/plain": [
       "  0%|          | 0/32 [00:00<?, ?it/s]"
      ]
     },
     "metadata": {},
     "output_type": "display_data"
    }
   ],
   "source": [
    "print(\"Starting learning\")\n",
    "pbar_iters = tqdm(total=args.n_iters)\n",
    "pbar_steps = tqdm(total=args.n_steps)\n",
    "pbar_updates = tqdm(total=args.n_updates)\n",
    "for i_iter in range(args.n_iters):\n",
    "    pbar_iters.update(1)\n",
    "\n",
    "    pbar_steps.reset(total=args.n_steps)\n",
    "    buf.gecollect(pbar=pbar_steps)\n",
    "\n",
    "    pbar_updates.reset(total=args.n_updates)\n",
    "    for i_update in range(args.n_updates):\n",
    "        pbar_updates.update(1)\n",
    "        assert args.batch_size % (len(args.env_ids) * args.n_envs) == 0\n",
    "        batch = buf.generate_batch(args.batch_size, args.ctx_len)\n",
    "        obs, act = batch[\"obs\"], batch[\"act\"]\n",
    "        obs = obs[:, :, None, :, :]\n",
    "        logits, values = agent(None, obs, act, None)\n",
    "\n",
    "        loss_bc = torch.nn.functional.cross_entropy(rearrange(logits, \"b t d -> (b t) d\"), rearrange(act, \"b t -> (b t)\"), reduction=\"none\")\n",
    "        loss_bc = rearrange(loss_bc, \"(b t) -> b t\", b=args.batch_size)\n",
    "        losses.append(loss_bc.detach().cpu())"
   ]
  },
  {
   "cell_type": "code",
   "execution_count": 14,
   "id": "45fb7b6b-6087-4923-851e-65a8d7876e2a",
   "metadata": {},
   "outputs": [],
   "source": [
    "losses = torch.cat(losses, dim=0)"
   ]
  },
  {
   "cell_type": "code",
   "execution_count": 16,
   "id": "2cc615cd-56ba-48d7-8e25-d27debc3f3d0",
   "metadata": {},
   "outputs": [
    {
     "data": {
      "text/plain": [
       "Text(0.5, 1.0, 'PPL vs ctx len')"
      ]
     },
     "execution_count": 16,
     "metadata": {},
     "output_type": "execute_result"
    },
    {
     "data": {
      "image/png": "[encoded data removed]",
      "text/plain": [
       "<Figure size 640x480 with 1 Axes>"
      ]
     },
     "metadata": {},
     "output_type": "display_data"
    }
   ],
   "source": [
    "plt.plot(losses.mean(dim=0).exp().numpy())\n",
    "plt.title('PPL vs ctx len')"
   ]
  },
  {
   "cell_type": "code",
   "execution_count": null,
   "id": "ac1624c3-41c4-40af-995d-c215b5db7024",
   "metadata": {},
   "outputs": [],
   "source": []
  },
  {
   "cell_type": "code",
   "execution_count": 20,
   "id": "65bb6474-2d01-4a09-b641-78c5bec9fe5a",
   "metadata": {},
   "outputs": [
    {
     "data": {
      "text/plain": [
       "5.944918757005274"
      ]
     },
     "execution_count": 20,
     "metadata": {},
     "output_type": "execute_result"
    }
   ],
   "source": [
    "np.e**(losses.mean().item())"
   ]
  },
  {
   "cell_type": "code",
   "execution_count": null,
   "id": "4cee350e-f2ac-4f9f-b624-b3096dedb2d5",
   "metadata": {},
   "outputs": [],
   "source": []
  },
  {
   "cell_type": "code",
   "execution_count": null,
   "id": "8d01e90e-d41c-402e-8c73-cdf63a4d5488",
   "metadata": {},
   "outputs": [],
   "source": []
  },
  {
   "cell_type": "code",
   "execution_count": null,
   "id": "decf7cc9-d133-4a3c-97e4-265407eec3cf",
   "metadata": {},
   "outputs": [],
   "source": []
  }
 ],
 "metadata": {
  "kernelspec": {
   "display_name": "Python 3 (ipykernel)",
   "language": "python",
   "name": "python3"
  },
  "language_info": {
   "codemirror_mode": {
    "name": "ipython",
    "version": 3
   },
   "file_extension": ".py",
   "mimetype": "text/x-python",
   "name": "python",
   "nbconvert_exporter": "python",
   "pygments_lexer": "ipython3",
   "version": "3.10.12"
  }
 },
 "nbformat": 4,
 "nbformat_minor": 5
}
