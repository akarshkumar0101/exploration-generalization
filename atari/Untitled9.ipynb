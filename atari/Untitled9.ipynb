{
 "cells": [
  {
   "cell_type": "code",
   "execution_count": 1,
   "id": "f6dc5ac4-377a-482f-9ce4-54ad5641588c",
   "metadata": {},
   "outputs": [],
   "source": [
    "%load_ext autoreload\n",
    "%autoreload 2"
   ]
  },
  {
   "cell_type": "code",
   "execution_count": null,
   "id": "1ec77045-c4d8-40bb-a8d7-db730004dc03",
   "metadata": {},
   "outputs": [],
   "source": [
    "%run imports.py"
   ]
  },
  {
   "cell_type": "code",
   "execution_count": null,
   "id": "0f1c30ab-4c91-4b24-beee-cd6a65b44a88",
   "metadata": {},
   "outputs": [],
   "source": [
    "from goexplore import *"
   ]
  },
  {
   "cell_type": "code",
   "execution_count": null,
   "id": "01842db4-6360-43de-916d-8c80aab0d45a",
   "metadata": {},
   "outputs": [],
   "source": [
    "import glob"
   ]
  },
  {
   "cell_type": "code",
   "execution_count": null,
   "id": "ef2e8f5a-c2a7-4cc4-870c-da92ebc825bc",
   "metadata": {},
   "outputs": [],
   "source": [
    "archive = np.load('/data/vision/phillipi/akumar01/exploration-generalization/atari/data/ge_specialist/ge_specialist_Alien_0000.npy', allow_pickle=True).item()"
   ]
  },
  {
   "cell_type": "code",
   "execution_count": null,
   "id": "c1e30065-1978-4cb0-9c87-7391fef6def6",
   "metadata": {},
   "outputs": [],
   "source": [
    "len(archive['trajs'])"
   ]
  },
  {
   "cell_type": "code",
   "execution_count": null,
   "id": "babec0b6-5087-4665-9b70-324e37fb9ec5",
   "metadata": {},
   "outputs": [],
   "source": []
  },
  {
   "cell_type": "code",
   "execution_count": 48,
   "id": "e19c2c64-ea80-4f5b-ae3e-e82d431008f0",
   "metadata": {},
   "outputs": [],
   "source": [
    "class TrieNode:\n",
    "    def __init__(self):\n",
    "        self.children = {}\n",
    "        self.data = None\n",
    "        \n",
    "    def insert_one(self, word, data):\n",
    "        node = self\n",
    "        for char in word:\n",
    "            if char not in node.children:\n",
    "                node.children[char] = TrieNode()\n",
    "            node = node.children[char]\n",
    "        node.data = data\n",
    "        \n",
    "    def insert_all(self, words, datas):\n",
    "        for word, data in zip(words, datas):\n",
    "            self.insert_one(word, data)\n",
    "        \n",
    "    def trie_num_nodes(root):\n",
    "        assert root is not None\n",
    "        count = 0\n",
    "        stack = [root]\n",
    "        while stack:\n",
    "            node = stack.pop()\n",
    "            count += 1\n",
    "            stack.extend(node.children.values())\n",
    "        return count\n",
    "\n",
    "    def all_nodes(self):\n",
    "        pass\n",
    "    def leaf_nodes(self):\n",
    "        pass\n",
    "\n",
    "def filter_substrings(trajs):\n",
    "    root = TrieNode()\n",
    "    for id, traj in enumerate(trajs):\n",
    "        insert(root, traj, id)\n",
    "    ids = []\n",
    "    nodes_to_visit = [root]\n",
    "    while len(nodes_to_visit)>0:\n",
    "        node = nodes_to_visit.pop(0)\n",
    "        nodes_to_visit.extend(node.children.values())\n",
    "        if len(node.children)==0:\n",
    "            assert node.id is not None\n",
    "            ids.append(node.id)\n",
    "    return np.array(ids)\n",
    "\n"
   ]
  },
  {
   "cell_type": "code",
   "execution_count": 13,
   "id": "edd5a6ee-289c-458e-b1be-7cf37d2401a7",
   "metadata": {},
   "outputs": [],
   "source": [
    "class TrieNode:\n",
    "    def __init__(self):\n",
    "        self.children = {}\n",
    "        self.data = None\n",
    "        \n",
    "class Trie:\n",
    "    def __init__(self):\n",
    "        self.root = TrieNode()\n",
    "        self.nodes = [self.root]\n",
    "        \n",
    "    def insert_one(self, word, data=None):\n",
    "        node = self.root\n",
    "        for char in word:\n",
    "            if char not in node.children:\n",
    "                self.nodes.append(TrieNode())\n",
    "                node.children[char] = len(self.nodes)-1\n",
    "            node = self.nodes[node.children[char]]\n",
    "        node.data = data\n",
    "        \n",
    "    def insert_all(self, words, datas=None):\n",
    "        for i in range(len(words)):\n",
    "            self.insert_one(words[i], datas[i] if datas is not None else None)"
   ]
  },
  {
   "cell_type": "code",
   "execution_count": 25,
   "id": "0634aa35-1f32-4c43-9ecf-26522bd5bf7c",
   "metadata": {},
   "outputs": [
    {
     "data": {
      "application/vnd.jupyter.widget-view+json": {
       "model_id": "78aa2ab1611d45ff962ec9bae2606db4",
       "version_major": 2,
       "version_minor": 0
      },
      "text/plain": [
       "  0%|          | 0/137 [00:00<?, ?it/s]"
      ]
     },
     "metadata": {},
     "output_type": "display_data"
    }
   ],
   "source": [
    "mydir = '/data/vision/phillipi/akumar01/exploration-generalization/atari/data/'\n",
    "for name in tqdm(os.listdir(mydir+'/ge_specialist')):\n",
    "    f = mydir+'/ge_specialist/'+name\n",
    "    archive = np.load(f, allow_pickle=True).item()\n",
    "\n",
    "    trie = Trie()\n",
    "    trie.insert_all(archive['trajs'], [None for _ in range(len(archive['trajs']))])\n",
    "    \n",
    "    os.makedirs(mydir+'/temp/raw/', exist_ok=True)\n",
    "    os.makedirs(mydir+'/temp/tri/', exist_ok=True)\n",
    "    np.save(mydir+'/temp/raw/'+name, archive['trajs'])\n",
    "    np.save(mydir+'/temp/tri/'+name, trie)"
   ]
  },
  {
   "cell_type": "code",
   "execution_count": null,
   "id": "9476cbaa-6d39-4b4c-80e6-0df2c300deb5",
   "metadata": {},
   "outputs": [],
   "source": []
  },
  {
   "cell_type": "code",
   "execution_count": 15,
   "id": "83ab8454-e419-45ed-8f30-4cbf2a724d51",
   "metadata": {},
   "outputs": [],
   "source": [
    "trie = Trie()\n",
    "trie.insert_all(archive['trajs'], [None for _ in range(len(archive['trajs']))])"
   ]
  },
  {
   "cell_type": "code",
   "execution_count": 16,
   "id": "b2fc3aa0-315a-4498-8c52-1aef0d7ca85e",
   "metadata": {},
   "outputs": [],
   "source": [
    "# np.save('temp_trie.npy', trie)\n",
    "# np.save('temp_arr.npy', archive['trajs'])"
   ]
  },
  {
   "cell_type": "code",
   "execution_count": null,
   "id": "3b435c28-4571-4fca-9bf5-34af9632df38",
   "metadata": {},
   "outputs": [],
   "source": []
  },
  {
   "cell_type": "code",
   "execution_count": null,
   "id": "76e64c8f-fe6b-4e64-afc2-3b409785c679",
   "metadata": {},
   "outputs": [],
   "source": []
  },
  {
   "cell_type": "code",
   "execution_count": 32,
   "id": "d2525b89-dc6a-4bd2-987d-8118d26efbbf",
   "metadata": {},
   "outputs": [
    {
     "data": {
      "text/plain": [
       "dict_keys(['trajs', 'rets', 'scores', 'config'])"
      ]
     },
     "execution_count": 32,
     "metadata": {},
     "output_type": "execute_result"
    }
   ],
   "source": [
    "archive.keys()"
   ]
  },
  {
   "cell_type": "code",
   "execution_count": 33,
   "id": "a0bc5b49-969f-418f-8e1a-2ee219f09a39",
   "metadata": {},
   "outputs": [
    {
     "data": {
      "text/plain": [
       "17.614785"
      ]
     },
     "execution_count": 33,
     "metadata": {},
     "output_type": "execute_result"
    }
   ],
   "source": [
    "sum([len(i) for i in archive['trajs']])/1e6"
   ]
  },
  {
   "cell_type": "code",
   "execution_count": 45,
   "id": "b2854c9e-065d-46b3-b0a6-3fc9b81090ec",
   "metadata": {},
   "outputs": [],
   "source": [
    "def trie_num_nodes(root):\n",
    "    assert root is not None\n",
    "    count = 0\n",
    "    stack = [root]\n",
    "    while stack:\n",
    "        node = stack.pop()\n",
    "        count += 1\n",
    "        stack.extend(node.children.values())\n",
    "    return count"
   ]
  },
  {
   "cell_type": "code",
   "execution_count": 47,
   "id": "7ea550e3-4fb0-4327-9c16-fc0e7e0fb5ab",
   "metadata": {},
   "outputs": [
    {
     "data": {
      "text/plain": [
       "0.108528"
      ]
     },
     "execution_count": 47,
     "metadata": {},
     "output_type": "execute_result"
    }
   ],
   "source": [
    "trie_num_nodes(root)/1e6"
   ]
  },
  {
   "cell_type": "code",
   "execution_count": null,
   "id": "f0d3197c-0e30-43cf-93a6-bc9710925b7d",
   "metadata": {},
   "outputs": [],
   "source": []
  },
  {
   "cell_type": "code",
   "execution_count": null,
   "id": "9200c20b-faee-4d4d-bd32-c67afc5ec601",
   "metadata": {},
   "outputs": [],
   "source": []
  },
  {
   "cell_type": "code",
   "execution_count": null,
   "id": "c0ce7d60-d8a1-4972-a599-ad81f35ff702",
   "metadata": {},
   "outputs": [],
   "source": []
  }
 ],
 "metadata": {
  "kernelspec": {
   "display_name": "Python 3 (ipykernel)",
   "language": "python",
   "name": "python3"
  },
  "language_info": {
   "codemirror_mode": {
    "name": "ipython",
    "version": 3
   },
   "file_extension": ".py",
   "mimetype": "text/x-python",
   "name": "python",
   "nbconvert_exporter": "python",
   "pygments_lexer": "ipython3",
   "version": "3.10.12"
  }
 },
 "nbformat": 4,
 "nbformat_minor": 5
}
