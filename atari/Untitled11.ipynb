{
 "cells": [
  {
   "cell_type": "code",
   "execution_count": 1,
   "id": "54234fec-a7bf-49cb-8e8e-47550ab27fbe",
   "metadata": {},
   "outputs": [],
   "source": [
    "%load_ext autoreload\n",
    "%autoreload 2"
   ]
  },
  {
   "cell_type": "code",
   "execution_count": 2,
   "id": "b1717c1f-8bc6-42b4-8937-60d7bc484c87",
   "metadata": {},
   "outputs": [],
   "source": [
    "%run imports.py"
   ]
  },
  {
   "cell_type": "code",
   "execution_count": 3,
   "id": "9321e538-3e7a-4f76-aac0-605b09fceb15",
   "metadata": {},
   "outputs": [],
   "source": [
    "from goexplore import *"
   ]
  },
  {
   "cell_type": "code",
   "execution_count": 4,
   "id": "6db66a16-d2a8-4412-a9fb-6632685aea8e",
   "metadata": {},
   "outputs": [],
   "source": [
    "import glob"
   ]
  },
  {
   "cell_type": "code",
   "execution_count": 9,
   "id": "d21d191b-9781-48e9-a28a-4abd226fb6a6",
   "metadata": {},
   "outputs": [],
   "source": [
    "env_id2archives = defaultdict(list)"
   ]
  },
  {
   "cell_type": "code",
   "execution_count": 10,
   "id": "ce142ad5-5f71-4c73-9a3d-8b34e6afe62a",
   "metadata": {
    "scrolled": true
   },
   "outputs": [
    {
     "data": {
      "application/vnd.jupyter.widget-view+json": {
       "model_id": "f9465302600842b691fb15b90669cbc6",
       "version_major": 2,
       "version_minor": 0
      },
      "text/plain": [
       "  0%|          | 0/11200 [00:00<?, ?it/s]"
      ]
     },
     "metadata": {},
     "output_type": "display_data"
    }
   ],
   "source": [
    "for f in tqdm(glob.glob('/data/vision/phillipi/akumar01/exploration-generalization/atari/data/ge_specialist/*')):\n",
    "    archive = np.load(f, allow_pickle=True).item()\n",
    "    env_id = archive['config']['env_id']\n",
    "    env_id2archives[env_id].append(archive)"
   ]
  },
  {
   "cell_type": "code",
   "execution_count": 93,
   "id": "8be78eb1-12dc-4e55-8092-c1f474736ac4",
   "metadata": {},
   "outputs": [
    {
     "data": {
      "application/vnd.jupyter.widget-view+json": {
       "model_id": "eb010a7b98da49bf9a6c0f70119c0d43",
       "version_major": 2,
       "version_minor": 0
      },
      "text/plain": [
       "  0%|          | 0/56 [00:00<?, ?it/s]"
      ]
     },
     "metadata": {},
     "output_type": "display_data"
    },
    {
     "name": "stdout",
     "output_type": "stream",
     "text": [
      "10.631867215 1.029152707 0.002219739\n"
     ]
    }
   ],
   "source": [
    "steps, steps_leaf, steps_best = 0, 0, 0\n",
    "for env_id, archives in tqdm(env_id2archives.items()):\n",
    "    for archive in archives[:40]:\n",
    "        trajs = archive['traj']\n",
    "        is_leaf = archive['is_leaf']\n",
    "        rets = archive['ret']\n",
    "        steps += np.sum([traj.size for traj in trajs])\n",
    "        steps_leaf += np.sum([traj.size for traj in trajs[is_leaf]])\n",
    "        steps_best += np.sum([traj.size for traj in trajs[[rets.argmax()]]])\n",
    "print(steps/1e9, steps_leaf/1e9, steps_best/1e9)"
   ]
  },
  {
   "cell_type": "code",
   "execution_count": null,
   "id": "e7519bf6-3aad-4424-a385-fdad8b34719e",
   "metadata": {},
   "outputs": [],
   "source": []
  },
  {
   "cell_type": "code",
   "execution_count": null,
   "id": "e6c27373-9e0a-4be4-9021-c7fe5d62ccb2",
   "metadata": {},
   "outputs": [],
   "source": []
  },
  {
   "cell_type": "code",
   "execution_count": null,
   "id": "887478bd-5a37-4f70-9943-8dd875acb08d",
   "metadata": {},
   "outputs": [],
   "source": []
  },
  {
   "cell_type": "code",
   "execution_count": null,
   "id": "33fb30c5-897d-405d-a3b1-50de52c7e08f",
   "metadata": {},
   "outputs": [],
   "source": []
  },
  {
   "cell_type": "code",
   "execution_count": null,
   "id": "d46c5ce8-54d3-413b-abc4-e950ea1d9f78",
   "metadata": {},
   "outputs": [],
   "source": []
  },
  {
   "cell_type": "code",
   "execution_count": 13,
   "id": "bc006ea4-6b6a-4cf4-9faa-9f02483097f8",
   "metadata": {},
   "outputs": [],
   "source": [
    "with open(\"./atari_games_57.txt\") as f:\n",
    "    env_ids = f.read().split(\"\\n\")\n",
    "with open(\"./atari_games_ignore.txt\") as f:\n",
    "    env_ids_ignore = f.read().split(\"\\n\")\n",
    "env_ids = np.array([env_id for env_id in env_ids if env_id not in env_ids_ignore])\n",
    "env_ids = env_ids"
   ]
  },
  {
   "cell_type": "code",
   "execution_count": null,
   "id": "3ef6143b-dcb6-458e-8256-11df5bb0888a",
   "metadata": {},
   "outputs": [],
   "source": []
  },
  {
   "cell_type": "code",
   "execution_count": null,
   "id": "8ab45b20-5a8e-40a1-ba51-ae480d88d132",
   "metadata": {},
   "outputs": [],
   "source": []
  },
  {
   "cell_type": "code",
   "execution_count": 21,
   "id": "1ebf0207-ff9d-443a-ab97-9ef0fed6437e",
   "metadata": {},
   "outputs": [
    {
     "data": {
      "application/vnd.jupyter.widget-view+json": {
       "model_id": "52947627ecc64f88abdce35f7593826c",
       "version_major": 2,
       "version_minor": 0
      },
      "text/plain": [
       "  0%|          | 0/48 [00:00<?, ?it/s]"
      ]
     },
     "metadata": {},
     "output_type": "display_data"
    }
   ],
   "source": [
    "env_id2env = {}\n",
    "for env_id in tqdm(env_ids[:48]):\n",
    "    env = envpool.make_gymnasium(f'{env_id}-v5', num_envs=64, img_height=84, img_width=84, full_action_space=True)\n",
    "    env_id2env[env_id] = env"
   ]
  },
  {
   "cell_type": "code",
   "execution_count": null,
   "id": "f0422ad3-339b-4417-8fd1-0c8d5b706cad",
   "metadata": {},
   "outputs": [],
   "source": []
  },
  {
   "cell_type": "code",
   "execution_count": null,
   "id": "ee1bba63-512c-4599-ba9c-8530731a193a",
   "metadata": {},
   "outputs": [],
   "source": []
  },
  {
   "cell_type": "code",
   "execution_count": 86,
   "id": "f7fa1dbd-ecfe-4f4f-b87a-19c08680dd6e",
   "metadata": {},
   "outputs": [
    {
     "data": {
      "application/vnd.jupyter.widget-view+json": {
       "model_id": "2ec782dd14b54f7cab642335d61197eb",
       "version_major": 2,
       "version_minor": 0
      },
      "text/plain": [
       "  0%|          | 0/48 [00:00<?, ?it/s]"
      ]
     },
     "metadata": {},
     "output_type": "display_data"
    },
    {
     "data": {
      "application/vnd.jupyter.widget-view+json": {
       "model_id": "655a2538f7b846d29eacf4181396f010",
       "version_major": 2,
       "version_minor": 0
      },
      "text/plain": [
       "  0%|          | 0/1024 [00:00<?, ?it/s]"
      ]
     },
     "metadata": {},
     "output_type": "display_data"
    },
    {
     "ename": "KeyboardInterrupt",
     "evalue": "",
     "output_type": "error",
     "traceback": [
      "\u001b[0;31m---------------------------------------------------------------------------\u001b[0m",
      "\u001b[0;31mKeyboardInterrupt\u001b[0m                         Traceback (most recent call last)",
      "Cell \u001b[0;32mIn[86], line 5\u001b[0m\n\u001b[1;32m      3\u001b[0m \u001b[38;5;66;03m# env.reset()\u001b[39;00m\n\u001b[1;32m      4\u001b[0m \u001b[38;5;28;01mfor\u001b[39;00m t \u001b[38;5;129;01min\u001b[39;00m tqdm(\u001b[38;5;28mrange\u001b[39m(\u001b[38;5;241m1024\u001b[39m)):\n\u001b[0;32m----> 5\u001b[0m     \u001b[43menv\u001b[49m\u001b[38;5;241;43m.\u001b[39;49m\u001b[43mstep\u001b[49m\u001b[43m(\u001b[49m\u001b[43mnp\u001b[49m\u001b[38;5;241;43m.\u001b[39;49m\u001b[43mrandom\u001b[49m\u001b[38;5;241;43m.\u001b[39;49m\u001b[43mrandint\u001b[49m\u001b[43m(\u001b[49m\u001b[38;5;241;43m0\u001b[39;49m\u001b[43m,\u001b[49m\u001b[43m \u001b[49m\u001b[38;5;241;43m18\u001b[39;49m\u001b[43m,\u001b[49m\u001b[43m \u001b[49m\u001b[43msize\u001b[49m\u001b[38;5;241;43m=\u001b[39;49m\u001b[43m(\u001b[49m\u001b[38;5;241;43m64\u001b[39;49m\u001b[43m,\u001b[49m\u001b[43m)\u001b[49m\u001b[43m)\u001b[49m\u001b[43m)\u001b[49m\n",
      "File \u001b[0;32m~/miniconda3/envs/egb/lib/python3.10/site-packages/envpool/python/envpool.py:142\u001b[0m, in \u001b[0;36mEnvPoolMixin.step\u001b[0;34m(self, action, env_id)\u001b[0m\n\u001b[1;32m    140\u001b[0m \u001b[38;5;250m\u001b[39m\u001b[38;5;124;03m\"\"\"Perform one step with multiple environments in EnvPool.\"\"\"\u001b[39;00m\n\u001b[1;32m    141\u001b[0m \u001b[38;5;28mself\u001b[39m\u001b[38;5;241m.\u001b[39msend(action, env_id)\n\u001b[0;32m--> 142\u001b[0m \u001b[38;5;28;01mreturn\u001b[39;00m \u001b[38;5;28;43mself\u001b[39;49m\u001b[38;5;241;43m.\u001b[39;49m\u001b[43mrecv\u001b[49m\u001b[43m(\u001b[49m\u001b[43mreset\u001b[49m\u001b[38;5;241;43m=\u001b[39;49m\u001b[38;5;28;43;01mFalse\u001b[39;49;00m\u001b[43m,\u001b[49m\u001b[43m \u001b[49m\u001b[43mreturn_info\u001b[49m\u001b[38;5;241;43m=\u001b[39;49m\u001b[38;5;28;43;01mTrue\u001b[39;49;00m\u001b[43m)\u001b[49m\n",
      "File \u001b[0;32m~/miniconda3/envs/egb/lib/python3.10/site-packages/envpool/python/envpool.py:128\u001b[0m, in \u001b[0;36mEnvPoolMixin.recv\u001b[0;34m(self, reset, return_info)\u001b[0m\n\u001b[1;32m    122\u001b[0m \u001b[38;5;28;01mdef\u001b[39;00m \u001b[38;5;21mrecv\u001b[39m(\n\u001b[1;32m    123\u001b[0m   \u001b[38;5;28mself\u001b[39m: EnvPool,\n\u001b[1;32m    124\u001b[0m   reset: \u001b[38;5;28mbool\u001b[39m \u001b[38;5;241m=\u001b[39m \u001b[38;5;28;01mFalse\u001b[39;00m,\n\u001b[1;32m    125\u001b[0m   return_info: \u001b[38;5;28mbool\u001b[39m \u001b[38;5;241m=\u001b[39m \u001b[38;5;28;01mTrue\u001b[39;00m,\n\u001b[1;32m    126\u001b[0m ) \u001b[38;5;241m-\u001b[39m\u001b[38;5;241m>\u001b[39m Union[TimeStep, Tuple]:\n\u001b[1;32m    127\u001b[0m \u001b[38;5;250m  \u001b[39m\u001b[38;5;124;03m\"\"\"Recv a batch state from EnvPool.\"\"\"\u001b[39;00m\n\u001b[0;32m--> 128\u001b[0m   state_list \u001b[38;5;241m=\u001b[39m \u001b[38;5;28;43mself\u001b[39;49m\u001b[38;5;241;43m.\u001b[39;49m\u001b[43m_recv\u001b[49m\u001b[43m(\u001b[49m\u001b[43m)\u001b[49m\n\u001b[1;32m    129\u001b[0m   \u001b[38;5;28;01mreturn\u001b[39;00m \u001b[38;5;28mself\u001b[39m\u001b[38;5;241m.\u001b[39m_to(state_list, reset, return_info)\n",
      "\u001b[0;31mKeyboardInterrupt\u001b[0m: "
     ]
    }
   ],
   "source": [
    "for env_id in tqdm(env_ids[:48]):\n",
    "    env = env_id2env[env_id]\n",
    "    # env.reset()\n",
    "    for t in tqdm(range(1024)):\n",
    "        env.step(np.random.randint(0, 18, size=(64,)))"
   ]
  },
  {
   "cell_type": "code",
   "execution_count": null,
   "id": "e97548cb-bc53-4778-8574-41225d3b876d",
   "metadata": {},
   "outputs": [],
   "source": []
  },
  {
   "cell_type": "code",
   "execution_count": null,
   "id": "3fae7fab-1b3a-4fa1-b700-2992c7e42e6e",
   "metadata": {},
   "outputs": [],
   "source": []
  },
  {
   "cell_type": "code",
   "execution_count": 74,
   "id": "6135d575-2fe9-4737-872c-d0e312e29dc4",
   "metadata": {},
   "outputs": [
    {
     "data": {
      "text/plain": [
       "array(['Alien', 'Amidar', 'Assault', 'Asterix', 'Asteroids', 'Atlantis',\n",
       "       'BankHeist', 'BattleZone', 'BeamRider', 'Berzerk', 'Bowling',\n",
       "       'Boxing', 'Breakout', 'Centipede', 'ChopperCommand',\n",
       "       'CrazyClimber', 'Defender', 'DemonAttack', 'DoubleDunk', 'Enduro',\n",
       "       'FishingDerby', 'Freeway', 'Frostbite', 'Gopher', 'Gravitar',\n",
       "       'Hero', 'IceHockey', 'Jamesbond', 'Kangaroo', 'Krull',\n",
       "       'KungFuMaster', 'MontezumaRevenge', 'MsPacman', 'NameThisGame',\n",
       "       'Phoenix', 'Pitfall', 'Pong', 'PrivateEye', 'Qbert', 'Riverraid',\n",
       "       'RoadRunner', 'Robotank', 'Seaquest', 'Solaris', 'SpaceInvaders',\n",
       "       'StarGunner', 'Surround', 'Tennis', 'TimePilot', 'Tutankham',\n",
       "       'UpNDown', 'Venture', 'VideoPinball', 'WizardOfWor', 'YarsRevenge',\n",
       "       'Zaxxon'], dtype='<U16')"
      ]
     },
     "execution_count": 74,
     "metadata": {},
     "output_type": "execute_result"
    }
   ],
   "source": [
    "env_ids"
   ]
  },
  {
   "cell_type": "code",
   "execution_count": 87,
   "id": "d8fc0c4c-3bc9-4b5c-9ec5-a6e9b71d56f4",
   "metadata": {},
   "outputs": [
    {
     "data": {
      "application/vnd.jupyter.widget-view+json": {
       "model_id": "37d4514a53b94a9a9de5199d3396a8a8",
       "version_major": 2,
       "version_minor": 0
      },
      "text/plain": [
       "  0%|          | 0/48 [00:00<?, ?it/s]"
      ]
     },
     "metadata": {},
     "output_type": "display_data"
    },
    {
     "data": {
      "application/vnd.jupyter.widget-view+json": {
       "model_id": "741a9286faaa4f9799e19d4b21997064",
       "version_major": 2,
       "version_minor": 0
      },
      "text/plain": [
       "  0%|          | 0/1024 [00:00<?, ?it/s]"
      ]
     },
     "metadata": {},
     "output_type": "display_data"
    },
    {
     "data": {
      "application/vnd.jupyter.widget-view+json": {
       "model_id": "afe4f522dd9040a9baa99aa7a09ac5fc",
       "version_major": 2,
       "version_minor": 0
      },
      "text/plain": [
       "  0%|          | 0/1024 [00:00<?, ?it/s]"
      ]
     },
     "metadata": {},
     "output_type": "display_data"
    },
    {
     "ename": "KeyboardInterrupt",
     "evalue": "",
     "output_type": "error",
     "traceback": [
      "\u001b[0;31m---------------------------------------------------------------------------\u001b[0m",
      "\u001b[0;31mKeyboardInterrupt\u001b[0m                         Traceback (most recent call last)",
      "Cell \u001b[0;32mIn[87], line 13\u001b[0m\n\u001b[1;32m     11\u001b[0m \u001b[38;5;28;01mfor\u001b[39;00m t \u001b[38;5;129;01min\u001b[39;00m tqdm(\u001b[38;5;28mrange\u001b[39m(n_steps)):\n\u001b[1;32m     12\u001b[0m     action \u001b[38;5;241m=\u001b[39m np\u001b[38;5;241m.\u001b[39mrandom\u001b[38;5;241m.\u001b[39mrandint(\u001b[38;5;241m18\u001b[39m, size\u001b[38;5;241m=\u001b[39mn_envs)\n\u001b[0;32m---> 13\u001b[0m     _ \u001b[38;5;241m=\u001b[39m \u001b[43menv\u001b[49m\u001b[38;5;241;43m.\u001b[39;49m\u001b[43mstep\u001b[49m\u001b[43m(\u001b[49m\u001b[43maction\u001b[49m\u001b[43m)\u001b[49m\n\u001b[1;32m     14\u001b[0m end \u001b[38;5;241m=\u001b[39m time\u001b[38;5;241m.\u001b[39mtime()\n\u001b[1;32m     15\u001b[0m \u001b[38;5;66;03m# print(f\"envpool: \")\u001b[39;00m\n\u001b[1;32m     16\u001b[0m \u001b[38;5;66;03m# print(f\"Time: {end - start:.2f}s\")\u001b[39;00m\n\u001b[1;32m     17\u001b[0m \u001b[38;5;66;03m# print(f\"FPS: {n_steps * n_envs / (end - start):.2f}\")\u001b[39;00m\n\u001b[1;32m     18\u001b[0m \u001b[38;5;66;03m# print()\u001b[39;00m\n",
      "File \u001b[0;32m~/miniconda3/envs/egb/lib/python3.10/site-packages/envpool/python/envpool.py:142\u001b[0m, in \u001b[0;36mEnvPoolMixin.step\u001b[0;34m(self, action, env_id)\u001b[0m\n\u001b[1;32m    140\u001b[0m \u001b[38;5;250m\u001b[39m\u001b[38;5;124;03m\"\"\"Perform one step with multiple environments in EnvPool.\"\"\"\u001b[39;00m\n\u001b[1;32m    141\u001b[0m \u001b[38;5;28mself\u001b[39m\u001b[38;5;241m.\u001b[39msend(action, env_id)\n\u001b[0;32m--> 142\u001b[0m \u001b[38;5;28;01mreturn\u001b[39;00m \u001b[38;5;28;43mself\u001b[39;49m\u001b[38;5;241;43m.\u001b[39;49m\u001b[43mrecv\u001b[49m\u001b[43m(\u001b[49m\u001b[43mreset\u001b[49m\u001b[38;5;241;43m=\u001b[39;49m\u001b[38;5;28;43;01mFalse\u001b[39;49;00m\u001b[43m,\u001b[49m\u001b[43m \u001b[49m\u001b[43mreturn_info\u001b[49m\u001b[38;5;241;43m=\u001b[39;49m\u001b[38;5;28;43;01mTrue\u001b[39;49;00m\u001b[43m)\u001b[49m\n",
      "File \u001b[0;32m~/miniconda3/envs/egb/lib/python3.10/site-packages/envpool/python/envpool.py:128\u001b[0m, in \u001b[0;36mEnvPoolMixin.recv\u001b[0;34m(self, reset, return_info)\u001b[0m\n\u001b[1;32m    122\u001b[0m \u001b[38;5;28;01mdef\u001b[39;00m \u001b[38;5;21mrecv\u001b[39m(\n\u001b[1;32m    123\u001b[0m   \u001b[38;5;28mself\u001b[39m: EnvPool,\n\u001b[1;32m    124\u001b[0m   reset: \u001b[38;5;28mbool\u001b[39m \u001b[38;5;241m=\u001b[39m \u001b[38;5;28;01mFalse\u001b[39;00m,\n\u001b[1;32m    125\u001b[0m   return_info: \u001b[38;5;28mbool\u001b[39m \u001b[38;5;241m=\u001b[39m \u001b[38;5;28;01mTrue\u001b[39;00m,\n\u001b[1;32m    126\u001b[0m ) \u001b[38;5;241m-\u001b[39m\u001b[38;5;241m>\u001b[39m Union[TimeStep, Tuple]:\n\u001b[1;32m    127\u001b[0m \u001b[38;5;250m  \u001b[39m\u001b[38;5;124;03m\"\"\"Recv a batch state from EnvPool.\"\"\"\u001b[39;00m\n\u001b[0;32m--> 128\u001b[0m   state_list \u001b[38;5;241m=\u001b[39m \u001b[38;5;28;43mself\u001b[39;49m\u001b[38;5;241;43m.\u001b[39;49m\u001b[43m_recv\u001b[49m\u001b[43m(\u001b[49m\u001b[43m)\u001b[49m\n\u001b[1;32m    129\u001b[0m   \u001b[38;5;28;01mreturn\u001b[39;00m \u001b[38;5;28mself\u001b[39m\u001b[38;5;241m.\u001b[39m_to(state_list, reset, return_info)\n",
      "\u001b[0;31mKeyboardInterrupt\u001b[0m: "
     ]
    }
   ],
   "source": [
    "for env_id in tqdm(env_ids[:48]):\n",
    "    n_envs = 64\n",
    "    n_steps = 1024\n",
    "    # env_id = \"YarsRevenge\"\n",
    "\n",
    "    env = envpool.make_gymnasium(\n",
    "        f\"{env_id}-v5\", num_envs=n_envs, img_height=84, img_width=84, gray_scale=True, stack_num=1, frame_skip=4, repeat_action_probability=0.0, noop_max=1, use_fire_reset=False, full_action_space=True\n",
    "    )\n",
    "    start = time.time()\n",
    "    env.reset()\n",
    "    for t in tqdm(range(n_steps)):\n",
    "        action = np.random.randint(18, size=n_envs)\n",
    "        _ = env.step(action)\n",
    "    end = time.time()\n",
    "    # print(f\"envpool: \")\n",
    "    # print(f\"Time: {end - start:.2f}s\")\n",
    "    # print(f\"FPS: {n_steps * n_envs / (end - start):.2f}\")\n",
    "    # print()\n"
   ]
  },
  {
   "cell_type": "code",
   "execution_count": null,
   "id": "c9f69acc-01ca-41d9-8062-2013d71fa4e9",
   "metadata": {},
   "outputs": [],
   "source": []
  },
  {
   "cell_type": "code",
   "execution_count": null,
   "id": "74f2467a-e17c-40fe-aa74-6f473e49e12b",
   "metadata": {},
   "outputs": [],
   "source": []
  },
  {
   "cell_type": "code",
   "execution_count": null,
   "id": "3a795349-37aa-4698-8940-f364fa0f9db5",
   "metadata": {},
   "outputs": [],
   "source": []
  },
  {
   "cell_type": "code",
   "execution_count": null,
   "id": "22e9e0ae-4118-4b27-b38b-5725192e22f5",
   "metadata": {},
   "outputs": [],
   "source": []
  },
  {
   "cell_type": "code",
   "execution_count": null,
   "id": "dfbe187a-750e-4be6-a201-389566d7733f",
   "metadata": {},
   "outputs": [],
   "source": []
  },
  {
   "cell_type": "code",
   "execution_count": null,
   "id": "de05ccea-5080-4d53-bc93-fead90850732",
   "metadata": {},
   "outputs": [],
   "source": []
  },
  {
   "cell_type": "code",
   "execution_count": 5,
   "id": "4d8fc926-5244-40f0-af93-5449bcaf807c",
   "metadata": {},
   "outputs": [
    {
     "data": {
      "text/plain": [
       "11200"
      ]
     },
     "execution_count": 5,
     "metadata": {},
     "output_type": "execute_result"
    }
   ],
   "source": [
    "56*200"
   ]
  },
  {
   "cell_type": "code",
   "execution_count": null,
   "id": "b8ca5999-f1ec-40dd-a05c-0c843105dd89",
   "metadata": {},
   "outputs": [],
   "source": [
    "64*2048 envs*steps\n",
    "48 envs_ids\n",
    "84*84 obs size\n",
    "= 50 gb ram"
   ]
  },
  {
   "cell_type": "code",
   "execution_count": null,
   "id": "e083d8c5-7716-4e43-bcbb-16d2c804abfc",
   "metadata": {},
   "outputs": [],
   "source": []
  },
  {
   "cell_type": "code",
   "execution_count": 50,
   "id": "0c17003d-197a-4747-9b63-f7c9d63a40ba",
   "metadata": {},
   "outputs": [
    {
     "data": {
      "text/plain": [
       "256.34765625"
      ]
     },
     "execution_count": 50,
     "metadata": {},
     "output_type": "execute_result"
    }
   ],
   "source": [
    "6.3e6/384/64"
   ]
  },
  {
   "cell_type": "code",
   "execution_count": 51,
   "id": "4a0f5284-3c71-4442-8ffd-c338fe723714",
   "metadata": {},
   "outputs": [
    {
     "data": {
      "text/plain": [
       "512"
      ]
     },
     "execution_count": 51,
     "metadata": {},
     "output_type": "execute_result"
    }
   ],
   "source": [
    "512"
   ]
  },
  {
   "cell_type": "code",
   "execution_count": null,
   "id": "bd90be52-f02d-4dca-8730-2832b8ee9198",
   "metadata": {},
   "outputs": [],
   "source": [
    "17 min collection\n",
    "4 min training"
   ]
  },
  {
   "cell_type": "code",
   "execution_count": null,
   "id": "690347bb-9028-425b-bfc7-5fdee5e69dd9",
   "metadata": {},
   "outputs": [],
   "source": []
  },
  {
   "cell_type": "code",
   "execution_count": null,
   "id": "3beb4cd6-130d-4fe9-82d0-4622254095f2",
   "metadata": {},
   "outputs": [],
   "source": []
  },
  {
   "cell_type": "code",
   "execution_count": 136,
   "id": "82cec8bf-c50c-4f7f-837d-f97dcceaec64",
   "metadata": {},
   "outputs": [],
   "source": [
    "a1 = np.load('/data/vision/phillipi/akumar01/exploration-generalization/atari/data/ge_specialist/ge_specialist_Alien_0000.npy', allow_pickle=True).item()\n",
    "a1 = a1['traj']"
   ]
  },
  {
   "cell_type": "code",
   "execution_count": 137,
   "id": "349748c6-218a-48c0-a37f-3ce7de213ead",
   "metadata": {},
   "outputs": [],
   "source": [
    "a2 = np.load('/data/vision/phillipi/akumar01/exploration-generalization/atari/data/goexplore/Alien_0000.npy', allow_pickle=True).item()\n",
    "a2 = a2['trajs']"
   ]
  },
  {
   "cell_type": "code",
   "execution_count": 138,
   "id": "c13bc9bd-a412-476f-8347-e5ef71d2f6b0",
   "metadata": {},
   "outputs": [
    {
     "data": {
      "application/vnd.jupyter.widget-view+json": {
       "model_id": "3d4664f573854f2e920660e004e8932e",
       "version_major": 2,
       "version_minor": 0
      },
      "text/plain": [
       "0it [00:00, ?it/s]"
      ]
     },
     "metadata": {},
     "output_type": "display_data"
    },
    {
     "ename": "AssertionError",
     "evalue": "",
     "output_type": "error",
     "traceback": [
      "\u001b[0;31m---------------------------------------------------------------------------\u001b[0m",
      "\u001b[0;31mAssertionError\u001b[0m                            Traceback (most recent call last)",
      "Cell \u001b[0;32mIn[138], line 2\u001b[0m\n\u001b[1;32m      1\u001b[0m \u001b[38;5;28;01mfor\u001b[39;00m i, j \u001b[38;5;129;01min\u001b[39;00m tqdm(\u001b[38;5;28mzip\u001b[39m(a1, a2)):\n\u001b[0;32m----> 2\u001b[0m     \u001b[38;5;28;01massert\u001b[39;00m np\u001b[38;5;241m.\u001b[39marray_equal(i, j)\n",
      "\u001b[0;31mAssertionError\u001b[0m: "
     ]
    }
   ],
   "source": [
    "for i, j in tqdm(zip(a1, a2)):\n",
    "    assert np.array_equal(i, j)"
   ]
  },
  {
   "cell_type": "code",
   "execution_count": null,
   "id": "676ccf6c-ed43-4b86-ad0a-7498baabfc7f",
   "metadata": {},
   "outputs": [],
   "source": []
  },
  {
   "cell_type": "code",
   "execution_count": 100,
   "id": "5b4c2aed-cf4b-4211-ad68-1ab59d67c0eb",
   "metadata": {},
   "outputs": [],
   "source": [
    "fs1 = glob.glob('/data/vision/phillipi/akumar01/exploration-generalization/atari/data/ge_specialist/*')\n",
    "fs2 = glob.glob('/data/vision/phillipi/akumar01/exploration-generalization/atari/data/goexplore/*')\n",
    "fs1 = sorted(fs1)\n",
    "fs2 = sorted(fs2)"
   ]
  },
  {
   "cell_type": "code",
   "execution_count": 102,
   "id": "942d78b8-7a11-46bd-92dd-c59947fcd95a",
   "metadata": {},
   "outputs": [
    {
     "data": {
      "text/plain": [
       "('/data/vision/phillipi/akumar01/exploration-generalization/atari/data/ge_specialist/ge_specialist_Alien_0000.npy',\n",
       " '/data/vision/phillipi/akumar01/exploration-generalization/atari/data/goexplore/Alien_0000.npy')"
      ]
     },
     "execution_count": 102,
     "metadata": {},
     "output_type": "execute_result"
    }
   ],
   "source": [
    "fs1[0], fs2[0]"
   ]
  },
  {
   "cell_type": "code",
   "execution_count": null,
   "id": "6c23d567-89a2-4a12-9077-1ba7151b46f1",
   "metadata": {},
   "outputs": [],
   "source": []
  },
  {
   "cell_type": "code",
   "execution_count": null,
   "id": "1d91b9e7-7d1d-4c1b-9fe9-5d75772914e7",
   "metadata": {},
   "outputs": [],
   "source": []
  },
  {
   "cell_type": "code",
   "execution_count": 132,
   "id": "18c8ffdd-1371-4673-ba01-1bda7f64559b",
   "metadata": {},
   "outputs": [],
   "source": [
    "for f1, f2 in zip(fs1, fs2):\n",
    "    a1 = np.load(f1, allow_pickle=True).item()\n",
    "    a2 = np.load(f2, allow_pickle=True).item()\n",
    "    a1 = a1['traj']\n",
    "    a2 = a2['trajs']\n",
    "    break"
   ]
  },
  {
   "cell_type": "code",
   "execution_count": 131,
   "id": "e9c8dd83-c76c-4445-b343-e0e03fdf44c7",
   "metadata": {},
   "outputs": [
    {
     "data": {
      "text/plain": [
       "('/data/vision/phillipi/akumar01/exploration-generalization/atari/data/ge_specialist/ge_specialist_Alien_0000.npy',\n",
       " '/data/vision/phillipi/akumar01/exploration-generalization/atari/data/goexplore/Alien_0000.npy')"
      ]
     },
     "execution_count": 131,
     "metadata": {},
     "output_type": "execute_result"
    }
   ],
   "source": [
    "f1, f2"
   ]
  },
  {
   "cell_type": "code",
   "execution_count": null,
   "id": "8a2d1cbd-a1c6-41aa-a7ea-d0b05756b4f2",
   "metadata": {},
   "outputs": [],
   "source": []
  },
  {
   "cell_type": "code",
   "execution_count": 133,
   "id": "48eec3d4-9e15-4141-bbb1-cf6da8902fbb",
   "metadata": {},
   "outputs": [
    {
     "data": {
      "application/vnd.jupyter.widget-view+json": {
       "model_id": "3508a0d4dfae4d8ba2dacdc228d78667",
       "version_major": 2,
       "version_minor": 0
      },
      "text/plain": [
       "0it [00:00, ?it/s]"
      ]
     },
     "metadata": {},
     "output_type": "display_data"
    },
    {
     "ename": "AssertionError",
     "evalue": "",
     "output_type": "error",
     "traceback": [
      "\u001b[0;31m---------------------------------------------------------------------------\u001b[0m",
      "\u001b[0;31mAssertionError\u001b[0m                            Traceback (most recent call last)",
      "Cell \u001b[0;32mIn[133], line 2\u001b[0m\n\u001b[1;32m      1\u001b[0m \u001b[38;5;28;01mfor\u001b[39;00m ti1, ti2 \u001b[38;5;129;01min\u001b[39;00m tqdm(\u001b[38;5;28mzip\u001b[39m(a1, a2)):\n\u001b[0;32m----> 2\u001b[0m     \u001b[38;5;28;01massert\u001b[39;00m np\u001b[38;5;241m.\u001b[39marray_equal(ti1, ti2)\n",
      "\u001b[0;31mAssertionError\u001b[0m: "
     ]
    }
   ],
   "source": [
    "for ti1, ti2 in tqdm(zip(a1, a2)):\n",
    "    assert np.array_equal(ti1, ti2)"
   ]
  },
  {
   "cell_type": "code",
   "execution_count": null,
   "id": "7c70142a-8cea-458a-86ae-ec919bb9080b",
   "metadata": {},
   "outputs": [],
   "source": []
  },
  {
   "cell_type": "code",
   "execution_count": 125,
   "id": "a6068b3a-5d41-468b-b8b9-303158413992",
   "metadata": {},
   "outputs": [
    {
     "data": {
      "text/plain": [
       "(47581, 47536)"
      ]
     },
     "execution_count": 125,
     "metadata": {},
     "output_type": "execute_result"
    }
   ],
   "source": [
    "len(t1), len(t2)"
   ]
  },
  {
   "cell_type": "code",
   "execution_count": null,
   "id": "fc43667a-bf1e-4148-ac78-c88b8202222b",
   "metadata": {},
   "outputs": [],
   "source": []
  },
  {
   "cell_type": "code",
   "execution_count": 119,
   "id": "a3a9937c-eadf-488f-8357-8952e7faabda",
   "metadata": {},
   "outputs": [
    {
     "data": {
      "text/plain": [
       "array([ 0,  0,  3,  4, 12,  6, 14,  5,  8, 16, 15,  3, 14,  1,  0,  3,  2,\n",
       "        4,  6, 17,  9,  1,  9,  6, 14,  0, 12, 11,  4,  3,  8,  3, 15, 16,\n",
       "        9,  5, 17,  2,  3, 13,  9, 10,  2,  3,  3,  3, 14,  1, 11,  2,  0,\n",
       "        6, 10,  8,  2,  2, 16,  8,  3, 14,  3, 13, 11, 14,  1,  4,  6, 13,\n",
       "       15,  8, 11,  1, 12,  3,  3,  6,  5,  0, 10,  5, 15, 14,  3,  9,  3,\n",
       "       12,  9, 13,  2, 12,  2,  7, 17, 11,  9,  9,  0, 11,  0, 16,  3, 14,\n",
       "        8, 13,  0,  4, 10,  4,  7, 13,  8, 11, 13, 14,  3,  2, 11, 13,  6,\n",
       "       16, 16,  3, 10, 13,  6, 13, 16, 15,  3,  7,  2, 13,  4, 17,  1,  1,\n",
       "        7,  9,  4, 16, 10,  4, 16, 13, 11,  6, 15, 12, 10, 11,  4, 17,  4,\n",
       "        6,  8,  4, 13,  5,  8,  7, 12,  7,  0, 11,  7,  8,  0,  6,  2,  0,\n",
       "       14,  6,  3, 15,  6, 17, 12, 11, 14, 13,  8,  4,  2, 11, 15, 13, 14,\n",
       "       13, 10,  4,  9, 12,  8, 14,  5, 11, 17,  8,  0, 16, 12, 11, 17, 12,\n",
       "        7,  3,  9, 11, 16,  7, 11, 12,  8, 10, 11, 14, 11,  5, 15,  3,  2,\n",
       "        6, 17,  3,  5,  7, 16,  9,  3, 12,  3, 10,  8, 11, 10,  7, 12, 13,\n",
       "        4,  9,  0,  6,  9,  6, 12, 13, 10,  3,  5,  9,  7, 15,  2,  6, 11,\n",
       "       17,  7, 10,  0,  1,  8,  5, 12,  8, 11,  0,  3, 15, 10, 15, 11,  2,\n",
       "       13,  2,  9,  5,  9,  2,  3,  0,  5,  1, 13, 11, 13,  7,  0, 11,  0,\n",
       "        3,  0, 13,  4, 17, 16, 12,  6, 17,  1,  7,  8, 13,  5,  9, 11,  7,\n",
       "        4,  4,  1,  4, 13,  1, 16, 15,  3,  0, 15, 15, 16,  4,  3,  6, 17,\n",
       "        5,  2, 11,  3, 17,  2,  1, 10, 13], dtype=uint8)"
      ]
     },
     "execution_count": 119,
     "metadata": {},
     "output_type": "execute_result"
    }
   ],
   "source": [
    "ti1"
   ]
  },
  {
   "cell_type": "code",
   "execution_count": 120,
   "id": "38ecfcce-805f-4f6f-ae1a-aad686baffa4",
   "metadata": {},
   "outputs": [
    {
     "data": {
      "text/plain": [
       "array([ 0,  0,  3,  4, 12,  6, 14,  5,  8, 16, 15,  3, 14,  1,  0,  3,  2,\n",
       "        4,  6, 17,  9,  1,  9,  6, 14,  0, 12, 11,  4,  3,  8,  3, 15, 16,\n",
       "        9,  5, 17,  2,  3, 13,  9, 10,  2,  3,  3,  3, 14,  1, 11,  2,  0,\n",
       "        6, 10,  8,  2,  2, 16,  8,  3, 14,  3, 13, 11, 14,  1,  4,  6, 13,\n",
       "       15,  8, 11,  1, 12,  3,  3,  6,  5,  0, 10,  5, 15, 14,  3,  9,  3,\n",
       "       12,  9, 13,  2, 12,  2,  7, 17, 11,  9,  9,  0, 11,  0, 16,  3, 14,\n",
       "        8, 13,  0,  4, 10,  4,  7, 13,  8, 11, 13, 14,  3,  2, 11, 13,  6,\n",
       "       16, 16,  3, 10, 13,  6, 13, 16, 15,  3,  7,  2, 13,  4, 17,  1,  1,\n",
       "        7,  9,  4, 16, 10,  4, 16, 13, 11,  6, 15, 12, 10, 11,  4, 17,  4,\n",
       "        6,  8,  4, 13,  5,  8,  7, 12,  7,  0, 11,  7,  8,  0,  6,  2,  0,\n",
       "       14,  6,  3, 15,  6, 17, 12, 11, 14, 13,  8,  4,  2, 11, 15, 13, 14,\n",
       "       13, 10,  4,  9, 12,  8, 14,  5, 11, 17,  8,  0, 16, 12, 11, 17, 12,\n",
       "        7,  3,  9, 11, 16,  7, 11, 12,  8, 10, 11, 14, 11,  5, 15,  3,  2,\n",
       "        6, 13,  3, 13,  6,  1, 16,  1,  3,  3,  3, 11, 12,  0, 15,  1, 17,\n",
       "        1,  2,  6,  5,  4,  0,  9, 15,  7, 11, 10,  4,  6,  0, 10,  6,  7,\n",
       "        0, 12,  4,  5,  6, 17, 11, 11,  1,  2, 12,  8, 15,  9, 16,  0,  2,\n",
       "       12, 13,  3,  8,  2, 11,  4,  6,  6,  5, 11,  0, 17,  1, 11, 11, 15,\n",
       "       13,  4, 10,  2, 11, 15,  8,  3, 12, 14, 13,  8, 14,  7, 17, 17,  3,\n",
       "        1, 17,  9, 15,  1, 12, 13,  8, 13, 14,  5,  9,  8,  7, 17, 11,  1,\n",
       "        6,  2,  8,  8,  9, 14, 14], dtype=uint8)"
      ]
     },
     "execution_count": 120,
     "metadata": {},
     "output_type": "execute_result"
    }
   ],
   "source": [
    "ti2"
   ]
  },
  {
   "cell_type": "code",
   "execution_count": null,
   "id": "06ac93f1-4bb2-465d-a588-667156b341c0",
   "metadata": {},
   "outputs": [],
   "source": []
  },
  {
   "cell_type": "code",
   "execution_count": null,
   "id": "b84d928e-5fbf-474d-8b5c-0ac0ad12640d",
   "metadata": {},
   "outputs": [],
   "source": []
  },
  {
   "cell_type": "code",
   "execution_count": null,
   "id": "b7569f6b-4b91-4c50-af2f-d45a32ab7905",
   "metadata": {},
   "outputs": [],
   "source": []
  },
  {
   "cell_type": "code",
   "execution_count": 90,
   "id": "c51ee932-6f2d-4dfa-8966-be704184abc9",
   "metadata": {},
   "outputs": [],
   "source": [
    "from goexplore_train import *"
   ]
  },
  {
   "cell_type": "code",
   "execution_count": 79,
   "id": "e4482777-956d-4598-b6a9-ae616bee5a54",
   "metadata": {},
   "outputs": [],
   "source": [
    "args = parse_args('--track=True --project=\"ge_generalist\" --name=\"ge_generalist_best_0_0000\" --device=\"cuda\" --env_ids StarGunner NameThisGame RoadRunner IceHockey Boxing Assault MsPacman Solaris Surround KungFuMaster Asteroids Bowling Kangaroo Frostbite MontezumaRevenge Tutankham PrivateEye BattleZone ChopperCommand Jamesbond Pitfall UpNDown DoubleDunk VideoPinball Phoenix CrazyClimber Atlantis Krull Defender YarsRevenge FishingDerby TimePilot BeamRider Centipede Hero DemonAttack Robotank Zaxxon Qbert Amidar Breakout Seaquest Gravitar BankHeist Gopher Pong Freeway Enduro --strategy=\"best\" --n_iters=1500 --save_agent=\"./data/ge_generalist/ge_generalist_best_0_0000.pt\" --ge_data_dir=\"./data/ge_specialist/\" --n_archives=40 --i_split=0'.split(\" \"))\n",
    "\n",
    "for k, v in vars(args).items():\n",
    "    if isinstance(v, str):\n",
    "        if v.startswith('\"') and v.endswith('\"'):\n",
    "            v = v.replace('\"', '')\n",
    "            setattr(args, k, v)"
   ]
  },
  {
   "cell_type": "code",
   "execution_count": 80,
   "id": "b08a072f-11f7-45ee-8a2d-a94a1a250adb",
   "metadata": {},
   "outputs": [
    {
     "data": {
      "text/plain": [
       "Namespace(track=True, entity=None, project='ge_generalist', name='ge_generalist_best_0_0000', device='cuda', seed=0, env_ids=['StarGunner', 'NameThisGame', 'RoadRunner', 'IceHockey', 'Boxing', 'Assault', 'MsPacman', 'Solaris', 'Surround', 'KungFuMaster', 'Asteroids', 'Bowling', 'Kangaroo', 'Frostbite', 'MontezumaRevenge', 'Tutankham', 'PrivateEye', 'BattleZone', 'ChopperCommand', 'Jamesbond', 'Pitfall', 'UpNDown', 'DoubleDunk', 'VideoPinball', 'Phoenix', 'CrazyClimber', 'Atlantis', 'Krull', 'Defender', 'YarsRevenge', 'FishingDerby', 'TimePilot', 'BeamRider', 'Centipede', 'Hero', 'DemonAttack', 'Robotank', 'Zaxxon', 'Qbert', 'Amidar', 'Breakout', 'Seaquest', 'Gravitar', 'BankHeist', 'Gopher', 'Pong', 'Freeway', 'Enduro'], strategy='best', n_iters=1500, n_envs=4, n_steps=512, batch_size=384, n_updates=32, ctx_len=64, save_agent='./data/ge_generalist/ge_generalist_best_0_0000.pt', lr=0.0001, ge_data_dir='./data/ge_specialist/', n_archives=40, n_envs_per_id=0, i_split='0')"
      ]
     },
     "execution_count": 80,
     "metadata": {},
     "output_type": "execute_result"
    }
   ],
   "source": [
    "args"
   ]
  },
  {
   "cell_type": "code",
   "execution_count": null,
   "id": "b485421c-25ab-4cb0-a623-0b236b4df6b4",
   "metadata": {},
   "outputs": [],
   "source": []
  },
  {
   "cell_type": "code",
   "execution_count": null,
   "id": "fd0810bc-1129-4319-8cf8-3ee914b46d2d",
   "metadata": {},
   "outputs": [],
   "source": []
  },
  {
   "cell_type": "code",
   "execution_count": 107,
   "id": "505e1636-2931-4259-b04b-2ca87e8c78d4",
   "metadata": {},
   "outputs": [
    {
     "name": "stdout",
     "output_type": "stream",
     "text": [
      "Loading archives\n"
     ]
    },
    {
     "data": {
      "application/vnd.jupyter.widget-view+json": {
       "model_id": "c12c99a3fb00451b9b71c2b04038d1fc",
       "version_major": 2,
       "version_minor": 0
      },
      "text/plain": [
       "  0%|          | 0/48 [00:00<?, ?it/s]"
      ]
     },
     "metadata": {},
     "output_type": "display_data"
    }
   ],
   "source": [
    "def load_env_id2archives(args):\n",
    "    env_id2archives = {}\n",
    "    for env_id in tqdm(args.env_ids):\n",
    "        files = sorted(glob.glob(f\"{args.ge_data_dir}/*{env_id}*\"))\n",
    "        files = files[: args.n_archives]\n",
    "        \n",
    "        env_id2archives[env_id] = [np.load(f, allow_pickle=True).item() for f in files]\n",
    "    return env_id2archives\n",
    "\n",
    "\n",
    "def get_env_id2trajs(env_id2archives, strategy=\"best\"):\n",
    "    env_id2trajs = {}\n",
    "    for env_id, archives in tqdm(env_id2archives.items()):\n",
    "        env_id2trajs[env_id] = []\n",
    "        for archive in archives:\n",
    "            trajs, rets, novelty, is_leaf = archive[\"traj\"], archive[\"ret\"], archive[\"novelty\"], archive[\"is_leaf\"]\n",
    "            if strategy == \"all\":\n",
    "                idx = np.arange(len(trajs))\n",
    "            elif strategy == \"best\":\n",
    "                idx = np.array([np.argmax(rets)])\n",
    "            elif strategy == \"leaf\":\n",
    "                idx = np.nonzero(is_leaf)[0]\n",
    "            else:\n",
    "                raise ValueError(f\"Unknown strategy: {strategy}\")\n",
    "            trajs = trajs[idx]\n",
    "            env_id2trajs[env_id].extend(trajs)\n",
    "    return env_id2trajs\n",
    "\n",
    "print(\"Loading archives\")\n",
    "env_id2archives = load_env_id2archives(args)\n"
   ]
  },
  {
   "cell_type": "code",
   "execution_count": 82,
   "id": "8704b634-743a-4793-8fdb-a4790eefce04",
   "metadata": {},
   "outputs": [],
   "source": [
    "def sample_traj_fn(id):\n",
    "    env_id = args.env_ids[id // args.n_envs]\n",
    "    trajs = env_id2trajs[env_id]\n",
    "    return trajs[np.random.choice(len(trajs))]"
   ]
  },
  {
   "cell_type": "code",
   "execution_count": 109,
   "id": "cef1cf60-59b2-407f-a542-9855e3555656",
   "metadata": {},
   "outputs": [],
   "source": [
    "args.strategy = 'best'"
   ]
  },
  {
   "cell_type": "code",
   "execution_count": 110,
   "id": "752f76ff-d5c3-4ea7-a3da-2adcada89038",
   "metadata": {},
   "outputs": [
    {
     "name": "stdout",
     "output_type": "stream",
     "text": [
      "Creating trajs\n"
     ]
    },
    {
     "data": {
      "application/vnd.jupyter.widget-view+json": {
       "model_id": "3b8297fee917431c98b18ab2b746cec9",
       "version_major": 2,
       "version_minor": 0
      },
      "text/plain": [
       "  0%|          | 0/48 [00:00<?, ?it/s]"
      ]
     },
     "metadata": {},
     "output_type": "display_data"
    },
    {
     "name": "stdout",
     "output_type": "stream",
     "text": [
      "env_id: StarGunner, #trajs: 40\n",
      "env_id: NameThisGame, #trajs: 40\n",
      "env_id: RoadRunner, #trajs: 40\n",
      "env_id: IceHockey, #trajs: 40\n",
      "env_id: Boxing, #trajs: 40\n",
      "env_id: Assault, #trajs: 40\n",
      "env_id: MsPacman, #trajs: 40\n",
      "env_id: Solaris, #trajs: 40\n",
      "env_id: Surround, #trajs: 40\n",
      "env_id: KungFuMaster, #trajs: 40\n",
      "env_id: Asteroids, #trajs: 40\n",
      "env_id: Bowling, #trajs: 40\n",
      "env_id: Kangaroo, #trajs: 40\n",
      "env_id: Frostbite, #trajs: 40\n",
      "env_id: MontezumaRevenge, #trajs: 40\n",
      "env_id: Tutankham, #trajs: 40\n",
      "env_id: PrivateEye, #trajs: 40\n",
      "env_id: BattleZone, #trajs: 40\n",
      "env_id: ChopperCommand, #trajs: 40\n",
      "env_id: Jamesbond, #trajs: 40\n",
      "env_id: Pitfall, #trajs: 40\n",
      "env_id: UpNDown, #trajs: 40\n",
      "env_id: DoubleDunk, #trajs: 40\n",
      "env_id: VideoPinball, #trajs: 40\n",
      "env_id: Phoenix, #trajs: 40\n",
      "env_id: CrazyClimber, #trajs: 40\n",
      "env_id: Atlantis, #trajs: 40\n",
      "env_id: Krull, #trajs: 40\n",
      "env_id: Defender, #trajs: 40\n",
      "env_id: YarsRevenge, #trajs: 40\n",
      "env_id: FishingDerby, #trajs: 40\n",
      "env_id: TimePilot, #trajs: 40\n",
      "env_id: BeamRider, #trajs: 40\n",
      "env_id: Centipede, #trajs: 40\n",
      "env_id: Hero, #trajs: 40\n",
      "env_id: DemonAttack, #trajs: 40\n",
      "env_id: Robotank, #trajs: 40\n",
      "env_id: Zaxxon, #trajs: 40\n",
      "env_id: Qbert, #trajs: 40\n",
      "env_id: Amidar, #trajs: 40\n",
      "env_id: Breakout, #trajs: 40\n",
      "env_id: Seaquest, #trajs: 40\n",
      "env_id: Gravitar, #trajs: 40\n",
      "env_id: BankHeist, #trajs: 40\n",
      "env_id: Gopher, #trajs: 40\n",
      "env_id: Pong, #trajs: 40\n",
      "env_id: Freeway, #trajs: 40\n",
      "env_id: Enduro, #trajs: 40\n"
     ]
    }
   ],
   "source": [
    "print(\"Creating trajs\")\n",
    "env_id2trajs = get_env_id2trajs(env_id2archives, strategy=args.strategy)\n",
    "for env_id, trajs in env_id2trajs.items():\n",
    "    print(f\"env_id: {env_id}, #trajs: {len(trajs)}\")"
   ]
  },
  {
   "cell_type": "code",
   "execution_count": 111,
   "id": "7fa215d6-f027-4530-8d3e-a4ffe2e15178",
   "metadata": {},
   "outputs": [
    {
     "name": "stdout",
     "output_type": "stream",
     "text": [
      "Creating envs\n",
      "Done creating envs!\n"
     ]
    },
    {
     "name": "stderr",
     "output_type": "stream",
     "text": [
      "Process Worker<MyAsyncVectorEnv>-83:\n",
      "Process Worker<MyAsyncVectorEnv>-55:\n",
      "Process Worker<MyAsyncVectorEnv>-160:\n",
      "Process Worker<MyAsyncVectorEnv>-3:\n",
      "Process Worker<MyAsyncVectorEnv>-156:\n",
      "Process Worker<MyAsyncVectorEnv>-141:\n",
      "Process Worker<MyAsyncVectorEnv>-107:\n",
      "Process Worker<MyAsyncVectorEnv>-125:\n",
      "Process Worker<MyAsyncVectorEnv>-121:\n",
      "Process Worker<MyAsyncVectorEnv>-41:\n",
      "Process Worker<MyAsyncVectorEnv>-130:\n",
      "Process Worker<MyAsyncVectorEnv>-81:\n",
      "Process Worker<MyAsyncVectorEnv>-109:\n",
      "Process Worker<MyAsyncVectorEnv>-175:\n",
      "Process Worker<MyAsyncVectorEnv>-25:\n",
      "Process Worker<MyAsyncVectorEnv>-80:\n",
      "Process Worker<MyAsyncVectorEnv>-21:\n",
      "Process Worker<MyAsyncVectorEnv>-47:\n",
      "Process Worker<MyAsyncVectorEnv>-30:\n",
      "Process Worker<MyAsyncVectorEnv>-29:\n",
      "Process Worker<MyAsyncVectorEnv>-84:\n",
      "Process Worker<MyAsyncVectorEnv>-174:\n",
      "Process Worker<MyAsyncVectorEnv>-176:\n",
      "Process Worker<MyAsyncVectorEnv>-113:\n",
      "Process Worker<MyAsyncVectorEnv>-1:\n",
      "Process Worker<MyAsyncVectorEnv>-178:\n",
      "Process Worker<MyAsyncVectorEnv>-62:\n",
      "Process Worker<MyAsyncVectorEnv>-145:\n",
      "Process Worker<MyAsyncVectorEnv>-137:\n",
      "Process Worker<MyAsyncVectorEnv>-17:\n",
      "Process Worker<MyAsyncVectorEnv>-87:\n",
      "Process Worker<MyAsyncVectorEnv>-104:\n",
      "Process Worker<MyAsyncVectorEnv>-74:\n",
      "Process Worker<MyAsyncVectorEnv>-186:\n",
      "Process Worker<MyAsyncVectorEnv>-75:\n",
      "Process Worker<MyAsyncVectorEnv>-42:\n",
      "Process Worker<MyAsyncVectorEnv>-4:\n",
      "Process Worker<MyAsyncVectorEnv>-98:\n",
      "Process Worker<MyAsyncVectorEnv>-32:\n",
      "Process Worker<MyAsyncVectorEnv>-5:\n",
      "Process Worker<MyAsyncVectorEnv>-7:\n",
      "Process Worker<MyAsyncVectorEnv>-190:\n",
      "Process Worker<MyAsyncVectorEnv>-23:\n",
      "Process Worker<MyAsyncVectorEnv>-37:\n",
      "Process Worker<MyAsyncVectorEnv>-155:\n",
      "Process Worker<MyAsyncVectorEnv>-34:\n",
      "Process Worker<MyAsyncVectorEnv>-82:\n",
      "Process Worker<MyAsyncVectorEnv>-185:\n",
      "Process Worker<MyAsyncVectorEnv>-163:\n",
      "Process Worker<MyAsyncVectorEnv>-97:\n",
      "Process Worker<MyAsyncVectorEnv>-173:\n",
      "Process Worker<MyAsyncVectorEnv>-73:\n",
      "Traceback (most recent call last):\n",
      "Traceback (most recent call last):\n",
      "Traceback (most recent call last):\n",
      "Traceback (most recent call last):\n",
      "Traceback (most recent call last):\n",
      "Traceback (most recent call last):\n",
      "Traceback (most recent call last):\n",
      "Traceback (most recent call last):\n",
      "Traceback (most recent call last):\n",
      "Traceback (most recent call last):\n",
      "Traceback (most recent call last):\n",
      "Traceback (most recent call last):\n",
      "Traceback (most recent call last):\n",
      "Traceback (most recent call last):\n",
      "Traceback (most recent call last):\n",
      "Traceback (most recent call last):\n",
      "Traceback (most recent call last):\n",
      "Traceback (most recent call last):\n",
      "Traceback (most recent call last):\n",
      "Traceback (most recent call last):\n",
      "Traceback (most recent call last):\n",
      "Traceback (most recent call last):\n",
      "Traceback (most recent call last):\n",
      "Traceback (most recent call last):\n",
      "Traceback (most recent call last):\n",
      "Traceback (most recent call last):\n",
      "Traceback (most recent call last):\n",
      "Traceback (most recent call last):\n",
      "Traceback (most recent call last):\n",
      "Traceback (most recent call last):\n",
      "Traceback (most recent call last):\n",
      "Traceback (most recent call last):\n",
      "Traceback (most recent call last):\n",
      "Traceback (most recent call last):\n",
      "Traceback (most recent call last):\n",
      "Traceback (most recent call last):\n",
      "Traceback (most recent call last):\n",
      "Traceback (most recent call last):\n",
      "Traceback (most recent call last):\n",
      "Traceback (most recent call last):\n",
      "Traceback (most recent call last):\n",
      "Traceback (most recent call last):\n",
      "Traceback (most recent call last):\n",
      "Traceback (most recent call last):\n",
      "Traceback (most recent call last):\n",
      "Traceback (most recent call last):\n",
      "Traceback (most recent call last):\n",
      "Traceback (most recent call last):\n",
      "Traceback (most recent call last):\n",
      "Traceback (most recent call last):\n",
      "  File \"/data/vision/phillipi/akumar01/miniconda3/envs/egb/lib/python3.10/multiprocessing/process.py\", line 317, in _bootstrap\n",
      "    util._exit_function()\n",
      "  File \"/data/vision/phillipi/akumar01/miniconda3/envs/egb/lib/python3.10/multiprocessing/process.py\", line 317, in _bootstrap\n",
      "    util._exit_function()\n",
      "  File \"/data/vision/phillipi/akumar01/miniconda3/envs/egb/lib/python3.10/multiprocessing/process.py\", line 317, in _bootstrap\n",
      "    util._exit_function()\n",
      "  File \"/data/vision/phillipi/akumar01/miniconda3/envs/egb/lib/python3.10/multiprocessing/process.py\", line 317, in _bootstrap\n",
      "    util._exit_function()\n",
      "Traceback (most recent call last):\n",
      "Traceback (most recent call last):\n",
      "  File \"/data/vision/phillipi/akumar01/miniconda3/envs/egb/lib/python3.10/multiprocessing/process.py\", line 317, in _bootstrap\n",
      "    util._exit_function()\n",
      "  File \"/data/vision/phillipi/akumar01/miniconda3/envs/egb/lib/python3.10/multiprocessing/process.py\", line 317, in _bootstrap\n",
      "    util._exit_function()\n",
      "  File \"/data/vision/phillipi/akumar01/miniconda3/envs/egb/lib/python3.10/multiprocessing/process.py\", line 317, in _bootstrap\n",
      "    util._exit_function()\n",
      "  File \"/data/vision/phillipi/akumar01/miniconda3/envs/egb/lib/python3.10/multiprocessing/process.py\", line 317, in _bootstrap\n",
      "    util._exit_function()\n",
      "  File \"/data/vision/phillipi/akumar01/miniconda3/envs/egb/lib/python3.10/multiprocessing/process.py\", line 317, in _bootstrap\n",
      "    util._exit_function()\n",
      "  File \"/data/vision/phillipi/akumar01/miniconda3/envs/egb/lib/python3.10/multiprocessing/process.py\", line 317, in _bootstrap\n",
      "    util._exit_function()\n",
      "  File \"/data/vision/phillipi/akumar01/miniconda3/envs/egb/lib/python3.10/multiprocessing/process.py\", line 317, in _bootstrap\n",
      "    util._exit_function()\n",
      "  File \"/data/vision/phillipi/akumar01/miniconda3/envs/egb/lib/python3.10/multiprocessing/process.py\", line 317, in _bootstrap\n",
      "    util._exit_function()\n",
      "  File \"/data/vision/phillipi/akumar01/miniconda3/envs/egb/lib/python3.10/multiprocessing/process.py\", line 317, in _bootstrap\n",
      "    util._exit_function()\n",
      "  File \"/data/vision/phillipi/akumar01/miniconda3/envs/egb/lib/python3.10/multiprocessing/process.py\", line 317, in _bootstrap\n",
      "    util._exit_function()\n",
      "  File \"/data/vision/phillipi/akumar01/miniconda3/envs/egb/lib/python3.10/multiprocessing/process.py\", line 317, in _bootstrap\n",
      "    util._exit_function()\n",
      "  File \"/data/vision/phillipi/akumar01/miniconda3/envs/egb/lib/python3.10/multiprocessing/process.py\", line 317, in _bootstrap\n",
      "    util._exit_function()\n",
      "  File \"/data/vision/phillipi/akumar01/miniconda3/envs/egb/lib/python3.10/multiprocessing/process.py\", line 317, in _bootstrap\n",
      "    util._exit_function()\n",
      "  File \"/data/vision/phillipi/akumar01/miniconda3/envs/egb/lib/python3.10/multiprocessing/process.py\", line 317, in _bootstrap\n",
      "    util._exit_function()\n",
      "  File \"/data/vision/phillipi/akumar01/miniconda3/envs/egb/lib/python3.10/multiprocessing/process.py\", line 317, in _bootstrap\n",
      "    util._exit_function()\n",
      "  File \"/data/vision/phillipi/akumar01/miniconda3/envs/egb/lib/python3.10/multiprocessing/process.py\", line 317, in _bootstrap\n",
      "    util._exit_function()\n",
      "  File \"/data/vision/phillipi/akumar01/miniconda3/envs/egb/lib/python3.10/multiprocessing/process.py\", line 317, in _bootstrap\n",
      "    util._exit_function()\n",
      "  File \"/data/vision/phillipi/akumar01/miniconda3/envs/egb/lib/python3.10/multiprocessing/process.py\", line 317, in _bootstrap\n",
      "    util._exit_function()\n",
      "  File \"/data/vision/phillipi/akumar01/miniconda3/envs/egb/lib/python3.10/multiprocessing/process.py\", line 317, in _bootstrap\n",
      "    util._exit_function()\n",
      "  File \"/data/vision/phillipi/akumar01/miniconda3/envs/egb/lib/python3.10/multiprocessing/process.py\", line 317, in _bootstrap\n",
      "    util._exit_function()\n",
      "  File \"/data/vision/phillipi/akumar01/miniconda3/envs/egb/lib/python3.10/multiprocessing/process.py\", line 317, in _bootstrap\n",
      "    util._exit_function()\n",
      "  File \"/data/vision/phillipi/akumar01/miniconda3/envs/egb/lib/python3.10/multiprocessing/process.py\", line 317, in _bootstrap\n",
      "    util._exit_function()\n",
      "  File \"/data/vision/phillipi/akumar01/miniconda3/envs/egb/lib/python3.10/multiprocessing/process.py\", line 317, in _bootstrap\n",
      "    util._exit_function()\n",
      "  File \"/data/vision/phillipi/akumar01/miniconda3/envs/egb/lib/python3.10/multiprocessing/process.py\", line 317, in _bootstrap\n",
      "    util._exit_function()\n",
      "  File \"/data/vision/phillipi/akumar01/miniconda3/envs/egb/lib/python3.10/multiprocessing/process.py\", line 317, in _bootstrap\n",
      "    util._exit_function()\n",
      "  File \"/data/vision/phillipi/akumar01/miniconda3/envs/egb/lib/python3.10/multiprocessing/process.py\", line 317, in _bootstrap\n",
      "    util._exit_function()\n",
      "  File \"/data/vision/phillipi/akumar01/miniconda3/envs/egb/lib/python3.10/multiprocessing/process.py\", line 317, in _bootstrap\n",
      "    util._exit_function()\n",
      "  File \"/data/vision/phillipi/akumar01/miniconda3/envs/egb/lib/python3.10/multiprocessing/process.py\", line 317, in _bootstrap\n",
      "    util._exit_function()\n",
      "  File \"/data/vision/phillipi/akumar01/miniconda3/envs/egb/lib/python3.10/multiprocessing/process.py\", line 317, in _bootstrap\n",
      "    util._exit_function()\n",
      "  File \"/data/vision/phillipi/akumar01/miniconda3/envs/egb/lib/python3.10/multiprocessing/process.py\", line 317, in _bootstrap\n",
      "    util._exit_function()\n",
      "  File \"/data/vision/phillipi/akumar01/miniconda3/envs/egb/lib/python3.10/multiprocessing/process.py\", line 317, in _bootstrap\n",
      "    util._exit_function()\n",
      "  File \"/data/vision/phillipi/akumar01/miniconda3/envs/egb/lib/python3.10/multiprocessing/process.py\", line 317, in _bootstrap\n",
      "    util._exit_function()\n",
      "  File \"/data/vision/phillipi/akumar01/miniconda3/envs/egb/lib/python3.10/multiprocessing/process.py\", line 317, in _bootstrap\n",
      "    util._exit_function()\n",
      "  File \"/data/vision/phillipi/akumar01/miniconda3/envs/egb/lib/python3.10/multiprocessing/process.py\", line 317, in _bootstrap\n",
      "    util._exit_function()\n",
      "  File \"/data/vision/phillipi/akumar01/miniconda3/envs/egb/lib/python3.10/multiprocessing/process.py\", line 317, in _bootstrap\n",
      "    util._exit_function()\n",
      "  File \"/data/vision/phillipi/akumar01/miniconda3/envs/egb/lib/python3.10/multiprocessing/process.py\", line 317, in _bootstrap\n",
      "    util._exit_function()\n",
      "  File \"/data/vision/phillipi/akumar01/miniconda3/envs/egb/lib/python3.10/multiprocessing/process.py\", line 317, in _bootstrap\n",
      "    util._exit_function()\n",
      "  File \"/data/vision/phillipi/akumar01/miniconda3/envs/egb/lib/python3.10/multiprocessing/process.py\", line 317, in _bootstrap\n",
      "    util._exit_function()\n",
      "  File \"/data/vision/phillipi/akumar01/miniconda3/envs/egb/lib/python3.10/multiprocessing/process.py\", line 317, in _bootstrap\n",
      "    util._exit_function()\n",
      "  File \"/data/vision/phillipi/akumar01/miniconda3/envs/egb/lib/python3.10/multiprocessing/process.py\", line 317, in _bootstrap\n",
      "    util._exit_function()\n",
      "  File \"/data/vision/phillipi/akumar01/miniconda3/envs/egb/lib/python3.10/multiprocessing/process.py\", line 317, in _bootstrap\n",
      "    util._exit_function()\n",
      "  File \"/data/vision/phillipi/akumar01/miniconda3/envs/egb/lib/python3.10/multiprocessing/process.py\", line 317, in _bootstrap\n",
      "    util._exit_function()\n",
      "  File \"/data/vision/phillipi/akumar01/miniconda3/envs/egb/lib/python3.10/multiprocessing/process.py\", line 317, in _bootstrap\n",
      "    util._exit_function()\n",
      "  File \"/data/vision/phillipi/akumar01/miniconda3/envs/egb/lib/python3.10/multiprocessing/util.py\", line 360, in _exit_function\n",
      "    _run_finalizers()\n",
      "  File \"/data/vision/phillipi/akumar01/miniconda3/envs/egb/lib/python3.10/multiprocessing/util.py\", line 360, in _exit_function\n",
      "    _run_finalizers()\n",
      "  File \"/data/vision/phillipi/akumar01/miniconda3/envs/egb/lib/python3.10/multiprocessing/process.py\", line 317, in _bootstrap\n",
      "    util._exit_function()\n",
      "  File \"/data/vision/phillipi/akumar01/miniconda3/envs/egb/lib/python3.10/multiprocessing/process.py\", line 317, in _bootstrap\n",
      "    util._exit_function()\n",
      "  File \"/data/vision/phillipi/akumar01/miniconda3/envs/egb/lib/python3.10/multiprocessing/util.py\", line 360, in _exit_function\n",
      "    _run_finalizers()\n",
      "  File \"/data/vision/phillipi/akumar01/miniconda3/envs/egb/lib/python3.10/multiprocessing/process.py\", line 317, in _bootstrap\n",
      "    util._exit_function()\n",
      "  File \"/data/vision/phillipi/akumar01/miniconda3/envs/egb/lib/python3.10/multiprocessing/util.py\", line 360, in _exit_function\n",
      "    _run_finalizers()\n",
      "  File \"/data/vision/phillipi/akumar01/miniconda3/envs/egb/lib/python3.10/multiprocessing/util.py\", line 360, in _exit_function\n",
      "    _run_finalizers()\n",
      "  File \"/data/vision/phillipi/akumar01/miniconda3/envs/egb/lib/python3.10/multiprocessing/util.py\", line 360, in _exit_function\n",
      "    _run_finalizers()\n",
      "  File \"/data/vision/phillipi/akumar01/miniconda3/envs/egb/lib/python3.10/multiprocessing/util.py\", line 360, in _exit_function\n",
      "    _run_finalizers()\n",
      "  File \"/data/vision/phillipi/akumar01/miniconda3/envs/egb/lib/python3.10/multiprocessing/util.py\", line 360, in _exit_function\n",
      "    _run_finalizers()\n",
      "  File \"/data/vision/phillipi/akumar01/miniconda3/envs/egb/lib/python3.10/multiprocessing/process.py\", line 317, in _bootstrap\n",
      "    util._exit_function()\n",
      "  File \"/data/vision/phillipi/akumar01/miniconda3/envs/egb/lib/python3.10/multiprocessing/util.py\", line 360, in _exit_function\n",
      "    _run_finalizers()\n",
      "  File \"/data/vision/phillipi/akumar01/miniconda3/envs/egb/lib/python3.10/multiprocessing/util.py\", line 360, in _exit_function\n",
      "    _run_finalizers()\n",
      "  File \"/data/vision/phillipi/akumar01/miniconda3/envs/egb/lib/python3.10/multiprocessing/process.py\", line 317, in _bootstrap\n",
      "    util._exit_function()\n",
      "  File \"/data/vision/phillipi/akumar01/miniconda3/envs/egb/lib/python3.10/multiprocessing/util.py\", line 360, in _exit_function\n",
      "    _run_finalizers()\n",
      "  File \"/data/vision/phillipi/akumar01/miniconda3/envs/egb/lib/python3.10/multiprocessing/util.py\", line 360, in _exit_function\n",
      "    _run_finalizers()\n",
      "  File \"/data/vision/phillipi/akumar01/miniconda3/envs/egb/lib/python3.10/multiprocessing/util.py\", line 360, in _exit_function\n",
      "    _run_finalizers()\n",
      "  File \"/data/vision/phillipi/akumar01/miniconda3/envs/egb/lib/python3.10/multiprocessing/util.py\", line 360, in _exit_function\n",
      "    _run_finalizers()\n",
      "  File \"/data/vision/phillipi/akumar01/miniconda3/envs/egb/lib/python3.10/multiprocessing/util.py\", line 360, in _exit_function\n",
      "    _run_finalizers()\n",
      "  File \"/data/vision/phillipi/akumar01/miniconda3/envs/egb/lib/python3.10/multiprocessing/util.py\", line 360, in _exit_function\n",
      "    _run_finalizers()\n",
      "  File \"/data/vision/phillipi/akumar01/miniconda3/envs/egb/lib/python3.10/multiprocessing/util.py\", line 360, in _exit_function\n",
      "    _run_finalizers()\n",
      "  File \"/data/vision/phillipi/akumar01/miniconda3/envs/egb/lib/python3.10/multiprocessing/util.py\", line 360, in _exit_function\n",
      "    _run_finalizers()\n",
      "  File \"/data/vision/phillipi/akumar01/miniconda3/envs/egb/lib/python3.10/multiprocessing/util.py\", line 360, in _exit_function\n",
      "    _run_finalizers()\n",
      "  File \"/data/vision/phillipi/akumar01/miniconda3/envs/egb/lib/python3.10/multiprocessing/util.py\", line 360, in _exit_function\n",
      "    _run_finalizers()\n",
      "  File \"/data/vision/phillipi/akumar01/miniconda3/envs/egb/lib/python3.10/multiprocessing/util.py\", line 360, in _exit_function\n",
      "    _run_finalizers()\n",
      "  File \"/data/vision/phillipi/akumar01/miniconda3/envs/egb/lib/python3.10/multiprocessing/util.py\", line 360, in _exit_function\n",
      "    _run_finalizers()\n",
      "  File \"/data/vision/phillipi/akumar01/miniconda3/envs/egb/lib/python3.10/multiprocessing/util.py\", line 360, in _exit_function\n",
      "    _run_finalizers()\n",
      "  File \"/data/vision/phillipi/akumar01/miniconda3/envs/egb/lib/python3.10/multiprocessing/util.py\", line 360, in _exit_function\n",
      "    _run_finalizers()\n",
      "  File \"/data/vision/phillipi/akumar01/miniconda3/envs/egb/lib/python3.10/multiprocessing/util.py\", line 360, in _exit_function\n",
      "    _run_finalizers()\n",
      "  File \"/data/vision/phillipi/akumar01/miniconda3/envs/egb/lib/python3.10/multiprocessing/util.py\", line 360, in _exit_function\n",
      "    _run_finalizers()\n",
      "  File \"/data/vision/phillipi/akumar01/miniconda3/envs/egb/lib/python3.10/multiprocessing/util.py\", line 360, in _exit_function\n",
      "    _run_finalizers()\n",
      "  File \"/data/vision/phillipi/akumar01/miniconda3/envs/egb/lib/python3.10/multiprocessing/util.py\", line 360, in _exit_function\n",
      "    _run_finalizers()\n",
      "  File \"/data/vision/phillipi/akumar01/miniconda3/envs/egb/lib/python3.10/multiprocessing/util.py\", line 360, in _exit_function\n",
      "    _run_finalizers()\n",
      "  File \"/data/vision/phillipi/akumar01/miniconda3/envs/egb/lib/python3.10/multiprocessing/util.py\", line 360, in _exit_function\n",
      "    _run_finalizers()\n",
      "  File \"/data/vision/phillipi/akumar01/miniconda3/envs/egb/lib/python3.10/multiprocessing/util.py\", line 360, in _exit_function\n",
      "    _run_finalizers()\n",
      "  File \"/data/vision/phillipi/akumar01/miniconda3/envs/egb/lib/python3.10/multiprocessing/util.py\", line 360, in _exit_function\n",
      "    _run_finalizers()\n",
      "  File \"/data/vision/phillipi/akumar01/miniconda3/envs/egb/lib/python3.10/multiprocessing/util.py\", line 360, in _exit_function\n",
      "    _run_finalizers()\n",
      "  File \"/data/vision/phillipi/akumar01/miniconda3/envs/egb/lib/python3.10/multiprocessing/util.py\", line 360, in _exit_function\n",
      "    _run_finalizers()\n",
      "  File \"/data/vision/phillipi/akumar01/miniconda3/envs/egb/lib/python3.10/multiprocessing/util.py\", line 360, in _exit_function\n",
      "    _run_finalizers()\n",
      "  File \"/data/vision/phillipi/akumar01/miniconda3/envs/egb/lib/python3.10/multiprocessing/util.py\", line 360, in _exit_function\n",
      "    _run_finalizers()\n",
      "  File \"/data/vision/phillipi/akumar01/miniconda3/envs/egb/lib/python3.10/multiprocessing/util.py\", line 360, in _exit_function\n",
      "    _run_finalizers()\n",
      "  File \"/data/vision/phillipi/akumar01/miniconda3/envs/egb/lib/python3.10/multiprocessing/util.py\", line 360, in _exit_function\n",
      "    _run_finalizers()\n",
      "  File \"/data/vision/phillipi/akumar01/miniconda3/envs/egb/lib/python3.10/multiprocessing/util.py\", line 360, in _exit_function\n",
      "    _run_finalizers()\n",
      "  File \"/data/vision/phillipi/akumar01/miniconda3/envs/egb/lib/python3.10/multiprocessing/util.py\", line 360, in _exit_function\n",
      "    _run_finalizers()\n",
      "  File \"/data/vision/phillipi/akumar01/miniconda3/envs/egb/lib/python3.10/multiprocessing/util.py\", line 360, in _exit_function\n",
      "    _run_finalizers()\n",
      "  File \"/data/vision/phillipi/akumar01/miniconda3/envs/egb/lib/python3.10/multiprocessing/util.py\", line 360, in _exit_function\n",
      "    _run_finalizers()\n",
      "  File \"/data/vision/phillipi/akumar01/miniconda3/envs/egb/lib/python3.10/multiprocessing/util.py\", line 360, in _exit_function\n",
      "    _run_finalizers()\n",
      "  File \"/data/vision/phillipi/akumar01/miniconda3/envs/egb/lib/python3.10/multiprocessing/util.py\", line 360, in _exit_function\n",
      "    _run_finalizers()\n",
      "  File \"/data/vision/phillipi/akumar01/miniconda3/envs/egb/lib/python3.10/multiprocessing/util.py\", line 360, in _exit_function\n",
      "    _run_finalizers()\n",
      "  File \"/data/vision/phillipi/akumar01/miniconda3/envs/egb/lib/python3.10/multiprocessing/util.py\", line 360, in _exit_function\n",
      "    _run_finalizers()\n",
      "  File \"/data/vision/phillipi/akumar01/miniconda3/envs/egb/lib/python3.10/multiprocessing/util.py\", line 360, in _exit_function\n",
      "    _run_finalizers()\n",
      "  File \"/data/vision/phillipi/akumar01/miniconda3/envs/egb/lib/python3.10/multiprocessing/util.py\", line 360, in _exit_function\n",
      "    _run_finalizers()\n",
      "  File \"/data/vision/phillipi/akumar01/miniconda3/envs/egb/lib/python3.10/multiprocessing/util.py\", line 300, in _run_finalizers\n",
      "    finalizer()\n",
      "  File \"/data/vision/phillipi/akumar01/miniconda3/envs/egb/lib/python3.10/multiprocessing/util.py\", line 300, in _run_finalizers\n",
      "    finalizer()\n",
      "  File \"/data/vision/phillipi/akumar01/miniconda3/envs/egb/lib/python3.10/multiprocessing/util.py\", line 360, in _exit_function\n",
      "    _run_finalizers()\n",
      "  File \"/data/vision/phillipi/akumar01/miniconda3/envs/egb/lib/python3.10/multiprocessing/util.py\", line 300, in _run_finalizers\n",
      "    finalizer()\n",
      "  File \"/data/vision/phillipi/akumar01/miniconda3/envs/egb/lib/python3.10/multiprocessing/util.py\", line 300, in _run_finalizers\n",
      "    finalizer()\n",
      "  File \"/data/vision/phillipi/akumar01/miniconda3/envs/egb/lib/python3.10/multiprocessing/util.py\", line 360, in _exit_function\n",
      "    _run_finalizers()\n",
      "  File \"/data/vision/phillipi/akumar01/miniconda3/envs/egb/lib/python3.10/multiprocessing/util.py\", line 300, in _run_finalizers\n",
      "    finalizer()\n",
      "  File \"/data/vision/phillipi/akumar01/miniconda3/envs/egb/lib/python3.10/multiprocessing/util.py\", line 300, in _run_finalizers\n",
      "    finalizer()\n",
      "  File \"/data/vision/phillipi/akumar01/miniconda3/envs/egb/lib/python3.10/multiprocessing/util.py\", line 300, in _run_finalizers\n",
      "    finalizer()\n",
      "  File \"/data/vision/phillipi/akumar01/miniconda3/envs/egb/lib/python3.10/multiprocessing/util.py\", line 360, in _exit_function\n",
      "    _run_finalizers()\n",
      "  File \"/data/vision/phillipi/akumar01/miniconda3/envs/egb/lib/python3.10/multiprocessing/util.py\", line 300, in _run_finalizers\n",
      "    finalizer()\n",
      "  File \"/data/vision/phillipi/akumar01/miniconda3/envs/egb/lib/python3.10/multiprocessing/util.py\", line 300, in _run_finalizers\n",
      "    finalizer()\n",
      "  File \"/data/vision/phillipi/akumar01/miniconda3/envs/egb/lib/python3.10/multiprocessing/util.py\", line 300, in _run_finalizers\n",
      "    finalizer()\n",
      "  File \"/data/vision/phillipi/akumar01/miniconda3/envs/egb/lib/python3.10/multiprocessing/util.py\", line 300, in _run_finalizers\n",
      "    finalizer()\n",
      "  File \"/data/vision/phillipi/akumar01/miniconda3/envs/egb/lib/python3.10/multiprocessing/util.py\", line 300, in _run_finalizers\n",
      "    finalizer()\n",
      "  File \"/data/vision/phillipi/akumar01/miniconda3/envs/egb/lib/python3.10/multiprocessing/util.py\", line 360, in _exit_function\n",
      "    _run_finalizers()\n",
      "  File \"/data/vision/phillipi/akumar01/miniconda3/envs/egb/lib/python3.10/multiprocessing/util.py\", line 300, in _run_finalizers\n",
      "    finalizer()\n",
      "  File \"/data/vision/phillipi/akumar01/miniconda3/envs/egb/lib/python3.10/multiprocessing/util.py\", line 300, in _run_finalizers\n",
      "    finalizer()\n",
      "  File \"/data/vision/phillipi/akumar01/miniconda3/envs/egb/lib/python3.10/multiprocessing/util.py\", line 300, in _run_finalizers\n",
      "    finalizer()\n",
      "  File \"/data/vision/phillipi/akumar01/miniconda3/envs/egb/lib/python3.10/multiprocessing/util.py\", line 300, in _run_finalizers\n",
      "    finalizer()\n",
      "  File \"/data/vision/phillipi/akumar01/miniconda3/envs/egb/lib/python3.10/multiprocessing/util.py\", line 300, in _run_finalizers\n",
      "    finalizer()\n",
      "  File \"/data/vision/phillipi/akumar01/miniconda3/envs/egb/lib/python3.10/multiprocessing/util.py\", line 300, in _run_finalizers\n",
      "    finalizer()\n",
      "  File \"/data/vision/phillipi/akumar01/miniconda3/envs/egb/lib/python3.10/multiprocessing/util.py\", line 300, in _run_finalizers\n",
      "    finalizer()\n",
      "  File \"/data/vision/phillipi/akumar01/miniconda3/envs/egb/lib/python3.10/multiprocessing/util.py\", line 300, in _run_finalizers\n",
      "    finalizer()\n",
      "  File \"/data/vision/phillipi/akumar01/miniconda3/envs/egb/lib/python3.10/multiprocessing/util.py\", line 300, in _run_finalizers\n",
      "    finalizer()\n",
      "  File \"/data/vision/phillipi/akumar01/miniconda3/envs/egb/lib/python3.10/multiprocessing/util.py\", line 300, in _run_finalizers\n",
      "    finalizer()\n",
      "  File \"/data/vision/phillipi/akumar01/miniconda3/envs/egb/lib/python3.10/multiprocessing/util.py\", line 300, in _run_finalizers\n",
      "    finalizer()\n",
      "  File \"/data/vision/phillipi/akumar01/miniconda3/envs/egb/lib/python3.10/multiprocessing/util.py\", line 300, in _run_finalizers\n",
      "    finalizer()\n",
      "  File \"/data/vision/phillipi/akumar01/miniconda3/envs/egb/lib/python3.10/multiprocessing/util.py\", line 300, in _run_finalizers\n",
      "    finalizer()\n",
      "  File \"/data/vision/phillipi/akumar01/miniconda3/envs/egb/lib/python3.10/multiprocessing/util.py\", line 300, in _run_finalizers\n",
      "    finalizer()\n",
      "  File \"/data/vision/phillipi/akumar01/miniconda3/envs/egb/lib/python3.10/multiprocessing/util.py\", line 300, in _run_finalizers\n",
      "    finalizer()\n",
      "  File \"/data/vision/phillipi/akumar01/miniconda3/envs/egb/lib/python3.10/multiprocessing/util.py\", line 300, in _run_finalizers\n",
      "    finalizer()\n",
      "  File \"/data/vision/phillipi/akumar01/miniconda3/envs/egb/lib/python3.10/multiprocessing/util.py\", line 300, in _run_finalizers\n",
      "    finalizer()\n",
      "  File \"/data/vision/phillipi/akumar01/miniconda3/envs/egb/lib/python3.10/multiprocessing/util.py\", line 300, in _run_finalizers\n",
      "    finalizer()\n",
      "  File \"/data/vision/phillipi/akumar01/miniconda3/envs/egb/lib/python3.10/multiprocessing/util.py\", line 300, in _run_finalizers\n",
      "    finalizer()\n",
      "  File \"/data/vision/phillipi/akumar01/miniconda3/envs/egb/lib/python3.10/multiprocessing/util.py\", line 300, in _run_finalizers\n",
      "    finalizer()\n",
      "  File \"/data/vision/phillipi/akumar01/miniconda3/envs/egb/lib/python3.10/multiprocessing/util.py\", line 300, in _run_finalizers\n",
      "    finalizer()\n",
      "  File \"/data/vision/phillipi/akumar01/miniconda3/envs/egb/lib/python3.10/multiprocessing/util.py\", line 300, in _run_finalizers\n",
      "    finalizer()\n",
      "  File \"/data/vision/phillipi/akumar01/miniconda3/envs/egb/lib/python3.10/multiprocessing/util.py\", line 300, in _run_finalizers\n",
      "    finalizer()\n",
      "  File \"/data/vision/phillipi/akumar01/miniconda3/envs/egb/lib/python3.10/multiprocessing/util.py\", line 300, in _run_finalizers\n",
      "    finalizer()\n",
      "  File \"/data/vision/phillipi/akumar01/miniconda3/envs/egb/lib/python3.10/multiprocessing/util.py\", line 300, in _run_finalizers\n",
      "    finalizer()\n",
      "  File \"/data/vision/phillipi/akumar01/miniconda3/envs/egb/lib/python3.10/multiprocessing/util.py\", line 300, in _run_finalizers\n",
      "    finalizer()\n",
      "  File \"/data/vision/phillipi/akumar01/miniconda3/envs/egb/lib/python3.10/multiprocessing/util.py\", line 300, in _run_finalizers\n",
      "    finalizer()\n",
      "  File \"/data/vision/phillipi/akumar01/miniconda3/envs/egb/lib/python3.10/multiprocessing/util.py\", line 300, in _run_finalizers\n",
      "    finalizer()\n",
      "  File \"/data/vision/phillipi/akumar01/miniconda3/envs/egb/lib/python3.10/multiprocessing/util.py\", line 300, in _run_finalizers\n",
      "    finalizer()\n",
      "  File \"/data/vision/phillipi/akumar01/miniconda3/envs/egb/lib/python3.10/multiprocessing/util.py\", line 300, in _run_finalizers\n",
      "    finalizer()\n",
      "  File \"/data/vision/phillipi/akumar01/miniconda3/envs/egb/lib/python3.10/multiprocessing/util.py\", line 300, in _run_finalizers\n",
      "    finalizer()\n",
      "  File \"/data/vision/phillipi/akumar01/miniconda3/envs/egb/lib/python3.10/multiprocessing/util.py\", line 300, in _run_finalizers\n",
      "    finalizer()\n",
      "  File \"/data/vision/phillipi/akumar01/miniconda3/envs/egb/lib/python3.10/multiprocessing/util.py\", line 300, in _run_finalizers\n",
      "    finalizer()\n",
      "  File \"/data/vision/phillipi/akumar01/miniconda3/envs/egb/lib/python3.10/multiprocessing/util.py\", line 300, in _run_finalizers\n",
      "    finalizer()\n",
      "  File \"/data/vision/phillipi/akumar01/miniconda3/envs/egb/lib/python3.10/multiprocessing/util.py\", line 300, in _run_finalizers\n",
      "    finalizer()\n",
      "  File \"/data/vision/phillipi/akumar01/miniconda3/envs/egb/lib/python3.10/multiprocessing/util.py\", line 224, in __call__\n",
      "    res = self._callback(*self._args, **self._kwargs)\n",
      "  File \"/data/vision/phillipi/akumar01/miniconda3/envs/egb/lib/python3.10/multiprocessing/util.py\", line 300, in _run_finalizers\n",
      "    finalizer()\n",
      "  File \"/data/vision/phillipi/akumar01/miniconda3/envs/egb/lib/python3.10/multiprocessing/util.py\", line 224, in __call__\n",
      "    res = self._callback(*self._args, **self._kwargs)\n",
      "  File \"/data/vision/phillipi/akumar01/miniconda3/envs/egb/lib/python3.10/multiprocessing/util.py\", line 224, in __call__\n",
      "    res = self._callback(*self._args, **self._kwargs)\n",
      "  File \"/data/vision/phillipi/akumar01/miniconda3/envs/egb/lib/python3.10/multiprocessing/util.py\", line 224, in __call__\n",
      "    res = self._callback(*self._args, **self._kwargs)\n",
      "  File \"/data/vision/phillipi/akumar01/miniconda3/envs/egb/lib/python3.10/multiprocessing/util.py\", line 300, in _run_finalizers\n",
      "    finalizer()\n",
      "  File \"/data/vision/phillipi/akumar01/miniconda3/envs/egb/lib/python3.10/multiprocessing/util.py\", line 300, in _run_finalizers\n",
      "    finalizer()\n",
      "  File \"/data/vision/phillipi/akumar01/miniconda3/envs/egb/lib/python3.10/multiprocessing/util.py\", line 224, in __call__\n",
      "    res = self._callback(*self._args, **self._kwargs)\n",
      "  File \"/data/vision/phillipi/akumar01/miniconda3/envs/egb/lib/python3.10/multiprocessing/util.py\", line 224, in __call__\n",
      "    res = self._callback(*self._args, **self._kwargs)\n",
      "  File \"/data/vision/phillipi/akumar01/miniconda3/envs/egb/lib/python3.10/multiprocessing/util.py\", line 224, in __call__\n",
      "    res = self._callback(*self._args, **self._kwargs)\n",
      "  File \"/data/vision/phillipi/akumar01/miniconda3/envs/egb/lib/python3.10/multiprocessing/util.py\", line 300, in _run_finalizers\n",
      "    finalizer()\n",
      "  File \"/data/vision/phillipi/akumar01/miniconda3/envs/egb/lib/python3.10/multiprocessing/util.py\", line 224, in __call__\n",
      "    res = self._callback(*self._args, **self._kwargs)\n",
      "  File \"/data/vision/phillipi/akumar01/miniconda3/envs/egb/lib/python3.10/multiprocessing/util.py\", line 224, in __call__\n",
      "    res = self._callback(*self._args, **self._kwargs)\n",
      "  File \"/data/vision/phillipi/akumar01/miniconda3/envs/egb/lib/python3.10/multiprocessing/util.py\", line 224, in __call__\n",
      "    res = self._callback(*self._args, **self._kwargs)\n",
      "  File \"/data/vision/phillipi/akumar01/miniconda3/envs/egb/lib/python3.10/multiprocessing/util.py\", line 224, in __call__\n",
      "    res = self._callback(*self._args, **self._kwargs)\n",
      "  File \"/data/vision/phillipi/akumar01/miniconda3/envs/egb/lib/python3.10/multiprocessing/util.py\", line 224, in __call__\n",
      "    res = self._callback(*self._args, **self._kwargs)\n",
      "  File \"/data/vision/phillipi/akumar01/miniconda3/envs/egb/lib/python3.10/multiprocessing/util.py\", line 224, in __call__\n",
      "    res = self._callback(*self._args, **self._kwargs)\n",
      "  File \"/data/vision/phillipi/akumar01/miniconda3/envs/egb/lib/python3.10/multiprocessing/util.py\", line 300, in _run_finalizers\n",
      "    finalizer()\n",
      "  File \"/data/vision/phillipi/akumar01/miniconda3/envs/egb/lib/python3.10/multiprocessing/util.py\", line 224, in __call__\n",
      "    res = self._callback(*self._args, **self._kwargs)\n",
      "  File \"/data/vision/phillipi/akumar01/miniconda3/envs/egb/lib/python3.10/multiprocessing/util.py\", line 224, in __call__\n",
      "    res = self._callback(*self._args, **self._kwargs)\n",
      "  File \"/data/vision/phillipi/akumar01/miniconda3/envs/egb/lib/python3.10/multiprocessing/util.py\", line 224, in __call__\n",
      "    res = self._callback(*self._args, **self._kwargs)\n",
      "  File \"/data/vision/phillipi/akumar01/miniconda3/envs/egb/lib/python3.10/multiprocessing/util.py\", line 224, in __call__\n",
      "    res = self._callback(*self._args, **self._kwargs)\n",
      "  File \"/data/vision/phillipi/akumar01/miniconda3/envs/egb/lib/python3.10/multiprocessing/util.py\", line 224, in __call__\n",
      "    res = self._callback(*self._args, **self._kwargs)\n",
      "  File \"/data/vision/phillipi/akumar01/miniconda3/envs/egb/lib/python3.10/multiprocessing/util.py\", line 224, in __call__\n",
      "    res = self._callback(*self._args, **self._kwargs)\n",
      "  File \"/data/vision/phillipi/akumar01/miniconda3/envs/egb/lib/python3.10/multiprocessing/util.py\", line 224, in __call__\n",
      "    res = self._callback(*self._args, **self._kwargs)\n",
      "  File \"/data/vision/phillipi/akumar01/miniconda3/envs/egb/lib/python3.10/multiprocessing/util.py\", line 224, in __call__\n",
      "    res = self._callback(*self._args, **self._kwargs)\n",
      "  File \"/data/vision/phillipi/akumar01/miniconda3/envs/egb/lib/python3.10/multiprocessing/util.py\", line 224, in __call__\n",
      "    res = self._callback(*self._args, **self._kwargs)\n",
      "  File \"/data/vision/phillipi/akumar01/miniconda3/envs/egb/lib/python3.10/multiprocessing/util.py\", line 224, in __call__\n",
      "    res = self._callback(*self._args, **self._kwargs)\n",
      "  File \"/data/vision/phillipi/akumar01/miniconda3/envs/egb/lib/python3.10/multiprocessing/util.py\", line 224, in __call__\n",
      "    res = self._callback(*self._args, **self._kwargs)\n",
      "  File \"/data/vision/phillipi/akumar01/miniconda3/envs/egb/lib/python3.10/multiprocessing/util.py\", line 224, in __call__\n",
      "    res = self._callback(*self._args, **self._kwargs)\n",
      "  File \"/data/vision/phillipi/akumar01/miniconda3/envs/egb/lib/python3.10/multiprocessing/util.py\", line 224, in __call__\n",
      "    res = self._callback(*self._args, **self._kwargs)\n",
      "  File \"/data/vision/phillipi/akumar01/miniconda3/envs/egb/lib/python3.10/multiprocessing/util.py\", line 224, in __call__\n",
      "    res = self._callback(*self._args, **self._kwargs)\n",
      "  File \"/data/vision/phillipi/akumar01/miniconda3/envs/egb/lib/python3.10/multiprocessing/util.py\", line 224, in __call__\n",
      "    res = self._callback(*self._args, **self._kwargs)\n",
      "  File \"/data/vision/phillipi/akumar01/miniconda3/envs/egb/lib/python3.10/multiprocessing/util.py\", line 224, in __call__\n",
      "    res = self._callback(*self._args, **self._kwargs)\n",
      "  File \"/data/vision/phillipi/akumar01/miniconda3/envs/egb/lib/python3.10/multiprocessing/util.py\", line 224, in __call__\n",
      "    res = self._callback(*self._args, **self._kwargs)\n",
      "  File \"/data/vision/phillipi/akumar01/miniconda3/envs/egb/lib/python3.10/multiprocessing/util.py\", line 224, in __call__\n",
      "    res = self._callback(*self._args, **self._kwargs)\n",
      "  File \"/data/vision/phillipi/akumar01/miniconda3/envs/egb/lib/python3.10/multiprocessing/util.py\", line 224, in __call__\n",
      "    res = self._callback(*self._args, **self._kwargs)\n",
      "  File \"/data/vision/phillipi/akumar01/miniconda3/envs/egb/lib/python3.10/multiprocessing/util.py\", line 224, in __call__\n",
      "    res = self._callback(*self._args, **self._kwargs)\n",
      "  File \"/data/vision/phillipi/akumar01/miniconda3/envs/egb/lib/python3.10/multiprocessing/util.py\", line 224, in __call__\n",
      "    res = self._callback(*self._args, **self._kwargs)\n",
      "  File \"/data/vision/phillipi/akumar01/miniconda3/envs/egb/lib/python3.10/multiprocessing/util.py\", line 224, in __call__\n",
      "    res = self._callback(*self._args, **self._kwargs)\n",
      "  File \"/data/vision/phillipi/akumar01/miniconda3/envs/egb/lib/python3.10/multiprocessing/util.py\", line 224, in __call__\n",
      "    res = self._callback(*self._args, **self._kwargs)\n",
      "  File \"/data/vision/phillipi/akumar01/miniconda3/envs/egb/lib/python3.10/multiprocessing/util.py\", line 224, in __call__\n",
      "    res = self._callback(*self._args, **self._kwargs)\n",
      "  File \"/data/vision/phillipi/akumar01/miniconda3/envs/egb/lib/python3.10/multiprocessing/util.py\", line 224, in __call__\n",
      "    res = self._callback(*self._args, **self._kwargs)\n",
      "  File \"/data/vision/phillipi/akumar01/miniconda3/envs/egb/lib/python3.10/multiprocessing/util.py\", line 224, in __call__\n",
      "    res = self._callback(*self._args, **self._kwargs)\n",
      "  File \"/data/vision/phillipi/akumar01/miniconda3/envs/egb/lib/python3.10/multiprocessing/util.py\", line 224, in __call__\n",
      "    res = self._callback(*self._args, **self._kwargs)\n",
      "  File \"/data/vision/phillipi/akumar01/miniconda3/envs/egb/lib/python3.10/multiprocessing/util.py\", line 224, in __call__\n",
      "    res = self._callback(*self._args, **self._kwargs)\n",
      "  File \"/data/vision/phillipi/akumar01/miniconda3/envs/egb/lib/python3.10/multiprocessing/util.py\", line 224, in __call__\n",
      "    res = self._callback(*self._args, **self._kwargs)\n",
      "  File \"/data/vision/phillipi/akumar01/miniconda3/envs/egb/lib/python3.10/multiprocessing/util.py\", line 224, in __call__\n",
      "    res = self._callback(*self._args, **self._kwargs)\n",
      "  File \"/data/vision/phillipi/akumar01/miniconda3/envs/egb/lib/python3.10/multiprocessing/util.py\", line 224, in __call__\n",
      "    res = self._callback(*self._args, **self._kwargs)\n",
      "  File \"/data/vision/phillipi/akumar01/miniconda3/envs/egb/lib/python3.10/multiprocessing/util.py\", line 224, in __call__\n",
      "    res = self._callback(*self._args, **self._kwargs)\n",
      "  File \"/data/vision/phillipi/akumar01/miniconda3/envs/egb/lib/python3.10/multiprocessing/util.py\", line 224, in __call__\n",
      "    res = self._callback(*self._args, **self._kwargs)\n",
      "  File \"/data/vision/phillipi/akumar01/miniconda3/envs/egb/lib/python3.10/multiprocessing/util.py\", line 224, in __call__\n",
      "    res = self._callback(*self._args, **self._kwargs)\n",
      "  File \"/data/vision/phillipi/akumar01/miniconda3/envs/egb/lib/python3.10/multiprocessing/util.py\", line 224, in __call__\n",
      "    res = self._callback(*self._args, **self._kwargs)\n",
      "  File \"/data/vision/phillipi/akumar01/miniconda3/envs/egb/lib/python3.10/multiprocessing/queues.py\", line 199, in _finalize_join\n",
      "    thread.join()\n",
      "  File \"/data/vision/phillipi/akumar01/miniconda3/envs/egb/lib/python3.10/multiprocessing/queues.py\", line 199, in _finalize_join\n",
      "    thread.join()\n",
      "  File \"/data/vision/phillipi/akumar01/miniconda3/envs/egb/lib/python3.10/multiprocessing/queues.py\", line 199, in _finalize_join\n",
      "    thread.join()\n",
      "  File \"/data/vision/phillipi/akumar01/miniconda3/envs/egb/lib/python3.10/multiprocessing/queues.py\", line 199, in _finalize_join\n",
      "    thread.join()\n",
      "  File \"/data/vision/phillipi/akumar01/miniconda3/envs/egb/lib/python3.10/multiprocessing/util.py\", line 224, in __call__\n",
      "    res = self._callback(*self._args, **self._kwargs)\n",
      "  File \"/data/vision/phillipi/akumar01/miniconda3/envs/egb/lib/python3.10/multiprocessing/queues.py\", line 199, in _finalize_join\n",
      "    thread.join()\n",
      "  File \"/data/vision/phillipi/akumar01/miniconda3/envs/egb/lib/python3.10/multiprocessing/util.py\", line 224, in __call__\n",
      "    res = self._callback(*self._args, **self._kwargs)\n",
      "  File \"/data/vision/phillipi/akumar01/miniconda3/envs/egb/lib/python3.10/multiprocessing/queues.py\", line 199, in _finalize_join\n",
      "    thread.join()\n",
      "  File \"/data/vision/phillipi/akumar01/miniconda3/envs/egb/lib/python3.10/multiprocessing/queues.py\", line 199, in _finalize_join\n",
      "    thread.join()\n",
      "  File \"/data/vision/phillipi/akumar01/miniconda3/envs/egb/lib/python3.10/multiprocessing/util.py\", line 224, in __call__\n",
      "    res = self._callback(*self._args, **self._kwargs)\n",
      "  File \"/data/vision/phillipi/akumar01/miniconda3/envs/egb/lib/python3.10/multiprocessing/queues.py\", line 199, in _finalize_join\n",
      "    thread.join()\n",
      "  File \"/data/vision/phillipi/akumar01/miniconda3/envs/egb/lib/python3.10/multiprocessing/queues.py\", line 199, in _finalize_join\n",
      "    thread.join()\n",
      "  File \"/data/vision/phillipi/akumar01/miniconda3/envs/egb/lib/python3.10/multiprocessing/queues.py\", line 199, in _finalize_join\n",
      "    thread.join()\n",
      "  File \"/data/vision/phillipi/akumar01/miniconda3/envs/egb/lib/python3.10/multiprocessing/queues.py\", line 199, in _finalize_join\n",
      "    thread.join()\n",
      "  File \"/data/vision/phillipi/akumar01/miniconda3/envs/egb/lib/python3.10/multiprocessing/queues.py\", line 199, in _finalize_join\n",
      "    thread.join()\n",
      "  File \"/data/vision/phillipi/akumar01/miniconda3/envs/egb/lib/python3.10/multiprocessing/queues.py\", line 199, in _finalize_join\n",
      "    thread.join()\n",
      "  File \"/data/vision/phillipi/akumar01/miniconda3/envs/egb/lib/python3.10/multiprocessing/util.py\", line 224, in __call__\n",
      "    res = self._callback(*self._args, **self._kwargs)\n",
      "  File \"/data/vision/phillipi/akumar01/miniconda3/envs/egb/lib/python3.10/multiprocessing/queues.py\", line 199, in _finalize_join\n",
      "    thread.join()\n",
      "  File \"/data/vision/phillipi/akumar01/miniconda3/envs/egb/lib/python3.10/multiprocessing/queues.py\", line 199, in _finalize_join\n",
      "    thread.join()\n",
      "  File \"/data/vision/phillipi/akumar01/miniconda3/envs/egb/lib/python3.10/multiprocessing/queues.py\", line 199, in _finalize_join\n",
      "    thread.join()\n",
      "  File \"/data/vision/phillipi/akumar01/miniconda3/envs/egb/lib/python3.10/multiprocessing/queues.py\", line 199, in _finalize_join\n",
      "    thread.join()\n",
      "  File \"/data/vision/phillipi/akumar01/miniconda3/envs/egb/lib/python3.10/multiprocessing/queues.py\", line 199, in _finalize_join\n",
      "    thread.join()\n",
      "  File \"/data/vision/phillipi/akumar01/miniconda3/envs/egb/lib/python3.10/multiprocessing/queues.py\", line 199, in _finalize_join\n",
      "    thread.join()\n",
      "  File \"/data/vision/phillipi/akumar01/miniconda3/envs/egb/lib/python3.10/multiprocessing/queues.py\", line 199, in _finalize_join\n",
      "    thread.join()\n",
      "  File \"/data/vision/phillipi/akumar01/miniconda3/envs/egb/lib/python3.10/multiprocessing/queues.py\", line 199, in _finalize_join\n",
      "    thread.join()\n",
      "  File \"/data/vision/phillipi/akumar01/miniconda3/envs/egb/lib/python3.10/multiprocessing/queues.py\", line 199, in _finalize_join\n",
      "    thread.join()\n",
      "  File \"/data/vision/phillipi/akumar01/miniconda3/envs/egb/lib/python3.10/multiprocessing/queues.py\", line 199, in _finalize_join\n",
      "    thread.join()\n",
      "  File \"/data/vision/phillipi/akumar01/miniconda3/envs/egb/lib/python3.10/multiprocessing/queues.py\", line 199, in _finalize_join\n",
      "    thread.join()\n",
      "  File \"/data/vision/phillipi/akumar01/miniconda3/envs/egb/lib/python3.10/multiprocessing/queues.py\", line 199, in _finalize_join\n",
      "    thread.join()\n",
      "  File \"/data/vision/phillipi/akumar01/miniconda3/envs/egb/lib/python3.10/multiprocessing/queues.py\", line 199, in _finalize_join\n",
      "    thread.join()\n",
      "  File \"/data/vision/phillipi/akumar01/miniconda3/envs/egb/lib/python3.10/multiprocessing/queues.py\", line 199, in _finalize_join\n",
      "    thread.join()\n",
      "  File \"/data/vision/phillipi/akumar01/miniconda3/envs/egb/lib/python3.10/multiprocessing/queues.py\", line 199, in _finalize_join\n",
      "    thread.join()\n",
      "  File \"/data/vision/phillipi/akumar01/miniconda3/envs/egb/lib/python3.10/multiprocessing/queues.py\", line 199, in _finalize_join\n",
      "    thread.join()\n",
      "  File \"/data/vision/phillipi/akumar01/miniconda3/envs/egb/lib/python3.10/multiprocessing/queues.py\", line 199, in _finalize_join\n",
      "    thread.join()\n",
      "  File \"/data/vision/phillipi/akumar01/miniconda3/envs/egb/lib/python3.10/multiprocessing/queues.py\", line 199, in _finalize_join\n",
      "    thread.join()\n",
      "  File \"/data/vision/phillipi/akumar01/miniconda3/envs/egb/lib/python3.10/multiprocessing/queues.py\", line 199, in _finalize_join\n",
      "    thread.join()\n",
      "  File \"/data/vision/phillipi/akumar01/miniconda3/envs/egb/lib/python3.10/multiprocessing/queues.py\", line 199, in _finalize_join\n",
      "    thread.join()\n",
      "  File \"/data/vision/phillipi/akumar01/miniconda3/envs/egb/lib/python3.10/multiprocessing/queues.py\", line 199, in _finalize_join\n",
      "    thread.join()\n",
      "  File \"/data/vision/phillipi/akumar01/miniconda3/envs/egb/lib/python3.10/multiprocessing/queues.py\", line 199, in _finalize_join\n",
      "    thread.join()\n",
      "  File \"/data/vision/phillipi/akumar01/miniconda3/envs/egb/lib/python3.10/multiprocessing/queues.py\", line 199, in _finalize_join\n",
      "    thread.join()\n",
      "  File \"/data/vision/phillipi/akumar01/miniconda3/envs/egb/lib/python3.10/multiprocessing/queues.py\", line 199, in _finalize_join\n",
      "    thread.join()\n",
      "  File \"/data/vision/phillipi/akumar01/miniconda3/envs/egb/lib/python3.10/multiprocessing/queues.py\", line 199, in _finalize_join\n",
      "    thread.join()\n",
      "  File \"/data/vision/phillipi/akumar01/miniconda3/envs/egb/lib/python3.10/multiprocessing/queues.py\", line 199, in _finalize_join\n",
      "    thread.join()\n",
      "  File \"/data/vision/phillipi/akumar01/miniconda3/envs/egb/lib/python3.10/multiprocessing/queues.py\", line 199, in _finalize_join\n",
      "    thread.join()\n",
      "  File \"/data/vision/phillipi/akumar01/miniconda3/envs/egb/lib/python3.10/multiprocessing/queues.py\", line 199, in _finalize_join\n",
      "    thread.join()\n",
      "  File \"/data/vision/phillipi/akumar01/miniconda3/envs/egb/lib/python3.10/multiprocessing/queues.py\", line 199, in _finalize_join\n",
      "    thread.join()\n",
      "  File \"/data/vision/phillipi/akumar01/miniconda3/envs/egb/lib/python3.10/multiprocessing/queues.py\", line 199, in _finalize_join\n",
      "    thread.join()\n",
      "  File \"/data/vision/phillipi/akumar01/miniconda3/envs/egb/lib/python3.10/multiprocessing/queues.py\", line 199, in _finalize_join\n",
      "    thread.join()\n",
      "  File \"/data/vision/phillipi/akumar01/miniconda3/envs/egb/lib/python3.10/multiprocessing/queues.py\", line 199, in _finalize_join\n",
      "    thread.join()\n",
      "  File \"/data/vision/phillipi/akumar01/miniconda3/envs/egb/lib/python3.10/multiprocessing/queues.py\", line 199, in _finalize_join\n",
      "    thread.join()\n",
      "  File \"/data/vision/phillipi/akumar01/miniconda3/envs/egb/lib/python3.10/multiprocessing/queues.py\", line 199, in _finalize_join\n",
      "    thread.join()\n",
      "  File \"/data/vision/phillipi/akumar01/miniconda3/envs/egb/lib/python3.10/threading.py\", line 1096, in join\n",
      "    self._wait_for_tstate_lock()\n",
      "  File \"/data/vision/phillipi/akumar01/miniconda3/envs/egb/lib/python3.10/multiprocessing/queues.py\", line 199, in _finalize_join\n",
      "    thread.join()\n",
      "  File \"/data/vision/phillipi/akumar01/miniconda3/envs/egb/lib/python3.10/threading.py\", line 1096, in join\n",
      "    self._wait_for_tstate_lock()\n",
      "  File \"/data/vision/phillipi/akumar01/miniconda3/envs/egb/lib/python3.10/threading.py\", line 1096, in join\n",
      "    self._wait_for_tstate_lock()\n",
      "  File \"/data/vision/phillipi/akumar01/miniconda3/envs/egb/lib/python3.10/threading.py\", line 1096, in join\n",
      "    self._wait_for_tstate_lock()\n",
      "  File \"/data/vision/phillipi/akumar01/miniconda3/envs/egb/lib/python3.10/multiprocessing/queues.py\", line 199, in _finalize_join\n",
      "    thread.join()\n",
      "  File \"/data/vision/phillipi/akumar01/miniconda3/envs/egb/lib/python3.10/multiprocessing/queues.py\", line 199, in _finalize_join\n",
      "    thread.join()\n",
      "  File \"/data/vision/phillipi/akumar01/miniconda3/envs/egb/lib/python3.10/threading.py\", line 1096, in join\n",
      "    self._wait_for_tstate_lock()\n",
      "  File \"/data/vision/phillipi/akumar01/miniconda3/envs/egb/lib/python3.10/threading.py\", line 1096, in join\n",
      "    self._wait_for_tstate_lock()\n",
      "  File \"/data/vision/phillipi/akumar01/miniconda3/envs/egb/lib/python3.10/threading.py\", line 1096, in join\n",
      "    self._wait_for_tstate_lock()\n",
      "  File \"/data/vision/phillipi/akumar01/miniconda3/envs/egb/lib/python3.10/threading.py\", line 1096, in join\n",
      "    self._wait_for_tstate_lock()\n",
      "  File \"/data/vision/phillipi/akumar01/miniconda3/envs/egb/lib/python3.10/multiprocessing/queues.py\", line 199, in _finalize_join\n",
      "    thread.join()\n",
      "  File \"/data/vision/phillipi/akumar01/miniconda3/envs/egb/lib/python3.10/threading.py\", line 1096, in join\n",
      "    self._wait_for_tstate_lock()\n",
      "  File \"/data/vision/phillipi/akumar01/miniconda3/envs/egb/lib/python3.10/threading.py\", line 1096, in join\n",
      "    self._wait_for_tstate_lock()\n",
      "  File \"/data/vision/phillipi/akumar01/miniconda3/envs/egb/lib/python3.10/threading.py\", line 1096, in join\n",
      "    self._wait_for_tstate_lock()\n",
      "  File \"/data/vision/phillipi/akumar01/miniconda3/envs/egb/lib/python3.10/threading.py\", line 1096, in join\n",
      "    self._wait_for_tstate_lock()\n",
      "  File \"/data/vision/phillipi/akumar01/miniconda3/envs/egb/lib/python3.10/threading.py\", line 1096, in join\n",
      "    self._wait_for_tstate_lock()\n",
      "  File \"/data/vision/phillipi/akumar01/miniconda3/envs/egb/lib/python3.10/multiprocessing/queues.py\", line 199, in _finalize_join\n",
      "    thread.join()\n",
      "  File \"/data/vision/phillipi/akumar01/miniconda3/envs/egb/lib/python3.10/threading.py\", line 1096, in join\n",
      "    self._wait_for_tstate_lock()\n",
      "  File \"/data/vision/phillipi/akumar01/miniconda3/envs/egb/lib/python3.10/threading.py\", line 1096, in join\n",
      "    self._wait_for_tstate_lock()\n",
      "  File \"/data/vision/phillipi/akumar01/miniconda3/envs/egb/lib/python3.10/threading.py\", line 1096, in join\n",
      "    self._wait_for_tstate_lock()\n",
      "  File \"/data/vision/phillipi/akumar01/miniconda3/envs/egb/lib/python3.10/threading.py\", line 1096, in join\n",
      "    self._wait_for_tstate_lock()\n",
      "  File \"/data/vision/phillipi/akumar01/miniconda3/envs/egb/lib/python3.10/threading.py\", line 1096, in join\n",
      "    self._wait_for_tstate_lock()\n",
      "  File \"/data/vision/phillipi/akumar01/miniconda3/envs/egb/lib/python3.10/threading.py\", line 1096, in join\n",
      "    self._wait_for_tstate_lock()\n",
      "  File \"/data/vision/phillipi/akumar01/miniconda3/envs/egb/lib/python3.10/threading.py\", line 1096, in join\n",
      "    self._wait_for_tstate_lock()\n",
      "  File \"/data/vision/phillipi/akumar01/miniconda3/envs/egb/lib/python3.10/threading.py\", line 1096, in join\n",
      "    self._wait_for_tstate_lock()\n",
      "  File \"/data/vision/phillipi/akumar01/miniconda3/envs/egb/lib/python3.10/threading.py\", line 1096, in join\n",
      "    self._wait_for_tstate_lock()\n",
      "  File \"/data/vision/phillipi/akumar01/miniconda3/envs/egb/lib/python3.10/threading.py\", line 1096, in join\n",
      "    self._wait_for_tstate_lock()\n",
      "  File \"/data/vision/phillipi/akumar01/miniconda3/envs/egb/lib/python3.10/threading.py\", line 1096, in join\n",
      "    self._wait_for_tstate_lock()\n",
      "  File \"/data/vision/phillipi/akumar01/miniconda3/envs/egb/lib/python3.10/threading.py\", line 1096, in join\n",
      "    self._wait_for_tstate_lock()\n",
      "  File \"/data/vision/phillipi/akumar01/miniconda3/envs/egb/lib/python3.10/threading.py\", line 1096, in join\n",
      "    self._wait_for_tstate_lock()\n",
      "  File \"/data/vision/phillipi/akumar01/miniconda3/envs/egb/lib/python3.10/threading.py\", line 1096, in join\n",
      "    self._wait_for_tstate_lock()\n",
      "  File \"/data/vision/phillipi/akumar01/miniconda3/envs/egb/lib/python3.10/threading.py\", line 1096, in join\n",
      "    self._wait_for_tstate_lock()\n",
      "  File \"/data/vision/phillipi/akumar01/miniconda3/envs/egb/lib/python3.10/threading.py\", line 1096, in join\n",
      "    self._wait_for_tstate_lock()\n",
      "  File \"/data/vision/phillipi/akumar01/miniconda3/envs/egb/lib/python3.10/threading.py\", line 1096, in join\n",
      "    self._wait_for_tstate_lock()\n",
      "  File \"/data/vision/phillipi/akumar01/miniconda3/envs/egb/lib/python3.10/threading.py\", line 1096, in join\n",
      "    self._wait_for_tstate_lock()\n",
      "  File \"/data/vision/phillipi/akumar01/miniconda3/envs/egb/lib/python3.10/threading.py\", line 1096, in join\n",
      "    self._wait_for_tstate_lock()\n",
      "  File \"/data/vision/phillipi/akumar01/miniconda3/envs/egb/lib/python3.10/threading.py\", line 1096, in join\n",
      "    self._wait_for_tstate_lock()\n",
      "  File \"/data/vision/phillipi/akumar01/miniconda3/envs/egb/lib/python3.10/threading.py\", line 1096, in join\n",
      "    self._wait_for_tstate_lock()\n",
      "  File \"/data/vision/phillipi/akumar01/miniconda3/envs/egb/lib/python3.10/threading.py\", line 1096, in join\n",
      "    self._wait_for_tstate_lock()\n",
      "  File \"/data/vision/phillipi/akumar01/miniconda3/envs/egb/lib/python3.10/threading.py\", line 1096, in join\n",
      "    self._wait_for_tstate_lock()\n",
      "  File \"/data/vision/phillipi/akumar01/miniconda3/envs/egb/lib/python3.10/threading.py\", line 1096, in join\n",
      "    self._wait_for_tstate_lock()\n",
      "  File \"/data/vision/phillipi/akumar01/miniconda3/envs/egb/lib/python3.10/threading.py\", line 1096, in join\n",
      "    self._wait_for_tstate_lock()\n",
      "  File \"/data/vision/phillipi/akumar01/miniconda3/envs/egb/lib/python3.10/threading.py\", line 1096, in join\n",
      "    self._wait_for_tstate_lock()\n",
      "  File \"/data/vision/phillipi/akumar01/miniconda3/envs/egb/lib/python3.10/threading.py\", line 1096, in join\n",
      "    self._wait_for_tstate_lock()\n",
      "  File \"/data/vision/phillipi/akumar01/miniconda3/envs/egb/lib/python3.10/threading.py\", line 1096, in join\n",
      "    self._wait_for_tstate_lock()\n",
      "  File \"/data/vision/phillipi/akumar01/miniconda3/envs/egb/lib/python3.10/threading.py\", line 1096, in join\n",
      "    self._wait_for_tstate_lock()\n",
      "  File \"/data/vision/phillipi/akumar01/miniconda3/envs/egb/lib/python3.10/threading.py\", line 1096, in join\n",
      "    self._wait_for_tstate_lock()\n",
      "  File \"/data/vision/phillipi/akumar01/miniconda3/envs/egb/lib/python3.10/threading.py\", line 1096, in join\n",
      "    self._wait_for_tstate_lock()\n",
      "  File \"/data/vision/phillipi/akumar01/miniconda3/envs/egb/lib/python3.10/threading.py\", line 1096, in join\n",
      "    self._wait_for_tstate_lock()\n",
      "  File \"/data/vision/phillipi/akumar01/miniconda3/envs/egb/lib/python3.10/threading.py\", line 1096, in join\n",
      "    self._wait_for_tstate_lock()\n",
      "  File \"/data/vision/phillipi/akumar01/miniconda3/envs/egb/lib/python3.10/threading.py\", line 1096, in join\n",
      "    self._wait_for_tstate_lock()\n",
      "  File \"/data/vision/phillipi/akumar01/miniconda3/envs/egb/lib/python3.10/threading.py\", line 1096, in join\n",
      "    self._wait_for_tstate_lock()\n",
      "  File \"/data/vision/phillipi/akumar01/miniconda3/envs/egb/lib/python3.10/threading.py\", line 1116, in _wait_for_tstate_lock\n",
      "    if lock.acquire(block, timeout):\n",
      "  File \"/data/vision/phillipi/akumar01/miniconda3/envs/egb/lib/python3.10/threading.py\", line 1116, in _wait_for_tstate_lock\n",
      "    if lock.acquire(block, timeout):\n",
      "  File \"/data/vision/phillipi/akumar01/miniconda3/envs/egb/lib/python3.10/threading.py\", line 1096, in join\n",
      "    self._wait_for_tstate_lock()\n",
      "  File \"/data/vision/phillipi/akumar01/miniconda3/envs/egb/lib/python3.10/threading.py\", line 1116, in _wait_for_tstate_lock\n",
      "    if lock.acquire(block, timeout):\n",
      "  File \"/data/vision/phillipi/akumar01/miniconda3/envs/egb/lib/python3.10/threading.py\", line 1116, in _wait_for_tstate_lock\n",
      "    if lock.acquire(block, timeout):\n",
      "  File \"/data/vision/phillipi/akumar01/miniconda3/envs/egb/lib/python3.10/threading.py\", line 1096, in join\n",
      "    self._wait_for_tstate_lock()\n",
      "  File \"/data/vision/phillipi/akumar01/miniconda3/envs/egb/lib/python3.10/threading.py\", line 1116, in _wait_for_tstate_lock\n",
      "    if lock.acquire(block, timeout):\n",
      "  File \"/data/vision/phillipi/akumar01/miniconda3/envs/egb/lib/python3.10/threading.py\", line 1116, in _wait_for_tstate_lock\n",
      "    if lock.acquire(block, timeout):\n",
      "  File \"/data/vision/phillipi/akumar01/miniconda3/envs/egb/lib/python3.10/threading.py\", line 1096, in join\n",
      "    self._wait_for_tstate_lock()\n",
      "  File \"/data/vision/phillipi/akumar01/miniconda3/envs/egb/lib/python3.10/threading.py\", line 1116, in _wait_for_tstate_lock\n",
      "    if lock.acquire(block, timeout):\n",
      "  File \"/data/vision/phillipi/akumar01/miniconda3/envs/egb/lib/python3.10/threading.py\", line 1116, in _wait_for_tstate_lock\n",
      "    if lock.acquire(block, timeout):\n",
      "  File \"/data/vision/phillipi/akumar01/miniconda3/envs/egb/lib/python3.10/threading.py\", line 1116, in _wait_for_tstate_lock\n",
      "    if lock.acquire(block, timeout):\n",
      "  File \"/data/vision/phillipi/akumar01/miniconda3/envs/egb/lib/python3.10/threading.py\", line 1116, in _wait_for_tstate_lock\n",
      "    if lock.acquire(block, timeout):\n",
      "  File \"/data/vision/phillipi/akumar01/miniconda3/envs/egb/lib/python3.10/threading.py\", line 1116, in _wait_for_tstate_lock\n",
      "    if lock.acquire(block, timeout):\n",
      "  File \"/data/vision/phillipi/akumar01/miniconda3/envs/egb/lib/python3.10/threading.py\", line 1116, in _wait_for_tstate_lock\n",
      "    if lock.acquire(block, timeout):\n",
      "  File \"/data/vision/phillipi/akumar01/miniconda3/envs/egb/lib/python3.10/threading.py\", line 1096, in join\n",
      "    self._wait_for_tstate_lock()\n",
      "  File \"/data/vision/phillipi/akumar01/miniconda3/envs/egb/lib/python3.10/threading.py\", line 1116, in _wait_for_tstate_lock\n",
      "    if lock.acquire(block, timeout):\n",
      "  File \"/data/vision/phillipi/akumar01/miniconda3/envs/egb/lib/python3.10/threading.py\", line 1116, in _wait_for_tstate_lock\n",
      "    if lock.acquire(block, timeout):\n",
      "  File \"/data/vision/phillipi/akumar01/miniconda3/envs/egb/lib/python3.10/threading.py\", line 1116, in _wait_for_tstate_lock\n",
      "    if lock.acquire(block, timeout):\n",
      "  File \"/data/vision/phillipi/akumar01/miniconda3/envs/egb/lib/python3.10/threading.py\", line 1116, in _wait_for_tstate_lock\n",
      "    if lock.acquire(block, timeout):\n",
      "  File \"/data/vision/phillipi/akumar01/miniconda3/envs/egb/lib/python3.10/threading.py\", line 1116, in _wait_for_tstate_lock\n",
      "    if lock.acquire(block, timeout):\n",
      "  File \"/data/vision/phillipi/akumar01/miniconda3/envs/egb/lib/python3.10/threading.py\", line 1116, in _wait_for_tstate_lock\n",
      "    if lock.acquire(block, timeout):\n",
      "  File \"/data/vision/phillipi/akumar01/miniconda3/envs/egb/lib/python3.10/threading.py\", line 1116, in _wait_for_tstate_lock\n",
      "    if lock.acquire(block, timeout):\n",
      "  File \"/data/vision/phillipi/akumar01/miniconda3/envs/egb/lib/python3.10/threading.py\", line 1116, in _wait_for_tstate_lock\n",
      "    if lock.acquire(block, timeout):\n",
      "  File \"/data/vision/phillipi/akumar01/miniconda3/envs/egb/lib/python3.10/threading.py\", line 1116, in _wait_for_tstate_lock\n",
      "    if lock.acquire(block, timeout):\n",
      "  File \"/data/vision/phillipi/akumar01/miniconda3/envs/egb/lib/python3.10/threading.py\", line 1116, in _wait_for_tstate_lock\n",
      "    if lock.acquire(block, timeout):\n",
      "  File \"/data/vision/phillipi/akumar01/miniconda3/envs/egb/lib/python3.10/threading.py\", line 1116, in _wait_for_tstate_lock\n",
      "    if lock.acquire(block, timeout):\n",
      "  File \"/data/vision/phillipi/akumar01/miniconda3/envs/egb/lib/python3.10/threading.py\", line 1116, in _wait_for_tstate_lock\n",
      "    if lock.acquire(block, timeout):\n",
      "  File \"/data/vision/phillipi/akumar01/miniconda3/envs/egb/lib/python3.10/threading.py\", line 1116, in _wait_for_tstate_lock\n",
      "    if lock.acquire(block, timeout):\n",
      "  File \"/data/vision/phillipi/akumar01/miniconda3/envs/egb/lib/python3.10/threading.py\", line 1116, in _wait_for_tstate_lock\n",
      "    if lock.acquire(block, timeout):\n",
      "  File \"/data/vision/phillipi/akumar01/miniconda3/envs/egb/lib/python3.10/threading.py\", line 1116, in _wait_for_tstate_lock\n",
      "    if lock.acquire(block, timeout):\n",
      "  File \"/data/vision/phillipi/akumar01/miniconda3/envs/egb/lib/python3.10/threading.py\", line 1116, in _wait_for_tstate_lock\n",
      "    if lock.acquire(block, timeout):\n",
      "  File \"/data/vision/phillipi/akumar01/miniconda3/envs/egb/lib/python3.10/threading.py\", line 1116, in _wait_for_tstate_lock\n",
      "    if lock.acquire(block, timeout):\n",
      "  File \"/data/vision/phillipi/akumar01/miniconda3/envs/egb/lib/python3.10/threading.py\", line 1116, in _wait_for_tstate_lock\n",
      "    if lock.acquire(block, timeout):\n",
      "  File \"/data/vision/phillipi/akumar01/miniconda3/envs/egb/lib/python3.10/threading.py\", line 1116, in _wait_for_tstate_lock\n",
      "    if lock.acquire(block, timeout):\n",
      "  File \"/data/vision/phillipi/akumar01/miniconda3/envs/egb/lib/python3.10/threading.py\", line 1116, in _wait_for_tstate_lock\n",
      "    if lock.acquire(block, timeout):\n",
      "  File \"/data/vision/phillipi/akumar01/miniconda3/envs/egb/lib/python3.10/threading.py\", line 1116, in _wait_for_tstate_lock\n",
      "    if lock.acquire(block, timeout):\n",
      "  File \"/data/vision/phillipi/akumar01/miniconda3/envs/egb/lib/python3.10/threading.py\", line 1116, in _wait_for_tstate_lock\n",
      "    if lock.acquire(block, timeout):\n",
      "  File \"/data/vision/phillipi/akumar01/miniconda3/envs/egb/lib/python3.10/threading.py\", line 1116, in _wait_for_tstate_lock\n",
      "    if lock.acquire(block, timeout):\n",
      "  File \"/data/vision/phillipi/akumar01/miniconda3/envs/egb/lib/python3.10/threading.py\", line 1116, in _wait_for_tstate_lock\n",
      "    if lock.acquire(block, timeout):\n",
      "  File \"/data/vision/phillipi/akumar01/miniconda3/envs/egb/lib/python3.10/threading.py\", line 1116, in _wait_for_tstate_lock\n",
      "    if lock.acquire(block, timeout):\n",
      "  File \"/data/vision/phillipi/akumar01/miniconda3/envs/egb/lib/python3.10/threading.py\", line 1116, in _wait_for_tstate_lock\n",
      "    if lock.acquire(block, timeout):\n",
      "  File \"/data/vision/phillipi/akumar01/miniconda3/envs/egb/lib/python3.10/threading.py\", line 1116, in _wait_for_tstate_lock\n",
      "    if lock.acquire(block, timeout):\n",
      "  File \"/data/vision/phillipi/akumar01/miniconda3/envs/egb/lib/python3.10/threading.py\", line 1116, in _wait_for_tstate_lock\n",
      "    if lock.acquire(block, timeout):\n",
      "  File \"/data/vision/phillipi/akumar01/miniconda3/envs/egb/lib/python3.10/threading.py\", line 1116, in _wait_for_tstate_lock\n",
      "    if lock.acquire(block, timeout):\n",
      "  File \"/data/vision/phillipi/akumar01/miniconda3/envs/egb/lib/python3.10/threading.py\", line 1116, in _wait_for_tstate_lock\n",
      "    if lock.acquire(block, timeout):\n",
      "  File \"/data/vision/phillipi/akumar01/miniconda3/envs/egb/lib/python3.10/threading.py\", line 1116, in _wait_for_tstate_lock\n",
      "    if lock.acquire(block, timeout):\n",
      "  File \"/data/vision/phillipi/akumar01/miniconda3/envs/egb/lib/python3.10/threading.py\", line 1116, in _wait_for_tstate_lock\n",
      "    if lock.acquire(block, timeout):\n",
      "  File \"/data/vision/phillipi/akumar01/miniconda3/envs/egb/lib/python3.10/threading.py\", line 1116, in _wait_for_tstate_lock\n",
      "    if lock.acquire(block, timeout):\n",
      "  File \"/data/vision/phillipi/akumar01/miniconda3/envs/egb/lib/python3.10/threading.py\", line 1116, in _wait_for_tstate_lock\n",
      "    if lock.acquire(block, timeout):\n",
      "  File \"/data/vision/phillipi/akumar01/miniconda3/envs/egb/lib/python3.10/threading.py\", line 1116, in _wait_for_tstate_lock\n",
      "    if lock.acquire(block, timeout):\n",
      "  File \"/data/vision/phillipi/akumar01/miniconda3/envs/egb/lib/python3.10/threading.py\", line 1116, in _wait_for_tstate_lock\n",
      "    if lock.acquire(block, timeout):\n",
      "KeyboardInterrupt\n",
      "KeyboardInterrupt\n",
      "KeyboardInterrupt\n",
      "KeyboardInterrupt\n",
      "  File \"/data/vision/phillipi/akumar01/miniconda3/envs/egb/lib/python3.10/threading.py\", line 1116, in _wait_for_tstate_lock\n",
      "    if lock.acquire(block, timeout):\n",
      "KeyboardInterrupt\n",
      "KeyboardInterrupt\n",
      "  File \"/data/vision/phillipi/akumar01/miniconda3/envs/egb/lib/python3.10/threading.py\", line 1116, in _wait_for_tstate_lock\n",
      "    if lock.acquire(block, timeout):\n",
      "  File \"/data/vision/phillipi/akumar01/miniconda3/envs/egb/lib/python3.10/threading.py\", line 1116, in _wait_for_tstate_lock\n",
      "    if lock.acquire(block, timeout):\n",
      "KeyboardInterrupt\n",
      "KeyboardInterrupt\n",
      "KeyboardInterrupt\n",
      "KeyboardInterrupt\n",
      "KeyboardInterrupt\n",
      "  File \"/data/vision/phillipi/akumar01/miniconda3/envs/egb/lib/python3.10/threading.py\", line 1116, in _wait_for_tstate_lock\n",
      "    if lock.acquire(block, timeout):\n",
      "KeyboardInterrupt\n",
      "KeyboardInterrupt\n",
      "KeyboardInterrupt\n",
      "KeyboardInterrupt\n",
      "KeyboardInterrupt\n",
      "KeyboardInterrupt\n",
      "KeyboardInterrupt\n",
      "KeyboardInterrupt\n",
      "KeyboardInterrupt\n",
      "KeyboardInterrupt\n",
      "KeyboardInterrupt\n",
      "KeyboardInterrupt\n",
      "KeyboardInterrupt\n",
      "KeyboardInterrupt\n",
      "KeyboardInterrupt\n",
      "KeyboardInterrupt\n",
      "KeyboardInterrupt\n",
      "KeyboardInterrupt\n",
      "KeyboardInterrupt\n",
      "KeyboardInterrupt\n",
      "KeyboardInterrupt\n",
      "KeyboardInterrupt\n",
      "KeyboardInterrupt\n",
      "KeyboardInterrupt\n",
      "KeyboardInterrupt\n",
      "KeyboardInterrupt\n",
      "KeyboardInterrupt\n",
      "KeyboardInterrupt\n",
      "KeyboardInterrupt\n",
      "KeyboardInterrupt\n",
      "KeyboardInterrupt\n",
      "KeyboardInterrupt\n",
      "KeyboardInterrupt\n",
      "KeyboardInterrupt\n",
      "KeyboardInterrupt\n",
      "KeyboardInterrupt\n",
      "KeyboardInterrupt\n",
      "KeyboardInterrupt\n",
      "KeyboardInterrupt\n",
      "KeyboardInterrupt\n",
      "KeyboardInterrupt\n"
     ]
    }
   ],
   "source": [
    "print(\"Creating envs\")\n",
    "make_env_fns = []\n",
    "for env_id in args.env_ids:\n",
    "    make_env_fns.extend([partial(make_ge_env_single, env_id=env_id) for _ in range(args.n_envs)])\n",
    "env = MyAsyncVectorEnv(make_env_fns)\n",
    "print(\"Done creating envs!\")"
   ]
  },
  {
   "cell_type": "code",
   "execution_count": 112,
   "id": "4d466c22-7e98-46f6-b3e7-7f8f6eb9ba2c",
   "metadata": {},
   "outputs": [
    {
     "name": "stdout",
     "output_type": "stream",
     "text": [
      "Creating buffer\n"
     ]
    }
   ],
   "source": [
    "print(\"Creating buffer\")\n",
    "buf = GEBuffer(env, args.n_steps, sample_traj_fn=sample_traj_fn, device=args.device)"
   ]
  },
  {
   "cell_type": "code",
   "execution_count": 113,
   "id": "736e92ea-15d9-452e-a51d-f08c17286132",
   "metadata": {},
   "outputs": [
    {
     "data": {
      "application/vnd.jupyter.widget-view+json": {
       "model_id": "e91b35147ad044e99ce77b1cc08042c5",
       "version_major": 2,
       "version_minor": 0
      },
      "text/plain": [
       "  0%|          | 0/512 [00:00<?, ?it/s]"
      ]
     },
     "metadata": {},
     "output_type": "display_data"
    },
    {
     "name": "stdout",
     "output_type": "stream",
     "text": [
      "resetting  [ 29  30  31  32  33  34  35  80  81  82  83 120 121 123 184 185 186 187]\n",
      "resetting  [ 29  30  31  32  33  34  35  80  81  82  83 120 184 185 186 187]\n",
      "resetting  [ 31  32  33  34  35  80  81  82  83 184 185 186 187]\n",
      "resetting  [ 31  32  33  34  35  80  81  82  83 184 185 186 187]\n",
      "resetting  [ 32  33  34  35  80  81  82  83 184 185 186 187]\n",
      "resetting  [ 32  33  34  35  80  81  82  83 184 185 186 187]\n",
      "resetting  [ 32  33  34  35  80  81  82  83 184 185 186 187]\n",
      "resetting  [ 32  33  34  35  80  81  82  83 184 185 186 187]\n",
      "resetting  [ 32  33  34  35  80  81  82  83 184 185 186 187]\n",
      "resetting  [ 32  33  34  35  80  81  82  83 184 185 186 187]\n",
      "resetting  [ 32  33  34  35  80  81  82  83 184 185 186 187]\n",
      "resetting  [ 32  33  34  35  80  81  82  83 184 185 186 187]\n",
      "resetting  [ 32  33  34  35  80  81  82  83 184 185 186 187]\n",
      "resetting  [ 32  33  34  35  80  81  82  83 184 185 186 187]\n",
      "resetting  [ 32  33  34  35  80  81  82  83 184 185 186 187]\n",
      "resetting  [ 33  34  35  80  81  82  83 184 185 186 187]\n",
      "resetting  [ 33  34  35  80  81  82  83 184 185 186 187]\n",
      "resetting  [ 33  34  35  80  81  82  83 184 185 186 187]\n",
      "resetting  [ 33  34  35  80  81  82  83 184 185 186 187]\n",
      "resetting  [ 33  34  35  80  81  82  83 184 185 186 187]\n",
      "resetting  [ 33  35  80  81  82  83 184 185 186 187]\n",
      "resetting  [ 33  35  80  81  82  83 184 185 186 187]\n",
      "resetting  [ 33  35  80  81  82  83 184 185 186 187]\n",
      "resetting  [ 33  35  80  81  82  83 184 185 186 187]\n",
      "resetting  [ 33  35  80  81  82  83 184 185 186 187]\n",
      "resetting  [ 33  35  80  81  82  83 184 185 186 187]\n",
      "resetting  [ 33  35  80  81  82  83 184 185 186 187]\n",
      "resetting  [ 33  35  80  81  82  83 184 185 186 187]\n",
      "resetting  [ 33  35  80  81  82  83 184 185 186 187]\n",
      "resetting  [ 33  35  80  81  82  83 184 185 186 187]\n",
      "resetting  [ 33  35  80  81  82  83 184 185 186 187]\n",
      "resetting  [ 33  35  80  81  82  83 184 185 186 187]\n",
      "resetting  [ 33  35  80  81  82  83 184 185 186 187]\n",
      "resetting  [ 33  35  80  81  82  83 184 185 186 187]\n",
      "resetting  [ 35  80  81  82  83 184 185 186 187]\n",
      "resetting  [ 35  80  81  82  83 184 185 186 187]\n",
      "resetting  [ 35  80  81  82  83 184 185 186 187]\n",
      "resetting  [ 35  80  81  82  83 184 185 186 187]\n",
      "resetting  [ 35  80  81  82  83 184 185 186 187]\n",
      "resetting  [ 35  80  81  82  83 184 185 186 187]\n",
      "resetting  [ 35  80  81  82  83 184 185 186 187]\n",
      "resetting  [ 35  80  81  82  83 184 185 187]\n",
      "resetting  [ 35  80  81  82  83 184 185 187]\n",
      "resetting  [ 35  80  81  82  83 184 187]\n",
      "resetting  [ 35  80  81  82  83 184 187]\n",
      "resetting  [ 35  80  81  82  83 184 187]\n",
      "resetting  [ 35  80  81  82  83 184 187]\n",
      "resetting  [ 35  80  81  82  83 184 187]\n",
      "resetting  [ 35  80  81  82  83 184 187]\n",
      "resetting  [ 35  80  81  82  83 184 187]\n",
      "resetting  [ 35  80  81  82  83 184 187]\n",
      "resetting  [ 35  80  81  82  83 184 187]\n",
      "resetting  [ 35  80  81  82  83 184 187]\n",
      "resetting  [ 35  80  81  82  83 184 187]\n",
      "resetting  [ 35  80  81  82  83 184 187]\n",
      "resetting  [ 35  80  81  82  83 184 187]\n",
      "resetting  [ 35  80  81  82  83 184 187]\n",
      "resetting  [ 35  80  81  82  83 184 187]\n",
      "resetting  [ 35  80  81  82  83 184 187]\n",
      "resetting  [ 35  80  81  82  83 184 187]\n",
      "resetting  [ 35  80  81  82  83 184 187]\n",
      "resetting  [ 35  80  81  82  83 184 187]\n",
      "resetting  [ 80  81  82  83 184 187]\n",
      "resetting  [ 80  81  82  83 184 187]\n",
      "resetting  [ 80  81  82  83 122 184 187]\n",
      "resetting  [ 80  81  82  83 184 187]\n",
      "resetting  [ 80  81  82  83 184 187]\n",
      "resetting  [ 80  81  82  83 184 187]\n",
      "resetting  [ 80  81  82  83 184 187]\n",
      "resetting  [ 80  81  82  83 184 187]\n",
      "resetting  [ 80  81  82  83 184 187]\n",
      "resetting  [ 80  81  82  83 184 187]\n",
      "resetting  [ 80  81  82  83 184 187]\n",
      "resetting  [ 80  81  82  83 184 187]\n",
      "resetting  [ 80  81  82  83 184 187]\n",
      "resetting  [ 80  81  82  83 184 187]\n",
      "resetting  [ 80  81  82  83 123 184 187]\n",
      "resetting  [ 80  81  82  83 184 187]\n",
      "resetting  [ 80  81  82  83 184 187]\n",
      "resetting  [ 80  81  82  83 184 187]\n",
      "resetting  [ 80  81  82  83 184 187]\n",
      "resetting  [ 80  81  82  83 184 187]\n",
      "resetting  [ 80  81  82  83 184 187]\n",
      "resetting  [ 80  81  82  83 184 187]\n",
      "resetting  [ 80  81  82  83 184 187]\n",
      "resetting  [ 80  81  82  83 184 187]\n",
      "resetting  [ 80  81  82  83 120 184 187]\n",
      "resetting  [ 80  81  82  83 121 187]\n",
      "resetting  [ 80  81  82  83 121 187]\n",
      "resetting  [ 80  81  82  83 187]\n",
      "resetting  [ 80  81  82  83 187]\n",
      "resetting  [ 80  81  82  83 187]\n",
      "resetting  [ 80  81  82  83 187]\n",
      "resetting  [ 80  81  82  83 187]\n",
      "resetting  [ 80  81  82  83 187]\n",
      "resetting  [ 80  81  82  83 187]\n",
      "resetting  [ 80  81  82  83 187]\n",
      "resetting  [ 80  81  82  83 187]\n",
      "resetting  [ 80  81  82  83 187]\n",
      "resetting  [ 80  81  82  83 187]\n",
      "resetting  [ 80  81  82  83 187]\n",
      "resetting  [ 80  81  82  83 187]\n",
      "resetting  [ 80  81  82  83 187]\n",
      "resetting  [ 80  81  82  83 187]\n",
      "resetting  [ 80  81  82  83 187]\n",
      "resetting  [ 80  81  82  83 187]\n",
      "resetting  [ 80  81  82  83 187]\n",
      "resetting  [ 80  81  82  83 187]\n",
      "resetting  [ 80  81  82  83 187]\n",
      "resetting  [ 80  81  82  83 187]\n",
      "resetting  [ 80  81  82  83 187]\n",
      "resetting  [ 80  81  82  83 187]\n",
      "resetting  [ 80  81  82  83 187]\n",
      "resetting  [ 80  81  82  83 187]\n",
      "resetting  [ 80  81  82  83 187]\n",
      "resetting  [ 80  81  82  83 187]\n",
      "resetting  [ 80  81  82  83 187]\n",
      "resetting  [ 80  81  82  83 187]\n",
      "resetting  [ 80  81  82  83 187]\n",
      "resetting  [ 80  81  82  83 187]\n",
      "resetting  [ 80  81  82  83 187]\n",
      "resetting  [ 80  81  82  83 187]\n",
      "resetting  [ 80  81  82  83 187]\n",
      "resetting  [ 80  81  82  83 187]\n",
      "resetting  [ 80  81  82  83 187]\n",
      "resetting  [ 80  81  82  83 187]\n",
      "resetting  [ 77  80  81  82  83 187]\n",
      "resetting  [ 80  81  82  83 187]\n",
      "resetting  [ 80  81  82  83 187]\n",
      "resetting  [ 80  81  82  83 187]\n",
      "resetting  [ 80  81  82  83 187]\n",
      "resetting  [ 80  81  82  83 187]\n",
      "resetting  [ 80  81  82  83 187]\n",
      "resetting  [ 80  81  82  83 187]\n",
      "resetting  [ 80  81  82  83 187]\n",
      "resetting  [ 80  81  82  83 122 187]\n",
      "resetting  [ 80  81  82  83 187]\n",
      "resetting  [ 80  81  82  83 187]\n",
      "resetting  [ 80  81  82  83 187]\n",
      "resetting  [ 80  81  82  83 187]\n",
      "resetting  [80 81 82 83]\n",
      "resetting  [80 81 82 83]\n",
      "resetting  [80 81 82 83]\n",
      "resetting  [80 81 82 83]\n",
      "resetting  [80 81 82 83]\n",
      "resetting  [80 81 82 83]\n",
      "resetting  [80 81 82 83]\n",
      "resetting  [80 81 82 83]\n",
      "resetting  [80 81 82 83]\n",
      "resetting  [ 80  81  82  83 123]\n",
      "resetting  [80 81 82 83]\n",
      "resetting  [54 80 81 82 83]\n",
      "resetting  [80 81 82 83]\n",
      "resetting  [55 80 81 82 83]\n",
      "resetting  [80 81 82 83]\n",
      "resetting  [80 81 82 83]\n",
      "resetting  [80 81 82 83]\n",
      "resetting  [80 81 82 83]\n",
      "resetting  [80 81 82 83]\n",
      "resetting  [ 80  81  82  83 121]\n",
      "resetting  [ 80  81  82  83 121]\n",
      "resetting  [ 80  81  82  83 121]\n",
      "resetting  [ 80  81  82  83 121]\n",
      "resetting  [80 81 82 83]\n",
      "resetting  [80 81 82 83]\n",
      "resetting  [80 81 82 83]\n",
      "resetting  [80 81 82 83]\n",
      "resetting  [80 81 82 83]\n",
      "resetting  [80 81 82 83]\n",
      "resetting  [80 81 82 83]\n",
      "resetting  [80 81 82 83]\n",
      "resetting  [ 80  81  82  83 120]\n",
      "resetting  [80 81 82 83]\n",
      "resetting  [80 81 82 83]\n",
      "resetting  [80 81 82 83]\n",
      "resetting  [80 81 82 83]\n",
      "resetting  [80 81 82 83]\n",
      "resetting  [80 81 82 83]\n",
      "resetting  [80 81 82 83]\n",
      "resetting  [80 81 82 83]\n",
      "resetting  [80 81 82 83]\n",
      "resetting  [80 81 82 83]\n",
      "resetting  [80 81 82 83]\n",
      "resetting  [80 81 82 83]\n",
      "resetting  [80 81 82 83]\n",
      "resetting  [80 81 82 83]\n",
      "resetting  [80 81 82 83]\n",
      "resetting  [80 81 82 83]\n",
      "resetting  [80 81 82 83]\n",
      "resetting  [80 81 82 83]\n",
      "resetting  [80 81 82 83]\n",
      "resetting  [80 81 82 83]\n",
      "resetting  [80 81 82 83]\n",
      "resetting  [80 81 82 83]\n",
      "resetting  [80 81 82 83]\n",
      "resetting  [80 81 82 83]\n"
     ]
    },
    {
     "ename": "KeyboardInterrupt",
     "evalue": "",
     "output_type": "error",
     "traceback": [
      "\u001b[0;31m---------------------------------------------------------------------------\u001b[0m",
      "\u001b[0;31mKeyboardInterrupt\u001b[0m                         Traceback (most recent call last)",
      "Cell \u001b[0;32mIn[113], line 2\u001b[0m\n\u001b[1;32m      1\u001b[0m \u001b[38;5;28;01mfrom\u001b[39;00m \u001b[38;5;21;01mtqdm\u001b[39;00m\u001b[38;5;21;01m.\u001b[39;00m\u001b[38;5;21;01mauto\u001b[39;00m \u001b[38;5;28;01mimport\u001b[39;00m tqdm\n\u001b[0;32m----> 2\u001b[0m \u001b[43mbuf\u001b[49m\u001b[38;5;241;43m.\u001b[39;49m\u001b[43mgecollect\u001b[49m\u001b[43m(\u001b[49m\u001b[43mpbar\u001b[49m\u001b[38;5;241;43m=\u001b[39;49m\u001b[43mtqdm\u001b[49m\u001b[43m(\u001b[49m\u001b[43mtotal\u001b[49m\u001b[38;5;241;43m=\u001b[39;49m\u001b[43margs\u001b[49m\u001b[38;5;241;43m.\u001b[39;49m\u001b[43mn_steps\u001b[49m\u001b[43m)\u001b[49m\u001b[43m)\u001b[49m\n",
      "File \u001b[0;32m~/exploration-generalization/atari/goexplore_train.py:138\u001b[0m, in \u001b[0;36mGEBuffer.gecollect\u001b[0;34m(self, pbar)\u001b[0m\n\u001b[1;32m    136\u001b[0m \u001b[38;5;28;01mif\u001b[39;00m \u001b[38;5;28mlen\u001b[39m(ids_reset) \u001b[38;5;241m>\u001b[39m \u001b[38;5;241m0\u001b[39m:\n\u001b[1;32m    137\u001b[0m     \u001b[38;5;28mprint\u001b[39m(\u001b[38;5;124m'\u001b[39m\u001b[38;5;124mresetting \u001b[39m\u001b[38;5;124m'\u001b[39m, ids_reset)\n\u001b[0;32m--> 138\u001b[0m     \u001b[38;5;28mself\u001b[39m\u001b[38;5;241m.\u001b[39mnext_obs[ids_reset] \u001b[38;5;241m=\u001b[39m \u001b[38;5;28;43mself\u001b[39;49m\u001b[38;5;241;43m.\u001b[39;49m\u001b[43mreset_with_newtraj\u001b[49m\u001b[43m(\u001b[49m\u001b[43mids_reset\u001b[49m\u001b[43m)\u001b[49m\n\u001b[1;32m    139\u001b[0m \u001b[38;5;28;01mif\u001b[39;00m pbar \u001b[38;5;129;01mis\u001b[39;00m \u001b[38;5;129;01mnot\u001b[39;00m \u001b[38;5;28;01mNone\u001b[39;00m:\n\u001b[1;32m    140\u001b[0m     pbar\u001b[38;5;241m.\u001b[39mupdate(\u001b[38;5;241m1\u001b[39m)\n",
      "File \u001b[0;32m~/exploration-generalization/atari/goexplore_train.py:119\u001b[0m, in \u001b[0;36mGEBuffer.reset_with_newtraj\u001b[0;34m(self, ids)\u001b[0m\n\u001b[1;32m    117\u001b[0m     \u001b[38;5;28mself\u001b[39m\u001b[38;5;241m.\u001b[39mtraj_lens[\u001b[38;5;28mid\u001b[39m] \u001b[38;5;241m=\u001b[39m \u001b[38;5;28mlen\u001b[39m(\u001b[38;5;28mself\u001b[39m\u001b[38;5;241m.\u001b[39mtrajs[\u001b[38;5;28mid\u001b[39m])\n\u001b[1;32m    118\u001b[0m     \u001b[38;5;28mself\u001b[39m\u001b[38;5;241m.\u001b[39mi_locs[\u001b[38;5;28mid\u001b[39m] \u001b[38;5;241m=\u001b[39m \u001b[38;5;241m0\u001b[39m\n\u001b[0;32m--> 119\u001b[0m obs, info \u001b[38;5;241m=\u001b[39m \u001b[38;5;28;43mself\u001b[39;49m\u001b[38;5;241;43m.\u001b[39;49m\u001b[43menv\u001b[49m\u001b[38;5;241;43m.\u001b[39;49m\u001b[43mreset_subenvs\u001b[49m\u001b[43m(\u001b[49m\u001b[43mids\u001b[49m\u001b[43m,\u001b[49m\u001b[43m \u001b[49m\u001b[43mseed\u001b[49m\u001b[38;5;241;43m=\u001b[39;49m\u001b[43m[\u001b[49m\u001b[38;5;241;43m0\u001b[39;49m\u001b[43m \u001b[49m\u001b[38;5;28;43;01mfor\u001b[39;49;00m\u001b[43m \u001b[49m\u001b[43m_\u001b[49m\u001b[43m \u001b[49m\u001b[38;5;129;43;01min\u001b[39;49;00m\u001b[43m \u001b[49m\u001b[43mids\u001b[49m\u001b[43m]\u001b[49m\u001b[43m)\u001b[49m\n\u001b[1;32m    120\u001b[0m \u001b[38;5;66;03m# assert np.array_equal(self.env.envs[id].ale.getRAM(), self.ram_start), \"env reset to seed=0\"\u001b[39;00m\n\u001b[1;32m    121\u001b[0m \u001b[38;5;28;01mreturn\u001b[39;00m obs\n",
      "File \u001b[0;32m~/exploration-generalization/atari/goexplore_train.py:94\u001b[0m, in \u001b[0;36mMyAsyncVectorEnv.reset_subenvs\u001b[0;34m(self, ids, seed)\u001b[0m\n\u001b[1;32m     92\u001b[0m \u001b[38;5;28mself\u001b[39m\u001b[38;5;241m.\u001b[39mnum_envs \u001b[38;5;241m=\u001b[39m \u001b[38;5;28mlen\u001b[39m(ids)\n\u001b[1;32m     93\u001b[0m \u001b[38;5;28mself\u001b[39m\u001b[38;5;241m.\u001b[39mreset_async(seed\u001b[38;5;241m=\u001b[39mseed)\n\u001b[0;32m---> 94\u001b[0m obs, info \u001b[38;5;241m=\u001b[39m \u001b[38;5;28;43mself\u001b[39;49m\u001b[38;5;241;43m.\u001b[39;49m\u001b[43mreset_wait\u001b[49m\u001b[43m(\u001b[49m\u001b[43mseed\u001b[49m\u001b[38;5;241;43m=\u001b[39;49m\u001b[43mseed\u001b[49m\u001b[43m)\u001b[49m\n\u001b[1;32m     95\u001b[0m \u001b[38;5;28mself\u001b[39m\u001b[38;5;241m.\u001b[39mparent_pipes, \u001b[38;5;28mself\u001b[39m\u001b[38;5;241m.\u001b[39mobservations, \u001b[38;5;28mself\u001b[39m\u001b[38;5;241m.\u001b[39mnum_envs \u001b[38;5;241m=\u001b[39m old_pipes, old_obs, old_nenvs\n\u001b[1;32m     96\u001b[0m \u001b[38;5;66;03m# this line long time to debug. shared_memory=False works as expected. if True(default), then obs is a shared memory object\u001b[39;00m\n",
      "File \u001b[0;32m~/miniconda3/envs/egb/lib/python3.10/site-packages/gymnasium/vector/async_vector_env.py:248\u001b[0m, in \u001b[0;36mAsyncVectorEnv.reset_wait\u001b[0;34m(self, timeout, seed, options)\u001b[0m\n\u001b[1;32m    243\u001b[0m     \u001b[38;5;28mself\u001b[39m\u001b[38;5;241m.\u001b[39m_state \u001b[38;5;241m=\u001b[39m AsyncState\u001b[38;5;241m.\u001b[39mDEFAULT\n\u001b[1;32m    244\u001b[0m     \u001b[38;5;28;01mraise\u001b[39;00m mp\u001b[38;5;241m.\u001b[39mTimeoutError(\n\u001b[1;32m    245\u001b[0m         \u001b[38;5;124mf\u001b[39m\u001b[38;5;124m\"\u001b[39m\u001b[38;5;124mThe call to `reset_wait` has timed out after \u001b[39m\u001b[38;5;132;01m{\u001b[39;00mtimeout\u001b[38;5;132;01m}\u001b[39;00m\u001b[38;5;124m second(s).\u001b[39m\u001b[38;5;124m\"\u001b[39m\n\u001b[1;32m    246\u001b[0m     )\n\u001b[0;32m--> 248\u001b[0m results, successes \u001b[38;5;241m=\u001b[39m \u001b[38;5;28mzip\u001b[39m(\u001b[38;5;241m*\u001b[39m[pipe\u001b[38;5;241m.\u001b[39mrecv() \u001b[38;5;28;01mfor\u001b[39;00m pipe \u001b[38;5;129;01min\u001b[39;00m \u001b[38;5;28mself\u001b[39m\u001b[38;5;241m.\u001b[39mparent_pipes])\n\u001b[1;32m    249\u001b[0m \u001b[38;5;28mself\u001b[39m\u001b[38;5;241m.\u001b[39m_raise_if_errors(successes)\n\u001b[1;32m    250\u001b[0m \u001b[38;5;28mself\u001b[39m\u001b[38;5;241m.\u001b[39m_state \u001b[38;5;241m=\u001b[39m AsyncState\u001b[38;5;241m.\u001b[39mDEFAULT\n",
      "File \u001b[0;32m~/miniconda3/envs/egb/lib/python3.10/site-packages/gymnasium/vector/async_vector_env.py:248\u001b[0m, in \u001b[0;36m<listcomp>\u001b[0;34m(.0)\u001b[0m\n\u001b[1;32m    243\u001b[0m     \u001b[38;5;28mself\u001b[39m\u001b[38;5;241m.\u001b[39m_state \u001b[38;5;241m=\u001b[39m AsyncState\u001b[38;5;241m.\u001b[39mDEFAULT\n\u001b[1;32m    244\u001b[0m     \u001b[38;5;28;01mraise\u001b[39;00m mp\u001b[38;5;241m.\u001b[39mTimeoutError(\n\u001b[1;32m    245\u001b[0m         \u001b[38;5;124mf\u001b[39m\u001b[38;5;124m\"\u001b[39m\u001b[38;5;124mThe call to `reset_wait` has timed out after \u001b[39m\u001b[38;5;132;01m{\u001b[39;00mtimeout\u001b[38;5;132;01m}\u001b[39;00m\u001b[38;5;124m second(s).\u001b[39m\u001b[38;5;124m\"\u001b[39m\n\u001b[1;32m    246\u001b[0m     )\n\u001b[0;32m--> 248\u001b[0m results, successes \u001b[38;5;241m=\u001b[39m \u001b[38;5;28mzip\u001b[39m(\u001b[38;5;241m*\u001b[39m[\u001b[43mpipe\u001b[49m\u001b[38;5;241;43m.\u001b[39;49m\u001b[43mrecv\u001b[49m\u001b[43m(\u001b[49m\u001b[43m)\u001b[49m \u001b[38;5;28;01mfor\u001b[39;00m pipe \u001b[38;5;129;01min\u001b[39;00m \u001b[38;5;28mself\u001b[39m\u001b[38;5;241m.\u001b[39mparent_pipes])\n\u001b[1;32m    249\u001b[0m \u001b[38;5;28mself\u001b[39m\u001b[38;5;241m.\u001b[39m_raise_if_errors(successes)\n\u001b[1;32m    250\u001b[0m \u001b[38;5;28mself\u001b[39m\u001b[38;5;241m.\u001b[39m_state \u001b[38;5;241m=\u001b[39m AsyncState\u001b[38;5;241m.\u001b[39mDEFAULT\n",
      "File \u001b[0;32m~/miniconda3/envs/egb/lib/python3.10/multiprocessing/connection.py:250\u001b[0m, in \u001b[0;36m_ConnectionBase.recv\u001b[0;34m(self)\u001b[0m\n\u001b[1;32m    248\u001b[0m \u001b[38;5;28mself\u001b[39m\u001b[38;5;241m.\u001b[39m_check_closed()\n\u001b[1;32m    249\u001b[0m \u001b[38;5;28mself\u001b[39m\u001b[38;5;241m.\u001b[39m_check_readable()\n\u001b[0;32m--> 250\u001b[0m buf \u001b[38;5;241m=\u001b[39m \u001b[38;5;28;43mself\u001b[39;49m\u001b[38;5;241;43m.\u001b[39;49m\u001b[43m_recv_bytes\u001b[49m\u001b[43m(\u001b[49m\u001b[43m)\u001b[49m\n\u001b[1;32m    251\u001b[0m \u001b[38;5;28;01mreturn\u001b[39;00m _ForkingPickler\u001b[38;5;241m.\u001b[39mloads(buf\u001b[38;5;241m.\u001b[39mgetbuffer())\n",
      "File \u001b[0;32m~/miniconda3/envs/egb/lib/python3.10/multiprocessing/connection.py:414\u001b[0m, in \u001b[0;36mConnection._recv_bytes\u001b[0;34m(self, maxsize)\u001b[0m\n\u001b[1;32m    413\u001b[0m \u001b[38;5;28;01mdef\u001b[39;00m \u001b[38;5;21m_recv_bytes\u001b[39m(\u001b[38;5;28mself\u001b[39m, maxsize\u001b[38;5;241m=\u001b[39m\u001b[38;5;28;01mNone\u001b[39;00m):\n\u001b[0;32m--> 414\u001b[0m     buf \u001b[38;5;241m=\u001b[39m \u001b[38;5;28;43mself\u001b[39;49m\u001b[38;5;241;43m.\u001b[39;49m\u001b[43m_recv\u001b[49m\u001b[43m(\u001b[49m\u001b[38;5;241;43m4\u001b[39;49m\u001b[43m)\u001b[49m\n\u001b[1;32m    415\u001b[0m     size, \u001b[38;5;241m=\u001b[39m struct\u001b[38;5;241m.\u001b[39munpack(\u001b[38;5;124m\"\u001b[39m\u001b[38;5;124m!i\u001b[39m\u001b[38;5;124m\"\u001b[39m, buf\u001b[38;5;241m.\u001b[39mgetvalue())\n\u001b[1;32m    416\u001b[0m     \u001b[38;5;28;01mif\u001b[39;00m size \u001b[38;5;241m==\u001b[39m \u001b[38;5;241m-\u001b[39m\u001b[38;5;241m1\u001b[39m:\n",
      "File \u001b[0;32m~/miniconda3/envs/egb/lib/python3.10/multiprocessing/connection.py:379\u001b[0m, in \u001b[0;36mConnection._recv\u001b[0;34m(self, size, read)\u001b[0m\n\u001b[1;32m    377\u001b[0m remaining \u001b[38;5;241m=\u001b[39m size\n\u001b[1;32m    378\u001b[0m \u001b[38;5;28;01mwhile\u001b[39;00m remaining \u001b[38;5;241m>\u001b[39m \u001b[38;5;241m0\u001b[39m:\n\u001b[0;32m--> 379\u001b[0m     chunk \u001b[38;5;241m=\u001b[39m \u001b[43mread\u001b[49m\u001b[43m(\u001b[49m\u001b[43mhandle\u001b[49m\u001b[43m,\u001b[49m\u001b[43m \u001b[49m\u001b[43mremaining\u001b[49m\u001b[43m)\u001b[49m\n\u001b[1;32m    380\u001b[0m     n \u001b[38;5;241m=\u001b[39m \u001b[38;5;28mlen\u001b[39m(chunk)\n\u001b[1;32m    381\u001b[0m     \u001b[38;5;28;01mif\u001b[39;00m n \u001b[38;5;241m==\u001b[39m \u001b[38;5;241m0\u001b[39m:\n",
      "\u001b[0;31mKeyboardInterrupt\u001b[0m: "
     ]
    }
   ],
   "source": [
    "from tqdm.auto import tqdm\n",
    "buf.gecollect(pbar=tqdm(total=args.n_steps))"
   ]
  },
  {
   "cell_type": "code",
   "execution_count": 116,
   "id": "60015101-08ae-48ac-a875-bc3431909733",
   "metadata": {},
   "outputs": [
    {
     "data": {
      "text/plain": [
       "array([0], dtype=uint8)"
      ]
     },
     "execution_count": 116,
     "metadata": {},
     "output_type": "execute_result"
    }
   ],
   "source": [
    "buf.trajs[80]"
   ]
  },
  {
   "cell_type": "code",
   "execution_count": 118,
   "id": "67590d2f-9511-4e13-bbb6-bf4423de1b6d",
   "metadata": {},
   "outputs": [
    {
     "data": {
      "text/plain": [
       "20"
      ]
     },
     "execution_count": 118,
     "metadata": {},
     "output_type": "execute_result"
    }
   ],
   "source": [
    "80//4"
   ]
  },
  {
   "cell_type": "code",
   "execution_count": 126,
   "id": "a078122c-0d04-4234-b224-efa7a61a9931",
   "metadata": {},
   "outputs": [
    {
     "data": {
      "text/plain": [
       "'Surround'"
      ]
     },
     "execution_count": 126,
     "metadata": {},
     "output_type": "execute_result"
    }
   ],
   "source": [
    "list(env_id2trajs.keys())[33//4]"
   ]
  },
  {
   "cell_type": "code",
   "execution_count": null,
   "id": "3be5f64e-d3ce-4b77-80ac-615cc0e078d9",
   "metadata": {},
   "outputs": [],
   "source": []
  },
  {
   "cell_type": "code",
   "execution_count": null,
   "id": "48bc49bd-531d-4fba-8dfc-18d42c509057",
   "metadata": {},
   "outputs": [],
   "source": []
  },
  {
   "cell_type": "code",
   "execution_count": null,
   "id": "9adbeea9-633f-4b1b-a919-0d041b063acc",
   "metadata": {},
   "outputs": [],
   "source": [
    "# 3 min for best"
   ]
  },
  {
   "cell_type": "code",
   "execution_count": null,
   "id": "bc5e7a92-c415-4a69-b63d-d7f769bbd772",
   "metadata": {},
   "outputs": [],
   "source": [
    "# 45 sec for leaf"
   ]
  },
  {
   "cell_type": "code",
   "execution_count": null,
   "id": "42560101-3fe8-4e03-a585-88e272a7173d",
   "metadata": {},
   "outputs": [],
   "source": []
  },
  {
   "cell_type": "code",
   "execution_count": null,
   "id": "33833b82-f61b-4065-a275-ca8b4bd4ef6c",
   "metadata": {},
   "outputs": [],
   "source": []
  },
  {
   "cell_type": "code",
   "execution_count": null,
   "id": "f98ca884-c356-4d9c-8c22-b25c581bb83e",
   "metadata": {},
   "outputs": [],
   "source": []
  },
  {
   "cell_type": "code",
   "execution_count": 52,
   "id": "5abb98c6-9da5-4dc1-afde-f0e7c85446e2",
   "metadata": {},
   "outputs": [],
   "source": [
    "tlens = []\n",
    "for env_id, trajs in env_id2trajs.items():\n",
    "    tlens.extend([len(traj) for traj in trajs])"
   ]
  },
  {
   "cell_type": "code",
   "execution_count": 48,
   "id": "29e4f4c4-5cce-412f-8893-735cd1810d9c",
   "metadata": {},
   "outputs": [
    {
     "data": {
      "text/plain": [
       "(1, 712.0, 1057.5255102040817, 5772)"
      ]
     },
     "execution_count": 48,
     "metadata": {},
     "output_type": "execute_result"
    }
   ],
   "source": [
    "np.min(tlens), np.median(tlens), np.mean(tlens), np.max(tlens)"
   ]
  },
  {
   "cell_type": "code",
   "execution_count": 53,
   "id": "f1484983-02cb-4a21-b21d-7efd2833adf9",
   "metadata": {},
   "outputs": [
    {
     "data": {
      "text/plain": [
       "(2, 471.0, 589.9723805833495, 5913)"
      ]
     },
     "execution_count": 53,
     "metadata": {},
     "output_type": "execute_result"
    }
   ],
   "source": [
    "np.min(tlens), np.median(tlens), np.mean(tlens), np.max(tlens)"
   ]
  },
  {
   "cell_type": "code",
   "execution_count": null,
   "id": "2aa54792-3f01-42ae-ba4f-9f0f050e1948",
   "metadata": {},
   "outputs": [],
   "source": []
  },
  {
   "cell_type": "code",
   "execution_count": null,
   "id": "15565d90-062e-4d2d-94dc-174c5641d5a0",
   "metadata": {},
   "outputs": [],
   "source": []
  },
  {
   "cell_type": "code",
   "execution_count": 138,
   "id": "15fb261d-d970-406d-bae9-8e4bbfa056c6",
   "metadata": {},
   "outputs": [],
   "source": [
    "with open('./atari_games_104.txt') as f:\n",
    "    a = f.read().split('\\n')\n",
    "with open('./atari_games_57.txt') as f:\n",
    "    b = f.read().split('\\n')\n",
    "a = [i for i in a if i not in b]"
   ]
  },
  {
   "cell_type": "code",
   "execution_count": 139,
   "id": "d73e9e2e-7f8d-44b2-9fb7-cd9e33e65d94",
   "metadata": {},
   "outputs": [
    {
     "data": {
      "text/plain": [
       "['Adventure',\n",
       " 'AirRaid',\n",
       " 'Atlantis2',\n",
       " 'Backgammon',\n",
       " 'BasicMath',\n",
       " 'Blackjack',\n",
       " 'Carnival',\n",
       " 'Casino',\n",
       " 'Crossbow',\n",
       " 'Darkchambers',\n",
       " 'DonkeyKong',\n",
       " 'Earthworld',\n",
       " 'ElevatorAction',\n",
       " 'Entombed',\n",
       " 'Et',\n",
       " 'FlagCapture',\n",
       " 'Frogger',\n",
       " 'Galaxian',\n",
       " 'Hangman',\n",
       " 'HauntedHouse',\n",
       " 'HumanCannonball',\n",
       " 'JourneyEscape',\n",
       " 'Kaboom',\n",
       " 'KeystoneKapers',\n",
       " 'KingKong',\n",
       " 'Klax',\n",
       " 'Koolaid',\n",
       " 'LaserGates',\n",
       " 'LostLuggage',\n",
       " 'MarioBros',\n",
       " 'MiniatureGolf',\n",
       " 'MrDo',\n",
       " 'Othello',\n",
       " 'Pacman',\n",
       " 'Pitfall2',\n",
       " 'Pooyan',\n",
       " 'SirLancelot',\n",
       " 'SpaceWar',\n",
       " 'Superman',\n",
       " 'Tetris',\n",
       " 'TicTacToe3d',\n",
       " 'Trondead',\n",
       " 'Turmoil',\n",
       " 'VideoCheckers',\n",
       " 'VideoChess',\n",
       " 'VideoCube',\n",
       " 'WordZapper']"
      ]
     },
     "execution_count": 139,
     "metadata": {},
     "output_type": "execute_result"
    }
   ],
   "source": [
    "a"
   ]
  },
  {
   "cell_type": "code",
   "execution_count": null,
   "id": "77a5e137-2d94-4940-bef5-4ee6911fbd11",
   "metadata": {},
   "outputs": [],
   "source": []
  },
  {
   "cell_type": "code",
   "execution_count": 19,
   "id": "7f1d6fa8-2282-47b9-993d-9287c7bdf099",
   "metadata": {},
   "outputs": [],
   "source": [
    "import wandb\n",
    "import matplotlib.pyplot as plt"
   ]
  },
  {
   "cell_type": "code",
   "execution_count": 20,
   "id": "a533449e-edd6-41f3-9cc7-07b03408ef28",
   "metadata": {},
   "outputs": [],
   "source": [
    "import wandb\n",
    "api = wandb.Api()"
   ]
  },
  {
   "cell_type": "code",
   "execution_count": 21,
   "id": "49808daf-688b-429f-9b57-5cdeef80f1f3",
   "metadata": {},
   "outputs": [],
   "source": [
    "for run in api.runs('akumar01-mit/ge_generalist'):\n",
    "    if not run.config['strategy'] == 'best':\n",
    "        continue"
   ]
  },
  {
   "cell_type": "code",
   "execution_count": 22,
   "id": "7db38220-fdaa-41ee-b24b-7998d54feab4",
   "metadata": {},
   "outputs": [],
   "source": [
    "df =run.history(samples=50000)"
   ]
  },
  {
   "cell_type": "code",
   "execution_count": 28,
   "id": "db26709d-087e-4033-a49d-6c05ffc1a1ad",
   "metadata": {},
   "outputs": [
    {
     "data": {
      "text/plain": [
       "[<matplotlib.lines.Line2D at 0x7f1a8789fc40>]"
      ]
     },
     "execution_count": 28,
     "metadata": {},
     "output_type": "execute_result"
    },
    {
     "data": {
      "image/png": "[encoded data removed]",
      "text/plain": [
       "<Figure size 640x480 with 1 Axes>"
      ]
     },
     "metadata": {},
     "output_type": "display_data"
    }
   ],
   "source": [
    "plt.plot(df._timestamp, df._step)"
   ]
  },
  {
   "cell_type": "code",
   "execution_count": null,
   "id": "e9ae8649-b207-42da-851b-11a35e139425",
   "metadata": {},
   "outputs": [],
   "source": []
  },
  {
   "cell_type": "code",
   "execution_count": null,
   "id": "9ba3bbf4-5fde-4cf8-805a-403a4aae3f30",
   "metadata": {},
   "outputs": [],
   "source": []
  }
 ],
 "metadata": {
  "kernelspec": {
   "display_name": "Python 3 (ipykernel)",
   "language": "python",
   "name": "python3"
  },
  "language_info": {
   "codemirror_mode": {
    "name": "ipython",
    "version": 3
   },
   "file_extension": ".py",
   "mimetype": "text/x-python",
   "name": "python",
   "nbconvert_exporter": "python",
   "pygments_lexer": "ipython3",
   "version": "3.10.12"
  }
 },
 "nbformat": 4,
 "nbformat_minor": 5
}
