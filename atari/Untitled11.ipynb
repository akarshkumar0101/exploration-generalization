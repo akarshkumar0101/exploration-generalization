{
 "cells": [
  {
   "cell_type": "code",
   "execution_count": 1,
   "id": "54234fec-a7bf-49cb-8e8e-47550ab27fbe",
   "metadata": {},
   "outputs": [],
   "source": [
    "%load_ext autoreload\n",
    "%autoreload 2"
   ]
  },
  {
   "cell_type": "code",
   "execution_count": 2,
   "id": "b1717c1f-8bc6-42b4-8937-60d7bc484c87",
   "metadata": {},
   "outputs": [],
   "source": [
    "%run imports.py"
   ]
  },
  {
   "cell_type": "code",
   "execution_count": 3,
   "id": "9321e538-3e7a-4f76-aac0-605b09fceb15",
   "metadata": {},
   "outputs": [],
   "source": [
    "from goexplore import *"
   ]
  },
  {
   "cell_type": "code",
   "execution_count": 4,
   "id": "6db66a16-d2a8-4412-a9fb-6632685aea8e",
   "metadata": {},
   "outputs": [],
   "source": [
    "import glob"
   ]
  },
  {
   "cell_type": "code",
   "execution_count": 9,
   "id": "d21d191b-9781-48e9-a28a-4abd226fb6a6",
   "metadata": {},
   "outputs": [],
   "source": [
    "env_id2archives = defaultdict(list)"
   ]
  },
  {
   "cell_type": "code",
   "execution_count": 10,
   "id": "ce142ad5-5f71-4c73-9a3d-8b34e6afe62a",
   "metadata": {
    "scrolled": true
   },
   "outputs": [
    {
     "data": {
      "application/vnd.jupyter.widget-view+json": {
       "model_id": "f9465302600842b691fb15b90669cbc6",
       "version_major": 2,
       "version_minor": 0
      },
      "text/plain": [
       "  0%|          | 0/11200 [00:00<?, ?it/s]"
      ]
     },
     "metadata": {},
     "output_type": "display_data"
    }
   ],
   "source": [
    "for f in tqdm(glob.glob('/data/vision/phillipi/akumar01/exploration-generalization/atari/data/ge_specialist/*')):\n",
    "    archive = np.load(f, allow_pickle=True).item()\n",
    "    env_id = archive['config']['env_id']\n",
    "    env_id2archives[env_id].append(archive)"
   ]
  },
  {
   "cell_type": "code",
   "execution_count": 93,
   "id": "8be78eb1-12dc-4e55-8092-c1f474736ac4",
   "metadata": {},
   "outputs": [
    {
     "data": {
      "application/vnd.jupyter.widget-view+json": {
       "model_id": "eb010a7b98da49bf9a6c0f70119c0d43",
       "version_major": 2,
       "version_minor": 0
      },
      "text/plain": [
       "  0%|          | 0/56 [00:00<?, ?it/s]"
      ]
     },
     "metadata": {},
     "output_type": "display_data"
    },
    {
     "name": "stdout",
     "output_type": "stream",
     "text": [
      "10.631867215 1.029152707 0.002219739\n"
     ]
    }
   ],
   "source": [
    "steps, steps_leaf, steps_best = 0, 0, 0\n",
    "for env_id, archives in tqdm(env_id2archives.items()):\n",
    "    for archive in archives[:40]:\n",
    "        trajs = archive['traj']\n",
    "        is_leaf = archive['is_leaf']\n",
    "        rets = archive['ret']\n",
    "        steps += np.sum([traj.size for traj in trajs])\n",
    "        steps_leaf += np.sum([traj.size for traj in trajs[is_leaf]])\n",
    "        steps_best += np.sum([traj.size for traj in trajs[[rets.argmax()]]])\n",
    "print(steps/1e9, steps_leaf/1e9, steps_best/1e9)"
   ]
  },
  {
   "cell_type": "code",
   "execution_count": null,
   "id": "e7519bf6-3aad-4424-a385-fdad8b34719e",
   "metadata": {},
   "outputs": [],
   "source": []
  },
  {
   "cell_type": "code",
   "execution_count": null,
   "id": "e6c27373-9e0a-4be4-9021-c7fe5d62ccb2",
   "metadata": {},
   "outputs": [],
   "source": []
  },
  {
   "cell_type": "code",
   "execution_count": null,
   "id": "887478bd-5a37-4f70-9943-8dd875acb08d",
   "metadata": {},
   "outputs": [],
   "source": []
  },
  {
   "cell_type": "code",
   "execution_count": null,
   "id": "33fb30c5-897d-405d-a3b1-50de52c7e08f",
   "metadata": {},
   "outputs": [],
   "source": []
  },
  {
   "cell_type": "code",
   "execution_count": null,
   "id": "d46c5ce8-54d3-413b-abc4-e950ea1d9f78",
   "metadata": {},
   "outputs": [],
   "source": []
  },
  {
   "cell_type": "code",
   "execution_count": 13,
   "id": "bc006ea4-6b6a-4cf4-9faa-9f02483097f8",
   "metadata": {},
   "outputs": [],
   "source": [
    "with open(\"./atari_games_57.txt\") as f:\n",
    "    env_ids = f.read().split(\"\\n\")\n",
    "with open(\"./atari_games_ignore.txt\") as f:\n",
    "    env_ids_ignore = f.read().split(\"\\n\")\n",
    "env_ids = np.array([env_id for env_id in env_ids if env_id not in env_ids_ignore])\n",
    "env_ids = env_ids"
   ]
  },
  {
   "cell_type": "code",
   "execution_count": null,
   "id": "3ef6143b-dcb6-458e-8256-11df5bb0888a",
   "metadata": {},
   "outputs": [],
   "source": []
  },
  {
   "cell_type": "code",
   "execution_count": null,
   "id": "8ab45b20-5a8e-40a1-ba51-ae480d88d132",
   "metadata": {},
   "outputs": [],
   "source": []
  },
  {
   "cell_type": "code",
   "execution_count": 21,
   "id": "1ebf0207-ff9d-443a-ab97-9ef0fed6437e",
   "metadata": {},
   "outputs": [
    {
     "data": {
      "application/vnd.jupyter.widget-view+json": {
       "model_id": "52947627ecc64f88abdce35f7593826c",
       "version_major": 2,
       "version_minor": 0
      },
      "text/plain": [
       "  0%|          | 0/48 [00:00<?, ?it/s]"
      ]
     },
     "metadata": {},
     "output_type": "display_data"
    }
   ],
   "source": [
    "env_id2env = {}\n",
    "for env_id in tqdm(env_ids[:48]):\n",
    "    env = envpool.make_gymnasium(f'{env_id}-v5', num_envs=64, img_height=84, img_width=84, full_action_space=True)\n",
    "    env_id2env[env_id] = env"
   ]
  },
  {
   "cell_type": "code",
   "execution_count": null,
   "id": "f0422ad3-339b-4417-8fd1-0c8d5b706cad",
   "metadata": {},
   "outputs": [],
   "source": []
  },
  {
   "cell_type": "code",
   "execution_count": null,
   "id": "ee1bba63-512c-4599-ba9c-8530731a193a",
   "metadata": {},
   "outputs": [],
   "source": []
  },
  {
   "cell_type": "code",
   "execution_count": 86,
   "id": "f7fa1dbd-ecfe-4f4f-b87a-19c08680dd6e",
   "metadata": {},
   "outputs": [
    {
     "data": {
      "application/vnd.jupyter.widget-view+json": {
       "model_id": "2ec782dd14b54f7cab642335d61197eb",
       "version_major": 2,
       "version_minor": 0
      },
      "text/plain": [
       "  0%|          | 0/48 [00:00<?, ?it/s]"
      ]
     },
     "metadata": {},
     "output_type": "display_data"
    },
    {
     "data": {
      "application/vnd.jupyter.widget-view+json": {
       "model_id": "655a2538f7b846d29eacf4181396f010",
       "version_major": 2,
       "version_minor": 0
      },
      "text/plain": [
       "  0%|          | 0/1024 [00:00<?, ?it/s]"
      ]
     },
     "metadata": {},
     "output_type": "display_data"
    },
    {
     "ename": "KeyboardInterrupt",
     "evalue": "",
     "output_type": "error",
     "traceback": [
      "\u001b[0;31m---------------------------------------------------------------------------\u001b[0m",
      "\u001b[0;31mKeyboardInterrupt\u001b[0m                         Traceback (most recent call last)",
      "Cell \u001b[0;32mIn[86], line 5\u001b[0m\n\u001b[1;32m      3\u001b[0m \u001b[38;5;66;03m# env.reset()\u001b[39;00m\n\u001b[1;32m      4\u001b[0m \u001b[38;5;28;01mfor\u001b[39;00m t \u001b[38;5;129;01min\u001b[39;00m tqdm(\u001b[38;5;28mrange\u001b[39m(\u001b[38;5;241m1024\u001b[39m)):\n\u001b[0;32m----> 5\u001b[0m     \u001b[43menv\u001b[49m\u001b[38;5;241;43m.\u001b[39;49m\u001b[43mstep\u001b[49m\u001b[43m(\u001b[49m\u001b[43mnp\u001b[49m\u001b[38;5;241;43m.\u001b[39;49m\u001b[43mrandom\u001b[49m\u001b[38;5;241;43m.\u001b[39;49m\u001b[43mrandint\u001b[49m\u001b[43m(\u001b[49m\u001b[38;5;241;43m0\u001b[39;49m\u001b[43m,\u001b[49m\u001b[43m \u001b[49m\u001b[38;5;241;43m18\u001b[39;49m\u001b[43m,\u001b[49m\u001b[43m \u001b[49m\u001b[43msize\u001b[49m\u001b[38;5;241;43m=\u001b[39;49m\u001b[43m(\u001b[49m\u001b[38;5;241;43m64\u001b[39;49m\u001b[43m,\u001b[49m\u001b[43m)\u001b[49m\u001b[43m)\u001b[49m\u001b[43m)\u001b[49m\n",
      "File \u001b[0;32m~/miniconda3/envs/egb/lib/python3.10/site-packages/envpool/python/envpool.py:142\u001b[0m, in \u001b[0;36mEnvPoolMixin.step\u001b[0;34m(self, action, env_id)\u001b[0m\n\u001b[1;32m    140\u001b[0m \u001b[38;5;250m\u001b[39m\u001b[38;5;124;03m\"\"\"Perform one step with multiple environments in EnvPool.\"\"\"\u001b[39;00m\n\u001b[1;32m    141\u001b[0m \u001b[38;5;28mself\u001b[39m\u001b[38;5;241m.\u001b[39msend(action, env_id)\n\u001b[0;32m--> 142\u001b[0m \u001b[38;5;28;01mreturn\u001b[39;00m \u001b[38;5;28;43mself\u001b[39;49m\u001b[38;5;241;43m.\u001b[39;49m\u001b[43mrecv\u001b[49m\u001b[43m(\u001b[49m\u001b[43mreset\u001b[49m\u001b[38;5;241;43m=\u001b[39;49m\u001b[38;5;28;43;01mFalse\u001b[39;49;00m\u001b[43m,\u001b[49m\u001b[43m \u001b[49m\u001b[43mreturn_info\u001b[49m\u001b[38;5;241;43m=\u001b[39;49m\u001b[38;5;28;43;01mTrue\u001b[39;49;00m\u001b[43m)\u001b[49m\n",
      "File \u001b[0;32m~/miniconda3/envs/egb/lib/python3.10/site-packages/envpool/python/envpool.py:128\u001b[0m, in \u001b[0;36mEnvPoolMixin.recv\u001b[0;34m(self, reset, return_info)\u001b[0m\n\u001b[1;32m    122\u001b[0m \u001b[38;5;28;01mdef\u001b[39;00m \u001b[38;5;21mrecv\u001b[39m(\n\u001b[1;32m    123\u001b[0m   \u001b[38;5;28mself\u001b[39m: EnvPool,\n\u001b[1;32m    124\u001b[0m   reset: \u001b[38;5;28mbool\u001b[39m \u001b[38;5;241m=\u001b[39m \u001b[38;5;28;01mFalse\u001b[39;00m,\n\u001b[1;32m    125\u001b[0m   return_info: \u001b[38;5;28mbool\u001b[39m \u001b[38;5;241m=\u001b[39m \u001b[38;5;28;01mTrue\u001b[39;00m,\n\u001b[1;32m    126\u001b[0m ) \u001b[38;5;241m-\u001b[39m\u001b[38;5;241m>\u001b[39m Union[TimeStep, Tuple]:\n\u001b[1;32m    127\u001b[0m \u001b[38;5;250m  \u001b[39m\u001b[38;5;124;03m\"\"\"Recv a batch state from EnvPool.\"\"\"\u001b[39;00m\n\u001b[0;32m--> 128\u001b[0m   state_list \u001b[38;5;241m=\u001b[39m \u001b[38;5;28;43mself\u001b[39;49m\u001b[38;5;241;43m.\u001b[39;49m\u001b[43m_recv\u001b[49m\u001b[43m(\u001b[49m\u001b[43m)\u001b[49m\n\u001b[1;32m    129\u001b[0m   \u001b[38;5;28;01mreturn\u001b[39;00m \u001b[38;5;28mself\u001b[39m\u001b[38;5;241m.\u001b[39m_to(state_list, reset, return_info)\n",
      "\u001b[0;31mKeyboardInterrupt\u001b[0m: "
     ]
    }
   ],
   "source": [
    "for env_id in tqdm(env_ids[:48]):\n",
    "    env = env_id2env[env_id]\n",
    "    # env.reset()\n",
    "    for t in tqdm(range(1024)):\n",
    "        env.step(np.random.randint(0, 18, size=(64,)))"
   ]
  },
  {
   "cell_type": "code",
   "execution_count": null,
   "id": "e97548cb-bc53-4778-8574-41225d3b876d",
   "metadata": {},
   "outputs": [],
   "source": []
  },
  {
   "cell_type": "code",
   "execution_count": null,
   "id": "3fae7fab-1b3a-4fa1-b700-2992c7e42e6e",
   "metadata": {},
   "outputs": [],
   "source": []
  },
  {
   "cell_type": "code",
   "execution_count": 74,
   "id": "6135d575-2fe9-4737-872c-d0e312e29dc4",
   "metadata": {},
   "outputs": [
    {
     "data": {
      "text/plain": [
       "array(['Alien', 'Amidar', 'Assault', 'Asterix', 'Asteroids', 'Atlantis',\n",
       "       'BankHeist', 'BattleZone', 'BeamRider', 'Berzerk', 'Bowling',\n",
       "       'Boxing', 'Breakout', 'Centipede', 'ChopperCommand',\n",
       "       'CrazyClimber', 'Defender', 'DemonAttack', 'DoubleDunk', 'Enduro',\n",
       "       'FishingDerby', 'Freeway', 'Frostbite', 'Gopher', 'Gravitar',\n",
       "       'Hero', 'IceHockey', 'Jamesbond', 'Kangaroo', 'Krull',\n",
       "       'KungFuMaster', 'MontezumaRevenge', 'MsPacman', 'NameThisGame',\n",
       "       'Phoenix', 'Pitfall', 'Pong', 'PrivateEye', 'Qbert', 'Riverraid',\n",
       "       'RoadRunner', 'Robotank', 'Seaquest', 'Solaris', 'SpaceInvaders',\n",
       "       'StarGunner', 'Surround', 'Tennis', 'TimePilot', 'Tutankham',\n",
       "       'UpNDown', 'Venture', 'VideoPinball', 'WizardOfWor', 'YarsRevenge',\n",
       "       'Zaxxon'], dtype='<U16')"
      ]
     },
     "execution_count": 74,
     "metadata": {},
     "output_type": "execute_result"
    }
   ],
   "source": [
    "env_ids"
   ]
  },
  {
   "cell_type": "code",
   "execution_count": 87,
   "id": "d8fc0c4c-3bc9-4b5c-9ec5-a6e9b71d56f4",
   "metadata": {},
   "outputs": [
    {
     "data": {
      "application/vnd.jupyter.widget-view+json": {
       "model_id": "37d4514a53b94a9a9de5199d3396a8a8",
       "version_major": 2,
       "version_minor": 0
      },
      "text/plain": [
       "  0%|          | 0/48 [00:00<?, ?it/s]"
      ]
     },
     "metadata": {},
     "output_type": "display_data"
    },
    {
     "data": {
      "application/vnd.jupyter.widget-view+json": {
       "model_id": "741a9286faaa4f9799e19d4b21997064",
       "version_major": 2,
       "version_minor": 0
      },
      "text/plain": [
       "  0%|          | 0/1024 [00:00<?, ?it/s]"
      ]
     },
     "metadata": {},
     "output_type": "display_data"
    },
    {
     "data": {
      "application/vnd.jupyter.widget-view+json": {
       "model_id": "afe4f522dd9040a9baa99aa7a09ac5fc",
       "version_major": 2,
       "version_minor": 0
      },
      "text/plain": [
       "  0%|          | 0/1024 [00:00<?, ?it/s]"
      ]
     },
     "metadata": {},
     "output_type": "display_data"
    },
    {
     "ename": "KeyboardInterrupt",
     "evalue": "",
     "output_type": "error",
     "traceback": [
      "\u001b[0;31m---------------------------------------------------------------------------\u001b[0m",
      "\u001b[0;31mKeyboardInterrupt\u001b[0m                         Traceback (most recent call last)",
      "Cell \u001b[0;32mIn[87], line 13\u001b[0m\n\u001b[1;32m     11\u001b[0m \u001b[38;5;28;01mfor\u001b[39;00m t \u001b[38;5;129;01min\u001b[39;00m tqdm(\u001b[38;5;28mrange\u001b[39m(n_steps)):\n\u001b[1;32m     12\u001b[0m     action \u001b[38;5;241m=\u001b[39m np\u001b[38;5;241m.\u001b[39mrandom\u001b[38;5;241m.\u001b[39mrandint(\u001b[38;5;241m18\u001b[39m, size\u001b[38;5;241m=\u001b[39mn_envs)\n\u001b[0;32m---> 13\u001b[0m     _ \u001b[38;5;241m=\u001b[39m \u001b[43menv\u001b[49m\u001b[38;5;241;43m.\u001b[39;49m\u001b[43mstep\u001b[49m\u001b[43m(\u001b[49m\u001b[43maction\u001b[49m\u001b[43m)\u001b[49m\n\u001b[1;32m     14\u001b[0m end \u001b[38;5;241m=\u001b[39m time\u001b[38;5;241m.\u001b[39mtime()\n\u001b[1;32m     15\u001b[0m \u001b[38;5;66;03m# print(f\"envpool: \")\u001b[39;00m\n\u001b[1;32m     16\u001b[0m \u001b[38;5;66;03m# print(f\"Time: {end - start:.2f}s\")\u001b[39;00m\n\u001b[1;32m     17\u001b[0m \u001b[38;5;66;03m# print(f\"FPS: {n_steps * n_envs / (end - start):.2f}\")\u001b[39;00m\n\u001b[1;32m     18\u001b[0m \u001b[38;5;66;03m# print()\u001b[39;00m\n",
      "File \u001b[0;32m~/miniconda3/envs/egb/lib/python3.10/site-packages/envpool/python/envpool.py:142\u001b[0m, in \u001b[0;36mEnvPoolMixin.step\u001b[0;34m(self, action, env_id)\u001b[0m\n\u001b[1;32m    140\u001b[0m \u001b[38;5;250m\u001b[39m\u001b[38;5;124;03m\"\"\"Perform one step with multiple environments in EnvPool.\"\"\"\u001b[39;00m\n\u001b[1;32m    141\u001b[0m \u001b[38;5;28mself\u001b[39m\u001b[38;5;241m.\u001b[39msend(action, env_id)\n\u001b[0;32m--> 142\u001b[0m \u001b[38;5;28;01mreturn\u001b[39;00m \u001b[38;5;28;43mself\u001b[39;49m\u001b[38;5;241;43m.\u001b[39;49m\u001b[43mrecv\u001b[49m\u001b[43m(\u001b[49m\u001b[43mreset\u001b[49m\u001b[38;5;241;43m=\u001b[39;49m\u001b[38;5;28;43;01mFalse\u001b[39;49;00m\u001b[43m,\u001b[49m\u001b[43m \u001b[49m\u001b[43mreturn_info\u001b[49m\u001b[38;5;241;43m=\u001b[39;49m\u001b[38;5;28;43;01mTrue\u001b[39;49;00m\u001b[43m)\u001b[49m\n",
      "File \u001b[0;32m~/miniconda3/envs/egb/lib/python3.10/site-packages/envpool/python/envpool.py:128\u001b[0m, in \u001b[0;36mEnvPoolMixin.recv\u001b[0;34m(self, reset, return_info)\u001b[0m\n\u001b[1;32m    122\u001b[0m \u001b[38;5;28;01mdef\u001b[39;00m \u001b[38;5;21mrecv\u001b[39m(\n\u001b[1;32m    123\u001b[0m   \u001b[38;5;28mself\u001b[39m: EnvPool,\n\u001b[1;32m    124\u001b[0m   reset: \u001b[38;5;28mbool\u001b[39m \u001b[38;5;241m=\u001b[39m \u001b[38;5;28;01mFalse\u001b[39;00m,\n\u001b[1;32m    125\u001b[0m   return_info: \u001b[38;5;28mbool\u001b[39m \u001b[38;5;241m=\u001b[39m \u001b[38;5;28;01mTrue\u001b[39;00m,\n\u001b[1;32m    126\u001b[0m ) \u001b[38;5;241m-\u001b[39m\u001b[38;5;241m>\u001b[39m Union[TimeStep, Tuple]:\n\u001b[1;32m    127\u001b[0m \u001b[38;5;250m  \u001b[39m\u001b[38;5;124;03m\"\"\"Recv a batch state from EnvPool.\"\"\"\u001b[39;00m\n\u001b[0;32m--> 128\u001b[0m   state_list \u001b[38;5;241m=\u001b[39m \u001b[38;5;28;43mself\u001b[39;49m\u001b[38;5;241;43m.\u001b[39;49m\u001b[43m_recv\u001b[49m\u001b[43m(\u001b[49m\u001b[43m)\u001b[49m\n\u001b[1;32m    129\u001b[0m   \u001b[38;5;28;01mreturn\u001b[39;00m \u001b[38;5;28mself\u001b[39m\u001b[38;5;241m.\u001b[39m_to(state_list, reset, return_info)\n",
      "\u001b[0;31mKeyboardInterrupt\u001b[0m: "
     ]
    }
   ],
   "source": [
    "for env_id in tqdm(env_ids[:48]):\n",
    "    n_envs = 64\n",
    "    n_steps = 1024\n",
    "    # env_id = \"YarsRevenge\"\n",
    "\n",
    "    env = envpool.make_gymnasium(\n",
    "        f\"{env_id}-v5\", num_envs=n_envs, img_height=84, img_width=84, gray_scale=True, stack_num=1, frame_skip=4, repeat_action_probability=0.0, noop_max=1, use_fire_reset=False, full_action_space=True\n",
    "    )\n",
    "    start = time.time()\n",
    "    env.reset()\n",
    "    for t in tqdm(range(n_steps)):\n",
    "        action = np.random.randint(18, size=n_envs)\n",
    "        _ = env.step(action)\n",
    "    end = time.time()\n",
    "    # print(f\"envpool: \")\n",
    "    # print(f\"Time: {end - start:.2f}s\")\n",
    "    # print(f\"FPS: {n_steps * n_envs / (end - start):.2f}\")\n",
    "    # print()\n"
   ]
  },
  {
   "cell_type": "code",
   "execution_count": null,
   "id": "c9f69acc-01ca-41d9-8062-2013d71fa4e9",
   "metadata": {},
   "outputs": [],
   "source": []
  },
  {
   "cell_type": "code",
   "execution_count": null,
   "id": "74f2467a-e17c-40fe-aa74-6f473e49e12b",
   "metadata": {},
   "outputs": [],
   "source": []
  },
  {
   "cell_type": "code",
   "execution_count": null,
   "id": "3a795349-37aa-4698-8940-f364fa0f9db5",
   "metadata": {},
   "outputs": [],
   "source": []
  },
  {
   "cell_type": "code",
   "execution_count": null,
   "id": "22e9e0ae-4118-4b27-b38b-5725192e22f5",
   "metadata": {},
   "outputs": [],
   "source": []
  },
  {
   "cell_type": "code",
   "execution_count": null,
   "id": "dfbe187a-750e-4be6-a201-389566d7733f",
   "metadata": {},
   "outputs": [],
   "source": []
  },
  {
   "cell_type": "code",
   "execution_count": null,
   "id": "de05ccea-5080-4d53-bc93-fead90850732",
   "metadata": {},
   "outputs": [],
   "source": []
  },
  {
   "cell_type": "code",
   "execution_count": 5,
   "id": "4d8fc926-5244-40f0-af93-5449bcaf807c",
   "metadata": {},
   "outputs": [
    {
     "data": {
      "text/plain": [
       "11200"
      ]
     },
     "execution_count": 5,
     "metadata": {},
     "output_type": "execute_result"
    }
   ],
   "source": [
    "56*200"
   ]
  },
  {
   "cell_type": "code",
   "execution_count": null,
   "id": "b8ca5999-f1ec-40dd-a05c-0c843105dd89",
   "metadata": {},
   "outputs": [],
   "source": [
    "64*2048 envs*steps\n",
    "48 envs_ids\n",
    "84*84 obs size\n",
    "= 50 gb ram"
   ]
  },
  {
   "cell_type": "code",
   "execution_count": null,
   "id": "e083d8c5-7716-4e43-bcbb-16d2c804abfc",
   "metadata": {},
   "outputs": [],
   "source": []
  },
  {
   "cell_type": "code",
   "execution_count": 50,
   "id": "0c17003d-197a-4747-9b63-f7c9d63a40ba",
   "metadata": {},
   "outputs": [
    {
     "data": {
      "text/plain": [
       "256.34765625"
      ]
     },
     "execution_count": 50,
     "metadata": {},
     "output_type": "execute_result"
    }
   ],
   "source": [
    "6.3e6/384/64"
   ]
  },
  {
   "cell_type": "code",
   "execution_count": 51,
   "id": "4a0f5284-3c71-4442-8ffd-c338fe723714",
   "metadata": {},
   "outputs": [
    {
     "data": {
      "text/plain": [
       "512"
      ]
     },
     "execution_count": 51,
     "metadata": {},
     "output_type": "execute_result"
    }
   ],
   "source": [
    "512"
   ]
  },
  {
   "cell_type": "code",
   "execution_count": null,
   "id": "bd90be52-f02d-4dca-8730-2832b8ee9198",
   "metadata": {},
   "outputs": [],
   "source": [
    "17 min collection\n",
    "4 min training"
   ]
  },
  {
   "cell_type": "code",
   "execution_count": null,
   "id": "690347bb-9028-425b-bfc7-5fdee5e69dd9",
   "metadata": {},
   "outputs": [],
   "source": []
  },
  {
   "cell_type": "code",
   "execution_count": null,
   "id": "3beb4cd6-130d-4fe9-82d0-4622254095f2",
   "metadata": {},
   "outputs": [],
   "source": []
  },
  {
   "cell_type": "code",
   "execution_count": 136,
   "id": "82cec8bf-c50c-4f7f-837d-f97dcceaec64",
   "metadata": {},
   "outputs": [],
   "source": [
    "a1 = np.load('/data/vision/phillipi/akumar01/exploration-generalization/atari/data/ge_specialist/ge_specialist_Alien_0000.npy', allow_pickle=True).item()\n",
    "a1 = a1['traj']"
   ]
  },
  {
   "cell_type": "code",
   "execution_count": 137,
   "id": "349748c6-218a-48c0-a37f-3ce7de213ead",
   "metadata": {},
   "outputs": [],
   "source": [
    "a2 = np.load('/data/vision/phillipi/akumar01/exploration-generalization/atari/data/goexplore/Alien_0000.npy', allow_pickle=True).item()\n",
    "a2 = a2['trajs']"
   ]
  },
  {
   "cell_type": "code",
   "execution_count": 138,
   "id": "c13bc9bd-a412-476f-8347-e5ef71d2f6b0",
   "metadata": {},
   "outputs": [
    {
     "data": {
      "application/vnd.jupyter.widget-view+json": {
       "model_id": "3d4664f573854f2e920660e004e8932e",
       "version_major": 2,
       "version_minor": 0
      },
      "text/plain": [
       "0it [00:00, ?it/s]"
      ]
     },
     "metadata": {},
     "output_type": "display_data"
    },
    {
     "ename": "AssertionError",
     "evalue": "",
     "output_type": "error",
     "traceback": [
      "\u001b[0;31m---------------------------------------------------------------------------\u001b[0m",
      "\u001b[0;31mAssertionError\u001b[0m                            Traceback (most recent call last)",
      "Cell \u001b[0;32mIn[138], line 2\u001b[0m\n\u001b[1;32m      1\u001b[0m \u001b[38;5;28;01mfor\u001b[39;00m i, j \u001b[38;5;129;01min\u001b[39;00m tqdm(\u001b[38;5;28mzip\u001b[39m(a1, a2)):\n\u001b[0;32m----> 2\u001b[0m     \u001b[38;5;28;01massert\u001b[39;00m np\u001b[38;5;241m.\u001b[39marray_equal(i, j)\n",
      "\u001b[0;31mAssertionError\u001b[0m: "
     ]
    }
   ],
   "source": [
    "for i, j in tqdm(zip(a1, a2)):\n",
    "    assert np.array_equal(i, j)"
   ]
  },
  {
   "cell_type": "code",
   "execution_count": null,
   "id": "676ccf6c-ed43-4b86-ad0a-7498baabfc7f",
   "metadata": {},
   "outputs": [],
   "source": []
  },
  {
   "cell_type": "code",
   "execution_count": 100,
   "id": "5b4c2aed-cf4b-4211-ad68-1ab59d67c0eb",
   "metadata": {},
   "outputs": [],
   "source": [
    "fs1 = glob.glob('/data/vision/phillipi/akumar01/exploration-generalization/atari/data/ge_specialist/*')\n",
    "fs2 = glob.glob('/data/vision/phillipi/akumar01/exploration-generalization/atari/data/goexplore/*')\n",
    "fs1 = sorted(fs1)\n",
    "fs2 = sorted(fs2)"
   ]
  },
  {
   "cell_type": "code",
   "execution_count": 102,
   "id": "942d78b8-7a11-46bd-92dd-c59947fcd95a",
   "metadata": {},
   "outputs": [
    {
     "data": {
      "text/plain": [
       "('/data/vision/phillipi/akumar01/exploration-generalization/atari/data/ge_specialist/ge_specialist_Alien_0000.npy',\n",
       " '/data/vision/phillipi/akumar01/exploration-generalization/atari/data/goexplore/Alien_0000.npy')"
      ]
     },
     "execution_count": 102,
     "metadata": {},
     "output_type": "execute_result"
    }
   ],
   "source": [
    "fs1[0], fs2[0]"
   ]
  },
  {
   "cell_type": "code",
   "execution_count": null,
   "id": "6c23d567-89a2-4a12-9077-1ba7151b46f1",
   "metadata": {},
   "outputs": [],
   "source": []
  },
  {
   "cell_type": "code",
   "execution_count": null,
   "id": "1d91b9e7-7d1d-4c1b-9fe9-5d75772914e7",
   "metadata": {},
   "outputs": [],
   "source": []
  },
  {
   "cell_type": "code",
   "execution_count": 132,
   "id": "18c8ffdd-1371-4673-ba01-1bda7f64559b",
   "metadata": {},
   "outputs": [],
   "source": [
    "for f1, f2 in zip(fs1, fs2):\n",
    "    a1 = np.load(f1, allow_pickle=True).item()\n",
    "    a2 = np.load(f2, allow_pickle=True).item()\n",
    "    a1 = a1['traj']\n",
    "    a2 = a2['trajs']\n",
    "    break"
   ]
  },
  {
   "cell_type": "code",
   "execution_count": 131,
   "id": "e9c8dd83-c76c-4445-b343-e0e03fdf44c7",
   "metadata": {},
   "outputs": [
    {
     "data": {
      "text/plain": [
       "('/data/vision/phillipi/akumar01/exploration-generalization/atari/data/ge_specialist/ge_specialist_Alien_0000.npy',\n",
       " '/data/vision/phillipi/akumar01/exploration-generalization/atari/data/goexplore/Alien_0000.npy')"
      ]
     },
     "execution_count": 131,
     "metadata": {},
     "output_type": "execute_result"
    }
   ],
   "source": [
    "f1, f2"
   ]
  },
  {
   "cell_type": "code",
   "execution_count": null,
   "id": "8a2d1cbd-a1c6-41aa-a7ea-d0b05756b4f2",
   "metadata": {},
   "outputs": [],
   "source": []
  },
  {
   "cell_type": "code",
   "execution_count": 133,
   "id": "48eec3d4-9e15-4141-bbb1-cf6da8902fbb",
   "metadata": {},
   "outputs": [
    {
     "data": {
      "application/vnd.jupyter.widget-view+json": {
       "model_id": "3508a0d4dfae4d8ba2dacdc228d78667",
       "version_major": 2,
       "version_minor": 0
      },
      "text/plain": [
       "0it [00:00, ?it/s]"
      ]
     },
     "metadata": {},
     "output_type": "display_data"
    },
    {
     "ename": "AssertionError",
     "evalue": "",
     "output_type": "error",
     "traceback": [
      "\u001b[0;31m---------------------------------------------------------------------------\u001b[0m",
      "\u001b[0;31mAssertionError\u001b[0m                            Traceback (most recent call last)",
      "Cell \u001b[0;32mIn[133], line 2\u001b[0m\n\u001b[1;32m      1\u001b[0m \u001b[38;5;28;01mfor\u001b[39;00m ti1, ti2 \u001b[38;5;129;01min\u001b[39;00m tqdm(\u001b[38;5;28mzip\u001b[39m(a1, a2)):\n\u001b[0;32m----> 2\u001b[0m     \u001b[38;5;28;01massert\u001b[39;00m np\u001b[38;5;241m.\u001b[39marray_equal(ti1, ti2)\n",
      "\u001b[0;31mAssertionError\u001b[0m: "
     ]
    }
   ],
   "source": [
    "for ti1, ti2 in tqdm(zip(a1, a2)):\n",
    "    assert np.array_equal(ti1, ti2)"
   ]
  },
  {
   "cell_type": "code",
   "execution_count": null,
   "id": "7c70142a-8cea-458a-86ae-ec919bb9080b",
   "metadata": {},
   "outputs": [],
   "source": []
  },
  {
   "cell_type": "code",
   "execution_count": 125,
   "id": "a6068b3a-5d41-468b-b8b9-303158413992",
   "metadata": {},
   "outputs": [
    {
     "data": {
      "text/plain": [
       "(47581, 47536)"
      ]
     },
     "execution_count": 125,
     "metadata": {},
     "output_type": "execute_result"
    }
   ],
   "source": [
    "len(t1), len(t2)"
   ]
  },
  {
   "cell_type": "code",
   "execution_count": null,
   "id": "fc43667a-bf1e-4148-ac78-c88b8202222b",
   "metadata": {},
   "outputs": [],
   "source": []
  },
  {
   "cell_type": "code",
   "execution_count": 119,
   "id": "a3a9937c-eadf-488f-8357-8952e7faabda",
   "metadata": {},
   "outputs": [
    {
     "data": {
      "text/plain": [
       "array([ 0,  0,  3,  4, 12,  6, 14,  5,  8, 16, 15,  3, 14,  1,  0,  3,  2,\n",
       "        4,  6, 17,  9,  1,  9,  6, 14,  0, 12, 11,  4,  3,  8,  3, 15, 16,\n",
       "        9,  5, 17,  2,  3, 13,  9, 10,  2,  3,  3,  3, 14,  1, 11,  2,  0,\n",
       "        6, 10,  8,  2,  2, 16,  8,  3, 14,  3, 13, 11, 14,  1,  4,  6, 13,\n",
       "       15,  8, 11,  1, 12,  3,  3,  6,  5,  0, 10,  5, 15, 14,  3,  9,  3,\n",
       "       12,  9, 13,  2, 12,  2,  7, 17, 11,  9,  9,  0, 11,  0, 16,  3, 14,\n",
       "        8, 13,  0,  4, 10,  4,  7, 13,  8, 11, 13, 14,  3,  2, 11, 13,  6,\n",
       "       16, 16,  3, 10, 13,  6, 13, 16, 15,  3,  7,  2, 13,  4, 17,  1,  1,\n",
       "        7,  9,  4, 16, 10,  4, 16, 13, 11,  6, 15, 12, 10, 11,  4, 17,  4,\n",
       "        6,  8,  4, 13,  5,  8,  7, 12,  7,  0, 11,  7,  8,  0,  6,  2,  0,\n",
       "       14,  6,  3, 15,  6, 17, 12, 11, 14, 13,  8,  4,  2, 11, 15, 13, 14,\n",
       "       13, 10,  4,  9, 12,  8, 14,  5, 11, 17,  8,  0, 16, 12, 11, 17, 12,\n",
       "        7,  3,  9, 11, 16,  7, 11, 12,  8, 10, 11, 14, 11,  5, 15,  3,  2,\n",
       "        6, 17,  3,  5,  7, 16,  9,  3, 12,  3, 10,  8, 11, 10,  7, 12, 13,\n",
       "        4,  9,  0,  6,  9,  6, 12, 13, 10,  3,  5,  9,  7, 15,  2,  6, 11,\n",
       "       17,  7, 10,  0,  1,  8,  5, 12,  8, 11,  0,  3, 15, 10, 15, 11,  2,\n",
       "       13,  2,  9,  5,  9,  2,  3,  0,  5,  1, 13, 11, 13,  7,  0, 11,  0,\n",
       "        3,  0, 13,  4, 17, 16, 12,  6, 17,  1,  7,  8, 13,  5,  9, 11,  7,\n",
       "        4,  4,  1,  4, 13,  1, 16, 15,  3,  0, 15, 15, 16,  4,  3,  6, 17,\n",
       "        5,  2, 11,  3, 17,  2,  1, 10, 13], dtype=uint8)"
      ]
     },
     "execution_count": 119,
     "metadata": {},
     "output_type": "execute_result"
    }
   ],
   "source": [
    "ti1"
   ]
  },
  {
   "cell_type": "code",
   "execution_count": 120,
   "id": "38ecfcce-805f-4f6f-ae1a-aad686baffa4",
   "metadata": {},
   "outputs": [
    {
     "data": {
      "text/plain": [
       "array([ 0,  0,  3,  4, 12,  6, 14,  5,  8, 16, 15,  3, 14,  1,  0,  3,  2,\n",
       "        4,  6, 17,  9,  1,  9,  6, 14,  0, 12, 11,  4,  3,  8,  3, 15, 16,\n",
       "        9,  5, 17,  2,  3, 13,  9, 10,  2,  3,  3,  3, 14,  1, 11,  2,  0,\n",
       "        6, 10,  8,  2,  2, 16,  8,  3, 14,  3, 13, 11, 14,  1,  4,  6, 13,\n",
       "       15,  8, 11,  1, 12,  3,  3,  6,  5,  0, 10,  5, 15, 14,  3,  9,  3,\n",
       "       12,  9, 13,  2, 12,  2,  7, 17, 11,  9,  9,  0, 11,  0, 16,  3, 14,\n",
       "        8, 13,  0,  4, 10,  4,  7, 13,  8, 11, 13, 14,  3,  2, 11, 13,  6,\n",
       "       16, 16,  3, 10, 13,  6, 13, 16, 15,  3,  7,  2, 13,  4, 17,  1,  1,\n",
       "        7,  9,  4, 16, 10,  4, 16, 13, 11,  6, 15, 12, 10, 11,  4, 17,  4,\n",
       "        6,  8,  4, 13,  5,  8,  7, 12,  7,  0, 11,  7,  8,  0,  6,  2,  0,\n",
       "       14,  6,  3, 15,  6, 17, 12, 11, 14, 13,  8,  4,  2, 11, 15, 13, 14,\n",
       "       13, 10,  4,  9, 12,  8, 14,  5, 11, 17,  8,  0, 16, 12, 11, 17, 12,\n",
       "        7,  3,  9, 11, 16,  7, 11, 12,  8, 10, 11, 14, 11,  5, 15,  3,  2,\n",
       "        6, 13,  3, 13,  6,  1, 16,  1,  3,  3,  3, 11, 12,  0, 15,  1, 17,\n",
       "        1,  2,  6,  5,  4,  0,  9, 15,  7, 11, 10,  4,  6,  0, 10,  6,  7,\n",
       "        0, 12,  4,  5,  6, 17, 11, 11,  1,  2, 12,  8, 15,  9, 16,  0,  2,\n",
       "       12, 13,  3,  8,  2, 11,  4,  6,  6,  5, 11,  0, 17,  1, 11, 11, 15,\n",
       "       13,  4, 10,  2, 11, 15,  8,  3, 12, 14, 13,  8, 14,  7, 17, 17,  3,\n",
       "        1, 17,  9, 15,  1, 12, 13,  8, 13, 14,  5,  9,  8,  7, 17, 11,  1,\n",
       "        6,  2,  8,  8,  9, 14, 14], dtype=uint8)"
      ]
     },
     "execution_count": 120,
     "metadata": {},
     "output_type": "execute_result"
    }
   ],
   "source": [
    "ti2"
   ]
  },
  {
   "cell_type": "code",
   "execution_count": null,
   "id": "06ac93f1-4bb2-465d-a588-667156b341c0",
   "metadata": {},
   "outputs": [],
   "source": []
  },
  {
   "cell_type": "code",
   "execution_count": null,
   "id": "b84d928e-5fbf-474d-8b5c-0ac0ad12640d",
   "metadata": {},
   "outputs": [],
   "source": []
  },
  {
   "cell_type": "code",
   "execution_count": null,
   "id": "505e1636-2931-4259-b04b-2ca87e8c78d4",
   "metadata": {},
   "outputs": [],
   "source": []
  }
 ],
 "metadata": {
  "kernelspec": {
   "display_name": "Python 3 (ipykernel)",
   "language": "python",
   "name": "python3"
  },
  "language_info": {
   "codemirror_mode": {
    "name": "ipython",
    "version": 3
   },
   "file_extension": ".py",
   "mimetype": "text/x-python",
   "name": "python",
   "nbconvert_exporter": "python",
   "pygments_lexer": "ipython3",
   "version": "3.10.12"
  }
 },
 "nbformat": 4,
 "nbformat_minor": 5
}
