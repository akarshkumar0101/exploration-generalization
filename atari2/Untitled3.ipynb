{
 "cells": [
  {
   "cell_type": "code",
   "execution_count": 100,
   "id": "216850a9-a802-4cfe-9add-405f43b0bfd0",
   "metadata": {},
   "outputs": [],
   "source": [
    "import envpool\n",
    "from tqdm.auto import tqdm\n",
    "import numpy as np\n",
    "\n",
    "import utils"
   ]
  },
  {
   "cell_type": "code",
   "execution_count": 101,
   "id": "d07672d7-b592-457d-872b-3c6f4142217d",
   "metadata": {},
   "outputs": [],
   "source": [
    "env_ids = utils.env_ids_104_ignore"
   ]
  },
  {
   "cell_type": "code",
   "execution_count": null,
   "id": "87daed31-a41b-4fa6-9261-e18800b858b6",
   "metadata": {},
   "outputs": [],
   "source": []
  },
  {
   "cell_type": "code",
   "execution_count": 102,
   "id": "dc6b597e-d700-4f99-a2bc-b34413b93feb",
   "metadata": {},
   "outputs": [
    {
     "data": {
      "application/vnd.jupyter.widget-view+json": {
       "model_id": "0a42406cd9ca483f9c6e253a9f226e60",
       "version_major": 2,
       "version_minor": 0
      },
      "text/plain": [
       "  0%|          | 0/100 [00:00<?, ?it/s]"
      ]
     },
     "metadata": {},
     "output_type": "display_data"
    }
   ],
   "source": [
    "for env_id in tqdm(env_ids):\n",
    "    env = envpool.make_gymnasium(f'{env_id}-v5', num_envs=1, full_action_space=True)\n",
    "    assert env.action_space.n == 18"
   ]
  },
  {
   "cell_type": "code",
   "execution_count": null,
   "id": "30af239a-255d-47df-9687-942282ccf25f",
   "metadata": {},
   "outputs": [],
   "source": []
  },
  {
   "cell_type": "code",
   "execution_count": null,
   "id": "6ac2cfbb-3b24-41d8-a4b6-baa2e1736477",
   "metadata": {},
   "outputs": [],
   "source": []
  },
  {
   "cell_type": "code",
   "execution_count": null,
   "id": "46d9acdf-5334-4824-91a9-c01ce10c2f66",
   "metadata": {},
   "outputs": [],
   "source": []
  },
  {
   "cell_type": "code",
   "execution_count": null,
   "id": "ab562ef0-6350-4ceb-b4f9-4200f7f4d1bd",
   "metadata": {},
   "outputs": [],
   "source": []
  },
  {
   "cell_type": "code",
   "execution_count": 22,
   "id": "17439321-8095-4308-81d4-9846382384ed",
   "metadata": {},
   "outputs": [],
   "source": [
    "import utils"
   ]
  },
  {
   "cell_type": "code",
   "execution_count": 24,
   "id": "052f00d7-425b-437a-a13b-880afa20befe",
   "metadata": {},
   "outputs": [],
   "source": [
    "env_ids = utils.env_ids_104_ignore\n"
   ]
  },
  {
   "cell_type": "code",
   "execution_count": 34,
   "id": "15ae61c7-6dca-463a-8e57-1214838f9d94",
   "metadata": {},
   "outputs": [
    {
     "data": {
      "text/plain": [
       "56"
      ]
     },
     "execution_count": 34,
     "metadata": {},
     "output_type": "execute_result"
    }
   ],
   "source": [
    "len(utils.env_ids_57_ignore)"
   ]
  },
  {
   "cell_type": "code",
   "execution_count": 72,
   "id": "ec3fedb0-df79-4447-874a-f6656860f9f3",
   "metadata": {},
   "outputs": [],
   "source": []
  },
  {
   "cell_type": "code",
   "execution_count": 98,
   "id": "ea5637f5-ac78-4b23-9433-211932b88c62",
   "metadata": {},
   "outputs": [],
   "source": [
    "import utils"
   ]
  },
  {
   "cell_type": "code",
   "execution_count": null,
   "id": "83aa45fd-ce58-46e6-8498-f37cd0dbba1d",
   "metadata": {},
   "outputs": [],
   "source": []
  },
  {
   "cell_type": "code",
   "execution_count": null,
   "id": "973bb233-ebb7-42cf-b9ac-adb811982256",
   "metadata": {},
   "outputs": [],
   "source": []
  },
  {
   "cell_type": "code",
   "execution_count": null,
   "id": "56dd30b8-28e2-456e-b21b-0a0c08ea7922",
   "metadata": {},
   "outputs": [],
   "source": []
  },
  {
   "cell_type": "code",
   "execution_count": 99,
   "id": "857ccdc8-67ab-4828-bb02-c90936ec6624",
   "metadata": {},
   "outputs": [
    {
     "data": {
      "text/plain": [
       "['Adventure',\n",
       " 'AirRaid',\n",
       " 'Atlantis2',\n",
       " 'Backgammon',\n",
       " 'BasicMath',\n",
       " 'Blackjack',\n",
       " 'Carnival',\n",
       " 'Casino',\n",
       " 'Crossbow',\n",
       " 'Darkchambers',\n",
       " 'DonkeyKong',\n",
       " 'Earthworld',\n",
       " 'ElevatorAction',\n",
       " 'Entombed',\n",
       " 'Et',\n",
       " 'FlagCapture',\n",
       " 'Galaxian',\n",
       " 'Hangman',\n",
       " 'HauntedHouse',\n",
       " 'HumanCannonball',\n",
       " 'JourneyEscape',\n",
       " 'Kaboom',\n",
       " 'KeystoneKapers',\n",
       " 'Klax',\n",
       " 'Koolaid',\n",
       " 'LaserGates',\n",
       " 'MarioBros',\n",
       " 'MiniatureGolf',\n",
       " 'MrDo',\n",
       " 'Othello',\n",
       " 'Pacman',\n",
       " 'Pitfall2',\n",
       " 'Pooyan',\n",
       " 'SirLancelot',\n",
       " 'SpaceWar',\n",
       " 'Superman',\n",
       " 'Tetris',\n",
       " 'TicTacToe3d',\n",
       " 'Trondead',\n",
       " 'Turmoil',\n",
       " 'VideoCheckers',\n",
       " 'VideoChess',\n",
       " 'VideoCube',\n",
       " 'WordZapper']"
      ]
     },
     "execution_count": 99,
     "metadata": {},
     "output_type": "execute_result"
    }
   ],
   "source": [
    "[env_id for env_id in utils.env_ids_104_ignore if env_id not in utils.env_ids_57]"
   ]
  },
  {
   "cell_type": "code",
   "execution_count": null,
   "id": "bc6b94a0-3f82-4c3b-af2e-2c377e4132ac",
   "metadata": {},
   "outputs": [],
   "source": []
  }
 ],
 "metadata": {
  "kernelspec": {
   "display_name": "Python 3 (ipykernel)",
   "language": "python",
   "name": "python3"
  },
  "language_info": {
   "codemirror_mode": {
    "name": "ipython",
    "version": 3
   },
   "file_extension": ".py",
   "mimetype": "text/x-python",
   "name": "python",
   "nbconvert_exporter": "python",
   "pygments_lexer": "ipython3",
   "version": "3.10.12"
  }
 },
 "nbformat": 4,
 "nbformat_minor": 5
}
