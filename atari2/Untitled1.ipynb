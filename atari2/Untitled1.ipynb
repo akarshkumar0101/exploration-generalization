{
 "cells": [
  {
   "cell_type": "code",
   "execution_count": 101,
   "id": "e6e93f76-c604-462b-bbb8-24f56b4ca1fe",
   "metadata": {},
   "outputs": [],
   "source": [
    "import torch\n",
    "from torch import nn\n",
    "import numpy as np\n",
    "from einops import rearrange\n",
    "from torch.distributions import Categorical"
   ]
  },
  {
   "cell_type": "code",
   "execution_count": 102,
   "id": "f470e25f-8d31-4e12-a1b4-ae5b5b0ff06b",
   "metadata": {},
   "outputs": [],
   "source": [
    "class StackedCNNAgent(nn.Module):\n",
    "    def __init__(self, n_acts=18, ctx_len=4):\n",
    "        super().__init__()\n",
    "        self.network = nn.Sequential(\n",
    "            layer_init(nn.Conv2d(4, 32, 8, stride=4)),\n",
    "            nn.ReLU(),\n",
    "            layer_init(nn.Conv2d(32, 64, 4, stride=2)),\n",
    "            nn.ReLU(),\n",
    "            layer_init(nn.Conv2d(64, 64, 3, stride=1)),\n",
    "            nn.ReLU(),\n",
    "            nn.Flatten(),\n",
    "            layer_init(nn.Linear(64 * 7 * 7, 512)),\n",
    "            nn.ReLU(),\n",
    "        )\n",
    "        self.actor = layer_init(nn.Linear(512, n_acts), std=0.01)\n",
    "        self.critic = layer_init(nn.Linear(512, 1), std=1)\n",
    "        self.train_per_token = False\n",
    "        self.ctx_len = ctx_len\n",
    "\n",
    "    def forward(self, done, obs, act, rew):\n",
    "        obs = rearrange(obs, \"b t c h w -> b (t c) h w\")\n",
    "        hidden = self.network(obs / 255.0)\n",
    "        logits, val = self.actor(hidden), self.critic(hidden)[:, 0]\n",
    "        logits, val = rearrange(logits, \"b a -> b 1 a\"), rearrange(val, \"b -> b 1\")\n",
    "        return logits, val"
   ]
  },
  {
   "cell_type": "code",
   "execution_count": 103,
   "id": "18996154-9e0d-4899-b89d-1b907f6d1e33",
   "metadata": {},
   "outputs": [],
   "source": [
    "def layer_init(layer, std=np.sqrt(2), bias_const=0.0):\n",
    "    torch.nn.init.orthogonal_(layer.weight, std)\n",
    "    torch.nn.init.constant_(layer.bias, bias_const)\n",
    "    return layer\n",
    "class Agent(nn.Module):\n",
    "    def __init__(self):\n",
    "        super().__init__()\n",
    "        self.network = nn.Sequential(\n",
    "            layer_init(nn.Conv2d(4, 32, 8, stride=4)),\n",
    "            nn.ReLU(),\n",
    "            layer_init(nn.Conv2d(32, 64, 4, stride=2)),\n",
    "            nn.ReLU(),\n",
    "            layer_init(nn.Conv2d(64, 64, 3, stride=1)),\n",
    "            nn.ReLU(),\n",
    "            nn.Flatten(),\n",
    "            layer_init(nn.Linear(64 * 7 * 7, 512)),\n",
    "            nn.ReLU(),\n",
    "        )\n",
    "        self.actor = layer_init(nn.Linear(512, 18), std=0.01)\n",
    "        self.critic = layer_init(nn.Linear(512, 1), std=1)\n",
    "\n",
    "    def forward(self, x, action=None):\n",
    "        hidden = self.network(x / 255.0)\n",
    "        logits = self.actor(hidden)\n",
    "        probs = Categorical(logits=logits)\n",
    "        if action is None:\n",
    "            action = probs.sample()\n",
    "        return logits, self.critic(hidden)"
   ]
  },
  {
   "cell_type": "code",
   "execution_count": 104,
   "id": "71243fa2-0923-4aa3-8ec4-869a73328cc1",
   "metadata": {},
   "outputs": [],
   "source": [
    "device = 'cuda'"
   ]
  },
  {
   "cell_type": "code",
   "execution_count": 105,
   "id": "cafe317d-d565-417c-bac0-5531d079668b",
   "metadata": {},
   "outputs": [],
   "source": [
    "agent1 = Agent().to(device)\n",
    "agent2 = StackedCNNAgent().to(device)"
   ]
  },
  {
   "cell_type": "code",
   "execution_count": 106,
   "id": "9d032245-4625-47fb-b7e5-19701fcb8dad",
   "metadata": {},
   "outputs": [
    {
     "name": "stdout",
     "output_type": "stream",
     "text": [
      "1.65 ms ± 1.3 µs per loop (mean ± std. dev. of 7 runs, 1,000 loops each)\n"
     ]
    }
   ],
   "source": [
    "%%timeit\n",
    "x = torch.randn(256, 4, 84, 84, device=device)\n",
    "l, _ = agent1(x);\n",
    "l.mean().item();"
   ]
  },
  {
   "cell_type": "code",
   "execution_count": 107,
   "id": "d23cc5a6-d1b0-43cd-a4f9-7ebc148ab05a",
   "metadata": {},
   "outputs": [
    {
     "name": "stdout",
     "output_type": "stream",
     "text": [
      "1.24 ms ± 828 ns per loop (mean ± std. dev. of 7 runs, 1,000 loops each)\n"
     ]
    }
   ],
   "source": [
    "%%timeit\n",
    "x = torch.randn(256, 4, 1, 84, 84, device=device)\n",
    "l, _ = agent2(None, x, None, None);\n",
    "l.mean().item();"
   ]
  },
  {
   "cell_type": "code",
   "execution_count": null,
   "id": "1dadc952-3ba3-4556-a4d5-362e70d962af",
   "metadata": {},
   "outputs": [],
   "source": []
  },
  {
   "cell_type": "code",
   "execution_count": null,
   "id": "6daf53d9-c767-445d-9e12-2814a84ad809",
   "metadata": {},
   "outputs": [],
   "source": []
  },
  {
   "cell_type": "code",
   "execution_count": null,
   "id": "81ef02ec-63d1-4307-914e-aedc16d1c055",
   "metadata": {},
   "outputs": [],
   "source": []
  }
 ],
 "metadata": {
  "kernelspec": {
   "display_name": "Python 3 (ipykernel)",
   "language": "python",
   "name": "python3"
  },
  "language_info": {
   "codemirror_mode": {
    "name": "ipython",
    "version": 3
   },
   "file_extension": ".py",
   "mimetype": "text/x-python",
   "name": "python",
   "nbconvert_exporter": "python",
   "pygments_lexer": "ipython3",
   "version": "3.10.9"
  }
 },
 "nbformat": 4,
 "nbformat_minor": 5
}
