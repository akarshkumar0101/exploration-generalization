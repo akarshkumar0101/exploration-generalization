{
 "cells": [
  {
   "cell_type": "code",
   "execution_count": 1,
   "id": "cbbbe922-9394-414a-b4c2-ed0226d194b0",
   "metadata": {},
   "outputs": [],
   "source": [
    "%load_ext autoreload\n",
    "%autoreload 2"
   ]
  },
  {
   "cell_type": "code",
   "execution_count": 2,
   "id": "ab8a5a2f-1b28-4473-937c-4715da8df86a",
   "metadata": {},
   "outputs": [],
   "source": [
    "import numpy as np\n",
    "import matplotlib.pyplot as plt\n",
    "\n",
    "from tqdm.auto import tqdm\n",
    "import glob\n",
    "\n",
    "import utils"
   ]
  },
  {
   "cell_type": "code",
   "execution_count": 3,
   "id": "6d9d1e5b-8d13-4802-8de0-ac7a494084fd",
   "metadata": {},
   "outputs": [],
   "source": [
    "from ge_bc import *"
   ]
  },
  {
   "cell_type": "code",
   "execution_count": null,
   "id": "e763570c-420c-47a6-a333-cf5d921da676",
   "metadata": {},
   "outputs": [],
   "source": []
  },
  {
   "cell_type": "code",
   "execution_count": null,
   "id": "dbc676f9-6120-4bb9-8711-145b1671c7ea",
   "metadata": {},
   "outputs": [],
   "source": []
  },
  {
   "cell_type": "code",
   "execution_count": 197,
   "id": "49b584a7-dbf5-4a5d-9ed9-757c5453543c",
   "metadata": {},
   "outputs": [
    {
     "data": {
      "text/plain": [
       "'Adventure AirRaid Alien Amidar Asterix Atlantis Atlantis2 Backgammon BankHeist BasicMath BattleZone BeamRider Berzerk Blackjack Breakout Carnival Casino Centipede ChopperCommand CrazyClimber Crossbow Darkchambers Defender DemonAttack DonkeyKong DoubleDunk Earthworld ElevatorAction Enduro Entombed Et FishingDerby Freeway Gopher Gravitar Hangman HauntedHouse Hero HumanCannonball Jamesbond JourneyEscape Kaboom KeystoneKapers Klax Koolaid Krull LaserGates MarioBros MiniatureGolf MontezumaRevenge MrDo Othello Phoenix Pitfall Pitfall2 Pong Pooyan PrivateEye Qbert Riverraid Robotank Seaquest SirLancelot SpaceInvaders SpaceWar Superman Tennis Tetris TicTacToe3d TimePilot Trondead Turmoil Tutankham UpNDown Venture VideoCheckers VideoChess VideoCube VideoPinball WizardOfWor WordZapper YarsRevenge Zaxxon'"
      ]
     },
     "execution_count": 197,
     "metadata": {},
     "output_type": "execute_result"
    }
   ],
   "source": [
    "env_ids = 'Adventure AirRaid Alien Amidar Asterix Atlantis Atlantis2 Backgammon BankHeist BasicMath BattleZone BeamRider Berzerk Blackjack Breakout Carnival Casino Centipede ChopperCommand CrazyClimber Crossbow Darkchambers Defender DemonAttack DonkeyKong DoubleDunk Earthworld ElevatorAction Enduro Entombed Et FishingDerby Freeway Gopher Gravitar Hangman HauntedHouse Hero HumanCannonball Jamesbond JourneyEscape Kaboom KeystoneKapers Klax Koolaid Krull LaserGates MarioBros MiniatureGolf MontezumaRevenge MrDo Othello Phoenix Pitfall Pitfall2 Pong Pooyan PrivateEye Qbert Riverraid Robotank Seaquest SirLancelot SpaceInvaders SpaceWar Superman Tennis Tetris TicTacToe3d TimePilot Trondead Turmoil Tutankham UpNDown Venture VideoCheckers VideoChess VideoCube VideoPinball WizardOfWor WordZapper YarsRevenge Zaxxon'\n",
    "\n",
    "env_ids = env_ids.split()\n",
    "env_ids = env_ids[:]\n",
    "env_ids = ' '.join(env_ids)\n",
    "env_ids\n"
   ]
  },
  {
   "cell_type": "code",
   "execution_count": null,
   "id": "00df4204-5143-42c6-bf10-3c12e3140bc5",
   "metadata": {},
   "outputs": [],
   "source": []
  },
  {
   "cell_type": "code",
   "execution_count": 198,
   "id": "2b3d8838-d7cf-495d-8d28-86ef35c9713f",
   "metadata": {},
   "outputs": [
    {
     "data": {
      "text/plain": [
       "Namespace(track=False, entity=None, project=None, name=None, device='cpu', seed=0, model='cnn_4', load_ckpt=None, save_ckpt=None, n_ckpts=1, lr=0.00025, clip_grad_norm=1.0, env_ids=['Adventure', 'AirRaid', 'Alien', 'Amidar', 'Asterix', 'Atlantis', 'Atlantis2', 'Backgammon', 'BankHeist', 'BasicMath', 'BattleZone', 'BeamRider', 'Berzerk', 'Blackjack', 'Breakout', 'Carnival', 'Casino', 'Centipede', 'ChopperCommand', 'CrazyClimber', 'Crossbow', 'Darkchambers', 'Defender', 'DemonAttack', 'DonkeyKong', 'DoubleDunk', 'Earthworld', 'ElevatorAction', 'Enduro', 'Entombed', 'Et', 'FishingDerby', 'Freeway', 'Gopher', 'Gravitar', 'Hangman', 'HauntedHouse', 'Hero', 'HumanCannonball', 'Jamesbond', 'JourneyEscape', 'Kaboom', 'KeystoneKapers', 'Klax', 'Koolaid', 'Krull', 'LaserGates', 'MarioBros', 'MiniatureGolf', 'MontezumaRevenge', 'MrDo', 'Othello', 'Phoenix', 'Pitfall', 'Pitfall2', 'Pong', 'Pooyan', 'PrivateEye', 'Qbert', 'Riverraid', 'Robotank', 'Seaquest', 'SirLancelot', 'SpaceInvaders', 'SpaceWar', 'Superman', 'Tennis', 'Tetris', 'TicTacToe3d', 'TimePilot', 'Trondead', 'Turmoil', 'Tutankham', 'UpNDown', 'Venture', 'VideoCheckers', 'VideoChess', 'VideoCube', 'VideoPinball', 'WizardOfWor', 'WordZapper', 'YarsRevenge', 'Zaxxon'], n_iters=10000, n_envs=4, n_steps=512, batch_size=256, n_updates=16, ent_coef=0.0, ge_data_dir='./data/egb_goexplore/', strategy='best', n_archives=10, min_traj_len=100)"
      ]
     },
     "execution_count": 198,
     "metadata": {},
     "output_type": "execute_result"
    }
   ],
   "source": [
    "args = f'--env_ids {env_ids}'\n",
    "args += ' --n_archives=10 --ge_data_dir=./data/egb_goexplore/ --n_envs=4 --n_steps=512'\n",
    "args = parse_args(args.split())\n",
    "args"
   ]
  },
  {
   "cell_type": "code",
   "execution_count": 199,
   "id": "1594a390-a6f9-4945-b444-b667bf678d4c",
   "metadata": {},
   "outputs": [],
   "source": [
    "np.random.seed(1)"
   ]
  },
  {
   "cell_type": "code",
   "execution_count": 200,
   "id": "62bd6ba6-9f28-4659-937f-c65bf2bf1244",
   "metadata": {},
   "outputs": [
    {
     "name": "stdout",
     "output_type": "stream",
     "text": [
      "Loading archives and Creating Trajs\n"
     ]
    },
    {
     "data": {
      "application/vnd.jupyter.widget-view+json": {
       "model_id": "a35e2120f6db487b87467204de01633d",
       "version_major": 2,
       "version_minor": 0
      },
      "text/plain": [
       "  0%|          | 0/83 [00:00<?, ?it/s]"
      ]
     },
     "metadata": {},
     "output_type": "display_data"
    },
    {
     "name": "stdout",
     "output_type": "stream",
     "text": [
      "env_id: Adventure, #trajs: 10\n",
      "env_id: AirRaid, #trajs: 10\n",
      "env_id: Alien, #trajs: 10\n",
      "env_id: Amidar, #trajs: 10\n",
      "env_id: Asterix, #trajs: 10\n",
      "env_id: Atlantis, #trajs: 10\n",
      "env_id: Atlantis2, #trajs: 8\n",
      "env_id: Backgammon, #trajs: 10\n",
      "env_id: BankHeist, #trajs: 10\n",
      "env_id: BasicMath, #trajs: 10\n",
      "env_id: BattleZone, #trajs: 10\n",
      "env_id: BeamRider, #trajs: 10\n",
      "env_id: Berzerk, #trajs: 10\n",
      "env_id: Blackjack, #trajs: 10\n",
      "env_id: Breakout, #trajs: 10\n",
      "env_id: Carnival, #trajs: 10\n",
      "env_id: Casino, #trajs: 10\n",
      "env_id: Centipede, #trajs: 10\n",
      "env_id: ChopperCommand, #trajs: 10\n",
      "env_id: CrazyClimber, #trajs: 10\n",
      "env_id: Crossbow, #trajs: 10\n",
      "env_id: Darkchambers, #trajs: 10\n",
      "env_id: Defender, #trajs: 10\n",
      "env_id: DemonAttack, #trajs: 10\n",
      "env_id: DonkeyKong, #trajs: 10\n",
      "env_id: DoubleDunk, #trajs: 10\n",
      "env_id: Earthworld, #trajs: 10\n",
      "env_id: ElevatorAction, #trajs: 10\n",
      "env_id: Enduro, #trajs: 10\n",
      "env_id: Entombed, #trajs: 10\n",
      "env_id: Et, #trajs: 10\n",
      "env_id: FishingDerby, #trajs: 10\n",
      "env_id: Freeway, #trajs: 10\n",
      "env_id: Gopher, #trajs: 10\n",
      "env_id: Gravitar, #trajs: 10\n",
      "env_id: Hangman, #trajs: 10\n",
      "env_id: HauntedHouse, #trajs: 10\n",
      "env_id: Hero, #trajs: 10\n",
      "env_id: HumanCannonball, #trajs: 10\n",
      "env_id: Jamesbond, #trajs: 10\n",
      "env_id: JourneyEscape, #trajs: 10\n",
      "env_id: Kaboom, #trajs: 10\n",
      "env_id: KeystoneKapers, #trajs: 10\n",
      "env_id: Klax, #trajs: 10\n",
      "env_id: Koolaid, #trajs: 10\n",
      "env_id: Krull, #trajs: 10\n",
      "env_id: LaserGates, #trajs: 10\n",
      "env_id: MarioBros, #trajs: 10\n",
      "env_id: MiniatureGolf, #trajs: 4\n",
      "env_id: MontezumaRevenge, #trajs: 10\n",
      "env_id: MrDo, #trajs: 10\n",
      "env_id: Othello, #trajs: 10\n",
      "env_id: Phoenix, #trajs: 10\n",
      "env_id: Pitfall, #trajs: 10\n",
      "env_id: Pitfall2, #trajs: 1\n",
      "env_id: Pong, #trajs: 10\n",
      "env_id: Pooyan, #trajs: 10\n",
      "env_id: PrivateEye, #trajs: 10\n",
      "env_id: Qbert, #trajs: 10\n",
      "env_id: Riverraid, #trajs: 10\n",
      "env_id: Robotank, #trajs: 10\n",
      "env_id: Seaquest, #trajs: 10\n",
      "env_id: SirLancelot, #trajs: 10\n",
      "env_id: SpaceInvaders, #trajs: 10\n",
      "env_id: SpaceWar, #trajs: 10\n",
      "env_id: Superman, #trajs: 10\n",
      "env_id: Tennis, #trajs: 10\n",
      "env_id: Tetris, #trajs: 10\n",
      "env_id: TicTacToe3d, #trajs: 10\n",
      "env_id: TimePilot, #trajs: 10\n",
      "env_id: Trondead, #trajs: 10\n",
      "env_id: Turmoil, #trajs: 10\n",
      "env_id: Tutankham, #trajs: 10\n",
      "env_id: UpNDown, #trajs: 10\n",
      "env_id: Venture, #trajs: 10\n",
      "env_id: VideoCheckers, #trajs: 10\n",
      "env_id: VideoChess, #trajs: 10\n",
      "env_id: VideoCube, #trajs: 10\n",
      "env_id: VideoPinball, #trajs: 10\n",
      "env_id: WizardOfWor, #trajs: 10\n",
      "env_id: WordZapper, #trajs: 10\n",
      "env_id: YarsRevenge, #trajs: 10\n",
      "env_id: Zaxxon, #trajs: 10\n"
     ]
    }
   ],
   "source": [
    "print(\"Loading archives and Creating Trajs\")\n",
    "env_id2trajs = load_env_id2trajs(args.env_ids, args.ge_data_dir, args.n_archives, strategy=args.strategy, min_traj_len=args.min_traj_len)\n",
    "for env_id, trajs in env_id2trajs.items():\n",
    "    print(f\"env_id: {env_id}, #trajs: {len(trajs)}\")\n",
    "\n",
    "def sample_traj_fn(id):\n",
    "    env_id = args.env_ids[id // args.n_envs]\n",
    "    trajs = env_id2trajs[env_id]\n",
    "    return trajs[np.random.choice(len(trajs))]"
   ]
  },
  {
   "cell_type": "code",
   "execution_count": 201,
   "id": "331e9f99-bd4e-442e-a4d8-0e0c2d2314fe",
   "metadata": {},
   "outputs": [
    {
     "data": {
      "application/vnd.jupyter.widget-view+json": {
       "model_id": "d5e8f5e560214e7283c891f416fb0674",
       "version_major": 2,
       "version_minor": 0
      },
      "text/plain": [
       "  0%|          | 0/83 [00:00<?, ?it/s]"
      ]
     },
     "metadata": {},
     "output_type": "display_data"
    }
   ],
   "source": [
    "env = make_env(args)"
   ]
  },
  {
   "cell_type": "code",
   "execution_count": 202,
   "id": "005beff8-c450-425e-bc5f-a26168fbae7c",
   "metadata": {},
   "outputs": [],
   "source": [
    "buf = GEBuffer(env, args.n_steps, sample_traj_fn=sample_traj_fn, device=args.device)"
   ]
  },
  {
   "cell_type": "code",
   "execution_count": 203,
   "id": "2cb2b935-001b-43af-8a02-9238a43080c4",
   "metadata": {},
   "outputs": [
    {
     "data": {
      "application/vnd.jupyter.widget-view+json": {
       "model_id": "86580c3d969340ebb614c6929240425e",
       "version_major": 2,
       "version_minor": 0
      },
      "text/plain": [
       "  0%|          | 0/4 [00:00<?, ?it/s]"
      ]
     },
     "metadata": {},
     "output_type": "display_data"
    },
    {
     "data": {
      "application/vnd.jupyter.widget-view+json": {
       "model_id": "215ac8168a364eb9a049f40588d8aa48",
       "version_major": 2,
       "version_minor": 0
      },
      "text/plain": [
       "  0%|          | 0/512 [00:00<?, ?it/s]"
      ]
     },
     "metadata": {},
     "output_type": "display_data"
    },
    {
     "data": {
      "application/vnd.jupyter.widget-view+json": {
       "model_id": "37901434331c4a519722d75c75c64740",
       "version_major": 2,
       "version_minor": 0
      },
      "text/plain": [
       "  0%|          | 0/512 [00:00<?, ?it/s]"
      ]
     },
     "metadata": {},
     "output_type": "display_data"
    },
    {
     "data": {
      "application/vnd.jupyter.widget-view+json": {
       "model_id": "738309cd5e4b45b0a5e6dc19a9971597",
       "version_major": 2,
       "version_minor": 0
      },
      "text/plain": [
       "  0%|          | 0/512 [00:00<?, ?it/s]"
      ]
     },
     "metadata": {},
     "output_type": "display_data"
    },
    {
     "data": {
      "application/vnd.jupyter.widget-view+json": {
       "model_id": "c8b88fe79ecb4ed6b11157f273c0125b",
       "version_major": 2,
       "version_minor": 0
      },
      "text/plain": [
       "  0%|          | 0/512 [00:00<?, ?it/s]"
      ]
     },
     "metadata": {},
     "output_type": "display_data"
    }
   ],
   "source": [
    "for i in tqdm(range(4)):\n",
    "    buf.collect()"
   ]
  },
  {
   "cell_type": "code",
   "execution_count": null,
   "id": "7deb5b57-148b-4079-928c-e027fc812fb6",
   "metadata": {},
   "outputs": [],
   "source": []
  },
  {
   "cell_type": "code",
   "execution_count": null,
   "id": "c64e1467-80c1-4e25-9f58-8d20ba82c9b9",
   "metadata": {},
   "outputs": [],
   "source": []
  },
  {
   "cell_type": "code",
   "execution_count": 195,
   "id": "25dfd86d-2368-480a-aac5-41b2dbc2703e",
   "metadata": {},
   "outputs": [
    {
     "data": {
      "text/plain": [
       "1517.7142857142858"
      ]
     },
     "execution_count": 195,
     "metadata": {},
     "output_type": "execute_result"
    }
   ],
   "source": [
    "len(args.env_ids)*args.n_envs*args.n_steps*10/70"
   ]
  },
  {
   "cell_type": "code",
   "execution_count": null,
   "id": "c1f52e5b-cc61-4e64-a117-a7a6bdb46c77",
   "metadata": {},
   "outputs": [],
   "source": []
  },
  {
   "cell_type": "code",
   "execution_count": null,
   "id": "3f3cee19-3b48-40cf-b81b-646bf93902db",
   "metadata": {},
   "outputs": [],
   "source": []
  },
  {
   "cell_type": "code",
   "execution_count": null,
   "id": "db3791d5-7b05-47b6-9782-0aea97c3927e",
   "metadata": {},
   "outputs": [],
   "source": []
  },
  {
   "cell_type": "code",
   "execution_count": null,
   "id": "b40e7490-dbc1-41b6-a462-6db38d2d78db",
   "metadata": {},
   "outputs": [],
   "source": []
  },
  {
   "cell_type": "code",
   "execution_count": null,
   "id": "cd12be1f-4278-4050-be5f-42a27e4c447c",
   "metadata": {},
   "outputs": [],
   "source": []
  }
 ],
 "metadata": {
  "kernelspec": {
   "display_name": "Python 3 (ipykernel)",
   "language": "python",
   "name": "python3"
  },
  "language_info": {
   "codemirror_mode": {
    "name": "ipython",
    "version": 3
   },
   "file_extension": ".py",
   "mimetype": "text/x-python",
   "name": "python",
   "nbconvert_exporter": "python",
   "pygments_lexer": "ipython3",
   "version": "3.10.12"
  }
 },
 "nbformat": 4,
 "nbformat_minor": 5
}
