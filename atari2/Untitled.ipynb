{
 "cells": [
  {
   "cell_type": "code",
   "execution_count": 1,
   "id": "0dc7a83a-47c4-4534-8ea2-99eb4addc92d",
   "metadata": {},
   "outputs": [],
   "source": [
    "import envpool\n",
    "import numpy as np"
   ]
  },
  {
   "cell_type": "code",
   "execution_count": null,
   "id": "2320868f-43fd-479d-aab3-c01b3149eec0",
   "metadata": {},
   "outputs": [],
   "source": []
  },
  {
   "cell_type": "code",
   "execution_count": 14,
   "id": "30498e55-4d24-46a9-95db-6ef841d7fa93",
   "metadata": {},
   "outputs": [],
   "source": [
    "env = envpool.make_gymnasium('Asterix-v5', num_envs=8, full_action_space=True, reward_clip=True, episodic_life=True)"
   ]
  },
  {
   "cell_type": "code",
   "execution_count": 15,
   "id": "7b8bfb1c-80bf-43ff-9c60-92b791bfea2b",
   "metadata": {},
   "outputs": [],
   "source": [
    "env.reset();"
   ]
  },
  {
   "cell_type": "code",
   "execution_count": 16,
   "id": "986de10c-6e75-4ec1-a41d-105de2e64e9e",
   "metadata": {},
   "outputs": [
    {
     "name": "stdout",
     "output_type": "stream",
     "text": [
      "[False False False False False False False False] [0 0 0 0 0 0 0 0] [3 3 3 3 3 3 3 3]\n",
      "[False False False False False False False False] [0 0 0 0 0 0 0 0] [3 3 3 3 3 3 3 3]\n",
      "[False False False False False False False False] [0 0 0 0 0 0 0 0] [3 3 3 3 3 3 3 3]\n",
      "[False False False False False False False False] [0 0 0 0 0 0 0 0] [3 3 3 3 3 3 3 3]\n",
      "[False False False False False False False False] [0 0 0 0 0 0 0 0] [3 3 3 3 3 3 3 3]\n",
      "[False False False False False False False False] [0 0 0 0 0 0 0 0] [3 3 3 3 3 3 3 3]\n",
      "[False False False False False False False False] [0 0 0 0 0 0 0 0] [3 3 3 3 3 3 3 3]\n",
      "[False False False False False False False False] [0 0 0 0 0 0 0 0] [3 3 3 3 3 3 3 3]\n",
      "[False False False False False False False False] [0 0 0 0 0 0 0 0] [3 3 3 3 3 3 3 3]\n",
      "[False False False False False False False False] [0 0 0 0 0 0 0 0] [3 3 3 3 3 3 3 3]\n",
      "[False False False False False False False False] [0 0 0 0 0 0 0 0] [3 3 3 3 3 3 3 3]\n",
      "[False False False False False False False False] [0 0 0 0 0 0 0 0] [3 3 3 3 3 3 3 3]\n",
      "[False False False False False False False False] [0 0 0 0 0 0 0 0] [3 3 3 3 3 3 3 3]\n",
      "[False False False False False False False False] [0 0 0 0 0 0 0 0] [3 3 3 3 3 3 3 3]\n",
      "[False False False False False False False False] [0 0 0 0 0 0 0 0] [3 3 3 3 3 3 3 3]\n",
      "[False False False False False False False False] [0 0 0 0 0 0 0 0] [3 3 3 3 3 3 3 3]\n",
      "[False False False False False False False False] [0 0 0 0 0 0 0 0] [3 3 3 3 3 3 3 3]\n",
      "[False False False False False False False False] [0 0 0 0 0 0 0 0] [3 3 3 3 3 3 3 3]\n",
      "[False False False False False False False False] [0 0 0 0 0 0 0 0] [3 3 3 3 3 3 3 3]\n",
      "[False False False False False False False False] [0 0 0 0 0 0 0 0] [3 3 3 3 3 3 3 3]\n",
      "[False False False False False False False False] [0 0 0 0 0 0 0 0] [3 3 3 3 3 3 3 3]\n",
      "[False False False False False False False False] [0 0 0 0 0 0 0 0] [3 3 3 3 3 3 3 3]\n",
      "[False False False False False False False False] [0 0 0 0 0 0 0 0] [3 3 3 3 3 3 3 3]\n",
      "[False False False False False False False False] [0 0 0 0 0 0 0 0] [3 3 3 3 3 3 3 3]\n",
      "[False False False False False False False False] [0 0 0 0 0 0 0 0] [3 3 3 3 3 3 3 3]\n",
      "[False False False False False False False False] [0 0 0 0 0 0 0 0] [3 3 3 3 3 3 3 3]\n",
      "[False False False False False False False False] [0 0 0 0 0 0 0 0] [3 3 3 3 3 3 3 3]\n",
      "[False False False False False False False False] [0 0 0 0 0 0 0 0] [3 3 3 3 3 3 3 3]\n",
      "[False False False False False False False False] [0 0 0 0 0 0 0 0] [3 3 3 3 3 3 3 3]\n",
      "[False False False False False False False False] [0 0 0 0 0 0 0 0] [3 3 3 3 3 3 3 3]\n",
      "[False False False False False False False False] [0 0 0 0 0 0 0 0] [3 3 3 3 3 3 3 3]\n",
      "[False False False False False False False False] [0 0 0 0 0 0 0 0] [3 3 3 3 3 3 3 3]\n",
      "[False False False False False False False False] [0 0 0 0 0 0 0 0] [3 3 3 3 3 3 3 3]\n",
      "[False False False False False False False False] [0 0 0 0 0 0 0 0] [3 3 3 3 3 3 3 3]\n",
      "[False False False False False False False False] [0 0 0 0 0 0 0 0] [3 3 3 3 3 3 3 3]\n",
      "[False False False False False False False False] [0 0 0 0 0 0 0 0] [3 3 3 3 3 3 3 3]\n",
      "[False False False False False False False False] [0 0 0 0 0 0 0 0] [3 3 3 3 3 3 3 3]\n",
      "[False False False False False False False False] [0 0 0 0 0 0 0 0] [3 3 3 3 3 3 3 3]\n",
      "[False False False False False False False False] [0 0 0 0 0 0 0 0] [3 3 3 3 3 3 3 3]\n",
      "[False False False False False False False False] [0 0 0 0 0 0 0 0] [3 3 3 3 3 3 3 3]\n",
      "[False False False False False False False False] [0 0 0 0 0 0 0 0] [3 3 3 3 3 3 3 3]\n",
      "[False False False False False False False False] [0 0 0 0 0 0 0 0] [3 3 3 3 3 3 3 3]\n",
      "[False False False False False False False False] [0 0 0 0 0 0 0 0] [3 3 3 3 3 3 3 3]\n",
      "[False False False False False False False False] [0 0 0 0 0 0 0 0] [3 3 3 3 3 3 3 3]\n",
      "[False False False False False False False False] [0 0 0 0 0 0 0 0] [3 3 3 3 3 3 3 3]\n",
      "[False False False False False False False False] [0 0 0 0 0 0 0 0] [3 3 3 3 3 3 3 3]\n",
      "[False False False False False False False False] [0 0 0 0 0 0 0 0] [3 3 3 3 3 3 3 3]\n",
      "[False False False False False False False False] [0 0 0 0 0 0 0 0] [3 3 3 3 3 3 3 3]\n",
      "[False False False False False False False False] [0 0 0 0 0 0 0 0] [3 3 3 3 3 3 3 3]\n",
      "[False False False False False False False False] [0 0 0 0 0 0 0 0] [3 3 3 3 3 3 3 3]\n",
      "[False False False False False False False False] [0 0 0 0 0 0 0 0] [3 3 3 3 3 3 3 3]\n",
      "[False False False False False False False False] [0 0 0 0 0 0 0 0] [3 3 3 3 3 3 3 3]\n",
      "[False False False False False False False False] [0 0 0 0 0 0 0 0] [3 3 3 3 3 3 3 3]\n",
      "[False False False False False False False False] [0 0 0 0 0 0 0 0] [3 3 3 3 3 3 3 3]\n",
      "[False False False False False False False False] [0 0 0 0 0 0 0 0] [3 3 3 3 3 3 3 3]\n",
      "[False False False False False False False False] [0 0 0 0 0 0 0 0] [3 3 3 3 3 3 3 3]\n",
      "[False False False False False False False False] [0 0 0 0 0 0 0 0] [3 3 3 3 3 3 3 3]\n",
      "[False False False False False False False False] [0 0 0 0 0 0 0 0] [3 3 3 3 3 3 3 3]\n",
      "[False False False False False False False False] [0 0 0 0 0 0 0 0] [3 3 3 3 3 3 3 3]\n",
      "[False False False False False False False False] [0 0 0 0 0 0 0 0] [3 3 3 3 3 3 3 3]\n",
      "[False False False False False False False False] [0 0 0 0 0 0 0 0] [3 3 3 3 3 3 3 3]\n",
      "[False False False False False False False False] [0 0 0 0 0 0 0 0] [3 3 3 3 3 3 3 3]\n",
      "[False False False False False False False False] [0 0 0 0 0 0 0 0] [3 3 3 3 3 3 3 3]\n",
      "[False False False False False False False False] [0 0 0 0 0 0 0 0] [3 3 3 3 3 3 3 3]\n",
      "[False False False False False False False False] [0 0 0 0 0 0 0 0] [3 3 3 3 3 3 3 3]\n",
      "[False False False False False False False False] [0 0 0 0 0 0 0 0] [3 3 3 3 3 3 3 3]\n",
      "[False False False False False False False False] [0 0 0 0 0 0 0 0] [3 3 3 3 3 3 3 3]\n",
      "[False False False False False False False False] [0 0 0 0 0 0 0 0] [3 3 3 3 3 3 3 3]\n",
      "[ True False False False False False False False] [0 0 0 0 0 0 0 0] [2 3 3 3 3 3 3 3]\n",
      "[False False False False False False False False] [0 0 0 0 0 0 0 0] [2 3 3 3 3 3 3 3]\n",
      "[False False False False False False False False] [0 0 0 0 0 0 0 0] [2 3 3 3 3 3 3 3]\n",
      "[False False  True False False False False False] [0 0 0 0 0 0 0 0] [2 3 2 3 3 3 3 3]\n",
      "[False  True False False False False False False] [0 0 0 0 0 0 0 0] [2 2 2 3 3 3 3 3]\n",
      "[False False False  True False False False False] [0 0 0 0 0 0 0 0] [2 2 2 2 3 3 3 3]\n",
      "[False False False False False False False False] [0 0 0 0 0 0 0 0] [2 2 2 2 3 3 3 3]\n",
      "[False False False False False False False False] [0 0 0 0 0 0 0 0] [2 2 2 2 3 3 3 3]\n",
      "[False False False False False False False  True] [0 0 0 0 0 0 0 0] [2 2 2 2 3 3 3 2]\n",
      "[False False False False False False False False] [0 0 0 0 0 0 0 0] [2 2 2 2 3 3 3 2]\n",
      "[False False False False False False False False] [0 0 0 0 0 0 0 0] [2 2 2 2 3 3 3 2]\n",
      "[False False False False False False False False] [0 0 0 0 0 0 0 0] [2 2 2 2 3 3 3 2]\n",
      "[False False False False False False False False] [0 0 0 0 0 0 0 0] [2 2 2 2 3 3 3 2]\n",
      "[False False False False False False False False] [0 0 0 0 0 0 0 0] [2 2 2 2 3 3 3 2]\n",
      "[False False False False False False  True False] [0 0 0 0 0 0 0 0] [2 2 2 2 3 3 2 2]\n",
      "[False False False False False False False False] [0 0 0 0 0 0 0 0] [2 2 2 2 3 3 2 2]\n",
      "[False False False False False False False False] [0 0 0 0 0 0 0 0] [2 2 2 2 3 3 2 2]\n",
      "[False False False False False False False False] [0 0 0 0 0 0 0 0] [2 2 2 2 3 3 2 2]\n",
      "[False False False False False False False False] [0 0 0 0 0 0 0 0] [2 2 2 2 3 3 2 2]\n",
      "[False False False False False False False False] [0 0 0 0 0 0 0 0] [2 2 2 2 3 3 2 2]\n",
      "[False False False False False False False False] [0 0 0 0 0 0 0 0] [2 2 2 2 3 3 2 2]\n",
      "[False False False False False False False False] [0 0 0 0 0 0 0 0] [2 2 2 2 3 3 2 2]\n",
      "[False False False False False False False False] [0 0 0 0 0 0 0 0] [2 2 2 2 3 3 2 2]\n",
      "[False False False False False False False False] [0 0 0 0 0 0 0 0] [2 2 2 2 3 3 2 2]\n",
      "[False False False False False False False False] [0 0 0 0 0 0 0 0] [2 2 2 2 3 3 2 2]\n",
      "[False False False False False False False False] [0 0 0 0 0 0 0 0] [2 2 2 2 3 3 2 2]\n",
      "[False False False False False False False False] [0 0 0 0 0 0 0 0] [2 2 2 2 3 3 2 2]\n",
      "[False False False False False False False False] [0 0 0 0 0 0 0 0] [2 2 2 2 3 3 2 2]\n",
      "[False False False False False False False False] [0 0 0 0 0 0 0 0] [2 2 2 2 3 3 2 2]\n",
      "[False False False False False False False False] [0 0 0 0 0 0 0 0] [2 2 2 2 3 3 2 2]\n",
      "[False False False False False False False False] [0 0 0 0 0 0 0 0] [2 2 2 2 3 3 2 2]\n",
      "[False False False False False False False False] [0 0 0 0 0 0 0 0] [2 2 2 2 3 3 2 2]\n"
     ]
    }
   ],
   "source": [
    "for _ in range(100):\n",
    "    obs, rew, term, trunc, info = env.step(np.random.randint(0, 18, 8))\n",
    "    # print(rew, info['reward'])\n",
    "    print(term, info['terminated'], info['lives'])"
   ]
  },
  {
   "cell_type": "code",
   "execution_count": null,
   "id": "6b3ea665-904a-4a18-8f42-6d0640df7e0f",
   "metadata": {},
   "outputs": [],
   "source": []
  },
  {
   "cell_type": "code",
   "execution_count": null,
   "id": "8547aee2-fc15-4aa0-9ca5-1ab052bbfdca",
   "metadata": {},
   "outputs": [],
   "source": []
  }
 ],
 "metadata": {
  "kernelspec": {
   "display_name": "Python 3 (ipykernel)",
   "language": "python",
   "name": "python3"
  },
  "language_info": {
   "codemirror_mode": {
    "name": "ipython",
    "version": 3
   },
   "file_extension": ".py",
   "mimetype": "text/x-python",
   "name": "python",
   "nbconvert_exporter": "python",
   "pygments_lexer": "ipython3",
   "version": "3.10.12"
  }
 },
 "nbformat": 4,
 "nbformat_minor": 5
}
