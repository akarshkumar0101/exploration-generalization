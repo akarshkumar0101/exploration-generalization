{
 "cells": [
  {
   "cell_type": "code",
   "execution_count": 1,
   "id": "0dc7a83a-47c4-4534-8ea2-99eb4addc92d",
   "metadata": {},
   "outputs": [],
   "source": [
    "import envpool\n",
    "import numpy as np"
   ]
  },
  {
   "cell_type": "code",
   "execution_count": null,
   "id": "2320868f-43fd-479d-aab3-c01b3149eec0",
   "metadata": {},
   "outputs": [],
   "source": []
  },
  {
   "cell_type": "code",
   "execution_count": 14,
   "id": "30498e55-4d24-46a9-95db-6ef841d7fa93",
   "metadata": {},
   "outputs": [],
   "source": [
    "env = envpool.make_gymnasium('Asterix-v5', num_envs=8, full_action_space=True, reward_clip=True, episodic_life=True)"
   ]
  },
  {
   "cell_type": "code",
   "execution_count": 15,
   "id": "7b8bfb1c-80bf-43ff-9c60-92b791bfea2b",
   "metadata": {},
   "outputs": [],
   "source": [
    "env.reset();"
   ]
  },
  {
   "cell_type": "code",
   "execution_count": 16,
   "id": "986de10c-6e75-4ec1-a41d-105de2e64e9e",
   "metadata": {},
   "outputs": [
    {
     "name": "stdout",
     "output_type": "stream",
     "text": [
      "[False False False False False False False False] [0 0 0 0 0 0 0 0] [3 3 3 3 3 3 3 3]\n",
      "[False False False False False False False False] [0 0 0 0 0 0 0 0] [3 3 3 3 3 3 3 3]\n",
      "[False False False False False False False False] [0 0 0 0 0 0 0 0] [3 3 3 3 3 3 3 3]\n",
      "[False False False False False False False False] [0 0 0 0 0 0 0 0] [3 3 3 3 3 3 3 3]\n",
      "[False False False False False False False False] [0 0 0 0 0 0 0 0] [3 3 3 3 3 3 3 3]\n",
      "[False False False False False False False False] [0 0 0 0 0 0 0 0] [3 3 3 3 3 3 3 3]\n",
      "[False False False False False False False False] [0 0 0 0 0 0 0 0] [3 3 3 3 3 3 3 3]\n",
      "[False False False False False False False False] [0 0 0 0 0 0 0 0] [3 3 3 3 3 3 3 3]\n",
      "[False False False False False False False False] [0 0 0 0 0 0 0 0] [3 3 3 3 3 3 3 3]\n",
      "[False False False False False False False False] [0 0 0 0 0 0 0 0] [3 3 3 3 3 3 3 3]\n",
      "[False False False False False False False False] [0 0 0 0 0 0 0 0] [3 3 3 3 3 3 3 3]\n",
      "[False False False False False False False False] [0 0 0 0 0 0 0 0] [3 3 3 3 3 3 3 3]\n",
      "[False False False False False False False False] [0 0 0 0 0 0 0 0] [3 3 3 3 3 3 3 3]\n",
      "[False False False False False False False False] [0 0 0 0 0 0 0 0] [3 3 3 3 3 3 3 3]\n",
      "[False False False False False False False False] [0 0 0 0 0 0 0 0] [3 3 3 3 3 3 3 3]\n",
      "[False False False False False False False False] [0 0 0 0 0 0 0 0] [3 3 3 3 3 3 3 3]\n",
      "[False False False False False False False False] [0 0 0 0 0 0 0 0] [3 3 3 3 3 3 3 3]\n",
      "[False False False False False False False False] [0 0 0 0 0 0 0 0] [3 3 3 3 3 3 3 3]\n",
      "[False False False False False False False False] [0 0 0 0 0 0 0 0] [3 3 3 3 3 3 3 3]\n",
      "[False False False False False False False False] [0 0 0 0 0 0 0 0] [3 3 3 3 3 3 3 3]\n",
      "[False False False False False False False False] [0 0 0 0 0 0 0 0] [3 3 3 3 3 3 3 3]\n",
      "[False False False False False False False False] [0 0 0 0 0 0 0 0] [3 3 3 3 3 3 3 3]\n",
      "[False False False False False False False False] [0 0 0 0 0 0 0 0] [3 3 3 3 3 3 3 3]\n",
      "[False False False False False False False False] [0 0 0 0 0 0 0 0] [3 3 3 3 3 3 3 3]\n",
      "[False False False False False False False False] [0 0 0 0 0 0 0 0] [3 3 3 3 3 3 3 3]\n",
      "[False False False False False False False False] [0 0 0 0 0 0 0 0] [3 3 3 3 3 3 3 3]\n",
      "[False False False False False False False False] [0 0 0 0 0 0 0 0] [3 3 3 3 3 3 3 3]\n",
      "[False False False False False False False False] [0 0 0 0 0 0 0 0] [3 3 3 3 3 3 3 3]\n",
      "[False False False False False False False False] [0 0 0 0 0 0 0 0] [3 3 3 3 3 3 3 3]\n",
      "[False False False False False False False False] [0 0 0 0 0 0 0 0] [3 3 3 3 3 3 3 3]\n",
      "[False False False False False False False False] [0 0 0 0 0 0 0 0] [3 3 3 3 3 3 3 3]\n",
      "[False False False False False False False False] [0 0 0 0 0 0 0 0] [3 3 3 3 3 3 3 3]\n",
      "[False False False False False False False False] [0 0 0 0 0 0 0 0] [3 3 3 3 3 3 3 3]\n",
      "[False False False False False False False False] [0 0 0 0 0 0 0 0] [3 3 3 3 3 3 3 3]\n",
      "[False False False False False False False False] [0 0 0 0 0 0 0 0] [3 3 3 3 3 3 3 3]\n",
      "[False False False False False False False False] [0 0 0 0 0 0 0 0] [3 3 3 3 3 3 3 3]\n",
      "[False False False False False False False False] [0 0 0 0 0 0 0 0] [3 3 3 3 3 3 3 3]\n",
      "[False False False False False False False False] [0 0 0 0 0 0 0 0] [3 3 3 3 3 3 3 3]\n",
      "[False False False False False False False False] [0 0 0 0 0 0 0 0] [3 3 3 3 3 3 3 3]\n",
      "[False False False False False False False False] [0 0 0 0 0 0 0 0] [3 3 3 3 3 3 3 3]\n",
      "[False False False False False False False False] [0 0 0 0 0 0 0 0] [3 3 3 3 3 3 3 3]\n",
      "[False False False False False False False False] [0 0 0 0 0 0 0 0] [3 3 3 3 3 3 3 3]\n",
      "[False False False False False False False False] [0 0 0 0 0 0 0 0] [3 3 3 3 3 3 3 3]\n",
      "[False False False False False False False False] [0 0 0 0 0 0 0 0] [3 3 3 3 3 3 3 3]\n",
      "[False False False False False False False False] [0 0 0 0 0 0 0 0] [3 3 3 3 3 3 3 3]\n",
      "[False False False False False False False False] [0 0 0 0 0 0 0 0] [3 3 3 3 3 3 3 3]\n",
      "[False False False False False False False False] [0 0 0 0 0 0 0 0] [3 3 3 3 3 3 3 3]\n",
      "[False False False False False False False False] [0 0 0 0 0 0 0 0] [3 3 3 3 3 3 3 3]\n",
      "[False False False False False False False False] [0 0 0 0 0 0 0 0] [3 3 3 3 3 3 3 3]\n",
      "[False False False False False False False False] [0 0 0 0 0 0 0 0] [3 3 3 3 3 3 3 3]\n",
      "[False False False False False False False False] [0 0 0 0 0 0 0 0] [3 3 3 3 3 3 3 3]\n",
      "[False False False False False False False False] [0 0 0 0 0 0 0 0] [3 3 3 3 3 3 3 3]\n",
      "[False False False False False False False False] [0 0 0 0 0 0 0 0] [3 3 3 3 3 3 3 3]\n",
      "[False False False False False False False False] [0 0 0 0 0 0 0 0] [3 3 3 3 3 3 3 3]\n",
      "[False False False False False False False False] [0 0 0 0 0 0 0 0] [3 3 3 3 3 3 3 3]\n",
      "[False False False False False False False False] [0 0 0 0 0 0 0 0] [3 3 3 3 3 3 3 3]\n",
      "[False False False False False False False False] [0 0 0 0 0 0 0 0] [3 3 3 3 3 3 3 3]\n",
      "[False False False False False False False False] [0 0 0 0 0 0 0 0] [3 3 3 3 3 3 3 3]\n",
      "[False False False False False False False False] [0 0 0 0 0 0 0 0] [3 3 3 3 3 3 3 3]\n",
      "[False False False False False False False False] [0 0 0 0 0 0 0 0] [3 3 3 3 3 3 3 3]\n",
      "[False False False False False False False False] [0 0 0 0 0 0 0 0] [3 3 3 3 3 3 3 3]\n",
      "[False False False False False False False False] [0 0 0 0 0 0 0 0] [3 3 3 3 3 3 3 3]\n",
      "[False False False False False False False False] [0 0 0 0 0 0 0 0] [3 3 3 3 3 3 3 3]\n",
      "[False False False False False False False False] [0 0 0 0 0 0 0 0] [3 3 3 3 3 3 3 3]\n",
      "[False False False False False False False False] [0 0 0 0 0 0 0 0] [3 3 3 3 3 3 3 3]\n",
      "[False False False False False False False False] [0 0 0 0 0 0 0 0] [3 3 3 3 3 3 3 3]\n",
      "[False False False False False False False False] [0 0 0 0 0 0 0 0] [3 3 3 3 3 3 3 3]\n",
      "[False False False False False False False False] [0 0 0 0 0 0 0 0] [3 3 3 3 3 3 3 3]\n",
      "[ True False False False False False False False] [0 0 0 0 0 0 0 0] [2 3 3 3 3 3 3 3]\n",
      "[False False False False False False False False] [0 0 0 0 0 0 0 0] [2 3 3 3 3 3 3 3]\n",
      "[False False False False False False False False] [0 0 0 0 0 0 0 0] [2 3 3 3 3 3 3 3]\n",
      "[False False  True False False False False False] [0 0 0 0 0 0 0 0] [2 3 2 3 3 3 3 3]\n",
      "[False  True False False False False False False] [0 0 0 0 0 0 0 0] [2 2 2 3 3 3 3 3]\n",
      "[False False False  True False False False False] [0 0 0 0 0 0 0 0] [2 2 2 2 3 3 3 3]\n",
      "[False False False False False False False False] [0 0 0 0 0 0 0 0] [2 2 2 2 3 3 3 3]\n",
      "[False False False False False False False False] [0 0 0 0 0 0 0 0] [2 2 2 2 3 3 3 3]\n",
      "[False False False False False False False  True] [0 0 0 0 0 0 0 0] [2 2 2 2 3 3 3 2]\n",
      "[False False False False False False False False] [0 0 0 0 0 0 0 0] [2 2 2 2 3 3 3 2]\n",
      "[False False False False False False False False] [0 0 0 0 0 0 0 0] [2 2 2 2 3 3 3 2]\n",
      "[False False False False False False False False] [0 0 0 0 0 0 0 0] [2 2 2 2 3 3 3 2]\n",
      "[False False False False False False False False] [0 0 0 0 0 0 0 0] [2 2 2 2 3 3 3 2]\n",
      "[False False False False False False False False] [0 0 0 0 0 0 0 0] [2 2 2 2 3 3 3 2]\n",
      "[False False False False False False  True False] [0 0 0 0 0 0 0 0] [2 2 2 2 3 3 2 2]\n",
      "[False False False False False False False False] [0 0 0 0 0 0 0 0] [2 2 2 2 3 3 2 2]\n",
      "[False False False False False False False False] [0 0 0 0 0 0 0 0] [2 2 2 2 3 3 2 2]\n",
      "[False False False False False False False False] [0 0 0 0 0 0 0 0] [2 2 2 2 3 3 2 2]\n",
      "[False False False False False False False False] [0 0 0 0 0 0 0 0] [2 2 2 2 3 3 2 2]\n",
      "[False False False False False False False False] [0 0 0 0 0 0 0 0] [2 2 2 2 3 3 2 2]\n",
      "[False False False False False False False False] [0 0 0 0 0 0 0 0] [2 2 2 2 3 3 2 2]\n",
      "[False False False False False False False False] [0 0 0 0 0 0 0 0] [2 2 2 2 3 3 2 2]\n",
      "[False False False False False False False False] [0 0 0 0 0 0 0 0] [2 2 2 2 3 3 2 2]\n",
      "[False False False False False False False False] [0 0 0 0 0 0 0 0] [2 2 2 2 3 3 2 2]\n",
      "[False False False False False False False False] [0 0 0 0 0 0 0 0] [2 2 2 2 3 3 2 2]\n",
      "[False False False False False False False False] [0 0 0 0 0 0 0 0] [2 2 2 2 3 3 2 2]\n",
      "[False False False False False False False False] [0 0 0 0 0 0 0 0] [2 2 2 2 3 3 2 2]\n",
      "[False False False False False False False False] [0 0 0 0 0 0 0 0] [2 2 2 2 3 3 2 2]\n",
      "[False False False False False False False False] [0 0 0 0 0 0 0 0] [2 2 2 2 3 3 2 2]\n",
      "[False False False False False False False False] [0 0 0 0 0 0 0 0] [2 2 2 2 3 3 2 2]\n",
      "[False False False False False False False False] [0 0 0 0 0 0 0 0] [2 2 2 2 3 3 2 2]\n",
      "[False False False False False False False False] [0 0 0 0 0 0 0 0] [2 2 2 2 3 3 2 2]\n"
     ]
    }
   ],
   "source": [
    "for _ in range(100):\n",
    "    obs, rew, term, trunc, info = env.step(np.random.randint(0, 18, 8))\n",
    "    # print(rew, info['reward'])\n",
    "    print(term, info['terminated'], info['lives'])"
   ]
  },
  {
   "cell_type": "code",
   "execution_count": null,
   "id": "6b3ea665-904a-4a18-8f42-6d0640df7e0f",
   "metadata": {},
   "outputs": [],
   "source": []
  },
  {
   "cell_type": "code",
   "execution_count": 17,
   "id": "8547aee2-fc15-4aa0-9ca5-1ab052bbfdca",
   "metadata": {},
   "outputs": [],
   "source": [
    "from my_agents import *"
   ]
  },
  {
   "cell_type": "code",
   "execution_count": 18,
   "id": "28b63ea4-59c4-494f-af7f-0b0c6e9f8f98",
   "metadata": {},
   "outputs": [],
   "source": [
    "agent = StackedCNNAgent(18, 4)"
   ]
  },
  {
   "cell_type": "code",
   "execution_count": 19,
   "id": "e6d2a7a9-6717-4ad2-bf46-b4e7d46eafe0",
   "metadata": {},
   "outputs": [
    {
     "data": {
      "text/plain": [
       "1693875"
      ]
     },
     "execution_count": 19,
     "metadata": {},
     "output_type": "execute_result"
    }
   ],
   "source": [
    "sum([p.numel() for p in agent.parameters()])"
   ]
  },
  {
   "cell_type": "code",
   "execution_count": 29,
   "id": "3e4f1807-3f8e-4491-a849-09a705a40281",
   "metadata": {},
   "outputs": [],
   "source": [
    "class Agent(nn.Module):\n",
    "    def __init__(self):\n",
    "        super().__init__()\n",
    "        self.network = nn.Sequential(\n",
    "            layer_init(nn.Conv2d(4, 32, 8, stride=4)),\n",
    "            nn.ReLU(),\n",
    "            layer_init(nn.Conv2d(32, 64, 4, stride=2)),\n",
    "            nn.ReLU(),\n",
    "            layer_init(nn.Conv2d(64, 64, 3, stride=1)),\n",
    "            nn.ReLU(),\n",
    "            nn.Flatten(),\n",
    "            layer_init(nn.Linear(64 * 7 * 7, 512)),\n",
    "            nn.ReLU(),\n",
    "        )\n",
    "        self.actor = layer_init(nn.Linear(512, 6), std=0.01)\n",
    "        self.critic = layer_init(nn.Linear(512, 1), std=1)\n",
    "\n",
    "    def get_value(self, x):\n",
    "        return self.critic(self.network(x / 255.0))\n",
    "\n",
    "    def get_action_and_value(self, x, action=None):\n",
    "        hidden = self.network(x / 255.0)\n",
    "        logits = self.actor(hidden)\n",
    "        probs = Categorical(logits=logits)\n",
    "        if action is None:\n",
    "            action = probs.sample()\n",
    "        return action, probs.log_prob(action), probs.entropy(), self.critic(hidden)"
   ]
  },
  {
   "cell_type": "code",
   "execution_count": 30,
   "id": "b09eac87-08cb-4b44-aea6-cda6f87bb5f7",
   "metadata": {},
   "outputs": [
    {
     "data": {
      "text/plain": [
       "1687719"
      ]
     },
     "execution_count": 30,
     "metadata": {},
     "output_type": "execute_result"
    }
   ],
   "source": [
    "agent = Agent()\n",
    "sum([p.numel() for p in agent.parameters()])"
   ]
  },
  {
   "cell_type": "code",
   "execution_count": null,
   "id": "526e679a-5b0b-479b-84f7-d23880b82a2c",
   "metadata": {},
   "outputs": [],
   "source": []
  }
 ],
 "metadata": {
  "kernelspec": {
   "display_name": "Python 3 (ipykernel)",
   "language": "python",
   "name": "python3"
  },
  "language_info": {
   "codemirror_mode": {
    "name": "ipython",
    "version": 3
   },
   "file_extension": ".py",
   "mimetype": "text/x-python",
   "name": "python",
   "nbconvert_exporter": "python",
   "pygments_lexer": "ipython3",
   "version": "3.10.12"
  }
 },
 "nbformat": 4,
 "nbformat_minor": 5
}
