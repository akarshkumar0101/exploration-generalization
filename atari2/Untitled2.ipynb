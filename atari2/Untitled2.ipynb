{
 "cells": [
  {
   "cell_type": "code",
   "execution_count": 1,
   "id": "ded2e271-aade-4171-882c-0ca03c13fed5",
   "metadata": {},
   "outputs": [],
   "source": [
    "%load_ext autoreload\n",
    "%autoreload 2"
   ]
  },
  {
   "cell_type": "code",
   "execution_count": 2,
   "id": "54f5f874-931a-4125-9a6e-d5cdbbba51ae",
   "metadata": {},
   "outputs": [],
   "source": [
    "from my_envs import *\n",
    "from tqdm.auto import tqdm\n",
    "import matplotlib.pyplot as plt"
   ]
  },
  {
   "cell_type": "code",
   "execution_count": 3,
   "id": "1a2bde82-61bb-4bd5-b40f-94f2a790c2f3",
   "metadata": {},
   "outputs": [],
   "source": [
    "import glob"
   ]
  },
  {
   "cell_type": "code",
   "execution_count": null,
   "id": "62836e25-09db-4723-b38f-431f7ac4f607",
   "metadata": {},
   "outputs": [],
   "source": []
  },
  {
   "cell_type": "code",
   "execution_count": 48,
   "id": "445fdbf0-df08-459c-8e38-bce697b28c03",
   "metadata": {},
   "outputs": [],
   "source": [
    "env = MyEnvpool('Pong-v5', num_envs=8)\n",
    "env.reset();"
   ]
  },
  {
   "cell_type": "code",
   "execution_count": 49,
   "id": "18dfbdc4-4b79-431e-91b7-e362dd144789",
   "metadata": {},
   "outputs": [],
   "source": [
    "obs, rew, term, trunc, info = env.step(env.action_space.sample())"
   ]
  },
  {
   "cell_type": "code",
   "execution_count": 50,
   "id": "710a98eb-57d8-4e6b-aca9-31e3f68c27c9",
   "metadata": {},
   "outputs": [
    {
     "name": "stdout",
     "output_type": "stream",
     "text": [
      "(8, 4, 84, 84)\n",
      "[0 1 2 3 4 5 6 7]\n"
     ]
    }
   ],
   "source": [
    "print(obs.shape)\n",
    "print(info['env_id'])"
   ]
  },
  {
   "cell_type": "code",
   "execution_count": 51,
   "id": "155d1460-080b-46e9-8760-2b75fca00230",
   "metadata": {},
   "outputs": [],
   "source": [
    "env.env.send(env.action_space.sample())"
   ]
  },
  {
   "cell_type": "code",
   "execution_count": 52,
   "id": "dbfac0ef-a6f1-4d0c-9598-4fe34bf02a77",
   "metadata": {},
   "outputs": [],
   "source": [
    "obs, rew, term, trunc, info = env.env.recv()"
   ]
  },
  {
   "cell_type": "code",
   "execution_count": 53,
   "id": "899c1dbb-32d3-426f-9b11-35bba4b73f1f",
   "metadata": {},
   "outputs": [
    {
     "name": "stdout",
     "output_type": "stream",
     "text": [
      "(8, 4, 84, 84)\n",
      "[0 1 2 3 4 5 6 7]\n"
     ]
    }
   ],
   "source": [
    "print(obs.shape)\n",
    "print(info['env_id'])"
   ]
  },
  {
   "cell_type": "code",
   "execution_count": null,
   "id": "747c7051-c0eb-4d37-accc-fd5c91c8cc07",
   "metadata": {},
   "outputs": [],
   "source": []
  },
  {
   "cell_type": "code",
   "execution_count": 3,
   "id": "bb3222ee-c638-41be-a93b-881cff4abac5",
   "metadata": {},
   "outputs": [],
   "source": [
    "with open('atari_games_57.txt') as f:\n",
    "    env_ids = f.read().split('\\n')\n",
    "env_ids = env_ids[:49]\n",
    "env_ids = [env_id for env_id in env_ids if env_id!='Skiing']"
   ]
  },
  {
   "cell_type": "code",
   "execution_count": null,
   "id": "2f56d023-03ea-4b06-be1d-526fbb7e1506",
   "metadata": {},
   "outputs": [],
   "source": []
  },
  {
   "cell_type": "code",
   "execution_count": 4,
   "id": "984ec15e-ec4b-4b03-bb35-64508e52a2bd",
   "metadata": {},
   "outputs": [],
   "source": [
    "env = []\n",
    "for env_id in env_ids:\n",
    "    envi = MyEnvpool(f\"{env_id}-v5\", num_envs=8, stack_num=1, episodic_life=True, reward_clip=True, seed=0, full_action_space=True)\n",
    "    env.append(envi)\n",
    "env = ConcatEnv(env)\n",
    "env.reset();"
   ]
  },
  {
   "cell_type": "code",
   "execution_count": 6,
   "id": "001172dd-0441-4b72-b50d-ab9dc7c5573b",
   "metadata": {},
   "outputs": [
    {
     "data": {
      "application/vnd.jupyter.widget-view+json": {
       "model_id": "154e9a1f47244d02bd32d62de5615d72",
       "version_major": 2,
       "version_minor": 0
      },
      "text/plain": [
       "  0%|          | 0/1000 [00:00<?, ?it/s]"
      ]
     },
     "metadata": {},
     "output_type": "display_data"
    },
    {
     "name": "stdout",
     "output_type": "stream",
     "text": [
      "CPU times: user 6min 49s, sys: 2.61 s, total: 6min 52s\n",
      "Wall time: 1min 15s\n"
     ]
    }
   ],
   "source": [
    "%%time\n",
    "for i in tqdm(range(1000)):\n",
    "    env.step(env.action_space.sample())"
   ]
  },
  {
   "cell_type": "code",
   "execution_count": 37,
   "id": "7205b08b-e2cf-4b79-90ed-60becfe7e444",
   "metadata": {},
   "outputs": [
    {
     "data": {
      "application/vnd.jupyter.widget-view+json": {
       "model_id": "d5af642a82934a3a8fbd9c7622b7a8be",
       "version_major": 2,
       "version_minor": 0
      },
      "text/plain": [
       "  0%|          | 0/1000 [00:00<?, ?it/s]"
      ]
     },
     "metadata": {},
     "output_type": "display_data"
    },
    {
     "name": "stdout",
     "output_type": "stream",
     "text": [
      "CPU times: user 6min 47s, sys: 2.17 s, total: 6min 49s\n",
      "Wall time: 1min 14s\n"
     ]
    }
   ],
   "source": [
    "%%time\n",
    "for i in tqdm(range(1000)):\n",
    "    for envi in env.envs:\n",
    "        envi.env.send(envi.action_space.sample())\n",
    "        envi.env.recv()"
   ]
  },
  {
   "cell_type": "code",
   "execution_count": 38,
   "id": "f5b0b3aa-b396-4dcd-aa20-6e72ca3cce0b",
   "metadata": {},
   "outputs": [
    {
     "data": {
      "application/vnd.jupyter.widget-view+json": {
       "model_id": "ce8f45490bae486bba050421cff12b23",
       "version_major": 2,
       "version_minor": 0
      },
      "text/plain": [
       "  0%|          | 0/1000 [00:00<?, ?it/s]"
      ]
     },
     "metadata": {},
     "output_type": "display_data"
    },
    {
     "name": "stdout",
     "output_type": "stream",
     "text": [
      "CPU times: user 9min 47s, sys: 5.53 s, total: 9min 53s\n",
      "Wall time: 21.9 s\n"
     ]
    }
   ],
   "source": [
    "%%time\n",
    "for i in tqdm(range(1000)):\n",
    "    for envi in env.envs:\n",
    "        envi.env.send(envi.action_space.sample())\n",
    "    for envi in env.envs:\n",
    "        envi.env.recv()"
   ]
  },
  {
   "cell_type": "code",
   "execution_count": 5,
   "id": "1f50b749-8631-4839-88be-144c0920cb82",
   "metadata": {},
   "outputs": [
    {
     "data": {
      "application/vnd.jupyter.widget-view+json": {
       "model_id": "f2406319f89844ec9695bc9cee3bf45b",
       "version_major": 2,
       "version_minor": 0
      },
      "text/plain": [
       "  0%|          | 0/1000 [00:00<?, ?it/s]"
      ]
     },
     "metadata": {},
     "output_type": "display_data"
    },
    {
     "name": "stdout",
     "output_type": "stream",
     "text": [
      "CPU times: user 9min 56s, sys: 5.91 s, total: 10min 2s\n",
      "Wall time: 22.3 s\n"
     ]
    }
   ],
   "source": [
    "%%time\n",
    "for i in tqdm(range(1000)):\n",
    "    env.step_async(env.action_space.sample())"
   ]
  },
  {
   "cell_type": "code",
   "execution_count": null,
   "id": "13167c87-803e-40a9-a7fa-d24d16ab827c",
   "metadata": {},
   "outputs": [],
   "source": []
  },
  {
   "cell_type": "code",
   "execution_count": null,
   "id": "0898113b-6d1e-47ed-b635-8a1b506ac1ee",
   "metadata": {},
   "outputs": [],
   "source": []
  },
  {
   "cell_type": "code",
   "execution_count": null,
   "id": "02fa9ae7-f292-4f10-9c85-1189ccef1101",
   "metadata": {},
   "outputs": [],
   "source": []
  },
  {
   "cell_type": "code",
   "execution_count": 13,
   "id": "3ee9cd06-2a74-4550-9fdf-1162fa97bce0",
   "metadata": {},
   "outputs": [],
   "source": [
    "archive = np.load('../atari/data/ge_specialist/ge_specialist_MontezumaRevenge_0000.npy', allow_pickle=True).item()"
   ]
  },
  {
   "cell_type": "code",
   "execution_count": null,
   "id": "2ae45542-b48e-4f48-a7f4-9ff7b3ec80a6",
   "metadata": {},
   "outputs": [],
   "source": []
  },
  {
   "cell_type": "code",
   "execution_count": null,
   "id": "1cd1ed22-fbfb-43d9-a515-7ad07fffb898",
   "metadata": {},
   "outputs": [],
   "source": []
  },
  {
   "cell_type": "code",
   "execution_count": null,
   "id": "0864cb4c-de4b-460c-811a-0d56e0273ce3",
   "metadata": {},
   "outputs": [],
   "source": []
  },
  {
   "cell_type": "code",
   "execution_count": null,
   "id": "86aad89d-e394-4ea7-a232-7136cbe07038",
   "metadata": {},
   "outputs": [],
   "source": []
  },
  {
   "cell_type": "code",
   "execution_count": null,
   "id": "7d3ef6b8-2aea-47b4-a6ac-4f34e8d6db24",
   "metadata": {},
   "outputs": [],
   "source": []
  },
  {
   "cell_type": "code",
   "execution_count": 31,
   "id": "6304abc7-1962-4b80-8db2-622d835be58d",
   "metadata": {},
   "outputs": [
    {
     "ename": "NameError",
     "evalue": "name 'Buffer' is not defined",
     "output_type": "error",
     "traceback": [
      "\u001b[0;31m---------------------------------------------------------------------------\u001b[0m",
      "\u001b[0;31mNameError\u001b[0m                                 Traceback (most recent call last)",
      "Cell \u001b[0;32mIn[31], line 1\u001b[0m\n\u001b[0;32m----> 1\u001b[0m \u001b[38;5;28;01mclass\u001b[39;00m \u001b[38;5;21;01mGEBuffer\u001b[39;00m(\u001b[43mBuffer\u001b[49m):\n\u001b[1;32m      2\u001b[0m     \u001b[38;5;28;01mdef\u001b[39;00m \u001b[38;5;21m__init__\u001b[39m(\u001b[38;5;28mself\u001b[39m, env, n_steps, sample_traj_fn, device\u001b[38;5;241m=\u001b[39m\u001b[38;5;28;01mNone\u001b[39;00m):\n\u001b[1;32m      3\u001b[0m         \u001b[38;5;66;03m# TODO mange devices\u001b[39;00m\n\u001b[1;32m      4\u001b[0m         \u001b[38;5;28msuper\u001b[39m()\u001b[38;5;241m.\u001b[39m\u001b[38;5;21m__init__\u001b[39m(env, n_steps, device\u001b[38;5;241m=\u001b[39m\u001b[38;5;124m\"\u001b[39m\u001b[38;5;124mcpu\u001b[39m\u001b[38;5;124m\"\u001b[39m)\n",
      "\u001b[0;31mNameError\u001b[0m: name 'Buffer' is not defined"
     ]
    }
   ],
   "source": [
    "class GEBuffer(Buffer):\n",
    "    def __init__(self, env, n_steps, sample_traj_fn, device=None):\n",
    "        # TODO mange devices\n",
    "        super().__init__(env, n_steps, device=\"cpu\")\n",
    "        self.trajs = [None for _ in range(self.env.num_envs)]\n",
    "        self.traj_lens = np.zeros(self.env.num_envs, dtype=int)\n",
    "        self.i_locs = np.zeros(self.env.num_envs, dtype=int)\n",
    "        self.sample_traj_fn = sample_traj_fn\n",
    "\n",
    "    def reset_with_newtraj(self, ids):\n",
    "        for id in ids:\n",
    "            self.trajs[id] = self.sample_traj_fn(id)\n",
    "            self.traj_lens[id] = len(self.trajs[id])\n",
    "            self.i_locs[id] = 0\n",
    "        obs, info = self.env.reset_subenvs(ids, seed=[0 for _ in ids])\n",
    "        # assert np.array_equal(self.env.envs[id].ale.getRAM(), self.ram_start), \"env reset to seed=0\"\n",
    "        return obs\n",
    "\n",
    "    def gecollect(self, pbar=None):\n",
    "        if self.first_collect:\n",
    "            self.first_collect = False\n",
    "            self.obs = self.reset_with_newtraj(range(self.env.num_envs))\n",
    "        for t in range(self.n_steps):\n",
    "            self.data[\"obs\"][:, t] = self.obs\n",
    "            action = np.array([traj[i_loc] for traj, i_loc in zip(self.trajs, self.i_locs)])\n",
    "            self.i_locs += 1\n",
    "            self.data[\"obs\"][:, t] = action\n",
    "            self.obs, _, term, trunc, _ = self.env.step(action)\n",
    "            assert not any(term) and not any(trunc), \"found a done in the ge buffer\"\n",
    "\n",
    "            ids_reset = np.where(self.i_locs >= self.traj_lens)[0]\n",
    "            if len(ids_reset) > 0:\n",
    "                self.obs[ids_reset] = self.reset_with_newtraj(ids_reset)\n",
    "            if pbar is not None:\n",
    "                pbar.update(1)"
   ]
  },
  {
   "cell_type": "code",
   "execution_count": 39,
   "id": "a68e2626-cad2-49a8-aa67-f2bb9eb5a044",
   "metadata": {},
   "outputs": [
    {
     "data": {
      "application/vnd.jupyter.widget-view+json": {
       "model_id": "597eae6ca58242699242a1293e9eeab7",
       "version_major": 2,
       "version_minor": 0
      },
      "text/plain": [
       "  0%|          | 0/2 [00:00<?, ?it/s]"
      ]
     },
     "metadata": {},
     "output_type": "display_data"
    },
    {
     "data": {
      "application/vnd.jupyter.widget-view+json": {
       "model_id": "b730c861c6b846feab7ca7c852fa5a76",
       "version_major": 2,
       "version_minor": 0
      },
      "text/plain": [
       "  0%|          | 0/2 [00:00<?, ?it/s]"
      ]
     },
     "metadata": {},
     "output_type": "display_data"
    }
   ],
   "source": [
    "def load_env_id2archives(env_ids, ge_data_dir, n_archives):\n",
    "    env_id2archives = {}\n",
    "    for env_id in tqdm(env_ids):\n",
    "        files = sorted(glob.glob(f\"{ge_data_dir}/*{env_id}*\"))\n",
    "        files = files[: n_archives]\n",
    "        env_id2archives[env_id] = [np.load(f, allow_pickle=True).item() for f in files]\n",
    "    return env_id2archives\n",
    "\n",
    "def get_env_id2trajs(env_id2archives, strategy=\"best\"):\n",
    "    env_id2trajs = {}\n",
    "    for env_id, archives in tqdm(env_id2archives.items()):\n",
    "        env_id2trajs[env_id] = []\n",
    "        for archive in archives:\n",
    "            trajs, rets, novelty, is_leaf = archive[\"traj\"], archive[\"ret\"], archive[\"novelty\"], archive[\"is_leaf\"]\n",
    "            if strategy == \"all\":\n",
    "                idx = np.arange(len(trajs))\n",
    "            elif strategy == \"best\":\n",
    "                idx = np.array([np.argmax(rets)])\n",
    "            elif strategy == \"leaf\":\n",
    "                idx = np.nonzero(is_leaf)[0]\n",
    "            else:\n",
    "                raise ValueError(f\"Unknown strategy: {strategy}\")\n",
    "            trajs = trajs[idx]\n",
    "            env_id2trajs[env_id].extend(trajs)\n",
    "    return env_id2trajs\n",
    "\n",
    "\n",
    "env_id2archives = load_env_id2archives(['MontezumaRevenge', 'Pitfall'], '../atari/data/ge_specialist/', 30)\n",
    "env_id2trajs = get_env_id2trajs(env_id2archives, strategy='best')\n"
   ]
  },
  {
   "cell_type": "code",
   "execution_count": null,
   "id": "81271a1b-b7b8-4939-9bd7-9a96439d57e1",
   "metadata": {},
   "outputs": [],
   "source": []
  },
  {
   "cell_type": "code",
   "execution_count": null,
   "id": "c840410e-eab7-4dae-8ec9-1e516c03dd28",
   "metadata": {},
   "outputs": [],
   "source": []
  },
  {
   "cell_type": "code",
   "execution_count": null,
   "id": "61ddd2fd-c5dc-4e8d-8576-1316e3e2f500",
   "metadata": {},
   "outputs": [],
   "source": []
  },
  {
   "cell_type": "code",
   "execution_count": null,
   "id": "b586e68a-9333-4e9e-9fa2-cb3add921062",
   "metadata": {},
   "outputs": [],
   "source": []
  },
  {
   "cell_type": "code",
   "execution_count": null,
   "id": "cbbdc9d9-af2d-425d-a95b-46d5f2039f26",
   "metadata": {},
   "outputs": [],
   "source": []
  },
  {
   "cell_type": "code",
   "execution_count": 41,
   "id": "b7867f73-19d3-4520-bda9-7633ffa9e009",
   "metadata": {},
   "outputs": [
    {
     "data": {
      "application/vnd.jupyter.widget-view+json": {
       "model_id": "96be7c090513463fb2ad317b2e280be6",
       "version_major": 2,
       "version_minor": 0
      },
      "text/plain": [
       "  0%|          | 0/2 [00:00<?, ?it/s]"
      ]
     },
     "metadata": {},
     "output_type": "display_data"
    },
    {
     "data": {
      "application/vnd.jupyter.widget-view+json": {
       "model_id": "828c49baacff4cb1825bde901dc1e2d2",
       "version_major": 2,
       "version_minor": 0
      },
      "text/plain": [
       "  0%|          | 0/2 [00:00<?, ?it/s]"
      ]
     },
     "metadata": {},
     "output_type": "display_data"
    },
    {
     "name": "stdout",
     "output_type": "stream",
     "text": [
      "env_id: MontezumaRevenge, #trajs: 30\n",
      "env_id: Pitfall, #trajs: 30\n"
     ]
    }
   ],
   "source": [
    "env_ids = ['MontezumaRevenge', 'Pitfall']\n",
    "env_id2archives = load_env_id2archives(env_ids, '../atari/data/ge_specialist/', 30)\n",
    "env_id2trajs = get_env_id2trajs(env_id2archives, strategy='best')\n",
    "\n",
    "for env_id, trajs in env_id2trajs.items():\n",
    "    print(f\"env_id: {env_id}, #trajs: {len(trajs)}\")\n",
    "\n",
    "envs = []\n",
    "for env_id in args.env_ids:\n",
    "    envi = MyEnvpool(f\"{env_id}-v5\", num_envs=args.n_envs, stack_num=1, episodic_life=True, reward_clip=True, seed=args.seed, full_action_space=True)\n",
    "    if args.norm_rew:\n",
    "        envi = gym.wrappers.NormalizeReward(envi, gamma=args.gamma)\n",
    "    envi = RecordEpisodeStatistics(envi, deque_size=32)\n",
    "    envi = ToTensor(envi, device=args.device)\n",
    "    envs.append(envi)\n",
    "env = ConcatEnv(envs)\n",
    "\n",
    "# make_env_fns = []\n",
    "# for env_id in args.env_ids:\n",
    "#     make_env_fns.extend([partial(make_ge_env_single, env_id=env_id) for _ in range(args.n_envs)])\n",
    "# env = MyAsyncVectorEnv(make_env_fns)\n",
    "# print(\"Done creating envs!\")\n",
    "\n",
    "# def sample_traj_fn(id):\n",
    "#     env_id = args.env_ids[id // args.n_envs]\n",
    "#     trajs = env_id2trajs[env_id]\n",
    "#     return trajs[np.random.choice(len(trajs))]\n",
    "\n",
    "# print(\"Creating buffer\")\n",
    "# buf = GEBuffer(env, args.n_steps, sample_traj_fn=sample_traj_fn, device=args.device)"
   ]
  },
  {
   "cell_type": "code",
   "execution_count": null,
   "id": "e76e01ab-a7dc-4a2c-b4d0-611ffcfe5655",
   "metadata": {},
   "outputs": [],
   "source": []
  },
  {
   "cell_type": "code",
   "execution_count": 16,
   "id": "44319c95-ab64-4a13-9cda-0062fa9fecc6",
   "metadata": {},
   "outputs": [],
   "source": [
    "with open('atari_games_57.txt') as f:\n",
    "    env_ids = f.read().split('\\n')"
   ]
  },
  {
   "cell_type": "code",
   "execution_count": 17,
   "id": "6f68e390-1100-46cc-a7d3-9111a286d9ce",
   "metadata": {},
   "outputs": [
    {
     "name": "stdout",
     "output_type": "stream",
     "text": [
      "Alien\n",
      "Amidar\n",
      "Assault\n",
      "Asterix\n",
      "Asteroids\n",
      "Atlantis\n",
      "BankHeist\n",
      "BattleZone\n",
      "BeamRider\n",
      "Berzerk\n",
      "Bowling\n",
      "Boxing\n",
      "Breakout\n",
      "Centipede\n",
      "ChopperCommand\n",
      "CrazyClimber\n",
      "Defender\n",
      "DemonAttack\n"
     ]
    },
    {
     "ename": "KeyboardInterrupt",
     "evalue": "",
     "output_type": "error",
     "traceback": [
      "\u001b[0;31m---------------------------------------------------------------------------\u001b[0m",
      "\u001b[0;31mKeyboardInterrupt\u001b[0m                         Traceback (most recent call last)",
      "Cell \u001b[0;32mIn[17], line 4\u001b[0m\n\u001b[1;32m      2\u001b[0m \u001b[38;5;28mprint\u001b[39m(env_id)\n\u001b[1;32m      3\u001b[0m env \u001b[38;5;241m=\u001b[39m MyEnvpool(\u001b[38;5;124mf\u001b[39m\u001b[38;5;124m'\u001b[39m\u001b[38;5;132;01m{\u001b[39;00menv_id\u001b[38;5;132;01m}\u001b[39;00m\u001b[38;5;124m-v5\u001b[39m\u001b[38;5;124m'\u001b[39m, num_envs\u001b[38;5;241m=\u001b[39m\u001b[38;5;241m8\u001b[39m, stack_num\u001b[38;5;241m=\u001b[39m\u001b[38;5;241m1\u001b[39m, frame_skip\u001b[38;5;241m=\u001b[39m\u001b[38;5;241m4\u001b[39m, repeat_action_probability\u001b[38;5;241m=\u001b[39m\u001b[38;5;241m0.0\u001b[39m, noop_max\u001b[38;5;241m=\u001b[39m\u001b[38;5;241m1\u001b[39m, use_fire_reset\u001b[38;5;241m=\u001b[39m\u001b[38;5;28;01mFalse\u001b[39;00m, full_action_space\u001b[38;5;241m=\u001b[39m\u001b[38;5;28;01mTrue\u001b[39;00m)\n\u001b[0;32m----> 4\u001b[0m o \u001b[38;5;241m=\u001b[39m np\u001b[38;5;241m.\u001b[39mstack([env\u001b[38;5;241m.\u001b[39mreset()[\u001b[38;5;241m0\u001b[39m] \u001b[38;5;28;01mfor\u001b[39;00m i \u001b[38;5;129;01min\u001b[39;00m \u001b[38;5;28mrange\u001b[39m(\u001b[38;5;241m20\u001b[39m)])\n\u001b[1;32m      5\u001b[0m \u001b[38;5;28;01massert\u001b[39;00m (o\u001b[38;5;241m.\u001b[39mvar(axis\u001b[38;5;241m=\u001b[39m(\u001b[38;5;241m0\u001b[39m, \u001b[38;5;241m1\u001b[39m))\u001b[38;5;241m==\u001b[39m\u001b[38;5;241m0\u001b[39m)\u001b[38;5;241m.\u001b[39mall()\n",
      "Cell \u001b[0;32mIn[17], line 4\u001b[0m, in \u001b[0;36m<listcomp>\u001b[0;34m(.0)\u001b[0m\n\u001b[1;32m      2\u001b[0m \u001b[38;5;28mprint\u001b[39m(env_id)\n\u001b[1;32m      3\u001b[0m env \u001b[38;5;241m=\u001b[39m MyEnvpool(\u001b[38;5;124mf\u001b[39m\u001b[38;5;124m'\u001b[39m\u001b[38;5;132;01m{\u001b[39;00menv_id\u001b[38;5;132;01m}\u001b[39;00m\u001b[38;5;124m-v5\u001b[39m\u001b[38;5;124m'\u001b[39m, num_envs\u001b[38;5;241m=\u001b[39m\u001b[38;5;241m8\u001b[39m, stack_num\u001b[38;5;241m=\u001b[39m\u001b[38;5;241m1\u001b[39m, frame_skip\u001b[38;5;241m=\u001b[39m\u001b[38;5;241m4\u001b[39m, repeat_action_probability\u001b[38;5;241m=\u001b[39m\u001b[38;5;241m0.0\u001b[39m, noop_max\u001b[38;5;241m=\u001b[39m\u001b[38;5;241m1\u001b[39m, use_fire_reset\u001b[38;5;241m=\u001b[39m\u001b[38;5;28;01mFalse\u001b[39;00m, full_action_space\u001b[38;5;241m=\u001b[39m\u001b[38;5;28;01mTrue\u001b[39;00m)\n\u001b[0;32m----> 4\u001b[0m o \u001b[38;5;241m=\u001b[39m np\u001b[38;5;241m.\u001b[39mstack([\u001b[43menv\u001b[49m\u001b[38;5;241;43m.\u001b[39;49m\u001b[43mreset\u001b[49m\u001b[43m(\u001b[49m\u001b[43m)\u001b[49m[\u001b[38;5;241m0\u001b[39m] \u001b[38;5;28;01mfor\u001b[39;00m i \u001b[38;5;129;01min\u001b[39;00m \u001b[38;5;28mrange\u001b[39m(\u001b[38;5;241m20\u001b[39m)])\n\u001b[1;32m      5\u001b[0m \u001b[38;5;28;01massert\u001b[39;00m (o\u001b[38;5;241m.\u001b[39mvar(axis\u001b[38;5;241m=\u001b[39m(\u001b[38;5;241m0\u001b[39m, \u001b[38;5;241m1\u001b[39m))\u001b[38;5;241m==\u001b[39m\u001b[38;5;241m0\u001b[39m)\u001b[38;5;241m.\u001b[39mall()\n",
      "File \u001b[0;32m~/exploration-generalization/atari2/my_envs.py:44\u001b[0m, in \u001b[0;36mMyEnvpool.reset\u001b[0;34m(self, *args, **kwargs)\u001b[0m\n\u001b[1;32m     43\u001b[0m \u001b[38;5;28;01mdef\u001b[39;00m \u001b[38;5;21mreset\u001b[39m(\u001b[38;5;28mself\u001b[39m, \u001b[38;5;241m*\u001b[39margs, \u001b[38;5;241m*\u001b[39m\u001b[38;5;241m*\u001b[39mkwargs):\n\u001b[0;32m---> 44\u001b[0m     obs, info \u001b[38;5;241m=\u001b[39m \u001b[38;5;28;43mself\u001b[39;49m\u001b[38;5;241;43m.\u001b[39;49m\u001b[43menv\u001b[49m\u001b[38;5;241;43m.\u001b[39;49m\u001b[43mreset\u001b[49m\u001b[43m(\u001b[49m\u001b[43m)\u001b[49m\n\u001b[1;32m     45\u001b[0m     info[\u001b[38;5;124m\"\u001b[39m\u001b[38;5;124mplayers\u001b[39m\u001b[38;5;124m\"\u001b[39m] \u001b[38;5;241m=\u001b[39m info[\u001b[38;5;124m\"\u001b[39m\u001b[38;5;124mplayers\u001b[39m\u001b[38;5;124m\"\u001b[39m][\u001b[38;5;124m\"\u001b[39m\u001b[38;5;124menv_id\u001b[39m\u001b[38;5;124m\"\u001b[39m]\n\u001b[1;32m     46\u001b[0m     info[\u001b[38;5;124m\"\u001b[39m\u001b[38;5;124mterminated\u001b[39m\u001b[38;5;124m\"\u001b[39m] \u001b[38;5;241m=\u001b[39m info[\u001b[38;5;124m\"\u001b[39m\u001b[38;5;124mterminated\u001b[39m\u001b[38;5;124m\"\u001b[39m]\u001b[38;5;241m.\u001b[39mastype(\u001b[38;5;28mbool\u001b[39m)\n",
      "File \u001b[0;32m~/miniconda3/envs/egb2/lib/python3.10/site-packages/envpool/python/envpool.py:155\u001b[0m, in \u001b[0;36mEnvPoolMixin.reset\u001b[0;34m(self, env_id)\u001b[0m\n\u001b[1;32m    153\u001b[0m   env_id \u001b[38;5;241m=\u001b[39m \u001b[38;5;28mself\u001b[39m\u001b[38;5;241m.\u001b[39mall_env_ids\n\u001b[1;32m    154\u001b[0m \u001b[38;5;28mself\u001b[39m\u001b[38;5;241m.\u001b[39m_reset(env_id)\n\u001b[0;32m--> 155\u001b[0m \u001b[38;5;28;01mreturn\u001b[39;00m \u001b[38;5;28;43mself\u001b[39;49m\u001b[38;5;241;43m.\u001b[39;49m\u001b[43mrecv\u001b[49m\u001b[43m(\u001b[49m\n\u001b[1;32m    156\u001b[0m \u001b[43m  \u001b[49m\u001b[43mreset\u001b[49m\u001b[38;5;241;43m=\u001b[39;49m\u001b[38;5;28;43;01mTrue\u001b[39;49;00m\u001b[43m,\u001b[49m\u001b[43m \u001b[49m\u001b[43mreturn_info\u001b[49m\u001b[38;5;241;43m=\u001b[39;49m\u001b[38;5;28;43mself\u001b[39;49m\u001b[38;5;241;43m.\u001b[39;49m\u001b[43mconfig\u001b[49m\u001b[43m[\u001b[49m\u001b[38;5;124;43m\"\u001b[39;49m\u001b[38;5;124;43mgym_reset_return_info\u001b[39;49m\u001b[38;5;124;43m\"\u001b[39;49m\u001b[43m]\u001b[49m\n\u001b[1;32m    157\u001b[0m \u001b[43m\u001b[49m\u001b[43m)\u001b[49m\n",
      "File \u001b[0;32m~/miniconda3/envs/egb2/lib/python3.10/site-packages/envpool/python/envpool.py:128\u001b[0m, in \u001b[0;36mEnvPoolMixin.recv\u001b[0;34m(self, reset, return_info)\u001b[0m\n\u001b[1;32m    122\u001b[0m \u001b[38;5;28;01mdef\u001b[39;00m \u001b[38;5;21mrecv\u001b[39m(\n\u001b[1;32m    123\u001b[0m   \u001b[38;5;28mself\u001b[39m: EnvPool,\n\u001b[1;32m    124\u001b[0m   reset: \u001b[38;5;28mbool\u001b[39m \u001b[38;5;241m=\u001b[39m \u001b[38;5;28;01mFalse\u001b[39;00m,\n\u001b[1;32m    125\u001b[0m   return_info: \u001b[38;5;28mbool\u001b[39m \u001b[38;5;241m=\u001b[39m \u001b[38;5;28;01mTrue\u001b[39;00m,\n\u001b[1;32m    126\u001b[0m ) \u001b[38;5;241m-\u001b[39m\u001b[38;5;241m>\u001b[39m Union[TimeStep, Tuple]:\n\u001b[1;32m    127\u001b[0m \u001b[38;5;250m  \u001b[39m\u001b[38;5;124;03m\"\"\"Recv a batch state from EnvPool.\"\"\"\u001b[39;00m\n\u001b[0;32m--> 128\u001b[0m   state_list \u001b[38;5;241m=\u001b[39m \u001b[38;5;28;43mself\u001b[39;49m\u001b[38;5;241;43m.\u001b[39;49m\u001b[43m_recv\u001b[49m\u001b[43m(\u001b[49m\u001b[43m)\u001b[49m\n\u001b[1;32m    129\u001b[0m   \u001b[38;5;28;01mreturn\u001b[39;00m \u001b[38;5;28mself\u001b[39m\u001b[38;5;241m.\u001b[39m_to(state_list, reset, return_info)\n",
      "\u001b[0;31mKeyboardInterrupt\u001b[0m: "
     ]
    }
   ],
   "source": [
    "for env_id in env_ids:\n",
    "    print(env_id)\n",
    "    env = MyEnvpool(f'{env_id}-v5', num_envs=8, stack_num=1, frame_skip=4, repeat_action_probability=0.0, noop_max=1, use_fire_reset=False, full_action_space=True)\n",
    "    o = np.stack([env.reset()[0] for i in range(20)])\n",
    "    assert (o.var(axis=(0, 1))==0).all()"
   ]
  },
  {
   "cell_type": "code",
   "execution_count": null,
   "id": "d6a51292-0181-4646-b76c-8c45f0bb9a42",
   "metadata": {},
   "outputs": [],
   "source": []
  },
  {
   "cell_type": "code",
   "execution_count": null,
   "id": "79facb71-9c95-4899-a329-a8c793a3f0d7",
   "metadata": {},
   "outputs": [],
   "source": []
  },
  {
   "cell_type": "code",
   "execution_count": 51,
   "id": "cc651b29-351c-4aaf-b25b-68f76578423f",
   "metadata": {},
   "outputs": [
    {
     "name": "stdout",
     "output_type": "stream",
     "text": [
      "torch.Size([128, 32]) torch.Size([128, 32])\n"
     ]
    }
   ],
   "source": [
    "logits = torch.randn(128, 32, 18)\n",
    "logits2 = torch.randn(128, 32, 18)\n",
    "d = torch.distributions.Categorical(logits=logits)\n",
    "d2 = torch.distributions.Categorical(logits=logits2)\n",
    "logits, logits2 = d.logits, d2.logits\n",
    "\n",
    "a = torch.nn.functional.kl_div(logits, logits2, log_target=True, reduction='none').sum(dim=-1)\n",
    "b = torch.distributions.kl_divergence(d2, d)\n",
    "assert torch.allclose(a, b)\n",
    "print(a.shape, b.shape)"
   ]
  },
  {
   "cell_type": "code",
   "execution_count": 54,
   "id": "54180a64-a38e-49f4-a124-142ba463896e",
   "metadata": {},
   "outputs": [
    {
     "ename": "RuntimeError",
     "evalue": "Expected target size [128, 18], got [128, 32]",
     "output_type": "error",
     "traceback": [
      "\u001b[0;31m---------------------------------------------------------------------------\u001b[0m",
      "\u001b[0;31mRuntimeError\u001b[0m                              Traceback (most recent call last)",
      "Cell \u001b[0;32mIn[54], line 6\u001b[0m\n\u001b[1;32m      3\u001b[0m d \u001b[38;5;241m=\u001b[39m torch\u001b[38;5;241m.\u001b[39mdistributions\u001b[38;5;241m.\u001b[39mCategorical(logits\u001b[38;5;241m=\u001b[39mlogits)\n\u001b[1;32m      4\u001b[0m logits \u001b[38;5;241m=\u001b[39m d\u001b[38;5;241m.\u001b[39mlogits\n\u001b[0;32m----> 6\u001b[0m a \u001b[38;5;241m=\u001b[39m \u001b[43mtorch\u001b[49m\u001b[38;5;241;43m.\u001b[39;49m\u001b[43mnn\u001b[49m\u001b[38;5;241;43m.\u001b[39;49m\u001b[43mfunctional\u001b[49m\u001b[38;5;241;43m.\u001b[39;49m\u001b[43mcross_entropy\u001b[49m\u001b[43m(\u001b[49m\u001b[43mlogits\u001b[49m\u001b[43m,\u001b[49m\u001b[43m \u001b[49m\u001b[43mtarget\u001b[49m\u001b[43m,\u001b[49m\u001b[43m \u001b[49m\u001b[43mreduction\u001b[49m\u001b[38;5;241;43m=\u001b[39;49m\u001b[38;5;124;43m'\u001b[39;49m\u001b[38;5;124;43mnone\u001b[39;49m\u001b[38;5;124;43m'\u001b[39;49m\u001b[43m)\u001b[49m\n\u001b[1;32m      7\u001b[0m \u001b[38;5;28mprint\u001b[39m(a\u001b[38;5;241m.\u001b[39mshape)\n",
      "File \u001b[0;32m~/miniconda3/envs/egb2/lib/python3.10/site-packages/torch/nn/functional.py:3029\u001b[0m, in \u001b[0;36mcross_entropy\u001b[0;34m(input, target, weight, size_average, ignore_index, reduce, reduction, label_smoothing)\u001b[0m\n\u001b[1;32m   3027\u001b[0m \u001b[38;5;28;01mif\u001b[39;00m size_average \u001b[38;5;129;01mis\u001b[39;00m \u001b[38;5;129;01mnot\u001b[39;00m \u001b[38;5;28;01mNone\u001b[39;00m \u001b[38;5;129;01mor\u001b[39;00m reduce \u001b[38;5;129;01mis\u001b[39;00m \u001b[38;5;129;01mnot\u001b[39;00m \u001b[38;5;28;01mNone\u001b[39;00m:\n\u001b[1;32m   3028\u001b[0m     reduction \u001b[38;5;241m=\u001b[39m _Reduction\u001b[38;5;241m.\u001b[39mlegacy_get_string(size_average, reduce)\n\u001b[0;32m-> 3029\u001b[0m \u001b[38;5;28;01mreturn\u001b[39;00m \u001b[43mtorch\u001b[49m\u001b[38;5;241;43m.\u001b[39;49m\u001b[43m_C\u001b[49m\u001b[38;5;241;43m.\u001b[39;49m\u001b[43m_nn\u001b[49m\u001b[38;5;241;43m.\u001b[39;49m\u001b[43mcross_entropy_loss\u001b[49m\u001b[43m(\u001b[49m\u001b[38;5;28;43minput\u001b[39;49m\u001b[43m,\u001b[49m\u001b[43m \u001b[49m\u001b[43mtarget\u001b[49m\u001b[43m,\u001b[49m\u001b[43m \u001b[49m\u001b[43mweight\u001b[49m\u001b[43m,\u001b[49m\u001b[43m \u001b[49m\u001b[43m_Reduction\u001b[49m\u001b[38;5;241;43m.\u001b[39;49m\u001b[43mget_enum\u001b[49m\u001b[43m(\u001b[49m\u001b[43mreduction\u001b[49m\u001b[43m)\u001b[49m\u001b[43m,\u001b[49m\u001b[43m \u001b[49m\u001b[43mignore_index\u001b[49m\u001b[43m,\u001b[49m\u001b[43m \u001b[49m\u001b[43mlabel_smoothing\u001b[49m\u001b[43m)\u001b[49m\n",
      "\u001b[0;31mRuntimeError\u001b[0m: Expected target size [128, 18], got [128, 32]"
     ]
    }
   ],
   "source": [
    "logits = torch.randn(128, 32, 18)\n",
    "target = torch.randint(0, 18, (128, 32))\n",
    "d = torch.distributions.Categorical(logits=logits)\n",
    "logits = d.logits\n",
    "\n",
    "a = torch.nn.functional.cross_entropy(logits, target, reduction='none')\n",
    "print(a.shape)"
   ]
  },
  {
   "cell_type": "code",
   "execution_count": null,
   "id": "3b502ef4-30a7-4b0c-9a78-84f007e05a79",
   "metadata": {},
   "outputs": [],
   "source": []
  },
  {
   "cell_type": "code",
   "execution_count": null,
   "id": "77a84b7b-1e7c-40d2-b333-ed67a451eab5",
   "metadata": {},
   "outputs": [],
   "source": []
  },
  {
   "cell_type": "code",
   "execution_count": 4,
   "id": "43147bc0-033a-4bb8-b90a-4c8f4f524a93",
   "metadata": {},
   "outputs": [],
   "source": [
    "from ge_bc import *"
   ]
  },
  {
   "cell_type": "code",
   "execution_count": 88,
   "id": "ebc0c527-bf4c-4140-8c48-d456bcae27fe",
   "metadata": {},
   "outputs": [],
   "source": [
    "args = '--strategy=best --device=cuda --n_envs=4 --n_steps=256 --batch_size=384 --ge_data_dir=../atari/data/ge_specialist/'\n",
    "args += ' --env_ids Amidar Assault Asteroids Atlantis BankHeist BattleZone Bowling Boxing Breakout Centipede ChopperCommand CrazyClimber Defender DemonAttack DoubleDunk Enduro FishingDerby Freeway Frostbite Gopher Gravitar Hero IceHockey Kangaroo Krull KungFuMaster MontezumaRevenge MsPacman NameThisGame Phoenix Pitfall Pong PrivateEye Riverraid RoadRunner Robotank Seaquest Solaris SpaceInvaders StarGunner Surround Tennis TimePilot Tutankham UpNDown Venture VideoPinball YarsRevenge'\n",
    "args = parse_args(args.split(' '))\n",
    "\n",
    "\n"
   ]
  },
  {
   "cell_type": "code",
   "execution_count": 89,
   "id": "f4c00acb-de53-4153-89d6-cdebb47001a4",
   "metadata": {},
   "outputs": [
    {
     "data": {
      "text/plain": [
       "Namespace(track=False, entity=None, project=None, name=None, device='cuda', seed=0, model='cnn_4', load_ckpt=None, save_ckpt=None, n_ckpts=1, lr=0.00025, clip_grad_norm=1.0, env_ids=['Amidar', 'Assault', 'Asteroids', 'Atlantis', 'BankHeist', 'BattleZone', 'Bowling', 'Boxing', 'Breakout', 'Centipede', 'ChopperCommand', 'CrazyClimber', 'Defender', 'DemonAttack', 'DoubleDunk', 'Enduro', 'FishingDerby', 'Freeway', 'Frostbite', 'Gopher', 'Gravitar', 'Hero', 'IceHockey', 'Kangaroo', 'Krull', 'KungFuMaster', 'MontezumaRevenge', 'MsPacman', 'NameThisGame', 'Phoenix', 'Pitfall', 'Pong', 'PrivateEye', 'Riverraid', 'RoadRunner', 'Robotank', 'Seaquest', 'Solaris', 'SpaceInvaders', 'StarGunner', 'Surround', 'Tennis', 'TimePilot', 'Tutankham', 'UpNDown', 'Venture', 'VideoPinball', 'YarsRevenge'], n_iters=10000, n_envs=4, n_steps=256, batch_size=384, n_updates=16, ent_coef=0.0, ge_data_dir='../atari/data/ge_specialist/', strategy='best', n_archives=1, min_traj_len=100)"
      ]
     },
     "execution_count": 89,
     "metadata": {},
     "output_type": "execute_result"
    }
   ],
   "source": [
    "args"
   ]
  },
  {
   "cell_type": "code",
   "execution_count": 90,
   "id": "747085d8-e00d-48a5-b91f-2ad379b1f242",
   "metadata": {},
   "outputs": [
    {
     "name": "stdout",
     "output_type": "stream",
     "text": [
      "Loading archives\n"
     ]
    },
    {
     "data": {
      "application/vnd.jupyter.widget-view+json": {
       "model_id": "52098b38bf104a44a1b6e0ee48ac4698",
       "version_major": 2,
       "version_minor": 0
      },
      "text/plain": [
       "  0%|          | 0/48 [00:00<?, ?it/s]"
      ]
     },
     "metadata": {},
     "output_type": "display_data"
    },
    {
     "name": "stdout",
     "output_type": "stream",
     "text": [
      "Creating trajs\n"
     ]
    },
    {
     "data": {
      "application/vnd.jupyter.widget-view+json": {
       "model_id": "cd1ca59281a043cb85b691e06033f87d",
       "version_major": 2,
       "version_minor": 0
      },
      "text/plain": [
       "  0%|          | 0/48 [00:00<?, ?it/s]"
      ]
     },
     "metadata": {},
     "output_type": "display_data"
    },
    {
     "name": "stdout",
     "output_type": "stream",
     "text": [
      "env_id: Amidar, #trajs: 1\n",
      "env_id: Assault, #trajs: 1\n",
      "env_id: Asteroids, #trajs: 1\n",
      "env_id: Atlantis, #trajs: 1\n",
      "env_id: BankHeist, #trajs: 1\n",
      "env_id: BattleZone, #trajs: 1\n",
      "env_id: Bowling, #trajs: 1\n",
      "env_id: Boxing, #trajs: 1\n",
      "env_id: Breakout, #trajs: 1\n",
      "env_id: Centipede, #trajs: 1\n",
      "env_id: ChopperCommand, #trajs: 1\n",
      "env_id: CrazyClimber, #trajs: 1\n",
      "env_id: Defender, #trajs: 1\n",
      "env_id: DemonAttack, #trajs: 1\n",
      "env_id: DoubleDunk, #trajs: 1\n",
      "env_id: Enduro, #trajs: 1\n",
      "env_id: FishingDerby, #trajs: 1\n",
      "env_id: Freeway, #trajs: 1\n",
      "env_id: Frostbite, #trajs: 1\n",
      "env_id: Gopher, #trajs: 1\n",
      "env_id: Gravitar, #trajs: 1\n",
      "env_id: Hero, #trajs: 1\n",
      "env_id: IceHockey, #trajs: 1\n",
      "env_id: Kangaroo, #trajs: 1\n",
      "env_id: Krull, #trajs: 1\n",
      "env_id: KungFuMaster, #trajs: 1\n",
      "env_id: MontezumaRevenge, #trajs: 1\n",
      "env_id: MsPacman, #trajs: 1\n",
      "env_id: NameThisGame, #trajs: 1\n",
      "env_id: Phoenix, #trajs: 1\n",
      "env_id: Pitfall, #trajs: 1\n",
      "env_id: Pong, #trajs: 1\n",
      "env_id: PrivateEye, #trajs: 1\n",
      "env_id: Riverraid, #trajs: 1\n",
      "env_id: RoadRunner, #trajs: 1\n",
      "env_id: Robotank, #trajs: 1\n",
      "env_id: Seaquest, #trajs: 1\n",
      "env_id: Solaris, #trajs: 1\n",
      "env_id: SpaceInvaders, #trajs: 1\n",
      "env_id: StarGunner, #trajs: 1\n",
      "env_id: Surround, #trajs: 1\n",
      "env_id: Tennis, #trajs: 1\n",
      "env_id: TimePilot, #trajs: 1\n",
      "env_id: Tutankham, #trajs: 1\n",
      "env_id: UpNDown, #trajs: 1\n",
      "env_id: Venture, #trajs: 1\n",
      "env_id: VideoPinball, #trajs: 1\n",
      "env_id: YarsRevenge, #trajs: 1\n",
      "Creating buffer...\n"
     ]
    }
   ],
   "source": [
    "env_teacher = make_env(args)\n",
    "\n",
    "print(\"Loading archives\")\n",
    "env_id2archives = load_env_id2archives(args.env_ids, args.ge_data_dir, args.n_archives)\n",
    "print(\"Creating trajs\")\n",
    "env_id2trajs = get_env_id2trajs(env_id2archives, strategy=args.strategy, min_traj_len=args.min_traj_len)\n",
    "for env_id, trajs in env_id2trajs.items():\n",
    "    print(f\"env_id: {env_id}, #trajs: {len(trajs)}\")\n",
    "\n",
    "def sample_traj_fn(id):\n",
    "    env_id = args.env_ids[id // args.n_envs]\n",
    "    trajs = env_id2trajs[env_id]\n",
    "    return trajs[np.random.choice(len(trajs))]\n",
    "\n",
    "print(\"Creating buffer...\")\n",
    "buffer_teacher = GEBuffer(env_teacher, args.n_steps, sample_traj_fn=sample_traj_fn, device=args.device)"
   ]
  },
  {
   "cell_type": "code",
   "execution_count": null,
   "id": "f5e189dd-d706-489a-b85e-7389970ce535",
   "metadata": {},
   "outputs": [],
   "source": []
  },
  {
   "cell_type": "code",
   "execution_count": 91,
   "id": "59342bc8-9ac3-4a1e-b1a4-560e53422121",
   "metadata": {},
   "outputs": [
    {
     "name": "stdout",
     "output_type": "stream",
     "text": [
      "Warming up buffer...\n"
     ]
    },
    {
     "data": {
      "application/vnd.jupyter.widget-view+json": {
       "model_id": "0eaea28c2b3c48dda4f4b809d97a8db2",
       "version_major": 2,
       "version_minor": 0
      },
      "text/plain": [
       "  0%|          | 0/30 [00:00<?, ?it/s]"
      ]
     },
     "metadata": {},
     "output_type": "display_data"
    },
    {
     "ename": "KeyboardInterrupt",
     "evalue": "",
     "output_type": "error",
     "traceback": [
      "\u001b[0;31m---------------------------------------------------------------------------\u001b[0m",
      "\u001b[0;31mKeyboardInterrupt\u001b[0m                         Traceback (most recent call last)",
      "Cell \u001b[0;32mIn[91], line 4\u001b[0m\n\u001b[1;32m      2\u001b[0m ds \u001b[38;5;241m=\u001b[39m []\n\u001b[1;32m      3\u001b[0m \u001b[38;5;28;01mfor\u001b[39;00m i_iter \u001b[38;5;129;01min\u001b[39;00m tqdm(\u001b[38;5;28mrange\u001b[39m(\u001b[38;5;241m30\u001b[39m)):\n\u001b[0;32m----> 4\u001b[0m     \u001b[43mbuffer_teacher\u001b[49m\u001b[38;5;241;43m.\u001b[39;49m\u001b[43mcollect\u001b[49m\u001b[43m(\u001b[49m\u001b[43m)\u001b[49m\n\u001b[1;32m      5\u001b[0m     \u001b[38;5;28;01mfor\u001b[39;00m i \u001b[38;5;129;01min\u001b[39;00m \u001b[38;5;28mrange\u001b[39m(\u001b[38;5;241m10\u001b[39m):\n\u001b[1;32m      6\u001b[0m         obs1 \u001b[38;5;241m=\u001b[39m buffer_teacher\u001b[38;5;241m.\u001b[39mgenerate_batch(args\u001b[38;5;241m.\u001b[39mbatch_size, \u001b[38;5;241m1\u001b[39m)[\u001b[38;5;124m'\u001b[39m\u001b[38;5;124mobs\u001b[39m\u001b[38;5;124m'\u001b[39m]\n",
      "File \u001b[0;32m~/exploration-generalization/atari2/ge_bc.py:104\u001b[0m, in \u001b[0;36mGEBuffer.collect\u001b[0;34m(self, pbar)\u001b[0m\n\u001b[1;32m    102\u001b[0m     \u001b[38;5;28mself\u001b[39m\u001b[38;5;241m.\u001b[39mfirst_collect \u001b[38;5;241m=\u001b[39m \u001b[38;5;28;01mFalse\u001b[39;00m\n\u001b[1;32m    103\u001b[0m     \u001b[38;5;28mself\u001b[39m\u001b[38;5;241m.\u001b[39mobs, _ \u001b[38;5;241m=\u001b[39m \u001b[38;5;28mself\u001b[39m\u001b[38;5;241m.\u001b[39menv\u001b[38;5;241m.\u001b[39mreset()\n\u001b[0;32m--> 104\u001b[0m     \u001b[38;5;28mself\u001b[39m\u001b[38;5;241m.\u001b[39mobs \u001b[38;5;241m=\u001b[39m \u001b[38;5;28;43mself\u001b[39;49m\u001b[38;5;241;43m.\u001b[39;49m\u001b[43mreset_with_newtraj\u001b[49m\u001b[43m(\u001b[49m\u001b[43mnp\u001b[49m\u001b[38;5;241;43m.\u001b[39;49m\u001b[43marange\u001b[49m\u001b[43m(\u001b[49m\u001b[38;5;28;43mself\u001b[39;49m\u001b[38;5;241;43m.\u001b[39;49m\u001b[43menv\u001b[49m\u001b[38;5;241;43m.\u001b[39;49m\u001b[43mnum_envs\u001b[49m\u001b[43m)\u001b[49m\u001b[43m)\u001b[49m\n\u001b[1;32m    105\u001b[0m \u001b[38;5;28mself\u001b[39m\u001b[38;5;241m.\u001b[39mn_resets \u001b[38;5;241m=\u001b[39m \u001b[38;5;241m0\u001b[39m\n\u001b[1;32m    106\u001b[0m \u001b[38;5;28;01mfor\u001b[39;00m t \u001b[38;5;129;01min\u001b[39;00m \u001b[38;5;28mrange\u001b[39m(\u001b[38;5;28mself\u001b[39m\u001b[38;5;241m.\u001b[39mn_steps):\n",
      "File \u001b[0;32m~/exploration-generalization/atari2/ge_bc.py:96\u001b[0m, in \u001b[0;36mGEBuffer.reset_with_newtraj\u001b[0;34m(self, ids)\u001b[0m\n\u001b[1;32m     94\u001b[0m     \u001b[38;5;28mself\u001b[39m\u001b[38;5;241m.\u001b[39mtraj_lens[\u001b[38;5;28mid\u001b[39m] \u001b[38;5;241m=\u001b[39m \u001b[38;5;28mlen\u001b[39m(\u001b[38;5;28mself\u001b[39m\u001b[38;5;241m.\u001b[39mtrajs[\u001b[38;5;28mid\u001b[39m])\n\u001b[1;32m     95\u001b[0m     \u001b[38;5;28mself\u001b[39m\u001b[38;5;241m.\u001b[39mi_locs[\u001b[38;5;28mid\u001b[39m] \u001b[38;5;241m=\u001b[39m \u001b[38;5;241m0\u001b[39m\n\u001b[0;32m---> 96\u001b[0m obs, info \u001b[38;5;241m=\u001b[39m \u001b[38;5;28;43mself\u001b[39;49m\u001b[38;5;241;43m.\u001b[39;49m\u001b[43menv\u001b[49m\u001b[38;5;241;43m.\u001b[39;49m\u001b[43mreset_subenvs\u001b[49m\u001b[43m(\u001b[49m\u001b[43mids\u001b[49m\u001b[43m)\u001b[49m  \u001b[38;5;66;03m# , seed=[0 for _ in ids])\u001b[39;00m\n\u001b[1;32m     97\u001b[0m \u001b[38;5;66;03m# assert np.array_equal(self.env.envs[id].ale.getRAM(), self.ram_start), \"env reset to seed=0\"\u001b[39;00m\n\u001b[1;32m     98\u001b[0m \u001b[38;5;28;01mreturn\u001b[39;00m obs\n",
      "File \u001b[0;32m~/exploration-generalization/atari2/my_envs.py:169\u001b[0m, in \u001b[0;36mToTensor.reset_subenvs\u001b[0;34m(self, ids)\u001b[0m\n\u001b[1;32m    168\u001b[0m \u001b[38;5;28;01mdef\u001b[39;00m \u001b[38;5;21mreset_subenvs\u001b[39m(\u001b[38;5;28mself\u001b[39m, ids):\n\u001b[0;32m--> 169\u001b[0m     obs, info \u001b[38;5;241m=\u001b[39m \u001b[38;5;28;43mself\u001b[39;49m\u001b[38;5;241;43m.\u001b[39;49m\u001b[43menv\u001b[49m\u001b[38;5;241;43m.\u001b[39;49m\u001b[43mreset_subenvs\u001b[49m\u001b[43m(\u001b[49m\u001b[43mids\u001b[49m\u001b[43m)\u001b[49m\n\u001b[1;32m    170\u001b[0m     obs \u001b[38;5;241m=\u001b[39m torch\u001b[38;5;241m.\u001b[39mfrom_numpy(obs)\u001b[38;5;241m.\u001b[39mto(\u001b[38;5;28mself\u001b[39m\u001b[38;5;241m.\u001b[39mdevice)\n\u001b[1;32m    171\u001b[0m     info \u001b[38;5;241m=\u001b[39m \u001b[38;5;28mself\u001b[39m\u001b[38;5;241m.\u001b[39minfo_to_tensor(info)\n",
      "File \u001b[0;32m~/exploration-generalization/atari2/my_envs.py:135\u001b[0m, in \u001b[0;36mConcatEnv.reset_subenvs\u001b[0;34m(self, ids)\u001b[0m\n\u001b[1;32m    133\u001b[0m ids_ \u001b[38;5;241m=\u001b[39m i_subenv[i_env \u001b[38;5;241m==\u001b[39m i]\n\u001b[1;32m    134\u001b[0m \u001b[38;5;28;01mif\u001b[39;00m \u001b[38;5;28mlen\u001b[39m(ids_) \u001b[38;5;241m>\u001b[39m \u001b[38;5;241m0\u001b[39m:\n\u001b[0;32m--> 135\u001b[0m     obs, info \u001b[38;5;241m=\u001b[39m \u001b[43menv\u001b[49m\u001b[38;5;241;43m.\u001b[39;49m\u001b[43mreset_subenvs\u001b[49m\u001b[43m(\u001b[49m\u001b[43mids_\u001b[49m\u001b[43m)\u001b[49m\n\u001b[1;32m    136\u001b[0m     obss\u001b[38;5;241m.\u001b[39mappend(obs)\n\u001b[1;32m    137\u001b[0m     infos\u001b[38;5;241m.\u001b[39mappend(info)\n",
      "File \u001b[0;32m~/exploration-generalization/atari2/my_envs.py:76\u001b[0m, in \u001b[0;36mMyEnvpool.reset_subenvs\u001b[0;34m(self, ids)\u001b[0m\n\u001b[1;32m     75\u001b[0m \u001b[38;5;28;01mdef\u001b[39;00m \u001b[38;5;21mreset_subenvs\u001b[39m(\u001b[38;5;28mself\u001b[39m, ids):\n\u001b[0;32m---> 76\u001b[0m     obs, info \u001b[38;5;241m=\u001b[39m \u001b[38;5;28;43mself\u001b[39;49m\u001b[38;5;241;43m.\u001b[39;49m\u001b[43menv\u001b[49m\u001b[38;5;241;43m.\u001b[39;49m\u001b[43mreset\u001b[49m\u001b[43m(\u001b[49m\u001b[43mids\u001b[49m\u001b[43m)\u001b[49m\n\u001b[1;32m     77\u001b[0m     info[\u001b[38;5;124m\"\u001b[39m\u001b[38;5;124mplayers\u001b[39m\u001b[38;5;124m\"\u001b[39m] \u001b[38;5;241m=\u001b[39m info[\u001b[38;5;124m\"\u001b[39m\u001b[38;5;124mplayers\u001b[39m\u001b[38;5;124m\"\u001b[39m][\u001b[38;5;124m\"\u001b[39m\u001b[38;5;124menv_id\u001b[39m\u001b[38;5;124m\"\u001b[39m]\n\u001b[1;32m     78\u001b[0m     info[\u001b[38;5;124m\"\u001b[39m\u001b[38;5;124mterminated\u001b[39m\u001b[38;5;124m\"\u001b[39m] \u001b[38;5;241m=\u001b[39m info[\u001b[38;5;124m\"\u001b[39m\u001b[38;5;124mterminated\u001b[39m\u001b[38;5;124m\"\u001b[39m]\u001b[38;5;241m.\u001b[39mastype(\u001b[38;5;28mbool\u001b[39m)\n",
      "File \u001b[0;32m~/miniconda3/envs/egb2/lib/python3.10/site-packages/envpool/python/envpool.py:155\u001b[0m, in \u001b[0;36mEnvPoolMixin.reset\u001b[0;34m(self, env_id)\u001b[0m\n\u001b[1;32m    153\u001b[0m   env_id \u001b[38;5;241m=\u001b[39m \u001b[38;5;28mself\u001b[39m\u001b[38;5;241m.\u001b[39mall_env_ids\n\u001b[1;32m    154\u001b[0m \u001b[38;5;28mself\u001b[39m\u001b[38;5;241m.\u001b[39m_reset(env_id)\n\u001b[0;32m--> 155\u001b[0m \u001b[38;5;28;01mreturn\u001b[39;00m \u001b[38;5;28;43mself\u001b[39;49m\u001b[38;5;241;43m.\u001b[39;49m\u001b[43mrecv\u001b[49m\u001b[43m(\u001b[49m\n\u001b[1;32m    156\u001b[0m \u001b[43m  \u001b[49m\u001b[43mreset\u001b[49m\u001b[38;5;241;43m=\u001b[39;49m\u001b[38;5;28;43;01mTrue\u001b[39;49;00m\u001b[43m,\u001b[49m\u001b[43m \u001b[49m\u001b[43mreturn_info\u001b[49m\u001b[38;5;241;43m=\u001b[39;49m\u001b[38;5;28;43mself\u001b[39;49m\u001b[38;5;241;43m.\u001b[39;49m\u001b[43mconfig\u001b[49m\u001b[43m[\u001b[49m\u001b[38;5;124;43m\"\u001b[39;49m\u001b[38;5;124;43mgym_reset_return_info\u001b[39;49m\u001b[38;5;124;43m\"\u001b[39;49m\u001b[43m]\u001b[49m\n\u001b[1;32m    157\u001b[0m \u001b[43m\u001b[49m\u001b[43m)\u001b[49m\n",
      "File \u001b[0;32m~/miniconda3/envs/egb2/lib/python3.10/site-packages/envpool/python/envpool.py:128\u001b[0m, in \u001b[0;36mEnvPoolMixin.recv\u001b[0;34m(self, reset, return_info)\u001b[0m\n\u001b[1;32m    122\u001b[0m \u001b[38;5;28;01mdef\u001b[39;00m \u001b[38;5;21mrecv\u001b[39m(\n\u001b[1;32m    123\u001b[0m   \u001b[38;5;28mself\u001b[39m: EnvPool,\n\u001b[1;32m    124\u001b[0m   reset: \u001b[38;5;28mbool\u001b[39m \u001b[38;5;241m=\u001b[39m \u001b[38;5;28;01mFalse\u001b[39;00m,\n\u001b[1;32m    125\u001b[0m   return_info: \u001b[38;5;28mbool\u001b[39m \u001b[38;5;241m=\u001b[39m \u001b[38;5;28;01mTrue\u001b[39;00m,\n\u001b[1;32m    126\u001b[0m ) \u001b[38;5;241m-\u001b[39m\u001b[38;5;241m>\u001b[39m Union[TimeStep, Tuple]:\n\u001b[1;32m    127\u001b[0m \u001b[38;5;250m  \u001b[39m\u001b[38;5;124;03m\"\"\"Recv a batch state from EnvPool.\"\"\"\u001b[39;00m\n\u001b[0;32m--> 128\u001b[0m   state_list \u001b[38;5;241m=\u001b[39m \u001b[38;5;28;43mself\u001b[39;49m\u001b[38;5;241;43m.\u001b[39;49m\u001b[43m_recv\u001b[49m\u001b[43m(\u001b[49m\u001b[43m)\u001b[49m\n\u001b[1;32m    129\u001b[0m   \u001b[38;5;28;01mreturn\u001b[39;00m \u001b[38;5;28mself\u001b[39m\u001b[38;5;241m.\u001b[39m_to(state_list, reset, return_info)\n",
      "\u001b[0;31mKeyboardInterrupt\u001b[0m: "
     ]
    }
   ],
   "source": [
    "print(\"Warming up buffer...\")\n",
    "ds = []\n",
    "for i_iter in tqdm(range(30)):\n",
    "    buffer_teacher.collect()\n",
    "    for i in range(10):\n",
    "        obs1 = buffer_teacher.generate_batch(args.batch_size, 1)['obs']\n",
    "        obs2 = buffer_teacher.generate_batch(args.batch_size, 1)['obs']\n",
    "        obs1 = repeat(rearrange((obs1-128.)/255., 'b 1 1 h w -> b 1 h w'), 'b 1 h w -> b 3 h w')\n",
    "        obs2 = repeat(rearrange((obs2-128.)/255., 'b 1 1 h w -> b 1 h w'), 'b 1 h w -> b 3 h w')\n",
    "        d = loss_fn_alex(obs1, obs2)\n",
    "        ds.append(d.mean().item())"
   ]
  },
  {
   "cell_type": "code",
   "execution_count": null,
   "id": "c357a190-2921-49e5-b85d-1d93a1b0af52",
   "metadata": {},
   "outputs": [],
   "source": []
  },
  {
   "cell_type": "code",
   "execution_count": null,
   "id": "5b54813e-f012-4bd5-a61c-21329de6b4d0",
   "metadata": {},
   "outputs": [],
   "source": []
  },
  {
   "cell_type": "code",
   "execution_count": 87,
   "id": "103f7acc-ba96-429b-8e91-3fbaa8f1e860",
   "metadata": {},
   "outputs": [
    {
     "data": {
      "text/plain": [
       "0.1031223738193512"
      ]
     },
     "execution_count": 87,
     "metadata": {},
     "output_type": "execute_result"
    }
   ],
   "source": [
    "np.mean(ds)"
   ]
  },
  {
   "cell_type": "code",
   "execution_count": null,
   "id": "15d24c54-4111-4862-b530-8c5f0cd227dd",
   "metadata": {},
   "outputs": [],
   "source": []
  },
  {
   "cell_type": "code",
   "execution_count": null,
   "id": "ea70cc7d-756c-4b65-bdf2-ca7773910990",
   "metadata": {},
   "outputs": [],
   "source": []
  },
  {
   "cell_type": "code",
   "execution_count": null,
   "id": "00858807-268a-4bcb-8ef6-b9dad326e8e7",
   "metadata": {},
   "outputs": [],
   "source": []
  },
  {
   "cell_type": "code",
   "execution_count": null,
   "id": "34caff3a-96cf-4e2b-867f-835c434d7488",
   "metadata": {},
   "outputs": [],
   "source": []
  },
  {
   "cell_type": "code",
   "execution_count": null,
   "id": "2366da18-40a8-4a64-b711-157d6a56ee95",
   "metadata": {},
   "outputs": [],
   "source": []
  },
  {
   "cell_type": "code",
   "execution_count": 64,
   "id": "85865c44-8a5e-46ad-8d0a-8d84f62514de",
   "metadata": {},
   "outputs": [],
   "source": [
    "from einops import rearrange, repeat"
   ]
  },
  {
   "cell_type": "code",
   "execution_count": 41,
   "id": "bc69ba70-ecd5-4d78-94b1-61c300133edf",
   "metadata": {},
   "outputs": [
    {
     "name": "stdout",
     "output_type": "stream",
     "text": [
      "Setting up [LPIPS] perceptual loss: trunk [alex], v[0.1], spatial [off]\n",
      "Loading model from: /data/vision/phillipi/akumar01/miniconda3/envs/egb2/lib/python3.10/site-packages/lpips/weights/v0.1/alex.pth\n"
     ]
    }
   ],
   "source": [
    "import lpips\n",
    "loss_fn_alex = lpips.LPIPS(net='alex').to(args.device) # best forward scores"
   ]
  },
  {
   "cell_type": "code",
   "execution_count": 44,
   "id": "fd43a354-297a-42bf-ab6c-9e8a41c4e57f",
   "metadata": {},
   "outputs": [],
   "source": [
    "import torch\n",
    "img0 = torch.zeros(10,3,64,64).to(args.device) # image should be RGB, IMPORTANT: normalized to [-1,1]\n",
    "img1 = torch.zeros(10,3,64,64).to(args.device)\n",
    "d = loss_fn_alex(img0, img1)"
   ]
  },
  {
   "cell_type": "code",
   "execution_count": 46,
   "id": "276bb8ff-de9d-4d27-b451-d0efa5b74fb1",
   "metadata": {},
   "outputs": [
    {
     "data": {
      "text/plain": [
       "torch.Size([10, 1, 1, 1])"
      ]
     },
     "execution_count": 46,
     "metadata": {},
     "output_type": "execute_result"
    }
   ],
   "source": [
    "d.shape"
   ]
  },
  {
   "cell_type": "code",
   "execution_count": null,
   "id": "af2c031a-fc4b-4d83-851d-8c1934b923b9",
   "metadata": {},
   "outputs": [],
   "source": []
  },
  {
   "cell_type": "code",
   "execution_count": null,
   "id": "cbeb31c0-3a9f-45be-a1b4-3a163b101a0b",
   "metadata": {},
   "outputs": [],
   "source": []
  },
  {
   "cell_type": "code",
   "execution_count": null,
   "id": "432bb1c0-aa2b-4494-893d-f9dc23793377",
   "metadata": {},
   "outputs": [],
   "source": []
  },
  {
   "cell_type": "code",
   "execution_count": null,
   "id": "11705532-fc7d-4832-9f22-6b520189f706",
   "metadata": {},
   "outputs": [],
   "source": []
  },
  {
   "cell_type": "code",
   "execution_count": null,
   "id": "b6358c5e-6e3b-4f7d-b6ef-f3b46080aaf1",
   "metadata": {},
   "outputs": [],
   "source": []
  },
  {
   "cell_type": "code",
   "execution_count": null,
   "id": "4c4fec9f-a53b-4e47-a3f7-690d5cd0dfdb",
   "metadata": {},
   "outputs": [],
   "source": []
  }
 ],
 "metadata": {
  "kernelspec": {
   "display_name": "Python 3 (ipykernel)",
   "language": "python",
   "name": "python3"
  },
  "language_info": {
   "codemirror_mode": {
    "name": "ipython",
    "version": 3
   },
   "file_extension": ".py",
   "mimetype": "text/x-python",
   "name": "python",
   "nbconvert_exporter": "python",
   "pygments_lexer": "ipython3",
   "version": "3.10.12"
  }
 },
 "nbformat": 4,
 "nbformat_minor": 5
}
