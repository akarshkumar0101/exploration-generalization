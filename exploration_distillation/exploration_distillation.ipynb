{
 "cells": [
  {
   "cell_type": "code",
   "execution_count": 1,
   "metadata": {},
   "outputs": [],
   "source": [
    "%load_ext autoreload\n",
    "%autoreload 2"
   ]
  },
  {
   "cell_type": "code",
   "execution_count": 2,
   "metadata": {},
   "outputs": [],
   "source": [
    "import matplotlib.pyplot as plt\n",
    "import numpy as np\n",
    "import torch\n",
    "from torch import nn\n",
    "from functools import partial"
   ]
  },
  {
   "cell_type": "code",
   "execution_count": 3,
   "metadata": {},
   "outputs": [],
   "source": [
    "# import gymnasium as gym\n",
    "# import gym as gym_old\n",
    "import gym"
   ]
  },
  {
   "cell_type": "code",
   "execution_count": 13,
   "metadata": {},
   "outputs": [],
   "source": [
    "from tqdm.auto import tqdm"
   ]
  },
  {
   "cell_type": "code",
   "execution_count": 4,
   "metadata": {},
   "outputs": [],
   "source": [
    "import procgen"
   ]
  },
  {
   "cell_type": "code",
   "execution_count": 5,
   "metadata": {},
   "outputs": [],
   "source": [
    "import cv2"
   ]
  },
  {
   "cell_type": "code",
   "execution_count": 19,
   "metadata": {},
   "outputs": [],
   "source": [
    "from ppo import *"
   ]
  },
  {
   "cell_type": "code",
   "execution_count": 24,
   "metadata": {},
   "outputs": [],
   "source": [
    "env = make_single_env()"
   ]
  },
  {
   "cell_type": "code",
   "execution_count": 41,
   "metadata": {},
   "outputs": [
    {
     "name": "stderr",
     "output_type": "stream",
     "text": [
      "100%|█████████▉| 999/1000 [00:00<00:00, 6264.20it/s]\n"
     ]
    }
   ],
   "source": [
    "env.reset()\n",
    "for i in tqdm(range(1000)):\n",
    "    obs, reward, done, info = env.step(env.action_space.sample())\n",
    "    if done:\n",
    "        break"
   ]
  },
  {
   "cell_type": "code",
   "execution_count": 42,
   "metadata": {},
   "outputs": [],
   "source": [
    "env = make_env(10)"
   ]
  },
  {
   "cell_type": "code",
   "execution_count": 43,
   "metadata": {},
   "outputs": [],
   "source": [
    "obs = env.reset()\n",
    "obs, reward, done, info = env.step(env.action_space.sample())"
   ]
  },
  {
   "cell_type": "code",
   "execution_count": 44,
   "metadata": {},
   "outputs": [
    {
     "data": {
      "text/plain": [
       "{'prev_level_seed': [0, 0, 0, 0, 0, 0, 0, 0, 0, 0],\n",
       " 'prev_level_complete': [0, 0, 0, 0, 0, 0, 0, 0, 0, 0],\n",
       " 'level_seed': [0, 0, 0, 0, 0, 0, 0, 0, 0, 0]}"
      ]
     },
     "execution_count": 44,
     "metadata": {},
     "output_type": "execute_result"
    }
   ],
   "source": [
    "info"
   ]
  },
  {
   "cell_type": "code",
   "execution_count": 46,
   "metadata": {},
   "outputs": [
    {
     "name": "stdout",
     "output_type": "stream",
     "text": [
      "Warning: early reset ignored\n",
      "Warning: early reset ignored\n",
      "Warning: early reset ignored\n",
      "Warning: early reset ignored\n",
      "Warning: early reset ignored\n",
      "Warning: early reset ignored\n",
      "Warning: early reset ignored\n",
      "Warning: early reset ignored\n",
      "Warning: early reset ignored\n",
      "Warning: early reset ignored\n"
     ]
    },
    {
     "name": "stderr",
     "output_type": "stream",
     "text": [
      "100%|██████████| 1000/1000 [00:02<00:00, 467.45it/s]\n"
     ]
    }
   ],
   "source": [
    "obs = env.reset()\n",
    "for i in tqdm(range(1000)):\n",
    "    obs, reward, done, info = env.step(env.action_space.sample())\n"
   ]
  },
  {
   "cell_type": "code",
   "execution_count": null,
   "metadata": {},
   "outputs": [],
   "source": []
  },
  {
   "cell_type": "code",
   "execution_count": null,
   "metadata": {},
   "outputs": [],
   "source": []
  },
  {
   "cell_type": "code",
   "execution_count": null,
   "metadata": {},
   "outputs": [],
   "source": []
  },
  {
   "cell_type": "code",
   "execution_count": 272,
   "metadata": {},
   "outputs": [
    {
     "data": {
      "image/png": "[encoded data removed]",
      "text/plain": [
       "<Figure size 1440x360 with 5 Axes>"
      ]
     },
     "metadata": {
      "needs_background": "light"
     },
     "output_type": "display_data"
    }
   ],
   "source": [
    "obs, info = env.reset()\n",
    "plt.figure(figsize=(20, 5))\n",
    "for i in range(len(obs)):\n",
    "    plt.subplot(1, 5, i+1)\n",
    "    plt.imshow(obs[i])\n",
    "plt.show()"
   ]
  },
  {
   "cell_type": "code",
   "execution_count": null,
   "metadata": {},
   "outputs": [],
   "source": []
  },
  {
   "cell_type": "code",
   "execution_count": null,
   "metadata": {},
   "outputs": [],
   "source": []
  },
  {
   "cell_type": "code",
   "execution_count": null,
   "metadata": {},
   "outputs": [],
   "source": []
  },
  {
   "cell_type": "code",
   "execution_count": null,
   "metadata": {},
   "outputs": [],
   "source": []
  },
  {
   "cell_type": "code",
   "execution_count": 9,
   "metadata": {},
   "outputs": [],
   "source": [
    "obs, reward, done, info = env.step(np.zeros(10))"
   ]
  },
  {
   "cell_type": "code",
   "execution_count": 10,
   "metadata": {},
   "outputs": [
    {
     "data": {
      "text/plain": [
       "array([False, False, False, False, False, False, False, False, False,\n",
       "       False])"
      ]
     },
     "execution_count": 10,
     "metadata": {},
     "output_type": "execute_result"
    }
   ],
   "source": [
    "done"
   ]
  },
  {
   "cell_type": "code",
   "execution_count": 14,
   "metadata": {},
   "outputs": [],
   "source": [
    "from ppo import layer_init"
   ]
  },
  {
   "cell_type": "code",
   "execution_count": 36,
   "metadata": {},
   "outputs": [],
   "source": [
    "\n",
    "class RNDModel(nn.Module):\n",
    "    def __init__(self):\n",
    "        super().__init__()\n",
    "        # Prediction network\n",
    "        self.predictor = nn.Sequential(\n",
    "            layer_init(nn.Conv2d(in_channels=1, out_channels=32, kernel_size=8, stride=4)),\n",
    "            nn.LeakyReLU(),\n",
    "            layer_init(nn.Conv2d(in_channels=32, out_channels=64, kernel_size=4, stride=2)),\n",
    "            nn.LeakyReLU(),\n",
    "            layer_init(nn.Conv2d(in_channels=64, out_channels=64, kernel_size=3, stride=1)),\n",
    "            nn.LeakyReLU(),\n",
    "            nn.Flatten(),\n",
    "            layer_init(nn.Linear(7*7*64, 512)),\n",
    "            nn.ReLU(),\n",
    "            layer_init(nn.Linear(512, 512)),\n",
    "            nn.ReLU(),\n",
    "            layer_init(nn.Linear(512, 512)),\n",
    "        )\n",
    "\n",
    "        # Target network\n",
    "        self.target = nn.Sequential(\n",
    "            layer_init(nn.Conv2d(in_channels=1, out_channels=32, kernel_size=8, stride=4)),\n",
    "            nn.LeakyReLU(),\n",
    "            layer_init(nn.Conv2d(in_channels=32, out_channels=64, kernel_size=4, stride=2)),\n",
    "            nn.LeakyReLU(),\n",
    "            layer_init(nn.Conv2d(in_channels=64, out_channels=64, kernel_size=3, stride=1)),\n",
    "            nn.LeakyReLU(),\n",
    "            nn.Flatten(),\n",
    "            layer_init(nn.Linear(7*7*64, 512)),\n",
    "        )\n",
    "\n",
    "        # target network is not trainable\n",
    "        for param in self.target.parameters():\n",
    "            param.requires_grad = False\n",
    "\n",
    "    def forward(self, next_obs):\n",
    "        target_feature = self.target(next_obs)\n",
    "        predict_feature = self.predictor(next_obs)\n",
    "        print(target_feature.shape, predict_feature.shape)\n",
    "\n",
    "        return predict_feature, target_feature"
   ]
  },
  {
   "cell_type": "code",
   "execution_count": 37,
   "metadata": {},
   "outputs": [],
   "source": [
    "net = RNDModel()"
   ]
  },
  {
   "cell_type": "code",
   "execution_count": 39,
   "metadata": {},
   "outputs": [
    {
     "name": "stdout",
     "output_type": "stream",
     "text": [
      "torch.Size([10, 64, 4, 4]) torch.Size([10, 64, 4, 4])\n"
     ]
    }
   ],
   "source": [
    "a, b = net(torch.randn(10, 1, 64, 64))\n",
    "# a.shape, b.shape"
   ]
  },
  {
   "cell_type": "code",
   "execution_count": 53,
   "metadata": {},
   "outputs": [],
   "source": [
    "envs = ProcgenEnv(num_envs=5, env_name='coinrun', num_levels=0, start_level=0, distribution_mode=\"easy\")\n",
    "envs = gym.wrappers.TransformObservation(envs, lambda obs: obs[\"rgb\"])\n",
    "envs.single_action_space = envs.action_space\n",
    "envs.single_observation_space = envs.observation_space[\"rgb\"]\n",
    "envs.is_vector_env = True\n",
    "envs = gym.wrappers.RecordEpisodeStatistics(envs)\n",
    "envs = gym.wrappers.NormalizeReward(envs, 0.99)\n",
    "envs = gym.wrappers.TransformReward(envs, lambda reward: np.clip(reward, -10, 10))"
   ]
  },
  {
   "cell_type": "code",
   "execution_count": 55,
   "metadata": {},
   "outputs": [
    {
     "data": {
      "text/plain": [
       "Box(0, 255, (64, 64, 3), uint8)"
      ]
     },
     "execution_count": 55,
     "metadata": {},
     "output_type": "execute_result"
    }
   ],
   "source": [
    "envs.single_observation_space"
   ]
  },
  {
   "cell_type": "code",
   "execution_count": null,
   "metadata": {},
   "outputs": [],
   "source": []
  },
  {
   "cell_type": "code",
   "execution_count": 166,
   "metadata": {},
   "outputs": [],
   "source": [
    "env = gym.make('MontezumaRevengeNoFrameskip-v4')"
   ]
  },
  {
   "cell_type": "code",
   "execution_count": 168,
   "metadata": {},
   "outputs": [],
   "source": [
    "obs, info = env.reset()"
   ]
  },
  {
   "cell_type": "code",
   "execution_count": 170,
   "metadata": {},
   "outputs": [
    {
     "data": {
      "text/plain": [
       "<matplotlib.image.AxesImage at 0x7fd61565ba90>"
      ]
     },
     "execution_count": 170,
     "metadata": {},
     "output_type": "execute_result"
    },
    {
     "data": {
      "image/png": "[encoded data removed]",
      "text/plain": [
       "<Figure size 432x288 with 1 Axes>"
      ]
     },
     "metadata": {
      "needs_background": "light"
     },
     "output_type": "display_data"
    }
   ],
   "source": [
    "plt.imshow(obs)"
   ]
  },
  {
   "cell_type": "code",
   "execution_count": null,
   "metadata": {},
   "outputs": [],
   "source": []
  },
  {
   "cell_type": "code",
   "execution_count": null,
   "metadata": {},
   "outputs": [],
   "source": []
  },
  {
   "cell_type": "code",
   "execution_count": null,
   "metadata": {},
   "outputs": [],
   "source": []
  }
 ],
 "metadata": {
  "kernelspec": {
   "display_name": "base",
   "language": "python",
   "name": "python3"
  },
  "language_info": {
   "codemirror_mode": {
    "name": "ipython",
    "version": 3
   },
   "file_extension": ".py",
   "mimetype": "text/x-python",
   "name": "python",
   "nbconvert_exporter": "python",
   "pygments_lexer": "ipython3",
   "version": "3.9.5"
  },
  "orig_nbformat": 4,
  "vscode": {
   "interpreter": {
    "hash": "5c0f82f405bdadcaaf9b012da8df3d37d37bedbc208e00b69ff4fe0290862ad1"
   }
  }
 },
 "nbformat": 4,
 "nbformat_minor": 2
}
